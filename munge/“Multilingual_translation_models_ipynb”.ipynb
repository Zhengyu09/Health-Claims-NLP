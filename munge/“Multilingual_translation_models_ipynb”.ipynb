{
  "nbformat": 4,
  "nbformat_minor": 0,
  "metadata": {
    "colab": {
      "provenance": [],
      "collapsed_sections": [],
      "toc_visible": true
    },
    "kernelspec": {
      "name": "python3",
      "display_name": "Python 3"
    },
    "accelerator": "GPU",
    "widgets": {
      "application/vnd.jupyter.widget-state+json": {
        "53d980dee5244fae8d7c29ebfdb7757b": {
          "model_module": "@jupyter-widgets/controls",
          "model_name": "HBoxModel",
          "model_module_version": "1.5.0",
          "state": {
            "_dom_classes": [],
            "_model_module": "@jupyter-widgets/controls",
            "_model_module_version": "1.5.0",
            "_model_name": "HBoxModel",
            "_view_count": null,
            "_view_module": "@jupyter-widgets/controls",
            "_view_module_version": "1.5.0",
            "_view_name": "HBoxView",
            "box_style": "",
            "children": [
              "IPY_MODEL_e645c6f902814c6283979b37d44daf94",
              "IPY_MODEL_07850964a4094092ae419aa462fed1b8",
              "IPY_MODEL_d47837b72313439b9b2b2f1aeec018ef"
            ],
            "layout": "IPY_MODEL_28a79c48cd2b4ade8a468ef1e4e41e2f"
          }
        },
        "e645c6f902814c6283979b37d44daf94": {
          "model_module": "@jupyter-widgets/controls",
          "model_name": "HTMLModel",
          "model_module_version": "1.5.0",
          "state": {
            "_dom_classes": [],
            "_model_module": "@jupyter-widgets/controls",
            "_model_module_version": "1.5.0",
            "_model_name": "HTMLModel",
            "_view_count": null,
            "_view_module": "@jupyter-widgets/controls",
            "_view_module_version": "1.5.0",
            "_view_name": "HTMLView",
            "description": "",
            "description_tooltip": null,
            "layout": "IPY_MODEL_4684571fcca64e239e6a99ddaa706f81",
            "placeholder": "​",
            "style": "IPY_MODEL_1622c0910b6a44ddb30f9dda92554eea",
            "value": "Downloading config.json: 100%"
          }
        },
        "07850964a4094092ae419aa462fed1b8": {
          "model_module": "@jupyter-widgets/controls",
          "model_name": "FloatProgressModel",
          "model_module_version": "1.5.0",
          "state": {
            "_dom_classes": [],
            "_model_module": "@jupyter-widgets/controls",
            "_model_module_version": "1.5.0",
            "_model_name": "FloatProgressModel",
            "_view_count": null,
            "_view_module": "@jupyter-widgets/controls",
            "_view_module_version": "1.5.0",
            "_view_name": "ProgressView",
            "bar_style": "success",
            "description": "",
            "description_tooltip": null,
            "layout": "IPY_MODEL_de0441dec9ee4defb1334bd1724c52db",
            "max": 1429,
            "min": 0,
            "orientation": "horizontal",
            "style": "IPY_MODEL_9d972def5d4f44029c28ff27262a5b15",
            "value": 1429
          }
        },
        "d47837b72313439b9b2b2f1aeec018ef": {
          "model_module": "@jupyter-widgets/controls",
          "model_name": "HTMLModel",
          "model_module_version": "1.5.0",
          "state": {
            "_dom_classes": [],
            "_model_module": "@jupyter-widgets/controls",
            "_model_module_version": "1.5.0",
            "_model_name": "HTMLModel",
            "_view_count": null,
            "_view_module": "@jupyter-widgets/controls",
            "_view_module_version": "1.5.0",
            "_view_name": "HTMLView",
            "description": "",
            "description_tooltip": null,
            "layout": "IPY_MODEL_d36a3aad8e2e436eabe9a6c8ad4c7f1d",
            "placeholder": "​",
            "style": "IPY_MODEL_55a29c1b87ef481ba5cf0a041ed9c563",
            "value": " 1.40k/1.40k [00:00&lt;00:00, 39.4kB/s]"
          }
        },
        "28a79c48cd2b4ade8a468ef1e4e41e2f": {
          "model_module": "@jupyter-widgets/base",
          "model_name": "LayoutModel",
          "model_module_version": "1.2.0",
          "state": {
            "_model_module": "@jupyter-widgets/base",
            "_model_module_version": "1.2.0",
            "_model_name": "LayoutModel",
            "_view_count": null,
            "_view_module": "@jupyter-widgets/base",
            "_view_module_version": "1.2.0",
            "_view_name": "LayoutView",
            "align_content": null,
            "align_items": null,
            "align_self": null,
            "border": null,
            "bottom": null,
            "display": null,
            "flex": null,
            "flex_flow": null,
            "grid_area": null,
            "grid_auto_columns": null,
            "grid_auto_flow": null,
            "grid_auto_rows": null,
            "grid_column": null,
            "grid_gap": null,
            "grid_row": null,
            "grid_template_areas": null,
            "grid_template_columns": null,
            "grid_template_rows": null,
            "height": null,
            "justify_content": null,
            "justify_items": null,
            "left": null,
            "margin": null,
            "max_height": null,
            "max_width": null,
            "min_height": null,
            "min_width": null,
            "object_fit": null,
            "object_position": null,
            "order": null,
            "overflow": null,
            "overflow_x": null,
            "overflow_y": null,
            "padding": null,
            "right": null,
            "top": null,
            "visibility": null,
            "width": null
          }
        },
        "4684571fcca64e239e6a99ddaa706f81": {
          "model_module": "@jupyter-widgets/base",
          "model_name": "LayoutModel",
          "model_module_version": "1.2.0",
          "state": {
            "_model_module": "@jupyter-widgets/base",
            "_model_module_version": "1.2.0",
            "_model_name": "LayoutModel",
            "_view_count": null,
            "_view_module": "@jupyter-widgets/base",
            "_view_module_version": "1.2.0",
            "_view_name": "LayoutView",
            "align_content": null,
            "align_items": null,
            "align_self": null,
            "border": null,
            "bottom": null,
            "display": null,
            "flex": null,
            "flex_flow": null,
            "grid_area": null,
            "grid_auto_columns": null,
            "grid_auto_flow": null,
            "grid_auto_rows": null,
            "grid_column": null,
            "grid_gap": null,
            "grid_row": null,
            "grid_template_areas": null,
            "grid_template_columns": null,
            "grid_template_rows": null,
            "height": null,
            "justify_content": null,
            "justify_items": null,
            "left": null,
            "margin": null,
            "max_height": null,
            "max_width": null,
            "min_height": null,
            "min_width": null,
            "object_fit": null,
            "object_position": null,
            "order": null,
            "overflow": null,
            "overflow_x": null,
            "overflow_y": null,
            "padding": null,
            "right": null,
            "top": null,
            "visibility": null,
            "width": null
          }
        },
        "1622c0910b6a44ddb30f9dda92554eea": {
          "model_module": "@jupyter-widgets/controls",
          "model_name": "DescriptionStyleModel",
          "model_module_version": "1.5.0",
          "state": {
            "_model_module": "@jupyter-widgets/controls",
            "_model_module_version": "1.5.0",
            "_model_name": "DescriptionStyleModel",
            "_view_count": null,
            "_view_module": "@jupyter-widgets/base",
            "_view_module_version": "1.2.0",
            "_view_name": "StyleView",
            "description_width": ""
          }
        },
        "de0441dec9ee4defb1334bd1724c52db": {
          "model_module": "@jupyter-widgets/base",
          "model_name": "LayoutModel",
          "model_module_version": "1.2.0",
          "state": {
            "_model_module": "@jupyter-widgets/base",
            "_model_module_version": "1.2.0",
            "_model_name": "LayoutModel",
            "_view_count": null,
            "_view_module": "@jupyter-widgets/base",
            "_view_module_version": "1.2.0",
            "_view_name": "LayoutView",
            "align_content": null,
            "align_items": null,
            "align_self": null,
            "border": null,
            "bottom": null,
            "display": null,
            "flex": null,
            "flex_flow": null,
            "grid_area": null,
            "grid_auto_columns": null,
            "grid_auto_flow": null,
            "grid_auto_rows": null,
            "grid_column": null,
            "grid_gap": null,
            "grid_row": null,
            "grid_template_areas": null,
            "grid_template_columns": null,
            "grid_template_rows": null,
            "height": null,
            "justify_content": null,
            "justify_items": null,
            "left": null,
            "margin": null,
            "max_height": null,
            "max_width": null,
            "min_height": null,
            "min_width": null,
            "object_fit": null,
            "object_position": null,
            "order": null,
            "overflow": null,
            "overflow_x": null,
            "overflow_y": null,
            "padding": null,
            "right": null,
            "top": null,
            "visibility": null,
            "width": null
          }
        },
        "9d972def5d4f44029c28ff27262a5b15": {
          "model_module": "@jupyter-widgets/controls",
          "model_name": "ProgressStyleModel",
          "model_module_version": "1.5.0",
          "state": {
            "_model_module": "@jupyter-widgets/controls",
            "_model_module_version": "1.5.0",
            "_model_name": "ProgressStyleModel",
            "_view_count": null,
            "_view_module": "@jupyter-widgets/base",
            "_view_module_version": "1.2.0",
            "_view_name": "StyleView",
            "bar_color": null,
            "description_width": ""
          }
        },
        "d36a3aad8e2e436eabe9a6c8ad4c7f1d": {
          "model_module": "@jupyter-widgets/base",
          "model_name": "LayoutModel",
          "model_module_version": "1.2.0",
          "state": {
            "_model_module": "@jupyter-widgets/base",
            "_model_module_version": "1.2.0",
            "_model_name": "LayoutModel",
            "_view_count": null,
            "_view_module": "@jupyter-widgets/base",
            "_view_module_version": "1.2.0",
            "_view_name": "LayoutView",
            "align_content": null,
            "align_items": null,
            "align_self": null,
            "border": null,
            "bottom": null,
            "display": null,
            "flex": null,
            "flex_flow": null,
            "grid_area": null,
            "grid_auto_columns": null,
            "grid_auto_flow": null,
            "grid_auto_rows": null,
            "grid_column": null,
            "grid_gap": null,
            "grid_row": null,
            "grid_template_areas": null,
            "grid_template_columns": null,
            "grid_template_rows": null,
            "height": null,
            "justify_content": null,
            "justify_items": null,
            "left": null,
            "margin": null,
            "max_height": null,
            "max_width": null,
            "min_height": null,
            "min_width": null,
            "object_fit": null,
            "object_position": null,
            "order": null,
            "overflow": null,
            "overflow_x": null,
            "overflow_y": null,
            "padding": null,
            "right": null,
            "top": null,
            "visibility": null,
            "width": null
          }
        },
        "55a29c1b87ef481ba5cf0a041ed9c563": {
          "model_module": "@jupyter-widgets/controls",
          "model_name": "DescriptionStyleModel",
          "model_module_version": "1.5.0",
          "state": {
            "_model_module": "@jupyter-widgets/controls",
            "_model_module_version": "1.5.0",
            "_model_name": "DescriptionStyleModel",
            "_view_count": null,
            "_view_module": "@jupyter-widgets/base",
            "_view_module_version": "1.2.0",
            "_view_name": "StyleView",
            "description_width": ""
          }
        },
        "1a9368b004a54e4c816842bdd9153232": {
          "model_module": "@jupyter-widgets/controls",
          "model_name": "HBoxModel",
          "model_module_version": "1.5.0",
          "state": {
            "_dom_classes": [],
            "_model_module": "@jupyter-widgets/controls",
            "_model_module_version": "1.5.0",
            "_model_name": "HBoxModel",
            "_view_count": null,
            "_view_module": "@jupyter-widgets/controls",
            "_view_module_version": "1.5.0",
            "_view_name": "HBoxView",
            "box_style": "",
            "children": [
              "IPY_MODEL_6e6f1e0d4d50424ab8388c5883eae923",
              "IPY_MODEL_1bd7e1f6fd9e46d1b5481d7d59d37c9b",
              "IPY_MODEL_80fed0c467574f6ab31347610c73af2f"
            ],
            "layout": "IPY_MODEL_db751a0ae24e48da96107b58db8618de"
          }
        },
        "6e6f1e0d4d50424ab8388c5883eae923": {
          "model_module": "@jupyter-widgets/controls",
          "model_name": "HTMLModel",
          "model_module_version": "1.5.0",
          "state": {
            "_dom_classes": [],
            "_model_module": "@jupyter-widgets/controls",
            "_model_module_version": "1.5.0",
            "_model_name": "HTMLModel",
            "_view_count": null,
            "_view_module": "@jupyter-widgets/controls",
            "_view_module_version": "1.5.0",
            "_view_name": "HTMLView",
            "description": "",
            "description_tooltip": null,
            "layout": "IPY_MODEL_6d393c698a904a9d85b4e0707bfac502",
            "placeholder": "​",
            "style": "IPY_MODEL_3043f1235c5841bba74153d2db54e3f5",
            "value": "Downloading pytorch_model.bin: 100%"
          }
        },
        "1bd7e1f6fd9e46d1b5481d7d59d37c9b": {
          "model_module": "@jupyter-widgets/controls",
          "model_name": "FloatProgressModel",
          "model_module_version": "1.5.0",
          "state": {
            "_dom_classes": [],
            "_model_module": "@jupyter-widgets/controls",
            "_model_module_version": "1.5.0",
            "_model_name": "FloatProgressModel",
            "_view_count": null,
            "_view_module": "@jupyter-widgets/controls",
            "_view_module_version": "1.5.0",
            "_view_name": "ProgressView",
            "bar_style": "success",
            "description": "",
            "description_tooltip": null,
            "layout": "IPY_MODEL_1664237f65234e1ca2488fcdf599b018",
            "max": 2444714899,
            "min": 0,
            "orientation": "horizontal",
            "style": "IPY_MODEL_2485e372e7994fb0ab9b1a8bd3cdc116",
            "value": 2444714899
          }
        },
        "80fed0c467574f6ab31347610c73af2f": {
          "model_module": "@jupyter-widgets/controls",
          "model_name": "HTMLModel",
          "model_module_version": "1.5.0",
          "state": {
            "_dom_classes": [],
            "_model_module": "@jupyter-widgets/controls",
            "_model_module_version": "1.5.0",
            "_model_name": "HTMLModel",
            "_view_count": null,
            "_view_module": "@jupyter-widgets/controls",
            "_view_module_version": "1.5.0",
            "_view_name": "HTMLView",
            "description": "",
            "description_tooltip": null,
            "layout": "IPY_MODEL_acbd2d6a3c5b4506848a75167196f88b",
            "placeholder": "​",
            "style": "IPY_MODEL_e1aa0c41026e4591b290d8421458f60f",
            "value": " 2.28G/2.28G [00:39&lt;00:00, 64.8MB/s]"
          }
        },
        "db751a0ae24e48da96107b58db8618de": {
          "model_module": "@jupyter-widgets/base",
          "model_name": "LayoutModel",
          "model_module_version": "1.2.0",
          "state": {
            "_model_module": "@jupyter-widgets/base",
            "_model_module_version": "1.2.0",
            "_model_name": "LayoutModel",
            "_view_count": null,
            "_view_module": "@jupyter-widgets/base",
            "_view_module_version": "1.2.0",
            "_view_name": "LayoutView",
            "align_content": null,
            "align_items": null,
            "align_self": null,
            "border": null,
            "bottom": null,
            "display": null,
            "flex": null,
            "flex_flow": null,
            "grid_area": null,
            "grid_auto_columns": null,
            "grid_auto_flow": null,
            "grid_auto_rows": null,
            "grid_column": null,
            "grid_gap": null,
            "grid_row": null,
            "grid_template_areas": null,
            "grid_template_columns": null,
            "grid_template_rows": null,
            "height": null,
            "justify_content": null,
            "justify_items": null,
            "left": null,
            "margin": null,
            "max_height": null,
            "max_width": null,
            "min_height": null,
            "min_width": null,
            "object_fit": null,
            "object_position": null,
            "order": null,
            "overflow": null,
            "overflow_x": null,
            "overflow_y": null,
            "padding": null,
            "right": null,
            "top": null,
            "visibility": null,
            "width": null
          }
        },
        "6d393c698a904a9d85b4e0707bfac502": {
          "model_module": "@jupyter-widgets/base",
          "model_name": "LayoutModel",
          "model_module_version": "1.2.0",
          "state": {
            "_model_module": "@jupyter-widgets/base",
            "_model_module_version": "1.2.0",
            "_model_name": "LayoutModel",
            "_view_count": null,
            "_view_module": "@jupyter-widgets/base",
            "_view_module_version": "1.2.0",
            "_view_name": "LayoutView",
            "align_content": null,
            "align_items": null,
            "align_self": null,
            "border": null,
            "bottom": null,
            "display": null,
            "flex": null,
            "flex_flow": null,
            "grid_area": null,
            "grid_auto_columns": null,
            "grid_auto_flow": null,
            "grid_auto_rows": null,
            "grid_column": null,
            "grid_gap": null,
            "grid_row": null,
            "grid_template_areas": null,
            "grid_template_columns": null,
            "grid_template_rows": null,
            "height": null,
            "justify_content": null,
            "justify_items": null,
            "left": null,
            "margin": null,
            "max_height": null,
            "max_width": null,
            "min_height": null,
            "min_width": null,
            "object_fit": null,
            "object_position": null,
            "order": null,
            "overflow": null,
            "overflow_x": null,
            "overflow_y": null,
            "padding": null,
            "right": null,
            "top": null,
            "visibility": null,
            "width": null
          }
        },
        "3043f1235c5841bba74153d2db54e3f5": {
          "model_module": "@jupyter-widgets/controls",
          "model_name": "DescriptionStyleModel",
          "model_module_version": "1.5.0",
          "state": {
            "_model_module": "@jupyter-widgets/controls",
            "_model_module_version": "1.5.0",
            "_model_name": "DescriptionStyleModel",
            "_view_count": null,
            "_view_module": "@jupyter-widgets/base",
            "_view_module_version": "1.2.0",
            "_view_name": "StyleView",
            "description_width": ""
          }
        },
        "1664237f65234e1ca2488fcdf599b018": {
          "model_module": "@jupyter-widgets/base",
          "model_name": "LayoutModel",
          "model_module_version": "1.2.0",
          "state": {
            "_model_module": "@jupyter-widgets/base",
            "_model_module_version": "1.2.0",
            "_model_name": "LayoutModel",
            "_view_count": null,
            "_view_module": "@jupyter-widgets/base",
            "_view_module_version": "1.2.0",
            "_view_name": "LayoutView",
            "align_content": null,
            "align_items": null,
            "align_self": null,
            "border": null,
            "bottom": null,
            "display": null,
            "flex": null,
            "flex_flow": null,
            "grid_area": null,
            "grid_auto_columns": null,
            "grid_auto_flow": null,
            "grid_auto_rows": null,
            "grid_column": null,
            "grid_gap": null,
            "grid_row": null,
            "grid_template_areas": null,
            "grid_template_columns": null,
            "grid_template_rows": null,
            "height": null,
            "justify_content": null,
            "justify_items": null,
            "left": null,
            "margin": null,
            "max_height": null,
            "max_width": null,
            "min_height": null,
            "min_width": null,
            "object_fit": null,
            "object_position": null,
            "order": null,
            "overflow": null,
            "overflow_x": null,
            "overflow_y": null,
            "padding": null,
            "right": null,
            "top": null,
            "visibility": null,
            "width": null
          }
        },
        "2485e372e7994fb0ab9b1a8bd3cdc116": {
          "model_module": "@jupyter-widgets/controls",
          "model_name": "ProgressStyleModel",
          "model_module_version": "1.5.0",
          "state": {
            "_model_module": "@jupyter-widgets/controls",
            "_model_module_version": "1.5.0",
            "_model_name": "ProgressStyleModel",
            "_view_count": null,
            "_view_module": "@jupyter-widgets/base",
            "_view_module_version": "1.2.0",
            "_view_name": "StyleView",
            "bar_color": null,
            "description_width": ""
          }
        },
        "acbd2d6a3c5b4506848a75167196f88b": {
          "model_module": "@jupyter-widgets/base",
          "model_name": "LayoutModel",
          "model_module_version": "1.2.0",
          "state": {
            "_model_module": "@jupyter-widgets/base",
            "_model_module_version": "1.2.0",
            "_model_name": "LayoutModel",
            "_view_count": null,
            "_view_module": "@jupyter-widgets/base",
            "_view_module_version": "1.2.0",
            "_view_name": "LayoutView",
            "align_content": null,
            "align_items": null,
            "align_self": null,
            "border": null,
            "bottom": null,
            "display": null,
            "flex": null,
            "flex_flow": null,
            "grid_area": null,
            "grid_auto_columns": null,
            "grid_auto_flow": null,
            "grid_auto_rows": null,
            "grid_column": null,
            "grid_gap": null,
            "grid_row": null,
            "grid_template_areas": null,
            "grid_template_columns": null,
            "grid_template_rows": null,
            "height": null,
            "justify_content": null,
            "justify_items": null,
            "left": null,
            "margin": null,
            "max_height": null,
            "max_width": null,
            "min_height": null,
            "min_width": null,
            "object_fit": null,
            "object_position": null,
            "order": null,
            "overflow": null,
            "overflow_x": null,
            "overflow_y": null,
            "padding": null,
            "right": null,
            "top": null,
            "visibility": null,
            "width": null
          }
        },
        "e1aa0c41026e4591b290d8421458f60f": {
          "model_module": "@jupyter-widgets/controls",
          "model_name": "DescriptionStyleModel",
          "model_module_version": "1.5.0",
          "state": {
            "_model_module": "@jupyter-widgets/controls",
            "_model_module_version": "1.5.0",
            "_model_name": "DescriptionStyleModel",
            "_view_count": null,
            "_view_module": "@jupyter-widgets/base",
            "_view_module_version": "1.2.0",
            "_view_name": "StyleView",
            "description_width": ""
          }
        },
        "bbd19bd3fe1545f29d100ddd04e42659": {
          "model_module": "@jupyter-widgets/controls",
          "model_name": "HBoxModel",
          "model_module_version": "1.5.0",
          "state": {
            "_dom_classes": [],
            "_model_module": "@jupyter-widgets/controls",
            "_model_module_version": "1.5.0",
            "_model_name": "HBoxModel",
            "_view_count": null,
            "_view_module": "@jupyter-widgets/controls",
            "_view_module_version": "1.5.0",
            "_view_name": "HBoxView",
            "box_style": "",
            "children": [
              "IPY_MODEL_c7ad53b6ef26472792719dd1a167e9ad",
              "IPY_MODEL_045723d4278d41a7aa5d2add667d9e59",
              "IPY_MODEL_d9daf2bf65da4e198f658304fe248011"
            ],
            "layout": "IPY_MODEL_09a6fc52725b4e058e17df161d7a3e78"
          }
        },
        "c7ad53b6ef26472792719dd1a167e9ad": {
          "model_module": "@jupyter-widgets/controls",
          "model_name": "HTMLModel",
          "model_module_version": "1.5.0",
          "state": {
            "_dom_classes": [],
            "_model_module": "@jupyter-widgets/controls",
            "_model_module_version": "1.5.0",
            "_model_name": "HTMLModel",
            "_view_count": null,
            "_view_module": "@jupyter-widgets/controls",
            "_view_module_version": "1.5.0",
            "_view_name": "HTMLView",
            "description": "",
            "description_tooltip": null,
            "layout": "IPY_MODEL_fdb8a78ea70b4fc29fe4fc54476bc3b5",
            "placeholder": "​",
            "style": "IPY_MODEL_11f1f2a992f243e194dc9c55fb84342d",
            "value": "Downloading tokenizer_config.json: 100%"
          }
        },
        "045723d4278d41a7aa5d2add667d9e59": {
          "model_module": "@jupyter-widgets/controls",
          "model_name": "FloatProgressModel",
          "model_module_version": "1.5.0",
          "state": {
            "_dom_classes": [],
            "_model_module": "@jupyter-widgets/controls",
            "_model_module_version": "1.5.0",
            "_model_name": "FloatProgressModel",
            "_view_count": null,
            "_view_module": "@jupyter-widgets/controls",
            "_view_module_version": "1.5.0",
            "_view_name": "ProgressView",
            "bar_style": "success",
            "description": "",
            "description_tooltip": null,
            "layout": "IPY_MODEL_392ff533dd7c4e9ab1cb3532eaa2b1eb",
            "max": 529,
            "min": 0,
            "orientation": "horizontal",
            "style": "IPY_MODEL_dac552bfc9254bb59d198e68b71d984e",
            "value": 529
          }
        },
        "d9daf2bf65da4e198f658304fe248011": {
          "model_module": "@jupyter-widgets/controls",
          "model_name": "HTMLModel",
          "model_module_version": "1.5.0",
          "state": {
            "_dom_classes": [],
            "_model_module": "@jupyter-widgets/controls",
            "_model_module_version": "1.5.0",
            "_model_name": "HTMLModel",
            "_view_count": null,
            "_view_module": "@jupyter-widgets/controls",
            "_view_module_version": "1.5.0",
            "_view_name": "HTMLView",
            "description": "",
            "description_tooltip": null,
            "layout": "IPY_MODEL_83ee4e256aa34cdfbd0f4a5e1789aff6",
            "placeholder": "​",
            "style": "IPY_MODEL_f0085c9d204840afb1c35908d859afee",
            "value": " 529/529 [00:00&lt;00:00, 18.4kB/s]"
          }
        },
        "09a6fc52725b4e058e17df161d7a3e78": {
          "model_module": "@jupyter-widgets/base",
          "model_name": "LayoutModel",
          "model_module_version": "1.2.0",
          "state": {
            "_model_module": "@jupyter-widgets/base",
            "_model_module_version": "1.2.0",
            "_model_name": "LayoutModel",
            "_view_count": null,
            "_view_module": "@jupyter-widgets/base",
            "_view_module_version": "1.2.0",
            "_view_name": "LayoutView",
            "align_content": null,
            "align_items": null,
            "align_self": null,
            "border": null,
            "bottom": null,
            "display": null,
            "flex": null,
            "flex_flow": null,
            "grid_area": null,
            "grid_auto_columns": null,
            "grid_auto_flow": null,
            "grid_auto_rows": null,
            "grid_column": null,
            "grid_gap": null,
            "grid_row": null,
            "grid_template_areas": null,
            "grid_template_columns": null,
            "grid_template_rows": null,
            "height": null,
            "justify_content": null,
            "justify_items": null,
            "left": null,
            "margin": null,
            "max_height": null,
            "max_width": null,
            "min_height": null,
            "min_width": null,
            "object_fit": null,
            "object_position": null,
            "order": null,
            "overflow": null,
            "overflow_x": null,
            "overflow_y": null,
            "padding": null,
            "right": null,
            "top": null,
            "visibility": null,
            "width": null
          }
        },
        "fdb8a78ea70b4fc29fe4fc54476bc3b5": {
          "model_module": "@jupyter-widgets/base",
          "model_name": "LayoutModel",
          "model_module_version": "1.2.0",
          "state": {
            "_model_module": "@jupyter-widgets/base",
            "_model_module_version": "1.2.0",
            "_model_name": "LayoutModel",
            "_view_count": null,
            "_view_module": "@jupyter-widgets/base",
            "_view_module_version": "1.2.0",
            "_view_name": "LayoutView",
            "align_content": null,
            "align_items": null,
            "align_self": null,
            "border": null,
            "bottom": null,
            "display": null,
            "flex": null,
            "flex_flow": null,
            "grid_area": null,
            "grid_auto_columns": null,
            "grid_auto_flow": null,
            "grid_auto_rows": null,
            "grid_column": null,
            "grid_gap": null,
            "grid_row": null,
            "grid_template_areas": null,
            "grid_template_columns": null,
            "grid_template_rows": null,
            "height": null,
            "justify_content": null,
            "justify_items": null,
            "left": null,
            "margin": null,
            "max_height": null,
            "max_width": null,
            "min_height": null,
            "min_width": null,
            "object_fit": null,
            "object_position": null,
            "order": null,
            "overflow": null,
            "overflow_x": null,
            "overflow_y": null,
            "padding": null,
            "right": null,
            "top": null,
            "visibility": null,
            "width": null
          }
        },
        "11f1f2a992f243e194dc9c55fb84342d": {
          "model_module": "@jupyter-widgets/controls",
          "model_name": "DescriptionStyleModel",
          "model_module_version": "1.5.0",
          "state": {
            "_model_module": "@jupyter-widgets/controls",
            "_model_module_version": "1.5.0",
            "_model_name": "DescriptionStyleModel",
            "_view_count": null,
            "_view_module": "@jupyter-widgets/base",
            "_view_module_version": "1.2.0",
            "_view_name": "StyleView",
            "description_width": ""
          }
        },
        "392ff533dd7c4e9ab1cb3532eaa2b1eb": {
          "model_module": "@jupyter-widgets/base",
          "model_name": "LayoutModel",
          "model_module_version": "1.2.0",
          "state": {
            "_model_module": "@jupyter-widgets/base",
            "_model_module_version": "1.2.0",
            "_model_name": "LayoutModel",
            "_view_count": null,
            "_view_module": "@jupyter-widgets/base",
            "_view_module_version": "1.2.0",
            "_view_name": "LayoutView",
            "align_content": null,
            "align_items": null,
            "align_self": null,
            "border": null,
            "bottom": null,
            "display": null,
            "flex": null,
            "flex_flow": null,
            "grid_area": null,
            "grid_auto_columns": null,
            "grid_auto_flow": null,
            "grid_auto_rows": null,
            "grid_column": null,
            "grid_gap": null,
            "grid_row": null,
            "grid_template_areas": null,
            "grid_template_columns": null,
            "grid_template_rows": null,
            "height": null,
            "justify_content": null,
            "justify_items": null,
            "left": null,
            "margin": null,
            "max_height": null,
            "max_width": null,
            "min_height": null,
            "min_width": null,
            "object_fit": null,
            "object_position": null,
            "order": null,
            "overflow": null,
            "overflow_x": null,
            "overflow_y": null,
            "padding": null,
            "right": null,
            "top": null,
            "visibility": null,
            "width": null
          }
        },
        "dac552bfc9254bb59d198e68b71d984e": {
          "model_module": "@jupyter-widgets/controls",
          "model_name": "ProgressStyleModel",
          "model_module_version": "1.5.0",
          "state": {
            "_model_module": "@jupyter-widgets/controls",
            "_model_module_version": "1.5.0",
            "_model_name": "ProgressStyleModel",
            "_view_count": null,
            "_view_module": "@jupyter-widgets/base",
            "_view_module_version": "1.2.0",
            "_view_name": "StyleView",
            "bar_color": null,
            "description_width": ""
          }
        },
        "83ee4e256aa34cdfbd0f4a5e1789aff6": {
          "model_module": "@jupyter-widgets/base",
          "model_name": "LayoutModel",
          "model_module_version": "1.2.0",
          "state": {
            "_model_module": "@jupyter-widgets/base",
            "_model_module_version": "1.2.0",
            "_model_name": "LayoutModel",
            "_view_count": null,
            "_view_module": "@jupyter-widgets/base",
            "_view_module_version": "1.2.0",
            "_view_name": "LayoutView",
            "align_content": null,
            "align_items": null,
            "align_self": null,
            "border": null,
            "bottom": null,
            "display": null,
            "flex": null,
            "flex_flow": null,
            "grid_area": null,
            "grid_auto_columns": null,
            "grid_auto_flow": null,
            "grid_auto_rows": null,
            "grid_column": null,
            "grid_gap": null,
            "grid_row": null,
            "grid_template_areas": null,
            "grid_template_columns": null,
            "grid_template_rows": null,
            "height": null,
            "justify_content": null,
            "justify_items": null,
            "left": null,
            "margin": null,
            "max_height": null,
            "max_width": null,
            "min_height": null,
            "min_width": null,
            "object_fit": null,
            "object_position": null,
            "order": null,
            "overflow": null,
            "overflow_x": null,
            "overflow_y": null,
            "padding": null,
            "right": null,
            "top": null,
            "visibility": null,
            "width": null
          }
        },
        "f0085c9d204840afb1c35908d859afee": {
          "model_module": "@jupyter-widgets/controls",
          "model_name": "DescriptionStyleModel",
          "model_module_version": "1.5.0",
          "state": {
            "_model_module": "@jupyter-widgets/controls",
            "_model_module_version": "1.5.0",
            "_model_name": "DescriptionStyleModel",
            "_view_count": null,
            "_view_module": "@jupyter-widgets/base",
            "_view_module_version": "1.2.0",
            "_view_name": "StyleView",
            "description_width": ""
          }
        },
        "06948fac128346629b28f372478e2c8f": {
          "model_module": "@jupyter-widgets/controls",
          "model_name": "HBoxModel",
          "model_module_version": "1.5.0",
          "state": {
            "_dom_classes": [],
            "_model_module": "@jupyter-widgets/controls",
            "_model_module_version": "1.5.0",
            "_model_name": "HBoxModel",
            "_view_count": null,
            "_view_module": "@jupyter-widgets/controls",
            "_view_module_version": "1.5.0",
            "_view_name": "HBoxView",
            "box_style": "",
            "children": [
              "IPY_MODEL_050273e957ed4bc1a6c1b0c112698f9a",
              "IPY_MODEL_3611abed794c4b3a9204f2667e174d07",
              "IPY_MODEL_6c9be318e34141a7b23d02d2d5fd15e7"
            ],
            "layout": "IPY_MODEL_b3df9e626ab7470f90b2fee984ba695e"
          }
        },
        "050273e957ed4bc1a6c1b0c112698f9a": {
          "model_module": "@jupyter-widgets/controls",
          "model_name": "HTMLModel",
          "model_module_version": "1.5.0",
          "state": {
            "_dom_classes": [],
            "_model_module": "@jupyter-widgets/controls",
            "_model_module_version": "1.5.0",
            "_model_name": "HTMLModel",
            "_view_count": null,
            "_view_module": "@jupyter-widgets/controls",
            "_view_module_version": "1.5.0",
            "_view_name": "HTMLView",
            "description": "",
            "description_tooltip": null,
            "layout": "IPY_MODEL_8bc3c5d24689488291aaa99c4ef13c3f",
            "placeholder": "​",
            "style": "IPY_MODEL_8806aee6b124427e94feb60776a794a2",
            "value": "Downloading sentencepiece.bpe.model: 100%"
          }
        },
        "3611abed794c4b3a9204f2667e174d07": {
          "model_module": "@jupyter-widgets/controls",
          "model_name": "FloatProgressModel",
          "model_module_version": "1.5.0",
          "state": {
            "_dom_classes": [],
            "_model_module": "@jupyter-widgets/controls",
            "_model_module_version": "1.5.0",
            "_model_name": "FloatProgressModel",
            "_view_count": null,
            "_view_module": "@jupyter-widgets/controls",
            "_view_module_version": "1.5.0",
            "_view_name": "ProgressView",
            "bar_style": "success",
            "description": "",
            "description_tooltip": null,
            "layout": "IPY_MODEL_fd0e66df722b4eddad05b4ee45a7d777",
            "max": 5069051,
            "min": 0,
            "orientation": "horizontal",
            "style": "IPY_MODEL_e2540ccd097e4711abd2396a9adeb599",
            "value": 5069051
          }
        },
        "6c9be318e34141a7b23d02d2d5fd15e7": {
          "model_module": "@jupyter-widgets/controls",
          "model_name": "HTMLModel",
          "model_module_version": "1.5.0",
          "state": {
            "_dom_classes": [],
            "_model_module": "@jupyter-widgets/controls",
            "_model_module_version": "1.5.0",
            "_model_name": "HTMLModel",
            "_view_count": null,
            "_view_module": "@jupyter-widgets/controls",
            "_view_module_version": "1.5.0",
            "_view_name": "HTMLView",
            "description": "",
            "description_tooltip": null,
            "layout": "IPY_MODEL_fa853f37ff1b4215aa2d21839ff6fbf3",
            "placeholder": "​",
            "style": "IPY_MODEL_f48be840dfa5427e8bbd680845a6ba27",
            "value": " 4.83M/4.83M [00:00&lt;00:00, 8.64MB/s]"
          }
        },
        "b3df9e626ab7470f90b2fee984ba695e": {
          "model_module": "@jupyter-widgets/base",
          "model_name": "LayoutModel",
          "model_module_version": "1.2.0",
          "state": {
            "_model_module": "@jupyter-widgets/base",
            "_model_module_version": "1.2.0",
            "_model_name": "LayoutModel",
            "_view_count": null,
            "_view_module": "@jupyter-widgets/base",
            "_view_module_version": "1.2.0",
            "_view_name": "LayoutView",
            "align_content": null,
            "align_items": null,
            "align_self": null,
            "border": null,
            "bottom": null,
            "display": null,
            "flex": null,
            "flex_flow": null,
            "grid_area": null,
            "grid_auto_columns": null,
            "grid_auto_flow": null,
            "grid_auto_rows": null,
            "grid_column": null,
            "grid_gap": null,
            "grid_row": null,
            "grid_template_areas": null,
            "grid_template_columns": null,
            "grid_template_rows": null,
            "height": null,
            "justify_content": null,
            "justify_items": null,
            "left": null,
            "margin": null,
            "max_height": null,
            "max_width": null,
            "min_height": null,
            "min_width": null,
            "object_fit": null,
            "object_position": null,
            "order": null,
            "overflow": null,
            "overflow_x": null,
            "overflow_y": null,
            "padding": null,
            "right": null,
            "top": null,
            "visibility": null,
            "width": null
          }
        },
        "8bc3c5d24689488291aaa99c4ef13c3f": {
          "model_module": "@jupyter-widgets/base",
          "model_name": "LayoutModel",
          "model_module_version": "1.2.0",
          "state": {
            "_model_module": "@jupyter-widgets/base",
            "_model_module_version": "1.2.0",
            "_model_name": "LayoutModel",
            "_view_count": null,
            "_view_module": "@jupyter-widgets/base",
            "_view_module_version": "1.2.0",
            "_view_name": "LayoutView",
            "align_content": null,
            "align_items": null,
            "align_self": null,
            "border": null,
            "bottom": null,
            "display": null,
            "flex": null,
            "flex_flow": null,
            "grid_area": null,
            "grid_auto_columns": null,
            "grid_auto_flow": null,
            "grid_auto_rows": null,
            "grid_column": null,
            "grid_gap": null,
            "grid_row": null,
            "grid_template_areas": null,
            "grid_template_columns": null,
            "grid_template_rows": null,
            "height": null,
            "justify_content": null,
            "justify_items": null,
            "left": null,
            "margin": null,
            "max_height": null,
            "max_width": null,
            "min_height": null,
            "min_width": null,
            "object_fit": null,
            "object_position": null,
            "order": null,
            "overflow": null,
            "overflow_x": null,
            "overflow_y": null,
            "padding": null,
            "right": null,
            "top": null,
            "visibility": null,
            "width": null
          }
        },
        "8806aee6b124427e94feb60776a794a2": {
          "model_module": "@jupyter-widgets/controls",
          "model_name": "DescriptionStyleModel",
          "model_module_version": "1.5.0",
          "state": {
            "_model_module": "@jupyter-widgets/controls",
            "_model_module_version": "1.5.0",
            "_model_name": "DescriptionStyleModel",
            "_view_count": null,
            "_view_module": "@jupyter-widgets/base",
            "_view_module_version": "1.2.0",
            "_view_name": "StyleView",
            "description_width": ""
          }
        },
        "fd0e66df722b4eddad05b4ee45a7d777": {
          "model_module": "@jupyter-widgets/base",
          "model_name": "LayoutModel",
          "model_module_version": "1.2.0",
          "state": {
            "_model_module": "@jupyter-widgets/base",
            "_model_module_version": "1.2.0",
            "_model_name": "LayoutModel",
            "_view_count": null,
            "_view_module": "@jupyter-widgets/base",
            "_view_module_version": "1.2.0",
            "_view_name": "LayoutView",
            "align_content": null,
            "align_items": null,
            "align_self": null,
            "border": null,
            "bottom": null,
            "display": null,
            "flex": null,
            "flex_flow": null,
            "grid_area": null,
            "grid_auto_columns": null,
            "grid_auto_flow": null,
            "grid_auto_rows": null,
            "grid_column": null,
            "grid_gap": null,
            "grid_row": null,
            "grid_template_areas": null,
            "grid_template_columns": null,
            "grid_template_rows": null,
            "height": null,
            "justify_content": null,
            "justify_items": null,
            "left": null,
            "margin": null,
            "max_height": null,
            "max_width": null,
            "min_height": null,
            "min_width": null,
            "object_fit": null,
            "object_position": null,
            "order": null,
            "overflow": null,
            "overflow_x": null,
            "overflow_y": null,
            "padding": null,
            "right": null,
            "top": null,
            "visibility": null,
            "width": null
          }
        },
        "e2540ccd097e4711abd2396a9adeb599": {
          "model_module": "@jupyter-widgets/controls",
          "model_name": "ProgressStyleModel",
          "model_module_version": "1.5.0",
          "state": {
            "_model_module": "@jupyter-widgets/controls",
            "_model_module_version": "1.5.0",
            "_model_name": "ProgressStyleModel",
            "_view_count": null,
            "_view_module": "@jupyter-widgets/base",
            "_view_module_version": "1.2.0",
            "_view_name": "StyleView",
            "bar_color": null,
            "description_width": ""
          }
        },
        "fa853f37ff1b4215aa2d21839ff6fbf3": {
          "model_module": "@jupyter-widgets/base",
          "model_name": "LayoutModel",
          "model_module_version": "1.2.0",
          "state": {
            "_model_module": "@jupyter-widgets/base",
            "_model_module_version": "1.2.0",
            "_model_name": "LayoutModel",
            "_view_count": null,
            "_view_module": "@jupyter-widgets/base",
            "_view_module_version": "1.2.0",
            "_view_name": "LayoutView",
            "align_content": null,
            "align_items": null,
            "align_self": null,
            "border": null,
            "bottom": null,
            "display": null,
            "flex": null,
            "flex_flow": null,
            "grid_area": null,
            "grid_auto_columns": null,
            "grid_auto_flow": null,
            "grid_auto_rows": null,
            "grid_column": null,
            "grid_gap": null,
            "grid_row": null,
            "grid_template_areas": null,
            "grid_template_columns": null,
            "grid_template_rows": null,
            "height": null,
            "justify_content": null,
            "justify_items": null,
            "left": null,
            "margin": null,
            "max_height": null,
            "max_width": null,
            "min_height": null,
            "min_width": null,
            "object_fit": null,
            "object_position": null,
            "order": null,
            "overflow": null,
            "overflow_x": null,
            "overflow_y": null,
            "padding": null,
            "right": null,
            "top": null,
            "visibility": null,
            "width": null
          }
        },
        "f48be840dfa5427e8bbd680845a6ba27": {
          "model_module": "@jupyter-widgets/controls",
          "model_name": "DescriptionStyleModel",
          "model_module_version": "1.5.0",
          "state": {
            "_model_module": "@jupyter-widgets/controls",
            "_model_module_version": "1.5.0",
            "_model_name": "DescriptionStyleModel",
            "_view_count": null,
            "_view_module": "@jupyter-widgets/base",
            "_view_module_version": "1.2.0",
            "_view_name": "StyleView",
            "description_width": ""
          }
        },
        "1d1f776461e24cf381dec7902e38dcf7": {
          "model_module": "@jupyter-widgets/controls",
          "model_name": "HBoxModel",
          "model_module_version": "1.5.0",
          "state": {
            "_dom_classes": [],
            "_model_module": "@jupyter-widgets/controls",
            "_model_module_version": "1.5.0",
            "_model_name": "HBoxModel",
            "_view_count": null,
            "_view_module": "@jupyter-widgets/controls",
            "_view_module_version": "1.5.0",
            "_view_name": "HBoxView",
            "box_style": "",
            "children": [
              "IPY_MODEL_e2d882de6c0144b099b8acd1b8441c5e",
              "IPY_MODEL_6e224da231a44d2e8f740754c3fdaee4",
              "IPY_MODEL_3d2a8345e02b495ea885e160224fdcfd"
            ],
            "layout": "IPY_MODEL_82138f5b2fd8460088ab7c8be803e70f"
          }
        },
        "e2d882de6c0144b099b8acd1b8441c5e": {
          "model_module": "@jupyter-widgets/controls",
          "model_name": "HTMLModel",
          "model_module_version": "1.5.0",
          "state": {
            "_dom_classes": [],
            "_model_module": "@jupyter-widgets/controls",
            "_model_module_version": "1.5.0",
            "_model_name": "HTMLModel",
            "_view_count": null,
            "_view_module": "@jupyter-widgets/controls",
            "_view_module_version": "1.5.0",
            "_view_name": "HTMLView",
            "description": "",
            "description_tooltip": null,
            "layout": "IPY_MODEL_10e39e16454748b48b3570950405e51d",
            "placeholder": "​",
            "style": "IPY_MODEL_0458682058b84cc1aaf5bdd467df7e6c",
            "value": "Downloading special_tokens_map.json: 100%"
          }
        },
        "6e224da231a44d2e8f740754c3fdaee4": {
          "model_module": "@jupyter-widgets/controls",
          "model_name": "FloatProgressModel",
          "model_module_version": "1.5.0",
          "state": {
            "_dom_classes": [],
            "_model_module": "@jupyter-widgets/controls",
            "_model_module_version": "1.5.0",
            "_model_name": "FloatProgressModel",
            "_view_count": null,
            "_view_module": "@jupyter-widgets/controls",
            "_view_module_version": "1.5.0",
            "_view_name": "ProgressView",
            "bar_style": "success",
            "description": "",
            "description_tooltip": null,
            "layout": "IPY_MODEL_8eb83e12aba847c9b3a6b502daa11f72",
            "max": 649,
            "min": 0,
            "orientation": "horizontal",
            "style": "IPY_MODEL_eb7e39574bc94739a67895f79f21b4ee",
            "value": 649
          }
        },
        "3d2a8345e02b495ea885e160224fdcfd": {
          "model_module": "@jupyter-widgets/controls",
          "model_name": "HTMLModel",
          "model_module_version": "1.5.0",
          "state": {
            "_dom_classes": [],
            "_model_module": "@jupyter-widgets/controls",
            "_model_module_version": "1.5.0",
            "_model_name": "HTMLModel",
            "_view_count": null,
            "_view_module": "@jupyter-widgets/controls",
            "_view_module_version": "1.5.0",
            "_view_name": "HTMLView",
            "description": "",
            "description_tooltip": null,
            "layout": "IPY_MODEL_0d9e5be12aa945488bfbaca4d4017b66",
            "placeholder": "​",
            "style": "IPY_MODEL_456f5559a23f48d8991594044c64b6e1",
            "value": " 649/649 [00:00&lt;00:00, 19.0kB/s]"
          }
        },
        "82138f5b2fd8460088ab7c8be803e70f": {
          "model_module": "@jupyter-widgets/base",
          "model_name": "LayoutModel",
          "model_module_version": "1.2.0",
          "state": {
            "_model_module": "@jupyter-widgets/base",
            "_model_module_version": "1.2.0",
            "_model_name": "LayoutModel",
            "_view_count": null,
            "_view_module": "@jupyter-widgets/base",
            "_view_module_version": "1.2.0",
            "_view_name": "LayoutView",
            "align_content": null,
            "align_items": null,
            "align_self": null,
            "border": null,
            "bottom": null,
            "display": null,
            "flex": null,
            "flex_flow": null,
            "grid_area": null,
            "grid_auto_columns": null,
            "grid_auto_flow": null,
            "grid_auto_rows": null,
            "grid_column": null,
            "grid_gap": null,
            "grid_row": null,
            "grid_template_areas": null,
            "grid_template_columns": null,
            "grid_template_rows": null,
            "height": null,
            "justify_content": null,
            "justify_items": null,
            "left": null,
            "margin": null,
            "max_height": null,
            "max_width": null,
            "min_height": null,
            "min_width": null,
            "object_fit": null,
            "object_position": null,
            "order": null,
            "overflow": null,
            "overflow_x": null,
            "overflow_y": null,
            "padding": null,
            "right": null,
            "top": null,
            "visibility": null,
            "width": null
          }
        },
        "10e39e16454748b48b3570950405e51d": {
          "model_module": "@jupyter-widgets/base",
          "model_name": "LayoutModel",
          "model_module_version": "1.2.0",
          "state": {
            "_model_module": "@jupyter-widgets/base",
            "_model_module_version": "1.2.0",
            "_model_name": "LayoutModel",
            "_view_count": null,
            "_view_module": "@jupyter-widgets/base",
            "_view_module_version": "1.2.0",
            "_view_name": "LayoutView",
            "align_content": null,
            "align_items": null,
            "align_self": null,
            "border": null,
            "bottom": null,
            "display": null,
            "flex": null,
            "flex_flow": null,
            "grid_area": null,
            "grid_auto_columns": null,
            "grid_auto_flow": null,
            "grid_auto_rows": null,
            "grid_column": null,
            "grid_gap": null,
            "grid_row": null,
            "grid_template_areas": null,
            "grid_template_columns": null,
            "grid_template_rows": null,
            "height": null,
            "justify_content": null,
            "justify_items": null,
            "left": null,
            "margin": null,
            "max_height": null,
            "max_width": null,
            "min_height": null,
            "min_width": null,
            "object_fit": null,
            "object_position": null,
            "order": null,
            "overflow": null,
            "overflow_x": null,
            "overflow_y": null,
            "padding": null,
            "right": null,
            "top": null,
            "visibility": null,
            "width": null
          }
        },
        "0458682058b84cc1aaf5bdd467df7e6c": {
          "model_module": "@jupyter-widgets/controls",
          "model_name": "DescriptionStyleModel",
          "model_module_version": "1.5.0",
          "state": {
            "_model_module": "@jupyter-widgets/controls",
            "_model_module_version": "1.5.0",
            "_model_name": "DescriptionStyleModel",
            "_view_count": null,
            "_view_module": "@jupyter-widgets/base",
            "_view_module_version": "1.2.0",
            "_view_name": "StyleView",
            "description_width": ""
          }
        },
        "8eb83e12aba847c9b3a6b502daa11f72": {
          "model_module": "@jupyter-widgets/base",
          "model_name": "LayoutModel",
          "model_module_version": "1.2.0",
          "state": {
            "_model_module": "@jupyter-widgets/base",
            "_model_module_version": "1.2.0",
            "_model_name": "LayoutModel",
            "_view_count": null,
            "_view_module": "@jupyter-widgets/base",
            "_view_module_version": "1.2.0",
            "_view_name": "LayoutView",
            "align_content": null,
            "align_items": null,
            "align_self": null,
            "border": null,
            "bottom": null,
            "display": null,
            "flex": null,
            "flex_flow": null,
            "grid_area": null,
            "grid_auto_columns": null,
            "grid_auto_flow": null,
            "grid_auto_rows": null,
            "grid_column": null,
            "grid_gap": null,
            "grid_row": null,
            "grid_template_areas": null,
            "grid_template_columns": null,
            "grid_template_rows": null,
            "height": null,
            "justify_content": null,
            "justify_items": null,
            "left": null,
            "margin": null,
            "max_height": null,
            "max_width": null,
            "min_height": null,
            "min_width": null,
            "object_fit": null,
            "object_position": null,
            "order": null,
            "overflow": null,
            "overflow_x": null,
            "overflow_y": null,
            "padding": null,
            "right": null,
            "top": null,
            "visibility": null,
            "width": null
          }
        },
        "eb7e39574bc94739a67895f79f21b4ee": {
          "model_module": "@jupyter-widgets/controls",
          "model_name": "ProgressStyleModel",
          "model_module_version": "1.5.0",
          "state": {
            "_model_module": "@jupyter-widgets/controls",
            "_model_module_version": "1.5.0",
            "_model_name": "ProgressStyleModel",
            "_view_count": null,
            "_view_module": "@jupyter-widgets/base",
            "_view_module_version": "1.2.0",
            "_view_name": "StyleView",
            "bar_color": null,
            "description_width": ""
          }
        },
        "0d9e5be12aa945488bfbaca4d4017b66": {
          "model_module": "@jupyter-widgets/base",
          "model_name": "LayoutModel",
          "model_module_version": "1.2.0",
          "state": {
            "_model_module": "@jupyter-widgets/base",
            "_model_module_version": "1.2.0",
            "_model_name": "LayoutModel",
            "_view_count": null,
            "_view_module": "@jupyter-widgets/base",
            "_view_module_version": "1.2.0",
            "_view_name": "LayoutView",
            "align_content": null,
            "align_items": null,
            "align_self": null,
            "border": null,
            "bottom": null,
            "display": null,
            "flex": null,
            "flex_flow": null,
            "grid_area": null,
            "grid_auto_columns": null,
            "grid_auto_flow": null,
            "grid_auto_rows": null,
            "grid_column": null,
            "grid_gap": null,
            "grid_row": null,
            "grid_template_areas": null,
            "grid_template_columns": null,
            "grid_template_rows": null,
            "height": null,
            "justify_content": null,
            "justify_items": null,
            "left": null,
            "margin": null,
            "max_height": null,
            "max_width": null,
            "min_height": null,
            "min_width": null,
            "object_fit": null,
            "object_position": null,
            "order": null,
            "overflow": null,
            "overflow_x": null,
            "overflow_y": null,
            "padding": null,
            "right": null,
            "top": null,
            "visibility": null,
            "width": null
          }
        },
        "456f5559a23f48d8991594044c64b6e1": {
          "model_module": "@jupyter-widgets/controls",
          "model_name": "DescriptionStyleModel",
          "model_module_version": "1.5.0",
          "state": {
            "_model_module": "@jupyter-widgets/controls",
            "_model_module_version": "1.5.0",
            "_model_name": "DescriptionStyleModel",
            "_view_count": null,
            "_view_module": "@jupyter-widgets/base",
            "_view_module_version": "1.2.0",
            "_view_name": "StyleView",
            "description_width": ""
          }
        },
        "7ac994488a2c43ffbd6a6b39d862d6e4": {
          "model_module": "@jupyter-widgets/controls",
          "model_name": "HBoxModel",
          "model_module_version": "1.5.0",
          "state": {
            "_dom_classes": [],
            "_model_module": "@jupyter-widgets/controls",
            "_model_module_version": "1.5.0",
            "_model_name": "HBoxModel",
            "_view_count": null,
            "_view_module": "@jupyter-widgets/controls",
            "_view_module_version": "1.5.0",
            "_view_name": "HBoxView",
            "box_style": "",
            "children": [
              "IPY_MODEL_7aab571d06754c30a0412042266a5159",
              "IPY_MODEL_dad8ff1dc8d44d66a99e36daaf88db80",
              "IPY_MODEL_7f2e533006664b23b536b15e94335b59"
            ],
            "layout": "IPY_MODEL_e8962120bc974da8856270b85f523c84"
          }
        },
        "7aab571d06754c30a0412042266a5159": {
          "model_module": "@jupyter-widgets/controls",
          "model_name": "HTMLModel",
          "model_module_version": "1.5.0",
          "state": {
            "_dom_classes": [],
            "_model_module": "@jupyter-widgets/controls",
            "_model_module_version": "1.5.0",
            "_model_name": "HTMLModel",
            "_view_count": null,
            "_view_module": "@jupyter-widgets/controls",
            "_view_module_version": "1.5.0",
            "_view_name": "HTMLView",
            "description": "",
            "description_tooltip": null,
            "layout": "IPY_MODEL_91ffd6664953409099ec526e42ec0bdb",
            "placeholder": "​",
            "style": "IPY_MODEL_a68f48d5fdf0412ca66671ece547b499",
            "value": "Downloading config.json: 100%"
          }
        },
        "dad8ff1dc8d44d66a99e36daaf88db80": {
          "model_module": "@jupyter-widgets/controls",
          "model_name": "FloatProgressModel",
          "model_module_version": "1.5.0",
          "state": {
            "_dom_classes": [],
            "_model_module": "@jupyter-widgets/controls",
            "_model_module_version": "1.5.0",
            "_model_name": "FloatProgressModel",
            "_view_count": null,
            "_view_module": "@jupyter-widgets/controls",
            "_view_module_version": "1.5.0",
            "_view_name": "ProgressView",
            "bar_style": "success",
            "description": "",
            "description_tooltip": null,
            "layout": "IPY_MODEL_6ea3fe6437354669bae3fe3175bb6bd8",
            "max": 908,
            "min": 0,
            "orientation": "horizontal",
            "style": "IPY_MODEL_0c29c7d372664d6292f281fce28ad2a5",
            "value": 908
          }
        },
        "7f2e533006664b23b536b15e94335b59": {
          "model_module": "@jupyter-widgets/controls",
          "model_name": "HTMLModel",
          "model_module_version": "1.5.0",
          "state": {
            "_dom_classes": [],
            "_model_module": "@jupyter-widgets/controls",
            "_model_module_version": "1.5.0",
            "_model_name": "HTMLModel",
            "_view_count": null,
            "_view_module": "@jupyter-widgets/controls",
            "_view_module_version": "1.5.0",
            "_view_name": "HTMLView",
            "description": "",
            "description_tooltip": null,
            "layout": "IPY_MODEL_ed3924fc244a4fc9baff1e7172333347",
            "placeholder": "​",
            "style": "IPY_MODEL_9e6e81a8d46a44ab8f13de3248bfa051",
            "value": " 908/908 [00:00&lt;00:00, 25.6kB/s]"
          }
        },
        "e8962120bc974da8856270b85f523c84": {
          "model_module": "@jupyter-widgets/base",
          "model_name": "LayoutModel",
          "model_module_version": "1.2.0",
          "state": {
            "_model_module": "@jupyter-widgets/base",
            "_model_module_version": "1.2.0",
            "_model_name": "LayoutModel",
            "_view_count": null,
            "_view_module": "@jupyter-widgets/base",
            "_view_module_version": "1.2.0",
            "_view_name": "LayoutView",
            "align_content": null,
            "align_items": null,
            "align_self": null,
            "border": null,
            "bottom": null,
            "display": null,
            "flex": null,
            "flex_flow": null,
            "grid_area": null,
            "grid_auto_columns": null,
            "grid_auto_flow": null,
            "grid_auto_rows": null,
            "grid_column": null,
            "grid_gap": null,
            "grid_row": null,
            "grid_template_areas": null,
            "grid_template_columns": null,
            "grid_template_rows": null,
            "height": null,
            "justify_content": null,
            "justify_items": null,
            "left": null,
            "margin": null,
            "max_height": null,
            "max_width": null,
            "min_height": null,
            "min_width": null,
            "object_fit": null,
            "object_position": null,
            "order": null,
            "overflow": null,
            "overflow_x": null,
            "overflow_y": null,
            "padding": null,
            "right": null,
            "top": null,
            "visibility": null,
            "width": null
          }
        },
        "91ffd6664953409099ec526e42ec0bdb": {
          "model_module": "@jupyter-widgets/base",
          "model_name": "LayoutModel",
          "model_module_version": "1.2.0",
          "state": {
            "_model_module": "@jupyter-widgets/base",
            "_model_module_version": "1.2.0",
            "_model_name": "LayoutModel",
            "_view_count": null,
            "_view_module": "@jupyter-widgets/base",
            "_view_module_version": "1.2.0",
            "_view_name": "LayoutView",
            "align_content": null,
            "align_items": null,
            "align_self": null,
            "border": null,
            "bottom": null,
            "display": null,
            "flex": null,
            "flex_flow": null,
            "grid_area": null,
            "grid_auto_columns": null,
            "grid_auto_flow": null,
            "grid_auto_rows": null,
            "grid_column": null,
            "grid_gap": null,
            "grid_row": null,
            "grid_template_areas": null,
            "grid_template_columns": null,
            "grid_template_rows": null,
            "height": null,
            "justify_content": null,
            "justify_items": null,
            "left": null,
            "margin": null,
            "max_height": null,
            "max_width": null,
            "min_height": null,
            "min_width": null,
            "object_fit": null,
            "object_position": null,
            "order": null,
            "overflow": null,
            "overflow_x": null,
            "overflow_y": null,
            "padding": null,
            "right": null,
            "top": null,
            "visibility": null,
            "width": null
          }
        },
        "a68f48d5fdf0412ca66671ece547b499": {
          "model_module": "@jupyter-widgets/controls",
          "model_name": "DescriptionStyleModel",
          "model_module_version": "1.5.0",
          "state": {
            "_model_module": "@jupyter-widgets/controls",
            "_model_module_version": "1.5.0",
            "_model_name": "DescriptionStyleModel",
            "_view_count": null,
            "_view_module": "@jupyter-widgets/base",
            "_view_module_version": "1.2.0",
            "_view_name": "StyleView",
            "description_width": ""
          }
        },
        "6ea3fe6437354669bae3fe3175bb6bd8": {
          "model_module": "@jupyter-widgets/base",
          "model_name": "LayoutModel",
          "model_module_version": "1.2.0",
          "state": {
            "_model_module": "@jupyter-widgets/base",
            "_model_module_version": "1.2.0",
            "_model_name": "LayoutModel",
            "_view_count": null,
            "_view_module": "@jupyter-widgets/base",
            "_view_module_version": "1.2.0",
            "_view_name": "LayoutView",
            "align_content": null,
            "align_items": null,
            "align_self": null,
            "border": null,
            "bottom": null,
            "display": null,
            "flex": null,
            "flex_flow": null,
            "grid_area": null,
            "grid_auto_columns": null,
            "grid_auto_flow": null,
            "grid_auto_rows": null,
            "grid_column": null,
            "grid_gap": null,
            "grid_row": null,
            "grid_template_areas": null,
            "grid_template_columns": null,
            "grid_template_rows": null,
            "height": null,
            "justify_content": null,
            "justify_items": null,
            "left": null,
            "margin": null,
            "max_height": null,
            "max_width": null,
            "min_height": null,
            "min_width": null,
            "object_fit": null,
            "object_position": null,
            "order": null,
            "overflow": null,
            "overflow_x": null,
            "overflow_y": null,
            "padding": null,
            "right": null,
            "top": null,
            "visibility": null,
            "width": null
          }
        },
        "0c29c7d372664d6292f281fce28ad2a5": {
          "model_module": "@jupyter-widgets/controls",
          "model_name": "ProgressStyleModel",
          "model_module_version": "1.5.0",
          "state": {
            "_model_module": "@jupyter-widgets/controls",
            "_model_module_version": "1.5.0",
            "_model_name": "ProgressStyleModel",
            "_view_count": null,
            "_view_module": "@jupyter-widgets/base",
            "_view_module_version": "1.2.0",
            "_view_name": "StyleView",
            "bar_color": null,
            "description_width": ""
          }
        },
        "ed3924fc244a4fc9baff1e7172333347": {
          "model_module": "@jupyter-widgets/base",
          "model_name": "LayoutModel",
          "model_module_version": "1.2.0",
          "state": {
            "_model_module": "@jupyter-widgets/base",
            "_model_module_version": "1.2.0",
            "_model_name": "LayoutModel",
            "_view_count": null,
            "_view_module": "@jupyter-widgets/base",
            "_view_module_version": "1.2.0",
            "_view_name": "LayoutView",
            "align_content": null,
            "align_items": null,
            "align_self": null,
            "border": null,
            "bottom": null,
            "display": null,
            "flex": null,
            "flex_flow": null,
            "grid_area": null,
            "grid_auto_columns": null,
            "grid_auto_flow": null,
            "grid_auto_rows": null,
            "grid_column": null,
            "grid_gap": null,
            "grid_row": null,
            "grid_template_areas": null,
            "grid_template_columns": null,
            "grid_template_rows": null,
            "height": null,
            "justify_content": null,
            "justify_items": null,
            "left": null,
            "margin": null,
            "max_height": null,
            "max_width": null,
            "min_height": null,
            "min_width": null,
            "object_fit": null,
            "object_position": null,
            "order": null,
            "overflow": null,
            "overflow_x": null,
            "overflow_y": null,
            "padding": null,
            "right": null,
            "top": null,
            "visibility": null,
            "width": null
          }
        },
        "9e6e81a8d46a44ab8f13de3248bfa051": {
          "model_module": "@jupyter-widgets/controls",
          "model_name": "DescriptionStyleModel",
          "model_module_version": "1.5.0",
          "state": {
            "_model_module": "@jupyter-widgets/controls",
            "_model_module_version": "1.5.0",
            "_model_name": "DescriptionStyleModel",
            "_view_count": null,
            "_view_module": "@jupyter-widgets/base",
            "_view_module_version": "1.2.0",
            "_view_name": "StyleView",
            "description_width": ""
          }
        },
        "15ccf74ef18e4c9fa7610f4902258cb1": {
          "model_module": "@jupyter-widgets/controls",
          "model_name": "HBoxModel",
          "model_module_version": "1.5.0",
          "state": {
            "_dom_classes": [],
            "_model_module": "@jupyter-widgets/controls",
            "_model_module_version": "1.5.0",
            "_model_name": "HBoxModel",
            "_view_count": null,
            "_view_module": "@jupyter-widgets/controls",
            "_view_module_version": "1.5.0",
            "_view_name": "HBoxView",
            "box_style": "",
            "children": [
              "IPY_MODEL_fc980cb8a23347b5b91f531cf5cc0055",
              "IPY_MODEL_fe2aeb697b3d4067902d4643b7278f52",
              "IPY_MODEL_553b95f3f6bf4ed18f28451630f0c204"
            ],
            "layout": "IPY_MODEL_4fa9aa796dfc4b4584fa3bb87d77b207"
          }
        },
        "fc980cb8a23347b5b91f531cf5cc0055": {
          "model_module": "@jupyter-widgets/controls",
          "model_name": "HTMLModel",
          "model_module_version": "1.5.0",
          "state": {
            "_dom_classes": [],
            "_model_module": "@jupyter-widgets/controls",
            "_model_module_version": "1.5.0",
            "_model_name": "HTMLModel",
            "_view_count": null,
            "_view_module": "@jupyter-widgets/controls",
            "_view_module_version": "1.5.0",
            "_view_name": "HTMLView",
            "description": "",
            "description_tooltip": null,
            "layout": "IPY_MODEL_42694ddd20a2424c92b6de39f3e5e494",
            "placeholder": "​",
            "style": "IPY_MODEL_4a3487383c51421da94ff92bc8ef0270",
            "value": "Downloading pytorch_model.bin: 100%"
          }
        },
        "fe2aeb697b3d4067902d4643b7278f52": {
          "model_module": "@jupyter-widgets/controls",
          "model_name": "FloatProgressModel",
          "model_module_version": "1.5.0",
          "state": {
            "_dom_classes": [],
            "_model_module": "@jupyter-widgets/controls",
            "_model_module_version": "1.5.0",
            "_model_name": "FloatProgressModel",
            "_view_count": null,
            "_view_module": "@jupyter-widgets/controls",
            "_view_module_version": "1.5.0",
            "_view_name": "ProgressView",
            "bar_style": "success",
            "description": "",
            "description_tooltip": null,
            "layout": "IPY_MODEL_e0538737f6ee47169dfd2c9d16050d11",
            "max": 1935796948,
            "min": 0,
            "orientation": "horizontal",
            "style": "IPY_MODEL_3686333b52634c11b630dafbd44eb0b4",
            "value": 1935796948
          }
        },
        "553b95f3f6bf4ed18f28451630f0c204": {
          "model_module": "@jupyter-widgets/controls",
          "model_name": "HTMLModel",
          "model_module_version": "1.5.0",
          "state": {
            "_dom_classes": [],
            "_model_module": "@jupyter-widgets/controls",
            "_model_module_version": "1.5.0",
            "_model_name": "HTMLModel",
            "_view_count": null,
            "_view_module": "@jupyter-widgets/controls",
            "_view_module_version": "1.5.0",
            "_view_name": "HTMLView",
            "description": "",
            "description_tooltip": null,
            "layout": "IPY_MODEL_44f15d81281c40569e7dbe7e5ecc07eb",
            "placeholder": "​",
            "style": "IPY_MODEL_d02976dc821240fe9dc9c500a89d6986",
            "value": " 1.80G/1.80G [00:44&lt;00:00, 59.7MB/s]"
          }
        },
        "4fa9aa796dfc4b4584fa3bb87d77b207": {
          "model_module": "@jupyter-widgets/base",
          "model_name": "LayoutModel",
          "model_module_version": "1.2.0",
          "state": {
            "_model_module": "@jupyter-widgets/base",
            "_model_module_version": "1.2.0",
            "_model_name": "LayoutModel",
            "_view_count": null,
            "_view_module": "@jupyter-widgets/base",
            "_view_module_version": "1.2.0",
            "_view_name": "LayoutView",
            "align_content": null,
            "align_items": null,
            "align_self": null,
            "border": null,
            "bottom": null,
            "display": null,
            "flex": null,
            "flex_flow": null,
            "grid_area": null,
            "grid_auto_columns": null,
            "grid_auto_flow": null,
            "grid_auto_rows": null,
            "grid_column": null,
            "grid_gap": null,
            "grid_row": null,
            "grid_template_areas": null,
            "grid_template_columns": null,
            "grid_template_rows": null,
            "height": null,
            "justify_content": null,
            "justify_items": null,
            "left": null,
            "margin": null,
            "max_height": null,
            "max_width": null,
            "min_height": null,
            "min_width": null,
            "object_fit": null,
            "object_position": null,
            "order": null,
            "overflow": null,
            "overflow_x": null,
            "overflow_y": null,
            "padding": null,
            "right": null,
            "top": null,
            "visibility": null,
            "width": null
          }
        },
        "42694ddd20a2424c92b6de39f3e5e494": {
          "model_module": "@jupyter-widgets/base",
          "model_name": "LayoutModel",
          "model_module_version": "1.2.0",
          "state": {
            "_model_module": "@jupyter-widgets/base",
            "_model_module_version": "1.2.0",
            "_model_name": "LayoutModel",
            "_view_count": null,
            "_view_module": "@jupyter-widgets/base",
            "_view_module_version": "1.2.0",
            "_view_name": "LayoutView",
            "align_content": null,
            "align_items": null,
            "align_self": null,
            "border": null,
            "bottom": null,
            "display": null,
            "flex": null,
            "flex_flow": null,
            "grid_area": null,
            "grid_auto_columns": null,
            "grid_auto_flow": null,
            "grid_auto_rows": null,
            "grid_column": null,
            "grid_gap": null,
            "grid_row": null,
            "grid_template_areas": null,
            "grid_template_columns": null,
            "grid_template_rows": null,
            "height": null,
            "justify_content": null,
            "justify_items": null,
            "left": null,
            "margin": null,
            "max_height": null,
            "max_width": null,
            "min_height": null,
            "min_width": null,
            "object_fit": null,
            "object_position": null,
            "order": null,
            "overflow": null,
            "overflow_x": null,
            "overflow_y": null,
            "padding": null,
            "right": null,
            "top": null,
            "visibility": null,
            "width": null
          }
        },
        "4a3487383c51421da94ff92bc8ef0270": {
          "model_module": "@jupyter-widgets/controls",
          "model_name": "DescriptionStyleModel",
          "model_module_version": "1.5.0",
          "state": {
            "_model_module": "@jupyter-widgets/controls",
            "_model_module_version": "1.5.0",
            "_model_name": "DescriptionStyleModel",
            "_view_count": null,
            "_view_module": "@jupyter-widgets/base",
            "_view_module_version": "1.2.0",
            "_view_name": "StyleView",
            "description_width": ""
          }
        },
        "e0538737f6ee47169dfd2c9d16050d11": {
          "model_module": "@jupyter-widgets/base",
          "model_name": "LayoutModel",
          "model_module_version": "1.2.0",
          "state": {
            "_model_module": "@jupyter-widgets/base",
            "_model_module_version": "1.2.0",
            "_model_name": "LayoutModel",
            "_view_count": null,
            "_view_module": "@jupyter-widgets/base",
            "_view_module_version": "1.2.0",
            "_view_name": "LayoutView",
            "align_content": null,
            "align_items": null,
            "align_self": null,
            "border": null,
            "bottom": null,
            "display": null,
            "flex": null,
            "flex_flow": null,
            "grid_area": null,
            "grid_auto_columns": null,
            "grid_auto_flow": null,
            "grid_auto_rows": null,
            "grid_column": null,
            "grid_gap": null,
            "grid_row": null,
            "grid_template_areas": null,
            "grid_template_columns": null,
            "grid_template_rows": null,
            "height": null,
            "justify_content": null,
            "justify_items": null,
            "left": null,
            "margin": null,
            "max_height": null,
            "max_width": null,
            "min_height": null,
            "min_width": null,
            "object_fit": null,
            "object_position": null,
            "order": null,
            "overflow": null,
            "overflow_x": null,
            "overflow_y": null,
            "padding": null,
            "right": null,
            "top": null,
            "visibility": null,
            "width": null
          }
        },
        "3686333b52634c11b630dafbd44eb0b4": {
          "model_module": "@jupyter-widgets/controls",
          "model_name": "ProgressStyleModel",
          "model_module_version": "1.5.0",
          "state": {
            "_model_module": "@jupyter-widgets/controls",
            "_model_module_version": "1.5.0",
            "_model_name": "ProgressStyleModel",
            "_view_count": null,
            "_view_module": "@jupyter-widgets/base",
            "_view_module_version": "1.2.0",
            "_view_name": "StyleView",
            "bar_color": null,
            "description_width": ""
          }
        },
        "44f15d81281c40569e7dbe7e5ecc07eb": {
          "model_module": "@jupyter-widgets/base",
          "model_name": "LayoutModel",
          "model_module_version": "1.2.0",
          "state": {
            "_model_module": "@jupyter-widgets/base",
            "_model_module_version": "1.2.0",
            "_model_name": "LayoutModel",
            "_view_count": null,
            "_view_module": "@jupyter-widgets/base",
            "_view_module_version": "1.2.0",
            "_view_name": "LayoutView",
            "align_content": null,
            "align_items": null,
            "align_self": null,
            "border": null,
            "bottom": null,
            "display": null,
            "flex": null,
            "flex_flow": null,
            "grid_area": null,
            "grid_auto_columns": null,
            "grid_auto_flow": null,
            "grid_auto_rows": null,
            "grid_column": null,
            "grid_gap": null,
            "grid_row": null,
            "grid_template_areas": null,
            "grid_template_columns": null,
            "grid_template_rows": null,
            "height": null,
            "justify_content": null,
            "justify_items": null,
            "left": null,
            "margin": null,
            "max_height": null,
            "max_width": null,
            "min_height": null,
            "min_width": null,
            "object_fit": null,
            "object_position": null,
            "order": null,
            "overflow": null,
            "overflow_x": null,
            "overflow_y": null,
            "padding": null,
            "right": null,
            "top": null,
            "visibility": null,
            "width": null
          }
        },
        "d02976dc821240fe9dc9c500a89d6986": {
          "model_module": "@jupyter-widgets/controls",
          "model_name": "DescriptionStyleModel",
          "model_module_version": "1.5.0",
          "state": {
            "_model_module": "@jupyter-widgets/controls",
            "_model_module_version": "1.5.0",
            "_model_name": "DescriptionStyleModel",
            "_view_count": null,
            "_view_module": "@jupyter-widgets/base",
            "_view_module_version": "1.2.0",
            "_view_name": "StyleView",
            "description_width": ""
          }
        },
        "88a91cbb7608466d860c261aa45b2fad": {
          "model_module": "@jupyter-widgets/controls",
          "model_name": "HBoxModel",
          "model_module_version": "1.5.0",
          "state": {
            "_dom_classes": [],
            "_model_module": "@jupyter-widgets/controls",
            "_model_module_version": "1.5.0",
            "_model_name": "HBoxModel",
            "_view_count": null,
            "_view_module": "@jupyter-widgets/controls",
            "_view_module_version": "1.5.0",
            "_view_name": "HBoxView",
            "box_style": "",
            "children": [
              "IPY_MODEL_e7bda9b42e9f4a2f9ac3be24e8bc1fce",
              "IPY_MODEL_1e745e5adea24e2fb8907f09a5cfdbbd",
              "IPY_MODEL_93be1bfc05c448f1bba4655455df9d5c"
            ],
            "layout": "IPY_MODEL_f69d7a76ae214d508deb690b2a734b26"
          }
        },
        "e7bda9b42e9f4a2f9ac3be24e8bc1fce": {
          "model_module": "@jupyter-widgets/controls",
          "model_name": "HTMLModel",
          "model_module_version": "1.5.0",
          "state": {
            "_dom_classes": [],
            "_model_module": "@jupyter-widgets/controls",
            "_model_module_version": "1.5.0",
            "_model_name": "HTMLModel",
            "_view_count": null,
            "_view_module": "@jupyter-widgets/controls",
            "_view_module_version": "1.5.0",
            "_view_name": "HTMLView",
            "description": "",
            "description_tooltip": null,
            "layout": "IPY_MODEL_960163c3d0294fce86225d889ea21da5",
            "placeholder": "​",
            "style": "IPY_MODEL_192a36dc10b14859b795fc4be17a4118",
            "value": "Downloading tokenizer_config.json: 100%"
          }
        },
        "1e745e5adea24e2fb8907f09a5cfdbbd": {
          "model_module": "@jupyter-widgets/controls",
          "model_name": "FloatProgressModel",
          "model_module_version": "1.5.0",
          "state": {
            "_dom_classes": [],
            "_model_module": "@jupyter-widgets/controls",
            "_model_module_version": "1.5.0",
            "_model_name": "FloatProgressModel",
            "_view_count": null,
            "_view_module": "@jupyter-widgets/controls",
            "_view_module_version": "1.5.0",
            "_view_name": "ProgressView",
            "bar_style": "success",
            "description": "",
            "description_tooltip": null,
            "layout": "IPY_MODEL_1daeb0852bf3402ea991e99e31481508",
            "max": 272,
            "min": 0,
            "orientation": "horizontal",
            "style": "IPY_MODEL_f97e7c2aaacb4eb39e176f56fba31b2c",
            "value": 272
          }
        },
        "93be1bfc05c448f1bba4655455df9d5c": {
          "model_module": "@jupyter-widgets/controls",
          "model_name": "HTMLModel",
          "model_module_version": "1.5.0",
          "state": {
            "_dom_classes": [],
            "_model_module": "@jupyter-widgets/controls",
            "_model_module_version": "1.5.0",
            "_model_name": "HTMLModel",
            "_view_count": null,
            "_view_module": "@jupyter-widgets/controls",
            "_view_module_version": "1.5.0",
            "_view_name": "HTMLView",
            "description": "",
            "description_tooltip": null,
            "layout": "IPY_MODEL_f0dee62e421140dca9f2372433a86c96",
            "placeholder": "​",
            "style": "IPY_MODEL_2f4846071ee547389cdeab7693190c44",
            "value": " 272/272 [00:00&lt;00:00, 9.71kB/s]"
          }
        },
        "f69d7a76ae214d508deb690b2a734b26": {
          "model_module": "@jupyter-widgets/base",
          "model_name": "LayoutModel",
          "model_module_version": "1.2.0",
          "state": {
            "_model_module": "@jupyter-widgets/base",
            "_model_module_version": "1.2.0",
            "_model_name": "LayoutModel",
            "_view_count": null,
            "_view_module": "@jupyter-widgets/base",
            "_view_module_version": "1.2.0",
            "_view_name": "LayoutView",
            "align_content": null,
            "align_items": null,
            "align_self": null,
            "border": null,
            "bottom": null,
            "display": null,
            "flex": null,
            "flex_flow": null,
            "grid_area": null,
            "grid_auto_columns": null,
            "grid_auto_flow": null,
            "grid_auto_rows": null,
            "grid_column": null,
            "grid_gap": null,
            "grid_row": null,
            "grid_template_areas": null,
            "grid_template_columns": null,
            "grid_template_rows": null,
            "height": null,
            "justify_content": null,
            "justify_items": null,
            "left": null,
            "margin": null,
            "max_height": null,
            "max_width": null,
            "min_height": null,
            "min_width": null,
            "object_fit": null,
            "object_position": null,
            "order": null,
            "overflow": null,
            "overflow_x": null,
            "overflow_y": null,
            "padding": null,
            "right": null,
            "top": null,
            "visibility": null,
            "width": null
          }
        },
        "960163c3d0294fce86225d889ea21da5": {
          "model_module": "@jupyter-widgets/base",
          "model_name": "LayoutModel",
          "model_module_version": "1.2.0",
          "state": {
            "_model_module": "@jupyter-widgets/base",
            "_model_module_version": "1.2.0",
            "_model_name": "LayoutModel",
            "_view_count": null,
            "_view_module": "@jupyter-widgets/base",
            "_view_module_version": "1.2.0",
            "_view_name": "LayoutView",
            "align_content": null,
            "align_items": null,
            "align_self": null,
            "border": null,
            "bottom": null,
            "display": null,
            "flex": null,
            "flex_flow": null,
            "grid_area": null,
            "grid_auto_columns": null,
            "grid_auto_flow": null,
            "grid_auto_rows": null,
            "grid_column": null,
            "grid_gap": null,
            "grid_row": null,
            "grid_template_areas": null,
            "grid_template_columns": null,
            "grid_template_rows": null,
            "height": null,
            "justify_content": null,
            "justify_items": null,
            "left": null,
            "margin": null,
            "max_height": null,
            "max_width": null,
            "min_height": null,
            "min_width": null,
            "object_fit": null,
            "object_position": null,
            "order": null,
            "overflow": null,
            "overflow_x": null,
            "overflow_y": null,
            "padding": null,
            "right": null,
            "top": null,
            "visibility": null,
            "width": null
          }
        },
        "192a36dc10b14859b795fc4be17a4118": {
          "model_module": "@jupyter-widgets/controls",
          "model_name": "DescriptionStyleModel",
          "model_module_version": "1.5.0",
          "state": {
            "_model_module": "@jupyter-widgets/controls",
            "_model_module_version": "1.5.0",
            "_model_name": "DescriptionStyleModel",
            "_view_count": null,
            "_view_module": "@jupyter-widgets/base",
            "_view_module_version": "1.2.0",
            "_view_name": "StyleView",
            "description_width": ""
          }
        },
        "1daeb0852bf3402ea991e99e31481508": {
          "model_module": "@jupyter-widgets/base",
          "model_name": "LayoutModel",
          "model_module_version": "1.2.0",
          "state": {
            "_model_module": "@jupyter-widgets/base",
            "_model_module_version": "1.2.0",
            "_model_name": "LayoutModel",
            "_view_count": null,
            "_view_module": "@jupyter-widgets/base",
            "_view_module_version": "1.2.0",
            "_view_name": "LayoutView",
            "align_content": null,
            "align_items": null,
            "align_self": null,
            "border": null,
            "bottom": null,
            "display": null,
            "flex": null,
            "flex_flow": null,
            "grid_area": null,
            "grid_auto_columns": null,
            "grid_auto_flow": null,
            "grid_auto_rows": null,
            "grid_column": null,
            "grid_gap": null,
            "grid_row": null,
            "grid_template_areas": null,
            "grid_template_columns": null,
            "grid_template_rows": null,
            "height": null,
            "justify_content": null,
            "justify_items": null,
            "left": null,
            "margin": null,
            "max_height": null,
            "max_width": null,
            "min_height": null,
            "min_width": null,
            "object_fit": null,
            "object_position": null,
            "order": null,
            "overflow": null,
            "overflow_x": null,
            "overflow_y": null,
            "padding": null,
            "right": null,
            "top": null,
            "visibility": null,
            "width": null
          }
        },
        "f97e7c2aaacb4eb39e176f56fba31b2c": {
          "model_module": "@jupyter-widgets/controls",
          "model_name": "ProgressStyleModel",
          "model_module_version": "1.5.0",
          "state": {
            "_model_module": "@jupyter-widgets/controls",
            "_model_module_version": "1.5.0",
            "_model_name": "ProgressStyleModel",
            "_view_count": null,
            "_view_module": "@jupyter-widgets/base",
            "_view_module_version": "1.2.0",
            "_view_name": "StyleView",
            "bar_color": null,
            "description_width": ""
          }
        },
        "f0dee62e421140dca9f2372433a86c96": {
          "model_module": "@jupyter-widgets/base",
          "model_name": "LayoutModel",
          "model_module_version": "1.2.0",
          "state": {
            "_model_module": "@jupyter-widgets/base",
            "_model_module_version": "1.2.0",
            "_model_name": "LayoutModel",
            "_view_count": null,
            "_view_module": "@jupyter-widgets/base",
            "_view_module_version": "1.2.0",
            "_view_name": "LayoutView",
            "align_content": null,
            "align_items": null,
            "align_self": null,
            "border": null,
            "bottom": null,
            "display": null,
            "flex": null,
            "flex_flow": null,
            "grid_area": null,
            "grid_auto_columns": null,
            "grid_auto_flow": null,
            "grid_auto_rows": null,
            "grid_column": null,
            "grid_gap": null,
            "grid_row": null,
            "grid_template_areas": null,
            "grid_template_columns": null,
            "grid_template_rows": null,
            "height": null,
            "justify_content": null,
            "justify_items": null,
            "left": null,
            "margin": null,
            "max_height": null,
            "max_width": null,
            "min_height": null,
            "min_width": null,
            "object_fit": null,
            "object_position": null,
            "order": null,
            "overflow": null,
            "overflow_x": null,
            "overflow_y": null,
            "padding": null,
            "right": null,
            "top": null,
            "visibility": null,
            "width": null
          }
        },
        "2f4846071ee547389cdeab7693190c44": {
          "model_module": "@jupyter-widgets/controls",
          "model_name": "DescriptionStyleModel",
          "model_module_version": "1.5.0",
          "state": {
            "_model_module": "@jupyter-widgets/controls",
            "_model_module_version": "1.5.0",
            "_model_name": "DescriptionStyleModel",
            "_view_count": null,
            "_view_module": "@jupyter-widgets/base",
            "_view_module_version": "1.2.0",
            "_view_name": "StyleView",
            "description_width": ""
          }
        },
        "945661c4cfb145e49013784cbb24a16b": {
          "model_module": "@jupyter-widgets/controls",
          "model_name": "HBoxModel",
          "model_module_version": "1.5.0",
          "state": {
            "_dom_classes": [],
            "_model_module": "@jupyter-widgets/controls",
            "_model_module_version": "1.5.0",
            "_model_name": "HBoxModel",
            "_view_count": null,
            "_view_module": "@jupyter-widgets/controls",
            "_view_module_version": "1.5.0",
            "_view_name": "HBoxView",
            "box_style": "",
            "children": [
              "IPY_MODEL_6006c7f300434e758292e65b39f40dcd",
              "IPY_MODEL_07da6443b2c44d63bacf517425d919b0",
              "IPY_MODEL_281511f12cd043208335df8ec1c27be5"
            ],
            "layout": "IPY_MODEL_d34a3fc286e4455ca79d6c6efc56e191"
          }
        },
        "6006c7f300434e758292e65b39f40dcd": {
          "model_module": "@jupyter-widgets/controls",
          "model_name": "HTMLModel",
          "model_module_version": "1.5.0",
          "state": {
            "_dom_classes": [],
            "_model_module": "@jupyter-widgets/controls",
            "_model_module_version": "1.5.0",
            "_model_name": "HTMLModel",
            "_view_count": null,
            "_view_module": "@jupyter-widgets/controls",
            "_view_module_version": "1.5.0",
            "_view_name": "HTMLView",
            "description": "",
            "description_tooltip": null,
            "layout": "IPY_MODEL_d52a2cc45f154052a4d1d33bb5411b98",
            "placeholder": "​",
            "style": "IPY_MODEL_07561dda2e9d4606915f2250fadc59f4",
            "value": "Downloading vocab.json: 100%"
          }
        },
        "07da6443b2c44d63bacf517425d919b0": {
          "model_module": "@jupyter-widgets/controls",
          "model_name": "FloatProgressModel",
          "model_module_version": "1.5.0",
          "state": {
            "_dom_classes": [],
            "_model_module": "@jupyter-widgets/controls",
            "_model_module_version": "1.5.0",
            "_model_name": "FloatProgressModel",
            "_view_count": null,
            "_view_module": "@jupyter-widgets/controls",
            "_view_module_version": "1.5.0",
            "_view_name": "ProgressView",
            "bar_style": "success",
            "description": "",
            "description_tooltip": null,
            "layout": "IPY_MODEL_fa3b52baf84a43378ce6bb292090c73e",
            "max": 3708092,
            "min": 0,
            "orientation": "horizontal",
            "style": "IPY_MODEL_1617af2fd29248fd846f0f5248c2b6a4",
            "value": 3708092
          }
        },
        "281511f12cd043208335df8ec1c27be5": {
          "model_module": "@jupyter-widgets/controls",
          "model_name": "HTMLModel",
          "model_module_version": "1.5.0",
          "state": {
            "_dom_classes": [],
            "_model_module": "@jupyter-widgets/controls",
            "_model_module_version": "1.5.0",
            "_model_name": "HTMLModel",
            "_view_count": null,
            "_view_module": "@jupyter-widgets/controls",
            "_view_module_version": "1.5.0",
            "_view_name": "HTMLView",
            "description": "",
            "description_tooltip": null,
            "layout": "IPY_MODEL_3ac40c92a3c0475ab06b9878426af1a2",
            "placeholder": "​",
            "style": "IPY_MODEL_0eecc093c37f4953909a981c42fc2dfb",
            "value": " 3.54M/3.54M [00:00&lt;00:00, 3.47kB/s]"
          }
        },
        "d34a3fc286e4455ca79d6c6efc56e191": {
          "model_module": "@jupyter-widgets/base",
          "model_name": "LayoutModel",
          "model_module_version": "1.2.0",
          "state": {
            "_model_module": "@jupyter-widgets/base",
            "_model_module_version": "1.2.0",
            "_model_name": "LayoutModel",
            "_view_count": null,
            "_view_module": "@jupyter-widgets/base",
            "_view_module_version": "1.2.0",
            "_view_name": "LayoutView",
            "align_content": null,
            "align_items": null,
            "align_self": null,
            "border": null,
            "bottom": null,
            "display": null,
            "flex": null,
            "flex_flow": null,
            "grid_area": null,
            "grid_auto_columns": null,
            "grid_auto_flow": null,
            "grid_auto_rows": null,
            "grid_column": null,
            "grid_gap": null,
            "grid_row": null,
            "grid_template_areas": null,
            "grid_template_columns": null,
            "grid_template_rows": null,
            "height": null,
            "justify_content": null,
            "justify_items": null,
            "left": null,
            "margin": null,
            "max_height": null,
            "max_width": null,
            "min_height": null,
            "min_width": null,
            "object_fit": null,
            "object_position": null,
            "order": null,
            "overflow": null,
            "overflow_x": null,
            "overflow_y": null,
            "padding": null,
            "right": null,
            "top": null,
            "visibility": null,
            "width": null
          }
        },
        "d52a2cc45f154052a4d1d33bb5411b98": {
          "model_module": "@jupyter-widgets/base",
          "model_name": "LayoutModel",
          "model_module_version": "1.2.0",
          "state": {
            "_model_module": "@jupyter-widgets/base",
            "_model_module_version": "1.2.0",
            "_model_name": "LayoutModel",
            "_view_count": null,
            "_view_module": "@jupyter-widgets/base",
            "_view_module_version": "1.2.0",
            "_view_name": "LayoutView",
            "align_content": null,
            "align_items": null,
            "align_self": null,
            "border": null,
            "bottom": null,
            "display": null,
            "flex": null,
            "flex_flow": null,
            "grid_area": null,
            "grid_auto_columns": null,
            "grid_auto_flow": null,
            "grid_auto_rows": null,
            "grid_column": null,
            "grid_gap": null,
            "grid_row": null,
            "grid_template_areas": null,
            "grid_template_columns": null,
            "grid_template_rows": null,
            "height": null,
            "justify_content": null,
            "justify_items": null,
            "left": null,
            "margin": null,
            "max_height": null,
            "max_width": null,
            "min_height": null,
            "min_width": null,
            "object_fit": null,
            "object_position": null,
            "order": null,
            "overflow": null,
            "overflow_x": null,
            "overflow_y": null,
            "padding": null,
            "right": null,
            "top": null,
            "visibility": null,
            "width": null
          }
        },
        "07561dda2e9d4606915f2250fadc59f4": {
          "model_module": "@jupyter-widgets/controls",
          "model_name": "DescriptionStyleModel",
          "model_module_version": "1.5.0",
          "state": {
            "_model_module": "@jupyter-widgets/controls",
            "_model_module_version": "1.5.0",
            "_model_name": "DescriptionStyleModel",
            "_view_count": null,
            "_view_module": "@jupyter-widgets/base",
            "_view_module_version": "1.2.0",
            "_view_name": "StyleView",
            "description_width": ""
          }
        },
        "fa3b52baf84a43378ce6bb292090c73e": {
          "model_module": "@jupyter-widgets/base",
          "model_name": "LayoutModel",
          "model_module_version": "1.2.0",
          "state": {
            "_model_module": "@jupyter-widgets/base",
            "_model_module_version": "1.2.0",
            "_model_name": "LayoutModel",
            "_view_count": null,
            "_view_module": "@jupyter-widgets/base",
            "_view_module_version": "1.2.0",
            "_view_name": "LayoutView",
            "align_content": null,
            "align_items": null,
            "align_self": null,
            "border": null,
            "bottom": null,
            "display": null,
            "flex": null,
            "flex_flow": null,
            "grid_area": null,
            "grid_auto_columns": null,
            "grid_auto_flow": null,
            "grid_auto_rows": null,
            "grid_column": null,
            "grid_gap": null,
            "grid_row": null,
            "grid_template_areas": null,
            "grid_template_columns": null,
            "grid_template_rows": null,
            "height": null,
            "justify_content": null,
            "justify_items": null,
            "left": null,
            "margin": null,
            "max_height": null,
            "max_width": null,
            "min_height": null,
            "min_width": null,
            "object_fit": null,
            "object_position": null,
            "order": null,
            "overflow": null,
            "overflow_x": null,
            "overflow_y": null,
            "padding": null,
            "right": null,
            "top": null,
            "visibility": null,
            "width": null
          }
        },
        "1617af2fd29248fd846f0f5248c2b6a4": {
          "model_module": "@jupyter-widgets/controls",
          "model_name": "ProgressStyleModel",
          "model_module_version": "1.5.0",
          "state": {
            "_model_module": "@jupyter-widgets/controls",
            "_model_module_version": "1.5.0",
            "_model_name": "ProgressStyleModel",
            "_view_count": null,
            "_view_module": "@jupyter-widgets/base",
            "_view_module_version": "1.2.0",
            "_view_name": "StyleView",
            "bar_color": null,
            "description_width": ""
          }
        },
        "3ac40c92a3c0475ab06b9878426af1a2": {
          "model_module": "@jupyter-widgets/base",
          "model_name": "LayoutModel",
          "model_module_version": "1.2.0",
          "state": {
            "_model_module": "@jupyter-widgets/base",
            "_model_module_version": "1.2.0",
            "_model_name": "LayoutModel",
            "_view_count": null,
            "_view_module": "@jupyter-widgets/base",
            "_view_module_version": "1.2.0",
            "_view_name": "LayoutView",
            "align_content": null,
            "align_items": null,
            "align_self": null,
            "border": null,
            "bottom": null,
            "display": null,
            "flex": null,
            "flex_flow": null,
            "grid_area": null,
            "grid_auto_columns": null,
            "grid_auto_flow": null,
            "grid_auto_rows": null,
            "grid_column": null,
            "grid_gap": null,
            "grid_row": null,
            "grid_template_areas": null,
            "grid_template_columns": null,
            "grid_template_rows": null,
            "height": null,
            "justify_content": null,
            "justify_items": null,
            "left": null,
            "margin": null,
            "max_height": null,
            "max_width": null,
            "min_height": null,
            "min_width": null,
            "object_fit": null,
            "object_position": null,
            "order": null,
            "overflow": null,
            "overflow_x": null,
            "overflow_y": null,
            "padding": null,
            "right": null,
            "top": null,
            "visibility": null,
            "width": null
          }
        },
        "0eecc093c37f4953909a981c42fc2dfb": {
          "model_module": "@jupyter-widgets/controls",
          "model_name": "DescriptionStyleModel",
          "model_module_version": "1.5.0",
          "state": {
            "_model_module": "@jupyter-widgets/controls",
            "_model_module_version": "1.5.0",
            "_model_name": "DescriptionStyleModel",
            "_view_count": null,
            "_view_module": "@jupyter-widgets/base",
            "_view_module_version": "1.2.0",
            "_view_name": "StyleView",
            "description_width": ""
          }
        },
        "a9e4d76aa2b94e2186d4f1035cd6bb50": {
          "model_module": "@jupyter-widgets/controls",
          "model_name": "HBoxModel",
          "model_module_version": "1.5.0",
          "state": {
            "_dom_classes": [],
            "_model_module": "@jupyter-widgets/controls",
            "_model_module_version": "1.5.0",
            "_model_name": "HBoxModel",
            "_view_count": null,
            "_view_module": "@jupyter-widgets/controls",
            "_view_module_version": "1.5.0",
            "_view_name": "HBoxView",
            "box_style": "",
            "children": [
              "IPY_MODEL_cb7ba48a82384a86a33519dff8af1873",
              "IPY_MODEL_894695184c73477da37b020e61176872",
              "IPY_MODEL_98a86031c1ad4a1493a0dc795142d531"
            ],
            "layout": "IPY_MODEL_7de429193a354916aa9ed8dba182ce06"
          }
        },
        "cb7ba48a82384a86a33519dff8af1873": {
          "model_module": "@jupyter-widgets/controls",
          "model_name": "HTMLModel",
          "model_module_version": "1.5.0",
          "state": {
            "_dom_classes": [],
            "_model_module": "@jupyter-widgets/controls",
            "_model_module_version": "1.5.0",
            "_model_name": "HTMLModel",
            "_view_count": null,
            "_view_module": "@jupyter-widgets/controls",
            "_view_module_version": "1.5.0",
            "_view_name": "HTMLView",
            "description": "",
            "description_tooltip": null,
            "layout": "IPY_MODEL_3529870454214e72b82502bfe688484f",
            "placeholder": "​",
            "style": "IPY_MODEL_aa979d0e36124570a8cf04927148d698",
            "value": "Downloading sentencepiece.bpe.model: 100%"
          }
        },
        "894695184c73477da37b020e61176872": {
          "model_module": "@jupyter-widgets/controls",
          "model_name": "FloatProgressModel",
          "model_module_version": "1.5.0",
          "state": {
            "_dom_classes": [],
            "_model_module": "@jupyter-widgets/controls",
            "_model_module_version": "1.5.0",
            "_model_name": "FloatProgressModel",
            "_view_count": null,
            "_view_module": "@jupyter-widgets/controls",
            "_view_module_version": "1.5.0",
            "_view_name": "ProgressView",
            "bar_style": "success",
            "description": "",
            "description_tooltip": null,
            "layout": "IPY_MODEL_3add92ae3f2b4dfb87cceacdbc52d948",
            "max": 2423393,
            "min": 0,
            "orientation": "horizontal",
            "style": "IPY_MODEL_1cea3df4d51544c0b8f5c6e5b4c66d49",
            "value": 2423393
          }
        },
        "98a86031c1ad4a1493a0dc795142d531": {
          "model_module": "@jupyter-widgets/controls",
          "model_name": "HTMLModel",
          "model_module_version": "1.5.0",
          "state": {
            "_dom_classes": [],
            "_model_module": "@jupyter-widgets/controls",
            "_model_module_version": "1.5.0",
            "_model_name": "HTMLModel",
            "_view_count": null,
            "_view_module": "@jupyter-widgets/controls",
            "_view_module_version": "1.5.0",
            "_view_name": "HTMLView",
            "description": "",
            "description_tooltip": null,
            "layout": "IPY_MODEL_4c395ab20e1d45da84144e5ff20570e6",
            "placeholder": "​",
            "style": "IPY_MODEL_ed70a2b324c14a0595e08854a5e146cc",
            "value": " 2.31M/2.31M [00:00&lt;00:00, 24.5MB/s]"
          }
        },
        "7de429193a354916aa9ed8dba182ce06": {
          "model_module": "@jupyter-widgets/base",
          "model_name": "LayoutModel",
          "model_module_version": "1.2.0",
          "state": {
            "_model_module": "@jupyter-widgets/base",
            "_model_module_version": "1.2.0",
            "_model_name": "LayoutModel",
            "_view_count": null,
            "_view_module": "@jupyter-widgets/base",
            "_view_module_version": "1.2.0",
            "_view_name": "LayoutView",
            "align_content": null,
            "align_items": null,
            "align_self": null,
            "border": null,
            "bottom": null,
            "display": null,
            "flex": null,
            "flex_flow": null,
            "grid_area": null,
            "grid_auto_columns": null,
            "grid_auto_flow": null,
            "grid_auto_rows": null,
            "grid_column": null,
            "grid_gap": null,
            "grid_row": null,
            "grid_template_areas": null,
            "grid_template_columns": null,
            "grid_template_rows": null,
            "height": null,
            "justify_content": null,
            "justify_items": null,
            "left": null,
            "margin": null,
            "max_height": null,
            "max_width": null,
            "min_height": null,
            "min_width": null,
            "object_fit": null,
            "object_position": null,
            "order": null,
            "overflow": null,
            "overflow_x": null,
            "overflow_y": null,
            "padding": null,
            "right": null,
            "top": null,
            "visibility": null,
            "width": null
          }
        },
        "3529870454214e72b82502bfe688484f": {
          "model_module": "@jupyter-widgets/base",
          "model_name": "LayoutModel",
          "model_module_version": "1.2.0",
          "state": {
            "_model_module": "@jupyter-widgets/base",
            "_model_module_version": "1.2.0",
            "_model_name": "LayoutModel",
            "_view_count": null,
            "_view_module": "@jupyter-widgets/base",
            "_view_module_version": "1.2.0",
            "_view_name": "LayoutView",
            "align_content": null,
            "align_items": null,
            "align_self": null,
            "border": null,
            "bottom": null,
            "display": null,
            "flex": null,
            "flex_flow": null,
            "grid_area": null,
            "grid_auto_columns": null,
            "grid_auto_flow": null,
            "grid_auto_rows": null,
            "grid_column": null,
            "grid_gap": null,
            "grid_row": null,
            "grid_template_areas": null,
            "grid_template_columns": null,
            "grid_template_rows": null,
            "height": null,
            "justify_content": null,
            "justify_items": null,
            "left": null,
            "margin": null,
            "max_height": null,
            "max_width": null,
            "min_height": null,
            "min_width": null,
            "object_fit": null,
            "object_position": null,
            "order": null,
            "overflow": null,
            "overflow_x": null,
            "overflow_y": null,
            "padding": null,
            "right": null,
            "top": null,
            "visibility": null,
            "width": null
          }
        },
        "aa979d0e36124570a8cf04927148d698": {
          "model_module": "@jupyter-widgets/controls",
          "model_name": "DescriptionStyleModel",
          "model_module_version": "1.5.0",
          "state": {
            "_model_module": "@jupyter-widgets/controls",
            "_model_module_version": "1.5.0",
            "_model_name": "DescriptionStyleModel",
            "_view_count": null,
            "_view_module": "@jupyter-widgets/base",
            "_view_module_version": "1.2.0",
            "_view_name": "StyleView",
            "description_width": ""
          }
        },
        "3add92ae3f2b4dfb87cceacdbc52d948": {
          "model_module": "@jupyter-widgets/base",
          "model_name": "LayoutModel",
          "model_module_version": "1.2.0",
          "state": {
            "_model_module": "@jupyter-widgets/base",
            "_model_module_version": "1.2.0",
            "_model_name": "LayoutModel",
            "_view_count": null,
            "_view_module": "@jupyter-widgets/base",
            "_view_module_version": "1.2.0",
            "_view_name": "LayoutView",
            "align_content": null,
            "align_items": null,
            "align_self": null,
            "border": null,
            "bottom": null,
            "display": null,
            "flex": null,
            "flex_flow": null,
            "grid_area": null,
            "grid_auto_columns": null,
            "grid_auto_flow": null,
            "grid_auto_rows": null,
            "grid_column": null,
            "grid_gap": null,
            "grid_row": null,
            "grid_template_areas": null,
            "grid_template_columns": null,
            "grid_template_rows": null,
            "height": null,
            "justify_content": null,
            "justify_items": null,
            "left": null,
            "margin": null,
            "max_height": null,
            "max_width": null,
            "min_height": null,
            "min_width": null,
            "object_fit": null,
            "object_position": null,
            "order": null,
            "overflow": null,
            "overflow_x": null,
            "overflow_y": null,
            "padding": null,
            "right": null,
            "top": null,
            "visibility": null,
            "width": null
          }
        },
        "1cea3df4d51544c0b8f5c6e5b4c66d49": {
          "model_module": "@jupyter-widgets/controls",
          "model_name": "ProgressStyleModel",
          "model_module_version": "1.5.0",
          "state": {
            "_model_module": "@jupyter-widgets/controls",
            "_model_module_version": "1.5.0",
            "_model_name": "ProgressStyleModel",
            "_view_count": null,
            "_view_module": "@jupyter-widgets/base",
            "_view_module_version": "1.2.0",
            "_view_name": "StyleView",
            "bar_color": null,
            "description_width": ""
          }
        },
        "4c395ab20e1d45da84144e5ff20570e6": {
          "model_module": "@jupyter-widgets/base",
          "model_name": "LayoutModel",
          "model_module_version": "1.2.0",
          "state": {
            "_model_module": "@jupyter-widgets/base",
            "_model_module_version": "1.2.0",
            "_model_name": "LayoutModel",
            "_view_count": null,
            "_view_module": "@jupyter-widgets/base",
            "_view_module_version": "1.2.0",
            "_view_name": "LayoutView",
            "align_content": null,
            "align_items": null,
            "align_self": null,
            "border": null,
            "bottom": null,
            "display": null,
            "flex": null,
            "flex_flow": null,
            "grid_area": null,
            "grid_auto_columns": null,
            "grid_auto_flow": null,
            "grid_auto_rows": null,
            "grid_column": null,
            "grid_gap": null,
            "grid_row": null,
            "grid_template_areas": null,
            "grid_template_columns": null,
            "grid_template_rows": null,
            "height": null,
            "justify_content": null,
            "justify_items": null,
            "left": null,
            "margin": null,
            "max_height": null,
            "max_width": null,
            "min_height": null,
            "min_width": null,
            "object_fit": null,
            "object_position": null,
            "order": null,
            "overflow": null,
            "overflow_x": null,
            "overflow_y": null,
            "padding": null,
            "right": null,
            "top": null,
            "visibility": null,
            "width": null
          }
        },
        "ed70a2b324c14a0595e08854a5e146cc": {
          "model_module": "@jupyter-widgets/controls",
          "model_name": "DescriptionStyleModel",
          "model_module_version": "1.5.0",
          "state": {
            "_model_module": "@jupyter-widgets/controls",
            "_model_module_version": "1.5.0",
            "_model_name": "DescriptionStyleModel",
            "_view_count": null,
            "_view_module": "@jupyter-widgets/base",
            "_view_module_version": "1.2.0",
            "_view_name": "StyleView",
            "description_width": ""
          }
        },
        "5c5ad33850ab497bb9cca3c68898a078": {
          "model_module": "@jupyter-widgets/controls",
          "model_name": "HBoxModel",
          "model_module_version": "1.5.0",
          "state": {
            "_dom_classes": [],
            "_model_module": "@jupyter-widgets/controls",
            "_model_module_version": "1.5.0",
            "_model_name": "HBoxModel",
            "_view_count": null,
            "_view_module": "@jupyter-widgets/controls",
            "_view_module_version": "1.5.0",
            "_view_name": "HBoxView",
            "box_style": "",
            "children": [
              "IPY_MODEL_1613bec5ee48431fae646164b9040d16",
              "IPY_MODEL_0633b12e13d041929ef858367f4ca616",
              "IPY_MODEL_89d7cf992f514183abb94d37ed401c9b"
            ],
            "layout": "IPY_MODEL_acdbdbc2fbf14d50a7fabc34f4edf4e3"
          }
        },
        "1613bec5ee48431fae646164b9040d16": {
          "model_module": "@jupyter-widgets/controls",
          "model_name": "HTMLModel",
          "model_module_version": "1.5.0",
          "state": {
            "_dom_classes": [],
            "_model_module": "@jupyter-widgets/controls",
            "_model_module_version": "1.5.0",
            "_model_name": "HTMLModel",
            "_view_count": null,
            "_view_module": "@jupyter-widgets/controls",
            "_view_module_version": "1.5.0",
            "_view_name": "HTMLView",
            "description": "",
            "description_tooltip": null,
            "layout": "IPY_MODEL_a1b6804e48ce4af2a2652c570ea9af9e",
            "placeholder": "​",
            "style": "IPY_MODEL_5841ae870f78408c90e25f26d20abe7e",
            "value": "Downloading special_tokens_map.json: 100%"
          }
        },
        "0633b12e13d041929ef858367f4ca616": {
          "model_module": "@jupyter-widgets/controls",
          "model_name": "FloatProgressModel",
          "model_module_version": "1.5.0",
          "state": {
            "_dom_classes": [],
            "_model_module": "@jupyter-widgets/controls",
            "_model_module_version": "1.5.0",
            "_model_name": "FloatProgressModel",
            "_view_count": null,
            "_view_module": "@jupyter-widgets/controls",
            "_view_module_version": "1.5.0",
            "_view_name": "ProgressView",
            "bar_style": "success",
            "description": "",
            "description_tooltip": null,
            "layout": "IPY_MODEL_d98ca1e08a254956983464201426070f",
            "max": 1140,
            "min": 0,
            "orientation": "horizontal",
            "style": "IPY_MODEL_47ae303794f3495e93915469a87e2a57",
            "value": 1140
          }
        },
        "89d7cf992f514183abb94d37ed401c9b": {
          "model_module": "@jupyter-widgets/controls",
          "model_name": "HTMLModel",
          "model_module_version": "1.5.0",
          "state": {
            "_dom_classes": [],
            "_model_module": "@jupyter-widgets/controls",
            "_model_module_version": "1.5.0",
            "_model_name": "HTMLModel",
            "_view_count": null,
            "_view_module": "@jupyter-widgets/controls",
            "_view_module_version": "1.5.0",
            "_view_name": "HTMLView",
            "description": "",
            "description_tooltip": null,
            "layout": "IPY_MODEL_320b57d964f543f1aa8c523a6563c8b0",
            "placeholder": "​",
            "style": "IPY_MODEL_8ae698d1ad0a42b787d6a7e4d4b016d2",
            "value": " 1.11k/1.11k [00:00&lt;00:00, 37.3kB/s]"
          }
        },
        "acdbdbc2fbf14d50a7fabc34f4edf4e3": {
          "model_module": "@jupyter-widgets/base",
          "model_name": "LayoutModel",
          "model_module_version": "1.2.0",
          "state": {
            "_model_module": "@jupyter-widgets/base",
            "_model_module_version": "1.2.0",
            "_model_name": "LayoutModel",
            "_view_count": null,
            "_view_module": "@jupyter-widgets/base",
            "_view_module_version": "1.2.0",
            "_view_name": "LayoutView",
            "align_content": null,
            "align_items": null,
            "align_self": null,
            "border": null,
            "bottom": null,
            "display": null,
            "flex": null,
            "flex_flow": null,
            "grid_area": null,
            "grid_auto_columns": null,
            "grid_auto_flow": null,
            "grid_auto_rows": null,
            "grid_column": null,
            "grid_gap": null,
            "grid_row": null,
            "grid_template_areas": null,
            "grid_template_columns": null,
            "grid_template_rows": null,
            "height": null,
            "justify_content": null,
            "justify_items": null,
            "left": null,
            "margin": null,
            "max_height": null,
            "max_width": null,
            "min_height": null,
            "min_width": null,
            "object_fit": null,
            "object_position": null,
            "order": null,
            "overflow": null,
            "overflow_x": null,
            "overflow_y": null,
            "padding": null,
            "right": null,
            "top": null,
            "visibility": null,
            "width": null
          }
        },
        "a1b6804e48ce4af2a2652c570ea9af9e": {
          "model_module": "@jupyter-widgets/base",
          "model_name": "LayoutModel",
          "model_module_version": "1.2.0",
          "state": {
            "_model_module": "@jupyter-widgets/base",
            "_model_module_version": "1.2.0",
            "_model_name": "LayoutModel",
            "_view_count": null,
            "_view_module": "@jupyter-widgets/base",
            "_view_module_version": "1.2.0",
            "_view_name": "LayoutView",
            "align_content": null,
            "align_items": null,
            "align_self": null,
            "border": null,
            "bottom": null,
            "display": null,
            "flex": null,
            "flex_flow": null,
            "grid_area": null,
            "grid_auto_columns": null,
            "grid_auto_flow": null,
            "grid_auto_rows": null,
            "grid_column": null,
            "grid_gap": null,
            "grid_row": null,
            "grid_template_areas": null,
            "grid_template_columns": null,
            "grid_template_rows": null,
            "height": null,
            "justify_content": null,
            "justify_items": null,
            "left": null,
            "margin": null,
            "max_height": null,
            "max_width": null,
            "min_height": null,
            "min_width": null,
            "object_fit": null,
            "object_position": null,
            "order": null,
            "overflow": null,
            "overflow_x": null,
            "overflow_y": null,
            "padding": null,
            "right": null,
            "top": null,
            "visibility": null,
            "width": null
          }
        },
        "5841ae870f78408c90e25f26d20abe7e": {
          "model_module": "@jupyter-widgets/controls",
          "model_name": "DescriptionStyleModel",
          "model_module_version": "1.5.0",
          "state": {
            "_model_module": "@jupyter-widgets/controls",
            "_model_module_version": "1.5.0",
            "_model_name": "DescriptionStyleModel",
            "_view_count": null,
            "_view_module": "@jupyter-widgets/base",
            "_view_module_version": "1.2.0",
            "_view_name": "StyleView",
            "description_width": ""
          }
        },
        "d98ca1e08a254956983464201426070f": {
          "model_module": "@jupyter-widgets/base",
          "model_name": "LayoutModel",
          "model_module_version": "1.2.0",
          "state": {
            "_model_module": "@jupyter-widgets/base",
            "_model_module_version": "1.2.0",
            "_model_name": "LayoutModel",
            "_view_count": null,
            "_view_module": "@jupyter-widgets/base",
            "_view_module_version": "1.2.0",
            "_view_name": "LayoutView",
            "align_content": null,
            "align_items": null,
            "align_self": null,
            "border": null,
            "bottom": null,
            "display": null,
            "flex": null,
            "flex_flow": null,
            "grid_area": null,
            "grid_auto_columns": null,
            "grid_auto_flow": null,
            "grid_auto_rows": null,
            "grid_column": null,
            "grid_gap": null,
            "grid_row": null,
            "grid_template_areas": null,
            "grid_template_columns": null,
            "grid_template_rows": null,
            "height": null,
            "justify_content": null,
            "justify_items": null,
            "left": null,
            "margin": null,
            "max_height": null,
            "max_width": null,
            "min_height": null,
            "min_width": null,
            "object_fit": null,
            "object_position": null,
            "order": null,
            "overflow": null,
            "overflow_x": null,
            "overflow_y": null,
            "padding": null,
            "right": null,
            "top": null,
            "visibility": null,
            "width": null
          }
        },
        "47ae303794f3495e93915469a87e2a57": {
          "model_module": "@jupyter-widgets/controls",
          "model_name": "ProgressStyleModel",
          "model_module_version": "1.5.0",
          "state": {
            "_model_module": "@jupyter-widgets/controls",
            "_model_module_version": "1.5.0",
            "_model_name": "ProgressStyleModel",
            "_view_count": null,
            "_view_module": "@jupyter-widgets/base",
            "_view_module_version": "1.2.0",
            "_view_name": "StyleView",
            "bar_color": null,
            "description_width": ""
          }
        },
        "320b57d964f543f1aa8c523a6563c8b0": {
          "model_module": "@jupyter-widgets/base",
          "model_name": "LayoutModel",
          "model_module_version": "1.2.0",
          "state": {
            "_model_module": "@jupyter-widgets/base",
            "_model_module_version": "1.2.0",
            "_model_name": "LayoutModel",
            "_view_count": null,
            "_view_module": "@jupyter-widgets/base",
            "_view_module_version": "1.2.0",
            "_view_name": "LayoutView",
            "align_content": null,
            "align_items": null,
            "align_self": null,
            "border": null,
            "bottom": null,
            "display": null,
            "flex": null,
            "flex_flow": null,
            "grid_area": null,
            "grid_auto_columns": null,
            "grid_auto_flow": null,
            "grid_auto_rows": null,
            "grid_column": null,
            "grid_gap": null,
            "grid_row": null,
            "grid_template_areas": null,
            "grid_template_columns": null,
            "grid_template_rows": null,
            "height": null,
            "justify_content": null,
            "justify_items": null,
            "left": null,
            "margin": null,
            "max_height": null,
            "max_width": null,
            "min_height": null,
            "min_width": null,
            "object_fit": null,
            "object_position": null,
            "order": null,
            "overflow": null,
            "overflow_x": null,
            "overflow_y": null,
            "padding": null,
            "right": null,
            "top": null,
            "visibility": null,
            "width": null
          }
        },
        "8ae698d1ad0a42b787d6a7e4d4b016d2": {
          "model_module": "@jupyter-widgets/controls",
          "model_name": "DescriptionStyleModel",
          "model_module_version": "1.5.0",
          "state": {
            "_model_module": "@jupyter-widgets/controls",
            "_model_module_version": "1.5.0",
            "_model_name": "DescriptionStyleModel",
            "_view_count": null,
            "_view_module": "@jupyter-widgets/base",
            "_view_module_version": "1.2.0",
            "_view_name": "StyleView",
            "description_width": ""
          }
        }
      }
    }
  },
  "cells": [
    {
      "cell_type": "markdown",
      "metadata": {
        "id": "LvhuDvTUGJUF"
      },
      "source": [
        "#Implementation model\n"
      ]
    },
    {
      "cell_type": "markdown",
      "metadata": {
        "id": "ondZjTFKJGma"
      },
      "source": [
        "# Colab with GPU\n",
        "When running this notebook in colab, ensure that you run it with a GPU as hardware accelerator. To enable this:\n",
        "- Navigate to Edit → Notebook Settings\n",
        "- select GPU from the Hardware Accelerator drop-down\n",
        "\n",
        "With `!nvidia-smi` we can check which GPU was assigned to us in Colab."
      ]
    },
    {
      "cell_type": "code",
      "source": [
        "from google.colab import drive\n",
        "drive.mount('/content/drive')"
      ],
      "metadata": {
        "colab": {
          "base_uri": "https://localhost:8080/"
        },
        "id": "zbH-8cLbhbe9",
        "outputId": "289d4892-cde3-4445-905b-6e472ff88fd5"
      },
      "execution_count": 1,
      "outputs": [
        {
          "output_type": "stream",
          "name": "stdout",
          "text": [
            "Mounted at /content/drive\n"
          ]
        }
      ]
    },
    {
      "cell_type": "code",
      "metadata": {
        "colab": {
          "base_uri": "https://localhost:8080/"
        },
        "id": "Sc745ZyOIhKF",
        "outputId": "a2ea8bee-3ab9-4334-a4ac-6350fd4c1e84"
      },
      "source": [
        "!nvidia-smi"
      ],
      "execution_count": 2,
      "outputs": [
        {
          "output_type": "stream",
          "name": "stdout",
          "text": [
            "Tue Sep  6 08:46:49 2022       \n",
            "+-----------------------------------------------------------------------------+\n",
            "| NVIDIA-SMI 460.32.03    Driver Version: 460.32.03    CUDA Version: 11.2     |\n",
            "|-------------------------------+----------------------+----------------------+\n",
            "| GPU  Name        Persistence-M| Bus-Id        Disp.A | Volatile Uncorr. ECC |\n",
            "| Fan  Temp  Perf  Pwr:Usage/Cap|         Memory-Usage | GPU-Util  Compute M. |\n",
            "|                               |                      |               MIG M. |\n",
            "|===============================+======================+======================|\n",
            "|   0  Tesla T4            Off  | 00000000:00:04.0 Off |                    0 |\n",
            "| N/A   58C    P8    11W /  70W |      0MiB / 15109MiB |      0%      Default |\n",
            "|                               |                      |                  N/A |\n",
            "+-------------------------------+----------------------+----------------------+\n",
            "                                                                               \n",
            "+-----------------------------------------------------------------------------+\n",
            "| Processes:                                                                  |\n",
            "|  GPU   GI   CI        PID   Type   Process name                  GPU Memory |\n",
            "|        ID   ID                                                   Usage      |\n",
            "|=============================================================================|\n",
            "|  No running processes found                                                 |\n",
            "+-----------------------------------------------------------------------------+\n"
          ]
        }
      ]
    },
    {
      "cell_type": "markdown",
      "metadata": {
        "id": "FjCP8ZehIzJS"
      },
      "source": [
        "# Installation\n",
        "Install EasyNMT by using pip. EasyNMT is using Pytorch. If you have a GPU available on your local machine, have a look at [PyTorch Get Started](https://pytorch.org/get-started/locally/) how to install PyTorch with CUDA support. "
      ]
    },
    {
      "cell_type": "code",
      "metadata": {
        "id": "5KUU4nqKkXPD",
        "colab": {
          "base_uri": "https://localhost:8080/"
        },
        "outputId": "dc642bdc-a65e-4e17-fd01-2c5c48553a90"
      },
      "source": [
        "!pip install -U easynmt"
      ],
      "execution_count": 3,
      "outputs": [
        {
          "output_type": "stream",
          "name": "stdout",
          "text": [
            "Looking in indexes: https://pypi.org/simple, https://us-python.pkg.dev/colab-wheels/public/simple/\n",
            "Collecting easynmt\n",
            "  Downloading EasyNMT-2.0.2.tar.gz (23 kB)\n",
            "Requirement already satisfied: tqdm in /usr/local/lib/python3.7/dist-packages (from easynmt) (4.64.0)\n",
            "Collecting transformers<5,>=4.4\n",
            "  Downloading transformers-4.21.3-py3-none-any.whl (4.7 MB)\n",
            "\u001b[K     |████████████████████████████████| 4.7 MB 37.3 MB/s \n",
            "\u001b[?25hRequirement already satisfied: torch>=1.6.0 in /usr/local/lib/python3.7/dist-packages (from easynmt) (1.12.1+cu113)\n",
            "Requirement already satisfied: numpy in /usr/local/lib/python3.7/dist-packages (from easynmt) (1.21.6)\n",
            "Requirement already satisfied: nltk in /usr/local/lib/python3.7/dist-packages (from easynmt) (3.7)\n",
            "Collecting sentencepiece\n",
            "  Downloading sentencepiece-0.1.97-cp37-cp37m-manylinux_2_17_x86_64.manylinux2014_x86_64.whl (1.3 MB)\n",
            "\u001b[K     |████████████████████████████████| 1.3 MB 67.4 MB/s \n",
            "\u001b[?25hCollecting fasttext\n",
            "  Downloading fasttext-0.9.2.tar.gz (68 kB)\n",
            "\u001b[K     |████████████████████████████████| 68 kB 8.5 MB/s \n",
            "\u001b[?25hRequirement already satisfied: protobuf in /usr/local/lib/python3.7/dist-packages (from easynmt) (3.17.3)\n",
            "Requirement already satisfied: typing-extensions in /usr/local/lib/python3.7/dist-packages (from torch>=1.6.0->easynmt) (4.1.1)\n",
            "Requirement already satisfied: importlib-metadata in /usr/local/lib/python3.7/dist-packages (from transformers<5,>=4.4->easynmt) (4.12.0)\n",
            "Requirement already satisfied: requests in /usr/local/lib/python3.7/dist-packages (from transformers<5,>=4.4->easynmt) (2.23.0)\n",
            "Requirement already satisfied: packaging>=20.0 in /usr/local/lib/python3.7/dist-packages (from transformers<5,>=4.4->easynmt) (21.3)\n",
            "Requirement already satisfied: regex!=2019.12.17 in /usr/local/lib/python3.7/dist-packages (from transformers<5,>=4.4->easynmt) (2022.6.2)\n",
            "Requirement already satisfied: filelock in /usr/local/lib/python3.7/dist-packages (from transformers<5,>=4.4->easynmt) (3.8.0)\n",
            "Requirement already satisfied: pyyaml>=5.1 in /usr/local/lib/python3.7/dist-packages (from transformers<5,>=4.4->easynmt) (6.0)\n",
            "Collecting tokenizers!=0.11.3,<0.13,>=0.11.1\n",
            "  Downloading tokenizers-0.12.1-cp37-cp37m-manylinux_2_12_x86_64.manylinux2010_x86_64.whl (6.6 MB)\n",
            "\u001b[K     |████████████████████████████████| 6.6 MB 61.3 MB/s \n",
            "\u001b[?25hCollecting huggingface-hub<1.0,>=0.1.0\n",
            "  Downloading huggingface_hub-0.9.1-py3-none-any.whl (120 kB)\n",
            "\u001b[K     |████████████████████████████████| 120 kB 78.8 MB/s \n",
            "\u001b[?25hRequirement already satisfied: pyparsing!=3.0.5,>=2.0.2 in /usr/local/lib/python3.7/dist-packages (from packaging>=20.0->transformers<5,>=4.4->easynmt) (3.0.9)\n",
            "Collecting pybind11>=2.2\n",
            "  Using cached pybind11-2.10.0-py3-none-any.whl (213 kB)\n",
            "Requirement already satisfied: setuptools>=0.7.0 in /usr/local/lib/python3.7/dist-packages (from fasttext->easynmt) (57.4.0)\n",
            "Requirement already satisfied: zipp>=0.5 in /usr/local/lib/python3.7/dist-packages (from importlib-metadata->transformers<5,>=4.4->easynmt) (3.8.1)\n",
            "Requirement already satisfied: joblib in /usr/local/lib/python3.7/dist-packages (from nltk->easynmt) (1.1.0)\n",
            "Requirement already satisfied: click in /usr/local/lib/python3.7/dist-packages (from nltk->easynmt) (7.1.2)\n",
            "Requirement already satisfied: six>=1.9 in /usr/local/lib/python3.7/dist-packages (from protobuf->easynmt) (1.15.0)\n",
            "Requirement already satisfied: chardet<4,>=3.0.2 in /usr/local/lib/python3.7/dist-packages (from requests->transformers<5,>=4.4->easynmt) (3.0.4)\n",
            "Requirement already satisfied: idna<3,>=2.5 in /usr/local/lib/python3.7/dist-packages (from requests->transformers<5,>=4.4->easynmt) (2.10)\n",
            "Requirement already satisfied: certifi>=2017.4.17 in /usr/local/lib/python3.7/dist-packages (from requests->transformers<5,>=4.4->easynmt) (2022.6.15)\n",
            "Requirement already satisfied: urllib3!=1.25.0,!=1.25.1,<1.26,>=1.21.1 in /usr/local/lib/python3.7/dist-packages (from requests->transformers<5,>=4.4->easynmt) (1.24.3)\n",
            "Building wheels for collected packages: easynmt, fasttext\n",
            "  Building wheel for easynmt (setup.py) ... \u001b[?25l\u001b[?25hdone\n",
            "  Created wheel for easynmt: filename=EasyNMT-2.0.2-py3-none-any.whl size=19919 sha256=31b35d4b6ead50783f96775a4e5ff4cbddf88ab0f3fa2a124ca5a0a48dc3b62f\n",
            "  Stored in directory: /root/.cache/pip/wheels/d1/57/06/53ca38645e14d4537a41e5a36da2026e10f54ae88240dd5190\n",
            "  Building wheel for fasttext (setup.py) ... \u001b[?25l\u001b[?25hdone\n",
            "  Created wheel for fasttext: filename=fasttext-0.9.2-cp37-cp37m-linux_x86_64.whl size=3161724 sha256=82f9245c6b34577e384be7bf277e5df19123df9854f15e7e86d583a91af1b017\n",
            "  Stored in directory: /root/.cache/pip/wheels/4e/ca/bf/b020d2be95f7641801a6597a29c8f4f19e38f9c02a345bab9b\n",
            "Successfully built easynmt fasttext\n",
            "Installing collected packages: tokenizers, pybind11, huggingface-hub, transformers, sentencepiece, fasttext, easynmt\n",
            "Successfully installed easynmt-2.0.2 fasttext-0.9.2 huggingface-hub-0.9.1 pybind11-2.10.0 sentencepiece-0.1.97 tokenizers-0.12.1 transformers-4.21.3\n"
          ]
        }
      ]
    },
    {
      "cell_type": "code",
      "source": [
        "!pip install sacrebleu"
      ],
      "metadata": {
        "colab": {
          "base_uri": "https://localhost:8080/"
        },
        "id": "GeVSKLkXzCe-",
        "outputId": "4f8e2a56-e561-4eff-8c0e-106a5f2f3886"
      },
      "execution_count": 4,
      "outputs": [
        {
          "output_type": "stream",
          "name": "stdout",
          "text": [
            "Looking in indexes: https://pypi.org/simple, https://us-python.pkg.dev/colab-wheels/public/simple/\n",
            "Collecting sacrebleu\n",
            "  Downloading sacrebleu-2.2.0-py3-none-any.whl (116 kB)\n",
            "\u001b[K     |████████████████████████████████| 116 kB 28.8 MB/s \n",
            "\u001b[?25hCollecting portalocker\n",
            "  Downloading portalocker-2.5.1-py2.py3-none-any.whl (15 kB)\n",
            "Requirement already satisfied: tabulate>=0.8.9 in /usr/local/lib/python3.7/dist-packages (from sacrebleu) (0.8.10)\n",
            "Collecting colorama\n",
            "  Downloading colorama-0.4.5-py2.py3-none-any.whl (16 kB)\n",
            "Requirement already satisfied: numpy>=1.17 in /usr/local/lib/python3.7/dist-packages (from sacrebleu) (1.21.6)\n",
            "Requirement already satisfied: regex in /usr/local/lib/python3.7/dist-packages (from sacrebleu) (2022.6.2)\n",
            "Requirement already satisfied: lxml in /usr/local/lib/python3.7/dist-packages (from sacrebleu) (4.9.1)\n",
            "Installing collected packages: portalocker, colorama, sacrebleu\n",
            "Successfully installed colorama-0.4.5 portalocker-2.5.1 sacrebleu-2.2.0\n"
          ]
        }
      ]
    },
    {
      "cell_type": "markdown",
      "source": [
        "## Data preview"
      ],
      "metadata": {
        "id": "oghzqS3W-5na"
      }
    },
    {
      "cell_type": "code",
      "source": [
        "import pandas as pd\n",
        "import os\n",
        "import sys\n",
        "import sacrebleu\n",
        "\n",
        "df = pd.read_excel('/content/drive/MyDrive/Health-Claims-NLP/Data/data/EU Health Claims - EN, DE, PL, FR, RO, HU.xlsx')\n",
        "df\n"
      ],
      "metadata": {
        "colab": {
          "base_uri": "https://localhost:8080/",
          "height": 1000
        },
        "id": "sSvesN3diQze",
        "outputId": "aab344b2-5d20-4972-ed87-e13a64b63906"
      },
      "execution_count": 5,
      "outputs": [
        {
          "output_type": "execute_result",
          "data": {
            "text/plain": [
              "                                  English  \\\n",
              "0                                Nutrient   \n",
              "1                      Activated charcoal   \n",
              "2                      Alpha-cyclodextrin   \n",
              "3    Alpha-linolenic acid & linoleic acid   \n",
              "4              Alpha-linolenic acid (ALA)   \n",
              "..                                    ...   \n",
              "256                                  Zinc   \n",
              "257                                  Zinc   \n",
              "258                                  Zinc   \n",
              "259                                  Zinc   \n",
              "260                                  Zinc   \n",
              "\n",
              "                                            Unnamed: 1  \\\n",
              "0                                                Claim   \n",
              "1    Activated charcoal contributes to reducing exc...   \n",
              "2    Consumption of alpha-cyclodextrin as part of a...   \n",
              "3    Essential fatty acids are needed for normal gr...   \n",
              "4    ALA contributes to the maintenance of normal b...   \n",
              "..                                                 ...   \n",
              "256  Zinc contributes to the maintenance of normal ...   \n",
              "257  Zinc contributes to the maintenance of normal ...   \n",
              "258  Zinc contributes to the normal function of the...   \n",
              "259  Zinc contributes to the protection of cells fr...   \n",
              "260    Zinc has a role in the process of cell division   \n",
              "\n",
              "                                          French  \\\n",
              "0                                       Nutrient   \n",
              "1                                  Charbon actif   \n",
              "2                            Alpha-cyclodextrine   \n",
              "3    Acide Alpha-linolénique et acide linoléique   \n",
              "4                  Acide alpha-linolénique (ALA)   \n",
              "..                                           ...   \n",
              "256                                         Zinc   \n",
              "257                                         Zinc   \n",
              "258                                         Zinc   \n",
              "259                                         Zinc   \n",
              "260                                         Zinc   \n",
              "\n",
              "                                            Unnamed: 3  \\\n",
              "0                                                Claim   \n",
              "1    Le charbon actif contribue à réduire l’excès d...   \n",
              "2    La consommation d’alpha-cyclodextrine à l’occa...   \n",
              "3    Les acides gras essentiels sont nécessaires à ...   \n",
              "4    L’acide alpha-linolénique (ALA) contribue au m...   \n",
              "..                                                 ...   \n",
              "256  Le zinc contribue au maintien d’un taux normal...   \n",
              "257  Le zinc contribue au maintien d’une vision nor...   \n",
              "258  Le zinc contribue au fonctionnement normal du ...   \n",
              "259  Le zinc contribue à protéger les cellules cont...   \n",
              "260  Le zinc joue un rôle dans le processus de divi...   \n",
              "\n",
              "                                German  \\\n",
              "0                             Nutrient   \n",
              "1                           Aktivkohle   \n",
              "2                   Alpha-Cyclodextrin   \n",
              "3    Alpha-Linolensäure und Linolsäure   \n",
              "4             Alpha-Linolensäure (ALA)   \n",
              "..                                 ...   \n",
              "256                               Zink   \n",
              "257                               Zink   \n",
              "258                               Zink   \n",
              "259                               Zink   \n",
              "260                               Zink   \n",
              "\n",
              "                                            Unnamed: 5  \\\n",
              "0                                                Claim   \n",
              "1    Aktivkohle trägt zur Verringerung übermäßiger ...   \n",
              "2    Der Verzehr von Alpha-Cyclodextrin als Bestand...   \n",
              "3    Essenzielle Fettsäuren werden für ein gesundes...   \n",
              "4    ALA trägt zur Aufrechterhaltung eines normalen...   \n",
              "..                                                 ...   \n",
              "256  Zink trägt zur Erhaltung eines normalen Testos...   \n",
              "257     Zink trägt zur Erhaltung normaler Sehkraft bei   \n",
              "258  Zink trägt zu einer normalen Funktion des Immu...   \n",
              "259  Zink trägt dazu bei, die Zellen vor oxidativem...   \n",
              "260         Zink hat eine Funktion bei der Zellteilung   \n",
              "\n",
              "                                   Polish  \\\n",
              "0                                Nutrient   \n",
              "1                       Węgiel aktywowany   \n",
              "2                     Alfa-cyklodekstryna   \n",
              "3    Kwas alfa-linolenowy i kwas linolowy   \n",
              "4              Kwas alfa-linolenowy (ALA)   \n",
              "..                                    ...   \n",
              "256                                  Cynk   \n",
              "257                                  Cynk   \n",
              "258                                  Cynk   \n",
              "259                                  Cynk   \n",
              "260                                  Cynk   \n",
              "\n",
              "                                            Unnamed: 7  \\\n",
              "0                                                Claim   \n",
              "1    Węgiel aktywowany pomaga zmniejszyć występując...   \n",
              "2    Spożycie alfa-cyklodekstryny w ramach posiłku ...   \n",
              "3    Niezbędne nienasycone kwasy tłuszczowe są potr...   \n",
              "4    Kwas alfa-linolenowy (ALA) pomaga w utrzymaniu...   \n",
              "..                                                 ...   \n",
              "256  Cynk pomaga w utrzymaniu prawidłowego poziomu ...   \n",
              "257     Cynk pomaga w utrzymaniu prawidłowego widzenia   \n",
              "258  Cynk pomaga w prawidłowym funkcjonowaniu układ...   \n",
              "259  Cynk pomaga w ochronie komórek przed stresem o...   \n",
              "260     Cynk bierze udział w procesie podziału komórek   \n",
              "\n",
              "                                Romanian  \\\n",
              "0                               Nutrient   \n",
              "1                          Cărbune activ   \n",
              "2                     Alfa-ciclodextrină   \n",
              "3    Acid alfa-linolenic & acid linoleic   \n",
              "4              Acid alfa-linolenic (ALA)   \n",
              "..                                   ...   \n",
              "256                                 Zinc   \n",
              "257                                 Zinc   \n",
              "258                                 Zinc   \n",
              "259                                 Zinc   \n",
              "260                                 Zinc   \n",
              "\n",
              "                                            Unnamed: 9  \\\n",
              "0                                                Claim   \n",
              "1    Cărbunele activ contribuie la reducerea flatul...   \n",
              "2    Consumul de alfa-ciclodextrină în cadrul unei ...   \n",
              "3    Acizii grași esențiali sunt necesari pentru cr...   \n",
              "4    AAL contribuie la menținerea concentrațiilor n...   \n",
              "..                                                 ...   \n",
              "256  Zincul contribuie la menținerea concentrațiilo...   \n",
              "257    Zincul contribuie la menținerea vederii normale   \n",
              "258  Zincul contribuie la funcționarea normală a si...   \n",
              "259  Zincul contribuie la protejarea celulelor împo...   \n",
              "260  Zincul contribuie la procesul de diviziune cel...   \n",
              "\n",
              "                       Hungarian  \\\n",
              "0                       Nutrient   \n",
              "1                     Aktív szén   \n",
              "2              Alfa-ciklodextrin   \n",
              "3    Alfa-linolénsav és linolsav   \n",
              "4          Alfa-linolénsav (ALA)   \n",
              "..                           ...   \n",
              "256                         Cink   \n",
              "257                         Cink   \n",
              "258                         Cink   \n",
              "259                         Cink   \n",
              "260                         Cink   \n",
              "\n",
              "                                           Unnamed: 11 EC Regulation  \\\n",
              "0                                                Claim           NaN   \n",
              "1    Az aktív szén részt vesz az étkezést követő tú...      432/2012   \n",
              "2    Keményítőtartalmú étkezés részeként az alfa-ci...      536/2013   \n",
              "3    Az esszenciális zsírsavakra szükség van a gyer...      983/2009   \n",
              "4    Az ALA hozzájárul a vér normál koleszterinszin...      432/2012   \n",
              "..                                                 ...           ...   \n",
              "256  A cink hozzájárul a vér normál tesztoszteronsz...      432/2012   \n",
              "257   A cink hozzájárul a normál látás fenntartásához.      432/2012   \n",
              "258  A cink hozzájárul az immunrendszer normál műkö...      432/2012   \n",
              "259  A cink hozzájárul a sejtek oxidatív stresszel ...      432/2012   \n",
              "260         A cink szerepet játszik a sejtosztódásban.      432/2012   \n",
              "\n",
              "                               Article of EC 1924/2006  \n",
              "0                                                  NaN  \n",
              "1                 Article 13(1): function health claim  \n",
              "2                 Article 13(1): function health claim  \n",
              "3    Article 14(1)(b): health claim referring to ch...  \n",
              "4                 Article 13(1): function health claim  \n",
              "..                                                 ...  \n",
              "256               Article 13(1): function health claim  \n",
              "257               Article 13(1): function health claim  \n",
              "258               Article 13(1): function health claim  \n",
              "259               Article 13(1): function health claim  \n",
              "260               Article 13(1): function health claim  \n",
              "\n",
              "[261 rows x 14 columns]"
            ],
            "text/html": [
              "\n",
              "  <div id=\"df-830deb5f-028d-4f14-b764-a8c1ef01bacc\">\n",
              "    <div class=\"colab-df-container\">\n",
              "      <div>\n",
              "<style scoped>\n",
              "    .dataframe tbody tr th:only-of-type {\n",
              "        vertical-align: middle;\n",
              "    }\n",
              "\n",
              "    .dataframe tbody tr th {\n",
              "        vertical-align: top;\n",
              "    }\n",
              "\n",
              "    .dataframe thead th {\n",
              "        text-align: right;\n",
              "    }\n",
              "</style>\n",
              "<table border=\"1\" class=\"dataframe\">\n",
              "  <thead>\n",
              "    <tr style=\"text-align: right;\">\n",
              "      <th></th>\n",
              "      <th>English</th>\n",
              "      <th>Unnamed: 1</th>\n",
              "      <th>French</th>\n",
              "      <th>Unnamed: 3</th>\n",
              "      <th>German</th>\n",
              "      <th>Unnamed: 5</th>\n",
              "      <th>Polish</th>\n",
              "      <th>Unnamed: 7</th>\n",
              "      <th>Romanian</th>\n",
              "      <th>Unnamed: 9</th>\n",
              "      <th>Hungarian</th>\n",
              "      <th>Unnamed: 11</th>\n",
              "      <th>EC Regulation</th>\n",
              "      <th>Article of EC 1924/2006</th>\n",
              "    </tr>\n",
              "  </thead>\n",
              "  <tbody>\n",
              "    <tr>\n",
              "      <th>0</th>\n",
              "      <td>Nutrient</td>\n",
              "      <td>Claim</td>\n",
              "      <td>Nutrient</td>\n",
              "      <td>Claim</td>\n",
              "      <td>Nutrient</td>\n",
              "      <td>Claim</td>\n",
              "      <td>Nutrient</td>\n",
              "      <td>Claim</td>\n",
              "      <td>Nutrient</td>\n",
              "      <td>Claim</td>\n",
              "      <td>Nutrient</td>\n",
              "      <td>Claim</td>\n",
              "      <td>NaN</td>\n",
              "      <td>NaN</td>\n",
              "    </tr>\n",
              "    <tr>\n",
              "      <th>1</th>\n",
              "      <td>Activated charcoal</td>\n",
              "      <td>Activated charcoal contributes to reducing exc...</td>\n",
              "      <td>Charbon actif</td>\n",
              "      <td>Le charbon actif contribue à réduire l’excès d...</td>\n",
              "      <td>Aktivkohle</td>\n",
              "      <td>Aktivkohle trägt zur Verringerung übermäßiger ...</td>\n",
              "      <td>Węgiel aktywowany</td>\n",
              "      <td>Węgiel aktywowany pomaga zmniejszyć występując...</td>\n",
              "      <td>Cărbune activ</td>\n",
              "      <td>Cărbunele activ contribuie la reducerea flatul...</td>\n",
              "      <td>Aktív szén</td>\n",
              "      <td>Az aktív szén részt vesz az étkezést követő tú...</td>\n",
              "      <td>432/2012</td>\n",
              "      <td>Article 13(1): function health claim</td>\n",
              "    </tr>\n",
              "    <tr>\n",
              "      <th>2</th>\n",
              "      <td>Alpha-cyclodextrin</td>\n",
              "      <td>Consumption of alpha-cyclodextrin as part of a...</td>\n",
              "      <td>Alpha-cyclodextrine</td>\n",
              "      <td>La consommation d’alpha-cyclodextrine à l’occa...</td>\n",
              "      <td>Alpha-Cyclodextrin</td>\n",
              "      <td>Der Verzehr von Alpha-Cyclodextrin als Bestand...</td>\n",
              "      <td>Alfa-cyklodekstryna</td>\n",
              "      <td>Spożycie alfa-cyklodekstryny w ramach posiłku ...</td>\n",
              "      <td>Alfa-ciclodextrină</td>\n",
              "      <td>Consumul de alfa-ciclodextrină în cadrul unei ...</td>\n",
              "      <td>Alfa-ciklodextrin</td>\n",
              "      <td>Keményítőtartalmú étkezés részeként az alfa-ci...</td>\n",
              "      <td>536/2013</td>\n",
              "      <td>Article 13(1): function health claim</td>\n",
              "    </tr>\n",
              "    <tr>\n",
              "      <th>3</th>\n",
              "      <td>Alpha-linolenic acid &amp; linoleic acid</td>\n",
              "      <td>Essential fatty acids are needed for normal gr...</td>\n",
              "      <td>Acide Alpha-linolénique et acide linoléique</td>\n",
              "      <td>Les acides gras essentiels sont nécessaires à ...</td>\n",
              "      <td>Alpha-Linolensäure und Linolsäure</td>\n",
              "      <td>Essenzielle Fettsäuren werden für ein gesundes...</td>\n",
              "      <td>Kwas alfa-linolenowy i kwas linolowy</td>\n",
              "      <td>Niezbędne nienasycone kwasy tłuszczowe są potr...</td>\n",
              "      <td>Acid alfa-linolenic &amp; acid linoleic</td>\n",
              "      <td>Acizii grași esențiali sunt necesari pentru cr...</td>\n",
              "      <td>Alfa-linolénsav és linolsav</td>\n",
              "      <td>Az esszenciális zsírsavakra szükség van a gyer...</td>\n",
              "      <td>983/2009</td>\n",
              "      <td>Article 14(1)(b): health claim referring to ch...</td>\n",
              "    </tr>\n",
              "    <tr>\n",
              "      <th>4</th>\n",
              "      <td>Alpha-linolenic acid (ALA)</td>\n",
              "      <td>ALA contributes to the maintenance of normal b...</td>\n",
              "      <td>Acide alpha-linolénique (ALA)</td>\n",
              "      <td>L’acide alpha-linolénique (ALA) contribue au m...</td>\n",
              "      <td>Alpha-Linolensäure (ALA)</td>\n",
              "      <td>ALA trägt zur Aufrechterhaltung eines normalen...</td>\n",
              "      <td>Kwas alfa-linolenowy (ALA)</td>\n",
              "      <td>Kwas alfa-linolenowy (ALA) pomaga w utrzymaniu...</td>\n",
              "      <td>Acid alfa-linolenic (ALA)</td>\n",
              "      <td>AAL contribuie la menținerea concentrațiilor n...</td>\n",
              "      <td>Alfa-linolénsav (ALA)</td>\n",
              "      <td>Az ALA hozzájárul a vér normál koleszterinszin...</td>\n",
              "      <td>432/2012</td>\n",
              "      <td>Article 13(1): function health claim</td>\n",
              "    </tr>\n",
              "    <tr>\n",
              "      <th>...</th>\n",
              "      <td>...</td>\n",
              "      <td>...</td>\n",
              "      <td>...</td>\n",
              "      <td>...</td>\n",
              "      <td>...</td>\n",
              "      <td>...</td>\n",
              "      <td>...</td>\n",
              "      <td>...</td>\n",
              "      <td>...</td>\n",
              "      <td>...</td>\n",
              "      <td>...</td>\n",
              "      <td>...</td>\n",
              "      <td>...</td>\n",
              "      <td>...</td>\n",
              "    </tr>\n",
              "    <tr>\n",
              "      <th>256</th>\n",
              "      <td>Zinc</td>\n",
              "      <td>Zinc contributes to the maintenance of normal ...</td>\n",
              "      <td>Zinc</td>\n",
              "      <td>Le zinc contribue au maintien d’un taux normal...</td>\n",
              "      <td>Zink</td>\n",
              "      <td>Zink trägt zur Erhaltung eines normalen Testos...</td>\n",
              "      <td>Cynk</td>\n",
              "      <td>Cynk pomaga w utrzymaniu prawidłowego poziomu ...</td>\n",
              "      <td>Zinc</td>\n",
              "      <td>Zincul contribuie la menținerea concentrațiilo...</td>\n",
              "      <td>Cink</td>\n",
              "      <td>A cink hozzájárul a vér normál tesztoszteronsz...</td>\n",
              "      <td>432/2012</td>\n",
              "      <td>Article 13(1): function health claim</td>\n",
              "    </tr>\n",
              "    <tr>\n",
              "      <th>257</th>\n",
              "      <td>Zinc</td>\n",
              "      <td>Zinc contributes to the maintenance of normal ...</td>\n",
              "      <td>Zinc</td>\n",
              "      <td>Le zinc contribue au maintien d’une vision nor...</td>\n",
              "      <td>Zink</td>\n",
              "      <td>Zink trägt zur Erhaltung normaler Sehkraft bei</td>\n",
              "      <td>Cynk</td>\n",
              "      <td>Cynk pomaga w utrzymaniu prawidłowego widzenia</td>\n",
              "      <td>Zinc</td>\n",
              "      <td>Zincul contribuie la menținerea vederii normale</td>\n",
              "      <td>Cink</td>\n",
              "      <td>A cink hozzájárul a normál látás fenntartásához.</td>\n",
              "      <td>432/2012</td>\n",
              "      <td>Article 13(1): function health claim</td>\n",
              "    </tr>\n",
              "    <tr>\n",
              "      <th>258</th>\n",
              "      <td>Zinc</td>\n",
              "      <td>Zinc contributes to the normal function of the...</td>\n",
              "      <td>Zinc</td>\n",
              "      <td>Le zinc contribue au fonctionnement normal du ...</td>\n",
              "      <td>Zink</td>\n",
              "      <td>Zink trägt zu einer normalen Funktion des Immu...</td>\n",
              "      <td>Cynk</td>\n",
              "      <td>Cynk pomaga w prawidłowym funkcjonowaniu układ...</td>\n",
              "      <td>Zinc</td>\n",
              "      <td>Zincul contribuie la funcționarea normală a si...</td>\n",
              "      <td>Cink</td>\n",
              "      <td>A cink hozzájárul az immunrendszer normál műkö...</td>\n",
              "      <td>432/2012</td>\n",
              "      <td>Article 13(1): function health claim</td>\n",
              "    </tr>\n",
              "    <tr>\n",
              "      <th>259</th>\n",
              "      <td>Zinc</td>\n",
              "      <td>Zinc contributes to the protection of cells fr...</td>\n",
              "      <td>Zinc</td>\n",
              "      <td>Le zinc contribue à protéger les cellules cont...</td>\n",
              "      <td>Zink</td>\n",
              "      <td>Zink trägt dazu bei, die Zellen vor oxidativem...</td>\n",
              "      <td>Cynk</td>\n",
              "      <td>Cynk pomaga w ochronie komórek przed stresem o...</td>\n",
              "      <td>Zinc</td>\n",
              "      <td>Zincul contribuie la protejarea celulelor împo...</td>\n",
              "      <td>Cink</td>\n",
              "      <td>A cink hozzájárul a sejtek oxidatív stresszel ...</td>\n",
              "      <td>432/2012</td>\n",
              "      <td>Article 13(1): function health claim</td>\n",
              "    </tr>\n",
              "    <tr>\n",
              "      <th>260</th>\n",
              "      <td>Zinc</td>\n",
              "      <td>Zinc has a role in the process of cell division</td>\n",
              "      <td>Zinc</td>\n",
              "      <td>Le zinc joue un rôle dans le processus de divi...</td>\n",
              "      <td>Zink</td>\n",
              "      <td>Zink hat eine Funktion bei der Zellteilung</td>\n",
              "      <td>Cynk</td>\n",
              "      <td>Cynk bierze udział w procesie podziału komórek</td>\n",
              "      <td>Zinc</td>\n",
              "      <td>Zincul contribuie la procesul de diviziune cel...</td>\n",
              "      <td>Cink</td>\n",
              "      <td>A cink szerepet játszik a sejtosztódásban.</td>\n",
              "      <td>432/2012</td>\n",
              "      <td>Article 13(1): function health claim</td>\n",
              "    </tr>\n",
              "  </tbody>\n",
              "</table>\n",
              "<p>261 rows × 14 columns</p>\n",
              "</div>\n",
              "      <button class=\"colab-df-convert\" onclick=\"convertToInteractive('df-830deb5f-028d-4f14-b764-a8c1ef01bacc')\"\n",
              "              title=\"Convert this dataframe to an interactive table.\"\n",
              "              style=\"display:none;\">\n",
              "        \n",
              "  <svg xmlns=\"http://www.w3.org/2000/svg\" height=\"24px\"viewBox=\"0 0 24 24\"\n",
              "       width=\"24px\">\n",
              "    <path d=\"M0 0h24v24H0V0z\" fill=\"none\"/>\n",
              "    <path d=\"M18.56 5.44l.94 2.06.94-2.06 2.06-.94-2.06-.94-.94-2.06-.94 2.06-2.06.94zm-11 1L8.5 8.5l.94-2.06 2.06-.94-2.06-.94L8.5 2.5l-.94 2.06-2.06.94zm10 10l.94 2.06.94-2.06 2.06-.94-2.06-.94-.94-2.06-.94 2.06-2.06.94z\"/><path d=\"M17.41 7.96l-1.37-1.37c-.4-.4-.92-.59-1.43-.59-.52 0-1.04.2-1.43.59L10.3 9.45l-7.72 7.72c-.78.78-.78 2.05 0 2.83L4 21.41c.39.39.9.59 1.41.59.51 0 1.02-.2 1.41-.59l7.78-7.78 2.81-2.81c.8-.78.8-2.07 0-2.86zM5.41 20L4 18.59l7.72-7.72 1.47 1.35L5.41 20z\"/>\n",
              "  </svg>\n",
              "      </button>\n",
              "      \n",
              "  <style>\n",
              "    .colab-df-container {\n",
              "      display:flex;\n",
              "      flex-wrap:wrap;\n",
              "      gap: 12px;\n",
              "    }\n",
              "\n",
              "    .colab-df-convert {\n",
              "      background-color: #E8F0FE;\n",
              "      border: none;\n",
              "      border-radius: 50%;\n",
              "      cursor: pointer;\n",
              "      display: none;\n",
              "      fill: #1967D2;\n",
              "      height: 32px;\n",
              "      padding: 0 0 0 0;\n",
              "      width: 32px;\n",
              "    }\n",
              "\n",
              "    .colab-df-convert:hover {\n",
              "      background-color: #E2EBFA;\n",
              "      box-shadow: 0px 1px 2px rgba(60, 64, 67, 0.3), 0px 1px 3px 1px rgba(60, 64, 67, 0.15);\n",
              "      fill: #174EA6;\n",
              "    }\n",
              "\n",
              "    [theme=dark] .colab-df-convert {\n",
              "      background-color: #3B4455;\n",
              "      fill: #D2E3FC;\n",
              "    }\n",
              "\n",
              "    [theme=dark] .colab-df-convert:hover {\n",
              "      background-color: #434B5C;\n",
              "      box-shadow: 0px 1px 3px 1px rgba(0, 0, 0, 0.15);\n",
              "      filter: drop-shadow(0px 1px 2px rgba(0, 0, 0, 0.3));\n",
              "      fill: #FFFFFF;\n",
              "    }\n",
              "  </style>\n",
              "\n",
              "      <script>\n",
              "        const buttonEl =\n",
              "          document.querySelector('#df-830deb5f-028d-4f14-b764-a8c1ef01bacc button.colab-df-convert');\n",
              "        buttonEl.style.display =\n",
              "          google.colab.kernel.accessAllowed ? 'block' : 'none';\n",
              "\n",
              "        async function convertToInteractive(key) {\n",
              "          const element = document.querySelector('#df-830deb5f-028d-4f14-b764-a8c1ef01bacc');\n",
              "          const dataTable =\n",
              "            await google.colab.kernel.invokeFunction('convertToInteractive',\n",
              "                                                     [key], {});\n",
              "          if (!dataTable) return;\n",
              "\n",
              "          const docLinkHtml = 'Like what you see? Visit the ' +\n",
              "            '<a target=\"_blank\" href=https://colab.research.google.com/notebooks/data_table.ipynb>data table notebook</a>'\n",
              "            + ' to learn more about interactive tables.';\n",
              "          element.innerHTML = '';\n",
              "          dataTable['output_type'] = 'display_data';\n",
              "          await google.colab.output.renderOutput(dataTable, element);\n",
              "          const docLink = document.createElement('div');\n",
              "          docLink.innerHTML = docLinkHtml;\n",
              "          element.appendChild(docLink);\n",
              "        }\n",
              "      </script>\n",
              "    </div>\n",
              "  </div>\n",
              "  "
            ]
          },
          "metadata": {},
          "execution_count": 5
        }
      ]
    },
    {
      "cell_type": "code",
      "source": [
        "df.iloc[1:,1]\n"
      ],
      "metadata": {
        "colab": {
          "base_uri": "https://localhost:8080/"
        },
        "id": "cKVd_8b9jnfe",
        "outputId": "c1987eb8-3e47-4c26-9cc7-0449794171f5"
      },
      "execution_count": 6,
      "outputs": [
        {
          "output_type": "execute_result",
          "data": {
            "text/plain": [
              "1      Activated charcoal contributes to reducing exc...\n",
              "2      Consumption of alpha-cyclodextrin as part of a...\n",
              "3      Essential fatty acids are needed for normal gr...\n",
              "4      ALA contributes to the maintenance of normal b...\n",
              "5      Consumption of arabinoxylan as part of a meal ...\n",
              "                             ...                        \n",
              "256    Zinc contributes to the maintenance of normal ...\n",
              "257    Zinc contributes to the maintenance of normal ...\n",
              "258    Zinc contributes to the normal function of the...\n",
              "259    Zinc contributes to the protection of cells fr...\n",
              "260      Zinc has a role in the process of cell division\n",
              "Name: Unnamed: 1, Length: 260, dtype: object"
            ]
          },
          "metadata": {},
          "execution_count": 6
        }
      ]
    },
    {
      "cell_type": "code",
      "source": [
        "df.iloc[1:,3]"
      ],
      "metadata": {
        "colab": {
          "base_uri": "https://localhost:8080/"
        },
        "id": "Nr99qs5YkggH",
        "outputId": "5a48a772-4e50-4737-f591-469fb9148163"
      },
      "execution_count": 7,
      "outputs": [
        {
          "output_type": "execute_result",
          "data": {
            "text/plain": [
              "1      Le charbon actif contribue à réduire l’excès d...\n",
              "2      La consommation d’alpha-cyclodextrine à l’occa...\n",
              "3      Les acides gras essentiels sont nécessaires à ...\n",
              "4      L’acide alpha-linolénique (ALA) contribue au m...\n",
              "5      La consommation d’arabinoxylane à l’occasion d...\n",
              "                             ...                        \n",
              "256    Le zinc contribue au maintien d’un taux normal...\n",
              "257    Le zinc contribue au maintien d’une vision nor...\n",
              "258    Le zinc contribue au fonctionnement normal du ...\n",
              "259    Le zinc contribue à protéger les cellules cont...\n",
              "260    Le zinc joue un rôle dans le processus de divi...\n",
              "Name: Unnamed: 3, Length: 260, dtype: object"
            ]
          },
          "metadata": {},
          "execution_count": 7
        }
      ]
    },
    {
      "cell_type": "code",
      "source": [],
      "metadata": {
        "colab": {
          "base_uri": "https://localhost:8080/"
        },
        "id": "8wIgVE5dl7dU",
        "outputId": "e02f7da8-64b4-4fe2-da35-2545fff290ea"
      },
      "execution_count": 8,
      "outputs": [
        {
          "output_type": "stream",
          "name": "stdout",
          "text": [
            "1st sentence: Le charbon actif contribue à réduire l’excès de flatulence après le repas\n"
          ]
        }
      ]
    },
    {
      "cell_type": "markdown",
      "metadata": {
        "id": "wF2ngl3sIh65"
      },
      "source": [
        "# Create EasyNMT instance\n",
        "\n",
        "Loading of pre-trained mbart50 and m2m_100 models"
      ]
    },
    {
      "cell_type": "markdown",
      "source": [
        "## mbart50"
      ],
      "metadata": {
        "id": "D1KX0J4sYG6L"
      }
    },
    {
      "cell_type": "code",
      "metadata": {
        "id": "qh7kAqp3kjS2"
      },
      "source": [
        "from easynmt import EasyNMT\n"
      ],
      "execution_count": 27,
      "outputs": []
    },
    {
      "cell_type": "code",
      "source": [
        "mbart50_model = EasyNMT('mbart50_m2m')"
      ],
      "metadata": {
        "colab": {
          "base_uri": "https://localhost:8080/",
          "height": 195,
          "referenced_widgets": [
            "53d980dee5244fae8d7c29ebfdb7757b",
            "e645c6f902814c6283979b37d44daf94",
            "07850964a4094092ae419aa462fed1b8",
            "d47837b72313439b9b2b2f1aeec018ef",
            "28a79c48cd2b4ade8a468ef1e4e41e2f",
            "4684571fcca64e239e6a99ddaa706f81",
            "1622c0910b6a44ddb30f9dda92554eea",
            "de0441dec9ee4defb1334bd1724c52db",
            "9d972def5d4f44029c28ff27262a5b15",
            "d36a3aad8e2e436eabe9a6c8ad4c7f1d",
            "55a29c1b87ef481ba5cf0a041ed9c563",
            "1a9368b004a54e4c816842bdd9153232",
            "6e6f1e0d4d50424ab8388c5883eae923",
            "1bd7e1f6fd9e46d1b5481d7d59d37c9b",
            "80fed0c467574f6ab31347610c73af2f",
            "db751a0ae24e48da96107b58db8618de",
            "6d393c698a904a9d85b4e0707bfac502",
            "3043f1235c5841bba74153d2db54e3f5",
            "1664237f65234e1ca2488fcdf599b018",
            "2485e372e7994fb0ab9b1a8bd3cdc116",
            "acbd2d6a3c5b4506848a75167196f88b",
            "e1aa0c41026e4591b290d8421458f60f",
            "bbd19bd3fe1545f29d100ddd04e42659",
            "c7ad53b6ef26472792719dd1a167e9ad",
            "045723d4278d41a7aa5d2add667d9e59",
            "d9daf2bf65da4e198f658304fe248011",
            "09a6fc52725b4e058e17df161d7a3e78",
            "fdb8a78ea70b4fc29fe4fc54476bc3b5",
            "11f1f2a992f243e194dc9c55fb84342d",
            "392ff533dd7c4e9ab1cb3532eaa2b1eb",
            "dac552bfc9254bb59d198e68b71d984e",
            "83ee4e256aa34cdfbd0f4a5e1789aff6",
            "f0085c9d204840afb1c35908d859afee",
            "06948fac128346629b28f372478e2c8f",
            "050273e957ed4bc1a6c1b0c112698f9a",
            "3611abed794c4b3a9204f2667e174d07",
            "6c9be318e34141a7b23d02d2d5fd15e7",
            "b3df9e626ab7470f90b2fee984ba695e",
            "8bc3c5d24689488291aaa99c4ef13c3f",
            "8806aee6b124427e94feb60776a794a2",
            "fd0e66df722b4eddad05b4ee45a7d777",
            "e2540ccd097e4711abd2396a9adeb599",
            "fa853f37ff1b4215aa2d21839ff6fbf3",
            "f48be840dfa5427e8bbd680845a6ba27",
            "1d1f776461e24cf381dec7902e38dcf7",
            "e2d882de6c0144b099b8acd1b8441c5e",
            "6e224da231a44d2e8f740754c3fdaee4",
            "3d2a8345e02b495ea885e160224fdcfd",
            "82138f5b2fd8460088ab7c8be803e70f",
            "10e39e16454748b48b3570950405e51d",
            "0458682058b84cc1aaf5bdd467df7e6c",
            "8eb83e12aba847c9b3a6b502daa11f72",
            "eb7e39574bc94739a67895f79f21b4ee",
            "0d9e5be12aa945488bfbaca4d4017b66",
            "456f5559a23f48d8991594044c64b6e1"
          ]
        },
        "id": "GxE83nuP9FjE",
        "outputId": "9da25817-0804-4b0f-930e-b25e2ed5e111"
      },
      "execution_count": 28,
      "outputs": [
        {
          "output_type": "stream",
          "name": "stderr",
          "text": [
            "24.9kB [00:00, 6.71MB/s]                   \n"
          ]
        },
        {
          "output_type": "display_data",
          "data": {
            "text/plain": [
              "Downloading config.json:   0%|          | 0.00/1.40k [00:00<?, ?B/s]"
            ],
            "application/vnd.jupyter.widget-view+json": {
              "version_major": 2,
              "version_minor": 0,
              "model_id": "53d980dee5244fae8d7c29ebfdb7757b"
            }
          },
          "metadata": {}
        },
        {
          "output_type": "display_data",
          "data": {
            "text/plain": [
              "Downloading pytorch_model.bin:   0%|          | 0.00/2.28G [00:00<?, ?B/s]"
            ],
            "application/vnd.jupyter.widget-view+json": {
              "version_major": 2,
              "version_minor": 0,
              "model_id": "1a9368b004a54e4c816842bdd9153232"
            }
          },
          "metadata": {}
        },
        {
          "output_type": "display_data",
          "data": {
            "text/plain": [
              "Downloading tokenizer_config.json:   0%|          | 0.00/529 [00:00<?, ?B/s]"
            ],
            "application/vnd.jupyter.widget-view+json": {
              "version_major": 2,
              "version_minor": 0,
              "model_id": "bbd19bd3fe1545f29d100ddd04e42659"
            }
          },
          "metadata": {}
        },
        {
          "output_type": "display_data",
          "data": {
            "text/plain": [
              "Downloading sentencepiece.bpe.model:   0%|          | 0.00/4.83M [00:00<?, ?B/s]"
            ],
            "application/vnd.jupyter.widget-view+json": {
              "version_major": 2,
              "version_minor": 0,
              "model_id": "06948fac128346629b28f372478e2c8f"
            }
          },
          "metadata": {}
        },
        {
          "output_type": "display_data",
          "data": {
            "text/plain": [
              "Downloading special_tokens_map.json:   0%|          | 0.00/649 [00:00<?, ?B/s]"
            ],
            "application/vnd.jupyter.widget-view+json": {
              "version_major": 2,
              "version_minor": 0,
              "model_id": "1d1f776461e24cf381dec7902e38dcf7"
            }
          },
          "metadata": {}
        }
      ]
    },
    {
      "cell_type": "code",
      "source": [
        "print(\"Language directions:\")\n",
        "print(sorted(list(mbart50_model.lang_pairs)))"
      ],
      "metadata": {
        "colab": {
          "base_uri": "https://localhost:8080/"
        },
        "id": "D_XuRvJZXxn3",
        "outputId": "5872d321-55de-4ed5-92f3-1952aefd8d6a"
      },
      "execution_count": 48,
      "outputs": [
        {
          "output_type": "stream",
          "name": "stdout",
          "text": [
            "Language directions:\n",
            "['af-ar', 'af-az', 'af-bn', 'af-cs', 'af-de', 'af-en', 'af-es', 'af-et', 'af-fa', 'af-fi', 'af-fr', 'af-gl', 'af-gu', 'af-he', 'af-hi', 'af-hr', 'af-id', 'af-it', 'af-ja', 'af-ka', 'af-kk', 'af-km', 'af-ko', 'af-lt', 'af-lv', 'af-mk', 'af-ml', 'af-mn', 'af-mr', 'af-my', 'af-ne', 'af-nl', 'af-pl', 'af-ps', 'af-pt', 'af-ro', 'af-ru', 'af-si', 'af-sl', 'af-sv', 'af-sw', 'af-ta', 'af-te', 'af-th', 'af-tl', 'af-tr', 'af-uk', 'af-ur', 'af-vi', 'af-xh', 'af-zh', 'ar-af', 'ar-az', 'ar-bn', 'ar-cs', 'ar-de', 'ar-en', 'ar-es', 'ar-et', 'ar-fa', 'ar-fi', 'ar-fr', 'ar-gl', 'ar-gu', 'ar-he', 'ar-hi', 'ar-hr', 'ar-id', 'ar-it', 'ar-ja', 'ar-ka', 'ar-kk', 'ar-km', 'ar-ko', 'ar-lt', 'ar-lv', 'ar-mk', 'ar-ml', 'ar-mn', 'ar-mr', 'ar-my', 'ar-ne', 'ar-nl', 'ar-pl', 'ar-ps', 'ar-pt', 'ar-ro', 'ar-ru', 'ar-si', 'ar-sl', 'ar-sv', 'ar-sw', 'ar-ta', 'ar-te', 'ar-th', 'ar-tl', 'ar-tr', 'ar-uk', 'ar-ur', 'ar-vi', 'ar-xh', 'ar-zh', 'az-af', 'az-ar', 'az-bn', 'az-cs', 'az-de', 'az-en', 'az-es', 'az-et', 'az-fa', 'az-fi', 'az-fr', 'az-gl', 'az-gu', 'az-he', 'az-hi', 'az-hr', 'az-id', 'az-it', 'az-ja', 'az-ka', 'az-kk', 'az-km', 'az-ko', 'az-lt', 'az-lv', 'az-mk', 'az-ml', 'az-mn', 'az-mr', 'az-my', 'az-ne', 'az-nl', 'az-pl', 'az-ps', 'az-pt', 'az-ro', 'az-ru', 'az-si', 'az-sl', 'az-sv', 'az-sw', 'az-ta', 'az-te', 'az-th', 'az-tl', 'az-tr', 'az-uk', 'az-ur', 'az-vi', 'az-xh', 'az-zh', 'bn-af', 'bn-ar', 'bn-az', 'bn-cs', 'bn-de', 'bn-en', 'bn-es', 'bn-et', 'bn-fa', 'bn-fi', 'bn-fr', 'bn-gl', 'bn-gu', 'bn-he', 'bn-hi', 'bn-hr', 'bn-id', 'bn-it', 'bn-ja', 'bn-ka', 'bn-kk', 'bn-km', 'bn-ko', 'bn-lt', 'bn-lv', 'bn-mk', 'bn-ml', 'bn-mn', 'bn-mr', 'bn-my', 'bn-ne', 'bn-nl', 'bn-pl', 'bn-ps', 'bn-pt', 'bn-ro', 'bn-ru', 'bn-si', 'bn-sl', 'bn-sv', 'bn-sw', 'bn-ta', 'bn-te', 'bn-th', 'bn-tl', 'bn-tr', 'bn-uk', 'bn-ur', 'bn-vi', 'bn-xh', 'bn-zh', 'cs-af', 'cs-ar', 'cs-az', 'cs-bn', 'cs-de', 'cs-en', 'cs-es', 'cs-et', 'cs-fa', 'cs-fi', 'cs-fr', 'cs-gl', 'cs-gu', 'cs-he', 'cs-hi', 'cs-hr', 'cs-id', 'cs-it', 'cs-ja', 'cs-ka', 'cs-kk', 'cs-km', 'cs-ko', 'cs-lt', 'cs-lv', 'cs-mk', 'cs-ml', 'cs-mn', 'cs-mr', 'cs-my', 'cs-ne', 'cs-nl', 'cs-pl', 'cs-ps', 'cs-pt', 'cs-ro', 'cs-ru', 'cs-si', 'cs-sl', 'cs-sv', 'cs-sw', 'cs-ta', 'cs-te', 'cs-th', 'cs-tl', 'cs-tr', 'cs-uk', 'cs-ur', 'cs-vi', 'cs-xh', 'cs-zh', 'de-af', 'de-ar', 'de-az', 'de-bn', 'de-cs', 'de-en', 'de-es', 'de-et', 'de-fa', 'de-fi', 'de-fr', 'de-gl', 'de-gu', 'de-he', 'de-hi', 'de-hr', 'de-id', 'de-it', 'de-ja', 'de-ka', 'de-kk', 'de-km', 'de-ko', 'de-lt', 'de-lv', 'de-mk', 'de-ml', 'de-mn', 'de-mr', 'de-my', 'de-ne', 'de-nl', 'de-pl', 'de-ps', 'de-pt', 'de-ro', 'de-ru', 'de-si', 'de-sl', 'de-sv', 'de-sw', 'de-ta', 'de-te', 'de-th', 'de-tl', 'de-tr', 'de-uk', 'de-ur', 'de-vi', 'de-xh', 'de-zh', 'en-af', 'en-ar', 'en-az', 'en-bn', 'en-cs', 'en-de', 'en-es', 'en-et', 'en-fa', 'en-fi', 'en-fr', 'en-gl', 'en-gu', 'en-he', 'en-hi', 'en-hr', 'en-id', 'en-it', 'en-ja', 'en-ka', 'en-kk', 'en-km', 'en-ko', 'en-lt', 'en-lv', 'en-mk', 'en-ml', 'en-mn', 'en-mr', 'en-my', 'en-ne', 'en-nl', 'en-pl', 'en-ps', 'en-pt', 'en-ro', 'en-ru', 'en-si', 'en-sl', 'en-sv', 'en-sw', 'en-ta', 'en-te', 'en-th', 'en-tl', 'en-tr', 'en-uk', 'en-ur', 'en-vi', 'en-xh', 'en-zh', 'es-af', 'es-ar', 'es-az', 'es-bn', 'es-cs', 'es-de', 'es-en', 'es-et', 'es-fa', 'es-fi', 'es-fr', 'es-gl', 'es-gu', 'es-he', 'es-hi', 'es-hr', 'es-id', 'es-it', 'es-ja', 'es-ka', 'es-kk', 'es-km', 'es-ko', 'es-lt', 'es-lv', 'es-mk', 'es-ml', 'es-mn', 'es-mr', 'es-my', 'es-ne', 'es-nl', 'es-pl', 'es-ps', 'es-pt', 'es-ro', 'es-ru', 'es-si', 'es-sl', 'es-sv', 'es-sw', 'es-ta', 'es-te', 'es-th', 'es-tl', 'es-tr', 'es-uk', 'es-ur', 'es-vi', 'es-xh', 'es-zh', 'et-af', 'et-ar', 'et-az', 'et-bn', 'et-cs', 'et-de', 'et-en', 'et-es', 'et-fa', 'et-fi', 'et-fr', 'et-gl', 'et-gu', 'et-he', 'et-hi', 'et-hr', 'et-id', 'et-it', 'et-ja', 'et-ka', 'et-kk', 'et-km', 'et-ko', 'et-lt', 'et-lv', 'et-mk', 'et-ml', 'et-mn', 'et-mr', 'et-my', 'et-ne', 'et-nl', 'et-pl', 'et-ps', 'et-pt', 'et-ro', 'et-ru', 'et-si', 'et-sl', 'et-sv', 'et-sw', 'et-ta', 'et-te', 'et-th', 'et-tl', 'et-tr', 'et-uk', 'et-ur', 'et-vi', 'et-xh', 'et-zh', 'fa-af', 'fa-ar', 'fa-az', 'fa-bn', 'fa-cs', 'fa-de', 'fa-en', 'fa-es', 'fa-et', 'fa-fi', 'fa-fr', 'fa-gl', 'fa-gu', 'fa-he', 'fa-hi', 'fa-hr', 'fa-id', 'fa-it', 'fa-ja', 'fa-ka', 'fa-kk', 'fa-km', 'fa-ko', 'fa-lt', 'fa-lv', 'fa-mk', 'fa-ml', 'fa-mn', 'fa-mr', 'fa-my', 'fa-ne', 'fa-nl', 'fa-pl', 'fa-ps', 'fa-pt', 'fa-ro', 'fa-ru', 'fa-si', 'fa-sl', 'fa-sv', 'fa-sw', 'fa-ta', 'fa-te', 'fa-th', 'fa-tl', 'fa-tr', 'fa-uk', 'fa-ur', 'fa-vi', 'fa-xh', 'fa-zh', 'fi-af', 'fi-ar', 'fi-az', 'fi-bn', 'fi-cs', 'fi-de', 'fi-en', 'fi-es', 'fi-et', 'fi-fa', 'fi-fr', 'fi-gl', 'fi-gu', 'fi-he', 'fi-hi', 'fi-hr', 'fi-id', 'fi-it', 'fi-ja', 'fi-ka', 'fi-kk', 'fi-km', 'fi-ko', 'fi-lt', 'fi-lv', 'fi-mk', 'fi-ml', 'fi-mn', 'fi-mr', 'fi-my', 'fi-ne', 'fi-nl', 'fi-pl', 'fi-ps', 'fi-pt', 'fi-ro', 'fi-ru', 'fi-si', 'fi-sl', 'fi-sv', 'fi-sw', 'fi-ta', 'fi-te', 'fi-th', 'fi-tl', 'fi-tr', 'fi-uk', 'fi-ur', 'fi-vi', 'fi-xh', 'fi-zh', 'fr-af', 'fr-ar', 'fr-az', 'fr-bn', 'fr-cs', 'fr-de', 'fr-en', 'fr-es', 'fr-et', 'fr-fa', 'fr-fi', 'fr-gl', 'fr-gu', 'fr-he', 'fr-hi', 'fr-hr', 'fr-id', 'fr-it', 'fr-ja', 'fr-ka', 'fr-kk', 'fr-km', 'fr-ko', 'fr-lt', 'fr-lv', 'fr-mk', 'fr-ml', 'fr-mn', 'fr-mr', 'fr-my', 'fr-ne', 'fr-nl', 'fr-pl', 'fr-ps', 'fr-pt', 'fr-ro', 'fr-ru', 'fr-si', 'fr-sl', 'fr-sv', 'fr-sw', 'fr-ta', 'fr-te', 'fr-th', 'fr-tl', 'fr-tr', 'fr-uk', 'fr-ur', 'fr-vi', 'fr-xh', 'fr-zh', 'gl-af', 'gl-ar', 'gl-az', 'gl-bn', 'gl-cs', 'gl-de', 'gl-en', 'gl-es', 'gl-et', 'gl-fa', 'gl-fi', 'gl-fr', 'gl-gu', 'gl-he', 'gl-hi', 'gl-hr', 'gl-id', 'gl-it', 'gl-ja', 'gl-ka', 'gl-kk', 'gl-km', 'gl-ko', 'gl-lt', 'gl-lv', 'gl-mk', 'gl-ml', 'gl-mn', 'gl-mr', 'gl-my', 'gl-ne', 'gl-nl', 'gl-pl', 'gl-ps', 'gl-pt', 'gl-ro', 'gl-ru', 'gl-si', 'gl-sl', 'gl-sv', 'gl-sw', 'gl-ta', 'gl-te', 'gl-th', 'gl-tl', 'gl-tr', 'gl-uk', 'gl-ur', 'gl-vi', 'gl-xh', 'gl-zh', 'gu-af', 'gu-ar', 'gu-az', 'gu-bn', 'gu-cs', 'gu-de', 'gu-en', 'gu-es', 'gu-et', 'gu-fa', 'gu-fi', 'gu-fr', 'gu-gl', 'gu-he', 'gu-hi', 'gu-hr', 'gu-id', 'gu-it', 'gu-ja', 'gu-ka', 'gu-kk', 'gu-km', 'gu-ko', 'gu-lt', 'gu-lv', 'gu-mk', 'gu-ml', 'gu-mn', 'gu-mr', 'gu-my', 'gu-ne', 'gu-nl', 'gu-pl', 'gu-ps', 'gu-pt', 'gu-ro', 'gu-ru', 'gu-si', 'gu-sl', 'gu-sv', 'gu-sw', 'gu-ta', 'gu-te', 'gu-th', 'gu-tl', 'gu-tr', 'gu-uk', 'gu-ur', 'gu-vi', 'gu-xh', 'gu-zh', 'he-af', 'he-ar', 'he-az', 'he-bn', 'he-cs', 'he-de', 'he-en', 'he-es', 'he-et', 'he-fa', 'he-fi', 'he-fr', 'he-gl', 'he-gu', 'he-hi', 'he-hr', 'he-id', 'he-it', 'he-ja', 'he-ka', 'he-kk', 'he-km', 'he-ko', 'he-lt', 'he-lv', 'he-mk', 'he-ml', 'he-mn', 'he-mr', 'he-my', 'he-ne', 'he-nl', 'he-pl', 'he-ps', 'he-pt', 'he-ro', 'he-ru', 'he-si', 'he-sl', 'he-sv', 'he-sw', 'he-ta', 'he-te', 'he-th', 'he-tl', 'he-tr', 'he-uk', 'he-ur', 'he-vi', 'he-xh', 'he-zh', 'hi-af', 'hi-ar', 'hi-az', 'hi-bn', 'hi-cs', 'hi-de', 'hi-en', 'hi-es', 'hi-et', 'hi-fa', 'hi-fi', 'hi-fr', 'hi-gl', 'hi-gu', 'hi-he', 'hi-hr', 'hi-id', 'hi-it', 'hi-ja', 'hi-ka', 'hi-kk', 'hi-km', 'hi-ko', 'hi-lt', 'hi-lv', 'hi-mk', 'hi-ml', 'hi-mn', 'hi-mr', 'hi-my', 'hi-ne', 'hi-nl', 'hi-pl', 'hi-ps', 'hi-pt', 'hi-ro', 'hi-ru', 'hi-si', 'hi-sl', 'hi-sv', 'hi-sw', 'hi-ta', 'hi-te', 'hi-th', 'hi-tl', 'hi-tr', 'hi-uk', 'hi-ur', 'hi-vi', 'hi-xh', 'hi-zh', 'hr-af', 'hr-ar', 'hr-az', 'hr-bn', 'hr-cs', 'hr-de', 'hr-en', 'hr-es', 'hr-et', 'hr-fa', 'hr-fi', 'hr-fr', 'hr-gl', 'hr-gu', 'hr-he', 'hr-hi', 'hr-id', 'hr-it', 'hr-ja', 'hr-ka', 'hr-kk', 'hr-km', 'hr-ko', 'hr-lt', 'hr-lv', 'hr-mk', 'hr-ml', 'hr-mn', 'hr-mr', 'hr-my', 'hr-ne', 'hr-nl', 'hr-pl', 'hr-ps', 'hr-pt', 'hr-ro', 'hr-ru', 'hr-si', 'hr-sl', 'hr-sv', 'hr-sw', 'hr-ta', 'hr-te', 'hr-th', 'hr-tl', 'hr-tr', 'hr-uk', 'hr-ur', 'hr-vi', 'hr-xh', 'hr-zh', 'id-af', 'id-ar', 'id-az', 'id-bn', 'id-cs', 'id-de', 'id-en', 'id-es', 'id-et', 'id-fa', 'id-fi', 'id-fr', 'id-gl', 'id-gu', 'id-he', 'id-hi', 'id-hr', 'id-it', 'id-ja', 'id-ka', 'id-kk', 'id-km', 'id-ko', 'id-lt', 'id-lv', 'id-mk', 'id-ml', 'id-mn', 'id-mr', 'id-my', 'id-ne', 'id-nl', 'id-pl', 'id-ps', 'id-pt', 'id-ro', 'id-ru', 'id-si', 'id-sl', 'id-sv', 'id-sw', 'id-ta', 'id-te', 'id-th', 'id-tl', 'id-tr', 'id-uk', 'id-ur', 'id-vi', 'id-xh', 'id-zh', 'it-af', 'it-ar', 'it-az', 'it-bn', 'it-cs', 'it-de', 'it-en', 'it-es', 'it-et', 'it-fa', 'it-fi', 'it-fr', 'it-gl', 'it-gu', 'it-he', 'it-hi', 'it-hr', 'it-id', 'it-ja', 'it-ka', 'it-kk', 'it-km', 'it-ko', 'it-lt', 'it-lv', 'it-mk', 'it-ml', 'it-mn', 'it-mr', 'it-my', 'it-ne', 'it-nl', 'it-pl', 'it-ps', 'it-pt', 'it-ro', 'it-ru', 'it-si', 'it-sl', 'it-sv', 'it-sw', 'it-ta', 'it-te', 'it-th', 'it-tl', 'it-tr', 'it-uk', 'it-ur', 'it-vi', 'it-xh', 'it-zh', 'ja-af', 'ja-ar', 'ja-az', 'ja-bn', 'ja-cs', 'ja-de', 'ja-en', 'ja-es', 'ja-et', 'ja-fa', 'ja-fi', 'ja-fr', 'ja-gl', 'ja-gu', 'ja-he', 'ja-hi', 'ja-hr', 'ja-id', 'ja-it', 'ja-ka', 'ja-kk', 'ja-km', 'ja-ko', 'ja-lt', 'ja-lv', 'ja-mk', 'ja-ml', 'ja-mn', 'ja-mr', 'ja-my', 'ja-ne', 'ja-nl', 'ja-pl', 'ja-ps', 'ja-pt', 'ja-ro', 'ja-ru', 'ja-si', 'ja-sl', 'ja-sv', 'ja-sw', 'ja-ta', 'ja-te', 'ja-th', 'ja-tl', 'ja-tr', 'ja-uk', 'ja-ur', 'ja-vi', 'ja-xh', 'ja-zh', 'ka-af', 'ka-ar', 'ka-az', 'ka-bn', 'ka-cs', 'ka-de', 'ka-en', 'ka-es', 'ka-et', 'ka-fa', 'ka-fi', 'ka-fr', 'ka-gl', 'ka-gu', 'ka-he', 'ka-hi', 'ka-hr', 'ka-id', 'ka-it', 'ka-ja', 'ka-kk', 'ka-km', 'ka-ko', 'ka-lt', 'ka-lv', 'ka-mk', 'ka-ml', 'ka-mn', 'ka-mr', 'ka-my', 'ka-ne', 'ka-nl', 'ka-pl', 'ka-ps', 'ka-pt', 'ka-ro', 'ka-ru', 'ka-si', 'ka-sl', 'ka-sv', 'ka-sw', 'ka-ta', 'ka-te', 'ka-th', 'ka-tl', 'ka-tr', 'ka-uk', 'ka-ur', 'ka-vi', 'ka-xh', 'ka-zh', 'kk-af', 'kk-ar', 'kk-az', 'kk-bn', 'kk-cs', 'kk-de', 'kk-en', 'kk-es', 'kk-et', 'kk-fa', 'kk-fi', 'kk-fr', 'kk-gl', 'kk-gu', 'kk-he', 'kk-hi', 'kk-hr', 'kk-id', 'kk-it', 'kk-ja', 'kk-ka', 'kk-km', 'kk-ko', 'kk-lt', 'kk-lv', 'kk-mk', 'kk-ml', 'kk-mn', 'kk-mr', 'kk-my', 'kk-ne', 'kk-nl', 'kk-pl', 'kk-ps', 'kk-pt', 'kk-ro', 'kk-ru', 'kk-si', 'kk-sl', 'kk-sv', 'kk-sw', 'kk-ta', 'kk-te', 'kk-th', 'kk-tl', 'kk-tr', 'kk-uk', 'kk-ur', 'kk-vi', 'kk-xh', 'kk-zh', 'km-af', 'km-ar', 'km-az', 'km-bn', 'km-cs', 'km-de', 'km-en', 'km-es', 'km-et', 'km-fa', 'km-fi', 'km-fr', 'km-gl', 'km-gu', 'km-he', 'km-hi', 'km-hr', 'km-id', 'km-it', 'km-ja', 'km-ka', 'km-kk', 'km-ko', 'km-lt', 'km-lv', 'km-mk', 'km-ml', 'km-mn', 'km-mr', 'km-my', 'km-ne', 'km-nl', 'km-pl', 'km-ps', 'km-pt', 'km-ro', 'km-ru', 'km-si', 'km-sl', 'km-sv', 'km-sw', 'km-ta', 'km-te', 'km-th', 'km-tl', 'km-tr', 'km-uk', 'km-ur', 'km-vi', 'km-xh', 'km-zh', 'ko-af', 'ko-ar', 'ko-az', 'ko-bn', 'ko-cs', 'ko-de', 'ko-en', 'ko-es', 'ko-et', 'ko-fa', 'ko-fi', 'ko-fr', 'ko-gl', 'ko-gu', 'ko-he', 'ko-hi', 'ko-hr', 'ko-id', 'ko-it', 'ko-ja', 'ko-ka', 'ko-kk', 'ko-km', 'ko-lt', 'ko-lv', 'ko-mk', 'ko-ml', 'ko-mn', 'ko-mr', 'ko-my', 'ko-ne', 'ko-nl', 'ko-pl', 'ko-ps', 'ko-pt', 'ko-ro', 'ko-ru', 'ko-si', 'ko-sl', 'ko-sv', 'ko-sw', 'ko-ta', 'ko-te', 'ko-th', 'ko-tl', 'ko-tr', 'ko-uk', 'ko-ur', 'ko-vi', 'ko-xh', 'ko-zh', 'lt-af', 'lt-ar', 'lt-az', 'lt-bn', 'lt-cs', 'lt-de', 'lt-en', 'lt-es', 'lt-et', 'lt-fa', 'lt-fi', 'lt-fr', 'lt-gl', 'lt-gu', 'lt-he', 'lt-hi', 'lt-hr', 'lt-id', 'lt-it', 'lt-ja', 'lt-ka', 'lt-kk', 'lt-km', 'lt-ko', 'lt-lv', 'lt-mk', 'lt-ml', 'lt-mn', 'lt-mr', 'lt-my', 'lt-ne', 'lt-nl', 'lt-pl', 'lt-ps', 'lt-pt', 'lt-ro', 'lt-ru', 'lt-si', 'lt-sl', 'lt-sv', 'lt-sw', 'lt-ta', 'lt-te', 'lt-th', 'lt-tl', 'lt-tr', 'lt-uk', 'lt-ur', 'lt-vi', 'lt-xh', 'lt-zh', 'lv-af', 'lv-ar', 'lv-az', 'lv-bn', 'lv-cs', 'lv-de', 'lv-en', 'lv-es', 'lv-et', 'lv-fa', 'lv-fi', 'lv-fr', 'lv-gl', 'lv-gu', 'lv-he', 'lv-hi', 'lv-hr', 'lv-id', 'lv-it', 'lv-ja', 'lv-ka', 'lv-kk', 'lv-km', 'lv-ko', 'lv-lt', 'lv-mk', 'lv-ml', 'lv-mn', 'lv-mr', 'lv-my', 'lv-ne', 'lv-nl', 'lv-pl', 'lv-ps', 'lv-pt', 'lv-ro', 'lv-ru', 'lv-si', 'lv-sl', 'lv-sv', 'lv-sw', 'lv-ta', 'lv-te', 'lv-th', 'lv-tl', 'lv-tr', 'lv-uk', 'lv-ur', 'lv-vi', 'lv-xh', 'lv-zh', 'mk-af', 'mk-ar', 'mk-az', 'mk-bn', 'mk-cs', 'mk-de', 'mk-en', 'mk-es', 'mk-et', 'mk-fa', 'mk-fi', 'mk-fr', 'mk-gl', 'mk-gu', 'mk-he', 'mk-hi', 'mk-hr', 'mk-id', 'mk-it', 'mk-ja', 'mk-ka', 'mk-kk', 'mk-km', 'mk-ko', 'mk-lt', 'mk-lv', 'mk-ml', 'mk-mn', 'mk-mr', 'mk-my', 'mk-ne', 'mk-nl', 'mk-pl', 'mk-ps', 'mk-pt', 'mk-ro', 'mk-ru', 'mk-si', 'mk-sl', 'mk-sv', 'mk-sw', 'mk-ta', 'mk-te', 'mk-th', 'mk-tl', 'mk-tr', 'mk-uk', 'mk-ur', 'mk-vi', 'mk-xh', 'mk-zh', 'ml-af', 'ml-ar', 'ml-az', 'ml-bn', 'ml-cs', 'ml-de', 'ml-en', 'ml-es', 'ml-et', 'ml-fa', 'ml-fi', 'ml-fr', 'ml-gl', 'ml-gu', 'ml-he', 'ml-hi', 'ml-hr', 'ml-id', 'ml-it', 'ml-ja', 'ml-ka', 'ml-kk', 'ml-km', 'ml-ko', 'ml-lt', 'ml-lv', 'ml-mk', 'ml-mn', 'ml-mr', 'ml-my', 'ml-ne', 'ml-nl', 'ml-pl', 'ml-ps', 'ml-pt', 'ml-ro', 'ml-ru', 'ml-si', 'ml-sl', 'ml-sv', 'ml-sw', 'ml-ta', 'ml-te', 'ml-th', 'ml-tl', 'ml-tr', 'ml-uk', 'ml-ur', 'ml-vi', 'ml-xh', 'ml-zh', 'mn-af', 'mn-ar', 'mn-az', 'mn-bn', 'mn-cs', 'mn-de', 'mn-en', 'mn-es', 'mn-et', 'mn-fa', 'mn-fi', 'mn-fr', 'mn-gl', 'mn-gu', 'mn-he', 'mn-hi', 'mn-hr', 'mn-id', 'mn-it', 'mn-ja', 'mn-ka', 'mn-kk', 'mn-km', 'mn-ko', 'mn-lt', 'mn-lv', 'mn-mk', 'mn-ml', 'mn-mr', 'mn-my', 'mn-ne', 'mn-nl', 'mn-pl', 'mn-ps', 'mn-pt', 'mn-ro', 'mn-ru', 'mn-si', 'mn-sl', 'mn-sv', 'mn-sw', 'mn-ta', 'mn-te', 'mn-th', 'mn-tl', 'mn-tr', 'mn-uk', 'mn-ur', 'mn-vi', 'mn-xh', 'mn-zh', 'mr-af', 'mr-ar', 'mr-az', 'mr-bn', 'mr-cs', 'mr-de', 'mr-en', 'mr-es', 'mr-et', 'mr-fa', 'mr-fi', 'mr-fr', 'mr-gl', 'mr-gu', 'mr-he', 'mr-hi', 'mr-hr', 'mr-id', 'mr-it', 'mr-ja', 'mr-ka', 'mr-kk', 'mr-km', 'mr-ko', 'mr-lt', 'mr-lv', 'mr-mk', 'mr-ml', 'mr-mn', 'mr-my', 'mr-ne', 'mr-nl', 'mr-pl', 'mr-ps', 'mr-pt', 'mr-ro', 'mr-ru', 'mr-si', 'mr-sl', 'mr-sv', 'mr-sw', 'mr-ta', 'mr-te', 'mr-th', 'mr-tl', 'mr-tr', 'mr-uk', 'mr-ur', 'mr-vi', 'mr-xh', 'mr-zh', 'my-af', 'my-ar', 'my-az', 'my-bn', 'my-cs', 'my-de', 'my-en', 'my-es', 'my-et', 'my-fa', 'my-fi', 'my-fr', 'my-gl', 'my-gu', 'my-he', 'my-hi', 'my-hr', 'my-id', 'my-it', 'my-ja', 'my-ka', 'my-kk', 'my-km', 'my-ko', 'my-lt', 'my-lv', 'my-mk', 'my-ml', 'my-mn', 'my-mr', 'my-ne', 'my-nl', 'my-pl', 'my-ps', 'my-pt', 'my-ro', 'my-ru', 'my-si', 'my-sl', 'my-sv', 'my-sw', 'my-ta', 'my-te', 'my-th', 'my-tl', 'my-tr', 'my-uk', 'my-ur', 'my-vi', 'my-xh', 'my-zh', 'ne-af', 'ne-ar', 'ne-az', 'ne-bn', 'ne-cs', 'ne-de', 'ne-en', 'ne-es', 'ne-et', 'ne-fa', 'ne-fi', 'ne-fr', 'ne-gl', 'ne-gu', 'ne-he', 'ne-hi', 'ne-hr', 'ne-id', 'ne-it', 'ne-ja', 'ne-ka', 'ne-kk', 'ne-km', 'ne-ko', 'ne-lt', 'ne-lv', 'ne-mk', 'ne-ml', 'ne-mn', 'ne-mr', 'ne-my', 'ne-nl', 'ne-pl', 'ne-ps', 'ne-pt', 'ne-ro', 'ne-ru', 'ne-si', 'ne-sl', 'ne-sv', 'ne-sw', 'ne-ta', 'ne-te', 'ne-th', 'ne-tl', 'ne-tr', 'ne-uk', 'ne-ur', 'ne-vi', 'ne-xh', 'ne-zh', 'nl-af', 'nl-ar', 'nl-az', 'nl-bn', 'nl-cs', 'nl-de', 'nl-en', 'nl-es', 'nl-et', 'nl-fa', 'nl-fi', 'nl-fr', 'nl-gl', 'nl-gu', 'nl-he', 'nl-hi', 'nl-hr', 'nl-id', 'nl-it', 'nl-ja', 'nl-ka', 'nl-kk', 'nl-km', 'nl-ko', 'nl-lt', 'nl-lv', 'nl-mk', 'nl-ml', 'nl-mn', 'nl-mr', 'nl-my', 'nl-ne', 'nl-pl', 'nl-ps', 'nl-pt', 'nl-ro', 'nl-ru', 'nl-si', 'nl-sl', 'nl-sv', 'nl-sw', 'nl-ta', 'nl-te', 'nl-th', 'nl-tl', 'nl-tr', 'nl-uk', 'nl-ur', 'nl-vi', 'nl-xh', 'nl-zh', 'pl-af', 'pl-ar', 'pl-az', 'pl-bn', 'pl-cs', 'pl-de', 'pl-en', 'pl-es', 'pl-et', 'pl-fa', 'pl-fi', 'pl-fr', 'pl-gl', 'pl-gu', 'pl-he', 'pl-hi', 'pl-hr', 'pl-id', 'pl-it', 'pl-ja', 'pl-ka', 'pl-kk', 'pl-km', 'pl-ko', 'pl-lt', 'pl-lv', 'pl-mk', 'pl-ml', 'pl-mn', 'pl-mr', 'pl-my', 'pl-ne', 'pl-nl', 'pl-ps', 'pl-pt', 'pl-ro', 'pl-ru', 'pl-si', 'pl-sl', 'pl-sv', 'pl-sw', 'pl-ta', 'pl-te', 'pl-th', 'pl-tl', 'pl-tr', 'pl-uk', 'pl-ur', 'pl-vi', 'pl-xh', 'pl-zh', 'ps-af', 'ps-ar', 'ps-az', 'ps-bn', 'ps-cs', 'ps-de', 'ps-en', 'ps-es', 'ps-et', 'ps-fa', 'ps-fi', 'ps-fr', 'ps-gl', 'ps-gu', 'ps-he', 'ps-hi', 'ps-hr', 'ps-id', 'ps-it', 'ps-ja', 'ps-ka', 'ps-kk', 'ps-km', 'ps-ko', 'ps-lt', 'ps-lv', 'ps-mk', 'ps-ml', 'ps-mn', 'ps-mr', 'ps-my', 'ps-ne', 'ps-nl', 'ps-pl', 'ps-pt', 'ps-ro', 'ps-ru', 'ps-si', 'ps-sl', 'ps-sv', 'ps-sw', 'ps-ta', 'ps-te', 'ps-th', 'ps-tl', 'ps-tr', 'ps-uk', 'ps-ur', 'ps-vi', 'ps-xh', 'ps-zh', 'pt-af', 'pt-ar', 'pt-az', 'pt-bn', 'pt-cs', 'pt-de', 'pt-en', 'pt-es', 'pt-et', 'pt-fa', 'pt-fi', 'pt-fr', 'pt-gl', 'pt-gu', 'pt-he', 'pt-hi', 'pt-hr', 'pt-id', 'pt-it', 'pt-ja', 'pt-ka', 'pt-kk', 'pt-km', 'pt-ko', 'pt-lt', 'pt-lv', 'pt-mk', 'pt-ml', 'pt-mn', 'pt-mr', 'pt-my', 'pt-ne', 'pt-nl', 'pt-pl', 'pt-ps', 'pt-ro', 'pt-ru', 'pt-si', 'pt-sl', 'pt-sv', 'pt-sw', 'pt-ta', 'pt-te', 'pt-th', 'pt-tl', 'pt-tr', 'pt-uk', 'pt-ur', 'pt-vi', 'pt-xh', 'pt-zh', 'ro-af', 'ro-ar', 'ro-az', 'ro-bn', 'ro-cs', 'ro-de', 'ro-en', 'ro-es', 'ro-et', 'ro-fa', 'ro-fi', 'ro-fr', 'ro-gl', 'ro-gu', 'ro-he', 'ro-hi', 'ro-hr', 'ro-id', 'ro-it', 'ro-ja', 'ro-ka', 'ro-kk', 'ro-km', 'ro-ko', 'ro-lt', 'ro-lv', 'ro-mk', 'ro-ml', 'ro-mn', 'ro-mr', 'ro-my', 'ro-ne', 'ro-nl', 'ro-pl', 'ro-ps', 'ro-pt', 'ro-ru', 'ro-si', 'ro-sl', 'ro-sv', 'ro-sw', 'ro-ta', 'ro-te', 'ro-th', 'ro-tl', 'ro-tr', 'ro-uk', 'ro-ur', 'ro-vi', 'ro-xh', 'ro-zh', 'ru-af', 'ru-ar', 'ru-az', 'ru-bn', 'ru-cs', 'ru-de', 'ru-en', 'ru-es', 'ru-et', 'ru-fa', 'ru-fi', 'ru-fr', 'ru-gl', 'ru-gu', 'ru-he', 'ru-hi', 'ru-hr', 'ru-id', 'ru-it', 'ru-ja', 'ru-ka', 'ru-kk', 'ru-km', 'ru-ko', 'ru-lt', 'ru-lv', 'ru-mk', 'ru-ml', 'ru-mn', 'ru-mr', 'ru-my', 'ru-ne', 'ru-nl', 'ru-pl', 'ru-ps', 'ru-pt', 'ru-ro', 'ru-si', 'ru-sl', 'ru-sv', 'ru-sw', 'ru-ta', 'ru-te', 'ru-th', 'ru-tl', 'ru-tr', 'ru-uk', 'ru-ur', 'ru-vi', 'ru-xh', 'ru-zh', 'si-af', 'si-ar', 'si-az', 'si-bn', 'si-cs', 'si-de', 'si-en', 'si-es', 'si-et', 'si-fa', 'si-fi', 'si-fr', 'si-gl', 'si-gu', 'si-he', 'si-hi', 'si-hr', 'si-id', 'si-it', 'si-ja', 'si-ka', 'si-kk', 'si-km', 'si-ko', 'si-lt', 'si-lv', 'si-mk', 'si-ml', 'si-mn', 'si-mr', 'si-my', 'si-ne', 'si-nl', 'si-pl', 'si-ps', 'si-pt', 'si-ro', 'si-ru', 'si-sl', 'si-sv', 'si-sw', 'si-ta', 'si-te', 'si-th', 'si-tl', 'si-tr', 'si-uk', 'si-ur', 'si-vi', 'si-xh', 'si-zh', 'sl-af', 'sl-ar', 'sl-az', 'sl-bn', 'sl-cs', 'sl-de', 'sl-en', 'sl-es', 'sl-et', 'sl-fa', 'sl-fi', 'sl-fr', 'sl-gl', 'sl-gu', 'sl-he', 'sl-hi', 'sl-hr', 'sl-id', 'sl-it', 'sl-ja', 'sl-ka', 'sl-kk', 'sl-km', 'sl-ko', 'sl-lt', 'sl-lv', 'sl-mk', 'sl-ml', 'sl-mn', 'sl-mr', 'sl-my', 'sl-ne', 'sl-nl', 'sl-pl', 'sl-ps', 'sl-pt', 'sl-ro', 'sl-ru', 'sl-si', 'sl-sv', 'sl-sw', 'sl-ta', 'sl-te', 'sl-th', 'sl-tl', 'sl-tr', 'sl-uk', 'sl-ur', 'sl-vi', 'sl-xh', 'sl-zh', 'sv-af', 'sv-ar', 'sv-az', 'sv-bn', 'sv-cs', 'sv-de', 'sv-en', 'sv-es', 'sv-et', 'sv-fa', 'sv-fi', 'sv-fr', 'sv-gl', 'sv-gu', 'sv-he', 'sv-hi', 'sv-hr', 'sv-id', 'sv-it', 'sv-ja', 'sv-ka', 'sv-kk', 'sv-km', 'sv-ko', 'sv-lt', 'sv-lv', 'sv-mk', 'sv-ml', 'sv-mn', 'sv-mr', 'sv-my', 'sv-ne', 'sv-nl', 'sv-pl', 'sv-ps', 'sv-pt', 'sv-ro', 'sv-ru', 'sv-si', 'sv-sl', 'sv-sw', 'sv-ta', 'sv-te', 'sv-th', 'sv-tl', 'sv-tr', 'sv-uk', 'sv-ur', 'sv-vi', 'sv-xh', 'sv-zh', 'sw-af', 'sw-ar', 'sw-az', 'sw-bn', 'sw-cs', 'sw-de', 'sw-en', 'sw-es', 'sw-et', 'sw-fa', 'sw-fi', 'sw-fr', 'sw-gl', 'sw-gu', 'sw-he', 'sw-hi', 'sw-hr', 'sw-id', 'sw-it', 'sw-ja', 'sw-ka', 'sw-kk', 'sw-km', 'sw-ko', 'sw-lt', 'sw-lv', 'sw-mk', 'sw-ml', 'sw-mn', 'sw-mr', 'sw-my', 'sw-ne', 'sw-nl', 'sw-pl', 'sw-ps', 'sw-pt', 'sw-ro', 'sw-ru', 'sw-si', 'sw-sl', 'sw-sv', 'sw-ta', 'sw-te', 'sw-th', 'sw-tl', 'sw-tr', 'sw-uk', 'sw-ur', 'sw-vi', 'sw-xh', 'sw-zh', 'ta-af', 'ta-ar', 'ta-az', 'ta-bn', 'ta-cs', 'ta-de', 'ta-en', 'ta-es', 'ta-et', 'ta-fa', 'ta-fi', 'ta-fr', 'ta-gl', 'ta-gu', 'ta-he', 'ta-hi', 'ta-hr', 'ta-id', 'ta-it', 'ta-ja', 'ta-ka', 'ta-kk', 'ta-km', 'ta-ko', 'ta-lt', 'ta-lv', 'ta-mk', 'ta-ml', 'ta-mn', 'ta-mr', 'ta-my', 'ta-ne', 'ta-nl', 'ta-pl', 'ta-ps', 'ta-pt', 'ta-ro', 'ta-ru', 'ta-si', 'ta-sl', 'ta-sv', 'ta-sw', 'ta-te', 'ta-th', 'ta-tl', 'ta-tr', 'ta-uk', 'ta-ur', 'ta-vi', 'ta-xh', 'ta-zh', 'te-af', 'te-ar', 'te-az', 'te-bn', 'te-cs', 'te-de', 'te-en', 'te-es', 'te-et', 'te-fa', 'te-fi', 'te-fr', 'te-gl', 'te-gu', 'te-he', 'te-hi', 'te-hr', 'te-id', 'te-it', 'te-ja', 'te-ka', 'te-kk', 'te-km', 'te-ko', 'te-lt', 'te-lv', 'te-mk', 'te-ml', 'te-mn', 'te-mr', 'te-my', 'te-ne', 'te-nl', 'te-pl', 'te-ps', 'te-pt', 'te-ro', 'te-ru', 'te-si', 'te-sl', 'te-sv', 'te-sw', 'te-ta', 'te-th', 'te-tl', 'te-tr', 'te-uk', 'te-ur', 'te-vi', 'te-xh', 'te-zh', 'th-af', 'th-ar', 'th-az', 'th-bn', 'th-cs', 'th-de', 'th-en', 'th-es', 'th-et', 'th-fa', 'th-fi', 'th-fr', 'th-gl', 'th-gu', 'th-he', 'th-hi', 'th-hr', 'th-id', 'th-it', 'th-ja', 'th-ka', 'th-kk', 'th-km', 'th-ko', 'th-lt', 'th-lv', 'th-mk', 'th-ml', 'th-mn', 'th-mr', 'th-my', 'th-ne', 'th-nl', 'th-pl', 'th-ps', 'th-pt', 'th-ro', 'th-ru', 'th-si', 'th-sl', 'th-sv', 'th-sw', 'th-ta', 'th-te', 'th-tl', 'th-tr', 'th-uk', 'th-ur', 'th-vi', 'th-xh', 'th-zh', 'tl-af', 'tl-ar', 'tl-az', 'tl-bn', 'tl-cs', 'tl-de', 'tl-en', 'tl-es', 'tl-et', 'tl-fa', 'tl-fi', 'tl-fr', 'tl-gl', 'tl-gu', 'tl-he', 'tl-hi', 'tl-hr', 'tl-id', 'tl-it', 'tl-ja', 'tl-ka', 'tl-kk', 'tl-km', 'tl-ko', 'tl-lt', 'tl-lv', 'tl-mk', 'tl-ml', 'tl-mn', 'tl-mr', 'tl-my', 'tl-ne', 'tl-nl', 'tl-pl', 'tl-ps', 'tl-pt', 'tl-ro', 'tl-ru', 'tl-si', 'tl-sl', 'tl-sv', 'tl-sw', 'tl-ta', 'tl-te', 'tl-th', 'tl-tr', 'tl-uk', 'tl-ur', 'tl-vi', 'tl-xh', 'tl-zh', 'tr-af', 'tr-ar', 'tr-az', 'tr-bn', 'tr-cs', 'tr-de', 'tr-en', 'tr-es', 'tr-et', 'tr-fa', 'tr-fi', 'tr-fr', 'tr-gl', 'tr-gu', 'tr-he', 'tr-hi', 'tr-hr', 'tr-id', 'tr-it', 'tr-ja', 'tr-ka', 'tr-kk', 'tr-km', 'tr-ko', 'tr-lt', 'tr-lv', 'tr-mk', 'tr-ml', 'tr-mn', 'tr-mr', 'tr-my', 'tr-ne', 'tr-nl', 'tr-pl', 'tr-ps', 'tr-pt', 'tr-ro', 'tr-ru', 'tr-si', 'tr-sl', 'tr-sv', 'tr-sw', 'tr-ta', 'tr-te', 'tr-th', 'tr-tl', 'tr-uk', 'tr-ur', 'tr-vi', 'tr-xh', 'tr-zh', 'uk-af', 'uk-ar', 'uk-az', 'uk-bn', 'uk-cs', 'uk-de', 'uk-en', 'uk-es', 'uk-et', 'uk-fa', 'uk-fi', 'uk-fr', 'uk-gl', 'uk-gu', 'uk-he', 'uk-hi', 'uk-hr', 'uk-id', 'uk-it', 'uk-ja', 'uk-ka', 'uk-kk', 'uk-km', 'uk-ko', 'uk-lt', 'uk-lv', 'uk-mk', 'uk-ml', 'uk-mn', 'uk-mr', 'uk-my', 'uk-ne', 'uk-nl', 'uk-pl', 'uk-ps', 'uk-pt', 'uk-ro', 'uk-ru', 'uk-si', 'uk-sl', 'uk-sv', 'uk-sw', 'uk-ta', 'uk-te', 'uk-th', 'uk-tl', 'uk-tr', 'uk-ur', 'uk-vi', 'uk-xh', 'uk-zh', 'ur-af', 'ur-ar', 'ur-az', 'ur-bn', 'ur-cs', 'ur-de', 'ur-en', 'ur-es', 'ur-et', 'ur-fa', 'ur-fi', 'ur-fr', 'ur-gl', 'ur-gu', 'ur-he', 'ur-hi', 'ur-hr', 'ur-id', 'ur-it', 'ur-ja', 'ur-ka', 'ur-kk', 'ur-km', 'ur-ko', 'ur-lt', 'ur-lv', 'ur-mk', 'ur-ml', 'ur-mn', 'ur-mr', 'ur-my', 'ur-ne', 'ur-nl', 'ur-pl', 'ur-ps', 'ur-pt', 'ur-ro', 'ur-ru', 'ur-si', 'ur-sl', 'ur-sv', 'ur-sw', 'ur-ta', 'ur-te', 'ur-th', 'ur-tl', 'ur-tr', 'ur-uk', 'ur-vi', 'ur-xh', 'ur-zh', 'vi-af', 'vi-ar', 'vi-az', 'vi-bn', 'vi-cs', 'vi-de', 'vi-en', 'vi-es', 'vi-et', 'vi-fa', 'vi-fi', 'vi-fr', 'vi-gl', 'vi-gu', 'vi-he', 'vi-hi', 'vi-hr', 'vi-id', 'vi-it', 'vi-ja', 'vi-ka', 'vi-kk', 'vi-km', 'vi-ko', 'vi-lt', 'vi-lv', 'vi-mk', 'vi-ml', 'vi-mn', 'vi-mr', 'vi-my', 'vi-ne', 'vi-nl', 'vi-pl', 'vi-ps', 'vi-pt', 'vi-ro', 'vi-ru', 'vi-si', 'vi-sl', 'vi-sv', 'vi-sw', 'vi-ta', 'vi-te', 'vi-th', 'vi-tl', 'vi-tr', 'vi-uk', 'vi-ur', 'vi-xh', 'vi-zh', 'xh-af', 'xh-ar', 'xh-az', 'xh-bn', 'xh-cs', 'xh-de', 'xh-en', 'xh-es', 'xh-et', 'xh-fa', 'xh-fi', 'xh-fr', 'xh-gl', 'xh-gu', 'xh-he', 'xh-hi', 'xh-hr', 'xh-id', 'xh-it', 'xh-ja', 'xh-ka', 'xh-kk', 'xh-km', 'xh-ko', 'xh-lt', 'xh-lv', 'xh-mk', 'xh-ml', 'xh-mn', 'xh-mr', 'xh-my', 'xh-ne', 'xh-nl', 'xh-pl', 'xh-ps', 'xh-pt', 'xh-ro', 'xh-ru', 'xh-si', 'xh-sl', 'xh-sv', 'xh-sw', 'xh-ta', 'xh-te', 'xh-th', 'xh-tl', 'xh-tr', 'xh-uk', 'xh-ur', 'xh-vi', 'xh-zh', 'zh-af', 'zh-ar', 'zh-az', 'zh-bn', 'zh-cs', 'zh-de', 'zh-en', 'zh-es', 'zh-et', 'zh-fa', 'zh-fi', 'zh-fr', 'zh-gl', 'zh-gu', 'zh-he', 'zh-hi', 'zh-hr', 'zh-id', 'zh-it', 'zh-ja', 'zh-ka', 'zh-kk', 'zh-km', 'zh-ko', 'zh-lt', 'zh-lv', 'zh-mk', 'zh-ml', 'zh-mn', 'zh-mr', 'zh-my', 'zh-ne', 'zh-nl', 'zh-pl', 'zh-ps', 'zh-pt', 'zh-ro', 'zh-ru', 'zh-si', 'zh-sl', 'zh-sv', 'zh-sw', 'zh-ta', 'zh-te', 'zh-th', 'zh-tl', 'zh-tr', 'zh-uk', 'zh-ur', 'zh-vi', 'zh-xh']\n"
          ]
        }
      ]
    },
    {
      "cell_type": "markdown",
      "source": [
        "The mBART50 model does not support Hungarian,therefore, only French, German, Polish and Romanian were considered in the implementation and evaluation of the assessment model."
      ],
      "metadata": {
        "id": "h1-Wi3F5fLx1"
      }
    },
    {
      "cell_type": "markdown",
      "source": [
        "### Evaluate translation"
      ],
      "metadata": {
        "id": "LHEme9kMeX6J"
      }
    },
    {
      "cell_type": "code",
      "source": [
        "# evaluate translation\n",
        "def evaluate_model(a, b):\n",
        "    # calculate BLEU score\n",
        "    bleu = sacrebleu.corpus_bleu(a, [b])\n",
        "    print('BLEU SCORE:')\n",
        "    print('BLEU: %f' % bleu.score)\n"
      ],
      "metadata": {
        "id": "DddNz6zpeC6J"
      },
      "execution_count": null,
      "outputs": []
    },
    {
      "cell_type": "markdown",
      "source": [
        "## Translation from English"
      ],
      "metadata": {
        "id": "Ha4uCgHrRnA2"
      }
    },
    {
      "cell_type": "code",
      "source": [
        "ori = [] # Original English sentences\n",
        "for line in df.iloc[1:,1]:\n",
        "  line = line.strip()\n",
        "  ori.append(line)\n",
        "\n",
        "print(\"1st original sentence:\", ori[0])"
      ],
      "metadata": {
        "colab": {
          "base_uri": "https://localhost:8080/"
        },
        "id": "Lz5RvdksUYRs",
        "outputId": "044e2baf-daef-4457-f710-02f89fd0c6da"
      },
      "execution_count": 52,
      "outputs": [
        {
          "output_type": "stream",
          "name": "stdout",
          "text": [
            "1st original sentence: Activated charcoal contributes to reducing excessive flatulence after eating\n"
          ]
        }
      ]
    },
    {
      "cell_type": "markdown",
      "metadata": {
        "id": "pjutfZVCJCp4"
      },
      "source": [
        "### French\n"
      ]
    },
    {
      "cell_type": "code",
      "source": [
        "fr_preds = mbart50_model.translate(ori, target_lang='fr') # Translation"
      ],
      "metadata": {
        "colab": {
          "base_uri": "https://localhost:8080/"
        },
        "id": "umfH34SfchxY",
        "outputId": "8704969b-ac28-4e2e-f416-58e81a173a0e"
      },
      "execution_count": 58,
      "outputs": [
        {
          "output_type": "stream",
          "name": "stderr",
          "text": [
            "/usr/local/lib/python3.7/dist-packages/transformers/generation_utils.py:1207: UserWarning: Neither `max_length` nor `max_new_tokens` have been set, `max_length` will default to 200 (`self.config.max_length`). Controlling `max_length` via the config is deprecated and `max_length` will be removed from the config in v5 of Transformers -- we recommend using `max_new_tokens` to control the maximum length of the generation.\n",
            "  UserWarning,\n"
          ]
        }
      ]
    },
    {
      "cell_type": "code",
      "source": [
        "print(\"1st predicted sentence:\", fr_preds[0])"
      ],
      "metadata": {
        "colab": {
          "base_uri": "https://localhost:8080/"
        },
        "id": "42_r2LwedQmO",
        "outputId": "0bddc6e2-11b7-4367-df28-c9e95c21c52a"
      },
      "execution_count": 59,
      "outputs": [
        {
          "output_type": "stream",
          "name": "stdout",
          "text": [
            "1st predicted sentence: Le charbon activé contribue à réduire la flatulence excessive après l'alimentation\n"
          ]
        }
      ]
    },
    {
      "cell_type": "code",
      "source": [
        "fr_refs = [] # Original French sentences\n",
        "for line in df.iloc[1:,3]:\n",
        "  line = line.strip()\n",
        "  fr_refs.append(line)\n",
        "\n",
        "print(\"1st sentence:\", fr_refs[0])"
      ],
      "metadata": {
        "colab": {
          "base_uri": "https://localhost:8080/"
        },
        "id": "IKruVCbvTu2E",
        "outputId": "d3d27c71-a7bb-44e2-a2bd-8aab79b53f28"
      },
      "execution_count": 61,
      "outputs": [
        {
          "output_type": "stream",
          "name": "stdout",
          "text": [
            "1st sentence: Le charbon actif contribue à réduire l’excès de flatulence après le repas\n"
          ]
        }
      ]
    },
    {
      "cell_type": "code",
      "source": [
        "evaluate_model(fr_preds,fr_refs)# Evaluation"
      ],
      "metadata": {
        "colab": {
          "base_uri": "https://localhost:8080/"
        },
        "id": "-LFG0eonSJft",
        "outputId": "58899924-3b1f-499f-f2c6-794c782e9a02"
      },
      "execution_count": 63,
      "outputs": [
        {
          "output_type": "stream",
          "name": "stdout",
          "text": [
            "BLEU SCORE:\n",
            "BLEU: 42.655319\n"
          ]
        }
      ]
    },
    {
      "cell_type": "markdown",
      "source": [
        "### German"
      ],
      "metadata": {
        "id": "YjMQYjpwZyCA"
      }
    },
    {
      "cell_type": "code",
      "source": [
        "de_preds = mbart50_model.translate(ori, target_lang='de') # Translation"
      ],
      "metadata": {
        "id": "rjJpvciBeC6H"
      },
      "execution_count": 64,
      "outputs": []
    },
    {
      "cell_type": "code",
      "source": [
        "print(\"1st predicted sentence:\", de_preds[0])"
      ],
      "metadata": {
        "colab": {
          "base_uri": "https://localhost:8080/"
        },
        "outputId": "f7a223a9-c965-4367-8073-7dcedabb2ce0",
        "id": "a7dH7eDLeC6H"
      },
      "execution_count": 65,
      "outputs": [
        {
          "output_type": "stream",
          "name": "stdout",
          "text": [
            "1st predicted sentence: Aktivierte Kohle trägt zur Reduzierung der übermäßigen Flatulenz nach dem Essen bei\n"
          ]
        }
      ]
    },
    {
      "cell_type": "code",
      "source": [
        "de_refs = [] # Original German sentences\n",
        "for line in df.iloc[1:,5]:\n",
        "  line = line.strip()\n",
        "  de_refs.append(line)\n",
        "\n",
        "print(\"1st sentence:\", de_refs[0])"
      ],
      "metadata": {
        "colab": {
          "base_uri": "https://localhost:8080/"
        },
        "outputId": "454d7c2b-47a3-44f9-baa2-4c87f63f95c7",
        "id": "AeD_2s-teC6H"
      },
      "execution_count": 66,
      "outputs": [
        {
          "output_type": "stream",
          "name": "stdout",
          "text": [
            "1st sentence: Aktivkohle trägt zur Verringerung übermäßiger Blähungen nach dem Essen bei\n"
          ]
        }
      ]
    },
    {
      "cell_type": "code",
      "source": [
        "evaluate_model(de_preds,de_refs) # Evaluation"
      ],
      "metadata": {
        "colab": {
          "base_uri": "https://localhost:8080/"
        },
        "outputId": "8c903a56-4f98-408c-def7-8eb4a536ccf2",
        "id": "VsPAoCa7eC6J"
      },
      "execution_count": 67,
      "outputs": [
        {
          "output_type": "stream",
          "name": "stdout",
          "text": [
            "BLEU SCORE:\n",
            "BLEU: 27.331959\n"
          ]
        }
      ]
    },
    {
      "cell_type": "markdown",
      "source": [
        "### Polish"
      ],
      "metadata": {
        "id": "jvQj15VwfMNB"
      }
    },
    {
      "cell_type": "code",
      "source": [
        "pl_preds = mbart50_model.translate(ori, target_lang='pl') # Translation"
      ],
      "metadata": {
        "id": "I7sO7fAbfjVK"
      },
      "execution_count": 68,
      "outputs": []
    },
    {
      "cell_type": "code",
      "source": [
        "print(\"1st predicted sentence:\", pl_preds[0])"
      ],
      "metadata": {
        "colab": {
          "base_uri": "https://localhost:8080/"
        },
        "outputId": "51a40585-0516-4b3f-cdc8-4c492a357f38",
        "id": "RpVVQc8VfjVK"
      },
      "execution_count": 69,
      "outputs": [
        {
          "output_type": "stream",
          "name": "stdout",
          "text": [
            "1st predicted sentence: Aktywowane węgla przyczynia się do zmniejszenia nadmiernego płomienia po jedzeniu\n"
          ]
        }
      ]
    },
    {
      "cell_type": "code",
      "source": [
        "pl_refs = [] # Original Polish sentences\n",
        "for line in df.iloc[1:,7]:\n",
        "  line = line.strip()\n",
        "  pl_refs.append(line)\n",
        "\n",
        "print(\"1st sentence:\", pl_refs[0])"
      ],
      "metadata": {
        "colab": {
          "base_uri": "https://localhost:8080/"
        },
        "outputId": "7f8327fd-8338-45b7-d0dd-018f0c925b44",
        "id": "LcWEZix5fjVK"
      },
      "execution_count": 72,
      "outputs": [
        {
          "output_type": "stream",
          "name": "stdout",
          "text": [
            "1st sentence: Węgiel aktywowany pomaga zmniejszyć występujące po jedzeniu nadmierne wzdęcia\n"
          ]
        }
      ]
    },
    {
      "cell_type": "code",
      "source": [
        "evaluate_model(pl_preds,pl_refs) # Evaluation"
      ],
      "metadata": {
        "colab": {
          "base_uri": "https://localhost:8080/"
        },
        "outputId": "3726a78c-b6ac-4cd1-f14f-e2bfefc379c7",
        "id": "AWDYEmz5fjVL"
      },
      "execution_count": 73,
      "outputs": [
        {
          "output_type": "stream",
          "name": "stdout",
          "text": [
            "BLEU SCORE:\n",
            "BLEU: 22.977065\n"
          ]
        }
      ]
    },
    {
      "cell_type": "markdown",
      "source": [
        "### Romanian"
      ],
      "metadata": {
        "id": "jgZ3OdavfMBN"
      }
    },
    {
      "cell_type": "code",
      "source": [
        "ro_preds = mbart50_model.translate(ori, target_lang='ro') # Translation"
      ],
      "metadata": {
        "id": "u5RHSOERfkIh"
      },
      "execution_count": 74,
      "outputs": []
    },
    {
      "cell_type": "code",
      "source": [
        "print(\"1st predicted sentence:\", ro_preds[0])"
      ],
      "metadata": {
        "colab": {
          "base_uri": "https://localhost:8080/"
        },
        "outputId": "1987ee92-e9ba-4abf-828d-ef032a70a088",
        "id": "nvFz4S5RfkIi"
      },
      "execution_count": 75,
      "outputs": [
        {
          "output_type": "stream",
          "name": "stdout",
          "text": [
            "1st predicted sentence: Cărbunele activ contribuie la reducerea flatulenţei excesive după mâncare\n"
          ]
        }
      ]
    },
    {
      "cell_type": "code",
      "source": [
        "ro_refs = [] # Original Romanian sentences\n",
        "for line in df.iloc[1:,9]:\n",
        "  line = line.strip()\n",
        "  ro_refs.append(line)\n",
        "\n",
        "print(\"1st sentence:\", ro_refs[0])"
      ],
      "metadata": {
        "colab": {
          "base_uri": "https://localhost:8080/"
        },
        "outputId": "78583d3c-0b4d-4e68-e4d2-03099ffd207f",
        "id": "02kLMio8fkIi"
      },
      "execution_count": 76,
      "outputs": [
        {
          "output_type": "stream",
          "name": "stdout",
          "text": [
            "1st sentence: Cărbunele activ contribuie la reducerea flatulenței după consumul de alimente\n"
          ]
        }
      ]
    },
    {
      "cell_type": "code",
      "source": [
        "evaluate_model(ro_preds,ro_refs) # Evaluation"
      ],
      "metadata": {
        "colab": {
          "base_uri": "https://localhost:8080/"
        },
        "outputId": "df3e2be4-1627-4984-9cc1-c5138b3acfcd",
        "id": "JjUb6hJ_fkIi"
      },
      "execution_count": 77,
      "outputs": [
        {
          "output_type": "stream",
          "name": "stdout",
          "text": [
            "BLEU SCORE:\n",
            "BLEU: 25.845438\n"
          ]
        }
      ]
    },
    {
      "cell_type": "markdown",
      "source": [
        "### 1 to Many\n"
      ],
      "metadata": {
        "id": "8ZlMKMITjvJX"
      }
    },
    {
      "cell_type": "code",
      "source": [
        "predslist = fr_preds+ de_preds+ pl_preds +ro_preds\n",
        "\n",
        "refslist = fr_refs+ de_refs+ pl_refs +ro_refs"
      ],
      "metadata": {
        "id": "lzbsK0kbi8Ku"
      },
      "execution_count": 80,
      "outputs": []
    },
    {
      "cell_type": "code",
      "source": [
        "evaluate_model(predslist,refslist) # Evaluation"
      ],
      "metadata": {
        "colab": {
          "base_uri": "https://localhost:8080/"
        },
        "id": "HecoJmyGjkjf",
        "outputId": "4cc671b0-5fa4-4538-8526-14fcca8246f3"
      },
      "execution_count": 81,
      "outputs": [
        {
          "output_type": "stream",
          "name": "stdout",
          "text": [
            "BLEU SCORE:\n",
            "BLEU: 31.017612\n"
          ]
        }
      ]
    },
    {
      "cell_type": "markdown",
      "source": [
        "## Translation to English"
      ],
      "metadata": {
        "id": "xqvhXjnsXlfs"
      }
    },
    {
      "cell_type": "code",
      "source": [
        "en_refs = [] # Reference English sentences\n",
        "for line in df.iloc[1:,1]:\n",
        "  line = line.strip()\n",
        "  en_refs.append(line)\n",
        "\n",
        "print(\"1st sentence:\", en_refs[0])"
      ],
      "metadata": {
        "colab": {
          "base_uri": "https://localhost:8080/"
        },
        "id": "N-GYhe8EkBiN",
        "outputId": "28fd8107-f027-45fa-cb7e-eefe40d40817"
      },
      "execution_count": 87,
      "outputs": [
        {
          "output_type": "stream",
          "name": "stdout",
          "text": [
            "1st sentence: Activated charcoal contributes to reducing excessive flatulence after eating\n"
          ]
        }
      ]
    },
    {
      "cell_type": "markdown",
      "source": [
        "### French"
      ],
      "metadata": {
        "id": "rahUyHYcmgK4"
      }
    },
    {
      "cell_type": "code",
      "source": [
        "fr_ori = [] # Original French sentences\n",
        "for line in df.iloc[1:,3]:\n",
        "  line = line.strip()\n",
        "  fr_ori.append(line)\n",
        "\n",
        "print(\"1st sentence:\", fr_ori[0])"
      ],
      "metadata": {
        "colab": {
          "base_uri": "https://localhost:8080/"
        },
        "id": "DerSkghWlDAc",
        "outputId": "c57fbb7c-9c79-4c64-b502-f06d39d1f1cc"
      },
      "execution_count": 89,
      "outputs": [
        {
          "output_type": "stream",
          "name": "stdout",
          "text": [
            "1st sentence: Le charbon actif contribue à réduire l’excès de flatulence après le repas\n"
          ]
        }
      ]
    },
    {
      "cell_type": "code",
      "source": [
        "fr_preds = mbart50_model.translate(fr_ori, target_lang='en') # Translation"
      ],
      "metadata": {
        "colab": {
          "base_uri": "https://localhost:8080/"
        },
        "outputId": "6ce2cf4d-0dda-4def-eeec-10bc744c6616",
        "id": "0lMuOxNvk0Xn"
      },
      "execution_count": 90,
      "outputs": [
        {
          "output_type": "stream",
          "name": "stderr",
          "text": [
            "/usr/local/lib/python3.7/dist-packages/transformers/generation_utils.py:1207: UserWarning: Neither `max_length` nor `max_new_tokens` have been set, `max_length` will default to 200 (`self.config.max_length`). Controlling `max_length` via the config is deprecated and `max_length` will be removed from the config in v5 of Transformers -- we recommend using `max_new_tokens` to control the maximum length of the generation.\n",
            "  UserWarning,\n"
          ]
        }
      ]
    },
    {
      "cell_type": "code",
      "source": [
        "print(\"1st predicted sentence:\", fr_preds[0])"
      ],
      "metadata": {
        "colab": {
          "base_uri": "https://localhost:8080/"
        },
        "outputId": "dcee3a49-2837-4653-e99e-94af584681aa",
        "id": "oTz-Oh8fk0Xo"
      },
      "execution_count": 91,
      "outputs": [
        {
          "output_type": "stream",
          "name": "stdout",
          "text": [
            "1st predicted sentence: Active coal helps reduce excess flatulence after meals\n"
          ]
        }
      ]
    },
    {
      "cell_type": "code",
      "source": [
        "evaluate_model(fr_preds,en_refs)# Evaluation"
      ],
      "metadata": {
        "colab": {
          "base_uri": "https://localhost:8080/"
        },
        "outputId": "fccb3960-6a6a-4b45-86f0-b506a3dde378",
        "id": "dEPvxDKKk0Xo"
      },
      "execution_count": 92,
      "outputs": [
        {
          "output_type": "stream",
          "name": "stdout",
          "text": [
            "BLEU SCORE:\n",
            "BLEU: 37.243763\n"
          ]
        }
      ]
    },
    {
      "cell_type": "markdown",
      "source": [
        "### German"
      ],
      "metadata": {
        "id": "2WbuvphPmrtq"
      }
    },
    {
      "cell_type": "code",
      "source": [
        "de_ori = [] # Original German sentences\n",
        "for line in df.iloc[1:,5]:\n",
        "  line = line.strip()\n",
        "  de_ori.append(line)\n",
        "\n",
        "print(\"1st sentence:\", de_ori[0])"
      ],
      "metadata": {
        "colab": {
          "base_uri": "https://localhost:8080/"
        },
        "outputId": "29f88a10-45d5-4411-df6c-0e8a4a5be384",
        "id": "PFrx0hrtmyNf"
      },
      "execution_count": 93,
      "outputs": [
        {
          "output_type": "stream",
          "name": "stdout",
          "text": [
            "1st sentence: Aktivkohle trägt zur Verringerung übermäßiger Blähungen nach dem Essen bei\n"
          ]
        }
      ]
    },
    {
      "cell_type": "code",
      "source": [
        "de_preds = mbart50_model.translate(de_ori, target_lang='en') # Translation"
      ],
      "metadata": {
        "id": "2wUUyWEHmyNg"
      },
      "execution_count": 94,
      "outputs": []
    },
    {
      "cell_type": "code",
      "source": [
        "print(\"1st predicted sentence:\", de_preds[0])"
      ],
      "metadata": {
        "colab": {
          "base_uri": "https://localhost:8080/"
        },
        "outputId": "c7176c57-12ea-4899-ca3d-f042fe6800d6",
        "id": "6h6kEtJUmyNg"
      },
      "execution_count": 95,
      "outputs": [
        {
          "output_type": "stream",
          "name": "stdout",
          "text": [
            "1st predicted sentence: Active carbon contributes to the reduction of excessive bleeding after eating\n"
          ]
        }
      ]
    },
    {
      "cell_type": "code",
      "source": [
        "evaluate_model(de_preds,en_refs)# Evaluation"
      ],
      "metadata": {
        "colab": {
          "base_uri": "https://localhost:8080/"
        },
        "outputId": "7c5198cf-e48f-4051-bd41-e2dd6455053c",
        "id": "iCpVGXlsmyNh"
      },
      "execution_count": 96,
      "outputs": [
        {
          "output_type": "stream",
          "name": "stdout",
          "text": [
            "BLEU SCORE:\n",
            "BLEU: 40.050156\n"
          ]
        }
      ]
    },
    {
      "cell_type": "markdown",
      "source": [
        "### Polish"
      ],
      "metadata": {
        "id": "FsEuoYkEnPjN"
      }
    },
    {
      "cell_type": "code",
      "source": [
        "pl_ori = [] # Original Polish sentences\n",
        "for line in df.iloc[1:,7]:\n",
        "  line = line.strip()\n",
        "  pl_ori.append(line)\n",
        "\n",
        "print(\"1st sentence:\", pl_ori[0])"
      ],
      "metadata": {
        "colab": {
          "base_uri": "https://localhost:8080/"
        },
        "outputId": "0ad2414f-e5ef-40d7-9cac-22f80ddd93be",
        "id": "CRjAixd6nPjO"
      },
      "execution_count": 97,
      "outputs": [
        {
          "output_type": "stream",
          "name": "stdout",
          "text": [
            "1st sentence: Węgiel aktywowany pomaga zmniejszyć występujące po jedzeniu nadmierne wzdęcia\n"
          ]
        }
      ]
    },
    {
      "cell_type": "code",
      "source": [
        "pl_preds = mbart50_model.translate(pl_ori, target_lang='en') # Translation"
      ],
      "metadata": {
        "id": "pwpAoPwnnPjO"
      },
      "execution_count": 98,
      "outputs": []
    },
    {
      "cell_type": "code",
      "source": [
        "print(\"1st predicted sentence:\", pl_preds[0])"
      ],
      "metadata": {
        "colab": {
          "base_uri": "https://localhost:8080/"
        },
        "outputId": "6765569d-ec85-42bd-a014-9feaf2e8dd82",
        "id": "DKL_pzj6nPjP"
      },
      "execution_count": 99,
      "outputs": [
        {
          "output_type": "stream",
          "name": "stdout",
          "text": [
            "1st predicted sentence: Activated carbon helps to reduce overeating after eating\n"
          ]
        }
      ]
    },
    {
      "cell_type": "code",
      "source": [
        "evaluate_model(pl_preds,en_refs)# Evaluation"
      ],
      "metadata": {
        "colab": {
          "base_uri": "https://localhost:8080/"
        },
        "outputId": "fe7cd615-d94b-4209-a273-18dce4c7ca98",
        "id": "FRmzTjzEnPjP"
      },
      "execution_count": 100,
      "outputs": [
        {
          "output_type": "stream",
          "name": "stdout",
          "text": [
            "BLEU SCORE:\n",
            "BLEU: 22.337401\n"
          ]
        }
      ]
    },
    {
      "cell_type": "markdown",
      "source": [
        "### Romanian"
      ],
      "metadata": {
        "id": "C7VxINWVn-up"
      }
    },
    {
      "cell_type": "code",
      "source": [
        "ro_ori = [] # Original Romanian sentences\n",
        "for line in df.iloc[1:,9]:\n",
        "  line = line.strip()\n",
        "  ro_ori.append(line)\n",
        "\n",
        "print(\"1st sentence:\", ro_ori[0])"
      ],
      "metadata": {
        "colab": {
          "base_uri": "https://localhost:8080/"
        },
        "outputId": "e0c95b61-10cc-4cf3-cf11-6afe711163a6",
        "id": "K6eiAFXzn-up"
      },
      "execution_count": 101,
      "outputs": [
        {
          "output_type": "stream",
          "name": "stdout",
          "text": [
            "1st sentence: Cărbunele activ contribuie la reducerea flatulenței după consumul de alimente\n"
          ]
        }
      ]
    },
    {
      "cell_type": "code",
      "source": [
        "ro_preds = mbart50_model.translate(ro_ori, target_lang='en') # Translation"
      ],
      "metadata": {
        "id": "1rcg7OWdn-uq"
      },
      "execution_count": 102,
      "outputs": []
    },
    {
      "cell_type": "code",
      "source": [
        "print(\"1st predicted sentence:\", ro_preds[0])"
      ],
      "metadata": {
        "colab": {
          "base_uri": "https://localhost:8080/"
        },
        "outputId": "a430fe2f-e7bb-4f20-f1dc-c8d59322cc3b",
        "id": "WcUdNw5jn-uq"
      },
      "execution_count": 103,
      "outputs": [
        {
          "output_type": "stream",
          "name": "stdout",
          "text": [
            "1st predicted sentence: Active coal helps reduce post-food flatulence\n"
          ]
        }
      ]
    },
    {
      "cell_type": "code",
      "source": [
        "evaluate_model(ro_preds,en_refs)# Evaluation"
      ],
      "metadata": {
        "colab": {
          "base_uri": "https://localhost:8080/"
        },
        "outputId": "1eba3d76-22f5-4911-fd07-25b6810c4e57",
        "id": "5D_2b8zCn-uq"
      },
      "execution_count": 104,
      "outputs": [
        {
          "output_type": "stream",
          "name": "stdout",
          "text": [
            "BLEU SCORE:\n",
            "BLEU: 26.964747\n"
          ]
        }
      ]
    },
    {
      "cell_type": "markdown",
      "source": [
        "### Many to 1"
      ],
      "metadata": {
        "id": "deVQWLq2oufT"
      }
    },
    {
      "cell_type": "code",
      "source": [
        "predslist = fr_preds+ de_preds+ pl_preds +ro_preds\n",
        "\n",
        "refslist = en_refs+ en_refs+ en_refs + en_refs"
      ],
      "metadata": {
        "id": "ZPL1Orn7pGPj"
      },
      "execution_count": 105,
      "outputs": []
    },
    {
      "cell_type": "code",
      "source": [
        "evaluate_model(predslist,refslist) # Evaluation"
      ],
      "metadata": {
        "colab": {
          "base_uri": "https://localhost:8080/"
        },
        "outputId": "ebfc8935-5502-46cc-c0a1-cda529ae0398",
        "id": "_tEs5BSDpGPk"
      },
      "execution_count": 106,
      "outputs": [
        {
          "output_type": "stream",
          "name": "stdout",
          "text": [
            "BLEU SCORE:\n",
            "BLEU: 31.884663\n"
          ]
        }
      ]
    },
    {
      "cell_type": "markdown",
      "source": [
        "## M2M-100"
      ],
      "metadata": {
        "id": "VSPzsSEUkMB4"
      }
    },
    {
      "cell_type": "code",
      "source": [
        "m2m100_model = EasyNMT('m2m_100_418M')"
      ],
      "metadata": {
        "id": "tU5uVzgdbyqX",
        "colab": {
          "base_uri": "https://localhost:8080/",
          "height": 227,
          "referenced_widgets": [
            "7ac994488a2c43ffbd6a6b39d862d6e4",
            "7aab571d06754c30a0412042266a5159",
            "dad8ff1dc8d44d66a99e36daaf88db80",
            "7f2e533006664b23b536b15e94335b59",
            "e8962120bc974da8856270b85f523c84",
            "91ffd6664953409099ec526e42ec0bdb",
            "a68f48d5fdf0412ca66671ece547b499",
            "6ea3fe6437354669bae3fe3175bb6bd8",
            "0c29c7d372664d6292f281fce28ad2a5",
            "ed3924fc244a4fc9baff1e7172333347",
            "9e6e81a8d46a44ab8f13de3248bfa051",
            "15ccf74ef18e4c9fa7610f4902258cb1",
            "fc980cb8a23347b5b91f531cf5cc0055",
            "fe2aeb697b3d4067902d4643b7278f52",
            "553b95f3f6bf4ed18f28451630f0c204",
            "4fa9aa796dfc4b4584fa3bb87d77b207",
            "42694ddd20a2424c92b6de39f3e5e494",
            "4a3487383c51421da94ff92bc8ef0270",
            "e0538737f6ee47169dfd2c9d16050d11",
            "3686333b52634c11b630dafbd44eb0b4",
            "44f15d81281c40569e7dbe7e5ecc07eb",
            "d02976dc821240fe9dc9c500a89d6986",
            "88a91cbb7608466d860c261aa45b2fad",
            "e7bda9b42e9f4a2f9ac3be24e8bc1fce",
            "1e745e5adea24e2fb8907f09a5cfdbbd",
            "93be1bfc05c448f1bba4655455df9d5c",
            "f69d7a76ae214d508deb690b2a734b26",
            "960163c3d0294fce86225d889ea21da5",
            "192a36dc10b14859b795fc4be17a4118",
            "1daeb0852bf3402ea991e99e31481508",
            "f97e7c2aaacb4eb39e176f56fba31b2c",
            "f0dee62e421140dca9f2372433a86c96",
            "2f4846071ee547389cdeab7693190c44",
            "945661c4cfb145e49013784cbb24a16b",
            "6006c7f300434e758292e65b39f40dcd",
            "07da6443b2c44d63bacf517425d919b0",
            "281511f12cd043208335df8ec1c27be5",
            "d34a3fc286e4455ca79d6c6efc56e191",
            "d52a2cc45f154052a4d1d33bb5411b98",
            "07561dda2e9d4606915f2250fadc59f4",
            "fa3b52baf84a43378ce6bb292090c73e",
            "1617af2fd29248fd846f0f5248c2b6a4",
            "3ac40c92a3c0475ab06b9878426af1a2",
            "0eecc093c37f4953909a981c42fc2dfb",
            "a9e4d76aa2b94e2186d4f1035cd6bb50",
            "cb7ba48a82384a86a33519dff8af1873",
            "894695184c73477da37b020e61176872",
            "98a86031c1ad4a1493a0dc795142d531",
            "7de429193a354916aa9ed8dba182ce06",
            "3529870454214e72b82502bfe688484f",
            "aa979d0e36124570a8cf04927148d698",
            "3add92ae3f2b4dfb87cceacdbc52d948",
            "1cea3df4d51544c0b8f5c6e5b4c66d49",
            "4c395ab20e1d45da84144e5ff20570e6",
            "ed70a2b324c14a0595e08854a5e146cc",
            "5c5ad33850ab497bb9cca3c68898a078",
            "1613bec5ee48431fae646164b9040d16",
            "0633b12e13d041929ef858367f4ca616",
            "89d7cf992f514183abb94d37ed401c9b",
            "acdbdbc2fbf14d50a7fabc34f4edf4e3",
            "a1b6804e48ce4af2a2652c570ea9af9e",
            "5841ae870f78408c90e25f26d20abe7e",
            "d98ca1e08a254956983464201426070f",
            "47ae303794f3495e93915469a87e2a57",
            "320b57d964f543f1aa8c523a6563c8b0",
            "8ae698d1ad0a42b787d6a7e4d4b016d2"
          ]
        },
        "outputId": "50a27244-1654-460d-80d8-258e8dab1635"
      },
      "execution_count": null,
      "outputs": [
        {
          "output_type": "stream",
          "name": "stderr",
          "text": [
            "89.9kB [00:00, 27.5MB/s]                   \n"
          ]
        },
        {
          "output_type": "display_data",
          "data": {
            "text/plain": [
              "Downloading config.json:   0%|          | 0.00/908 [00:00<?, ?B/s]"
            ],
            "application/vnd.jupyter.widget-view+json": {
              "version_major": 2,
              "version_minor": 0,
              "model_id": "7ac994488a2c43ffbd6a6b39d862d6e4"
            }
          },
          "metadata": {}
        },
        {
          "output_type": "display_data",
          "data": {
            "text/plain": [
              "Downloading pytorch_model.bin:   0%|          | 0.00/1.80G [00:00<?, ?B/s]"
            ],
            "application/vnd.jupyter.widget-view+json": {
              "version_major": 2,
              "version_minor": 0,
              "model_id": "15ccf74ef18e4c9fa7610f4902258cb1"
            }
          },
          "metadata": {}
        },
        {
          "output_type": "display_data",
          "data": {
            "text/plain": [
              "Downloading tokenizer_config.json:   0%|          | 0.00/272 [00:00<?, ?B/s]"
            ],
            "application/vnd.jupyter.widget-view+json": {
              "version_major": 2,
              "version_minor": 0,
              "model_id": "88a91cbb7608466d860c261aa45b2fad"
            }
          },
          "metadata": {}
        },
        {
          "output_type": "display_data",
          "data": {
            "text/plain": [
              "Downloading vocab.json:   0%|          | 0.00/3.54M [00:00<?, ?B/s]"
            ],
            "application/vnd.jupyter.widget-view+json": {
              "version_major": 2,
              "version_minor": 0,
              "model_id": "945661c4cfb145e49013784cbb24a16b"
            }
          },
          "metadata": {}
        },
        {
          "output_type": "display_data",
          "data": {
            "text/plain": [
              "Downloading sentencepiece.bpe.model:   0%|          | 0.00/2.31M [00:00<?, ?B/s]"
            ],
            "application/vnd.jupyter.widget-view+json": {
              "version_major": 2,
              "version_minor": 0,
              "model_id": "a9e4d76aa2b94e2186d4f1035cd6bb50"
            }
          },
          "metadata": {}
        },
        {
          "output_type": "display_data",
          "data": {
            "text/plain": [
              "Downloading special_tokens_map.json:   0%|          | 0.00/1.11k [00:00<?, ?B/s]"
            ],
            "application/vnd.jupyter.widget-view+json": {
              "version_major": 2,
              "version_minor": 0,
              "model_id": "5c5ad33850ab497bb9cca3c68898a078"
            }
          },
          "metadata": {}
        }
      ]
    },
    {
      "cell_type": "code",
      "source": [
        "print(\"Language directions:\")\n",
        "print(sorted(list(m2m100_model.lang_pairs)))"
      ],
      "metadata": {
        "colab": {
          "base_uri": "https://localhost:8080/"
        },
        "id": "GwIzWqtfp3z1",
        "outputId": "38e49961-35b3-46a7-9050-f604101b7fce"
      },
      "execution_count": 107,
      "outputs": [
        {
          "output_type": "stream",
          "name": "stdout",
          "text": [
            "Language directions:\n",
            "['af-am', 'af-ar', 'af-ast', 'af-az', 'af-ba', 'af-be', 'af-bg', 'af-bn', 'af-br', 'af-bs', 'af-ca', 'af-ceb', 'af-cs', 'af-cy', 'af-da', 'af-de', 'af-el', 'af-en', 'af-es', 'af-et', 'af-fa', 'af-ff', 'af-fi', 'af-fr', 'af-fy', 'af-ga', 'af-gd', 'af-gl', 'af-gu', 'af-ha', 'af-he', 'af-hi', 'af-hr', 'af-ht', 'af-hu', 'af-hy', 'af-id', 'af-ig', 'af-ilo', 'af-is', 'af-it', 'af-ja', 'af-jv', 'af-ka', 'af-kk', 'af-km', 'af-kn', 'af-ko', 'af-lb', 'af-lg', 'af-ln', 'af-lo', 'af-lt', 'af-lv', 'af-mg', 'af-mk', 'af-ml', 'af-mn', 'af-mr', 'af-ms', 'af-my', 'af-ne', 'af-nl', 'af-no', 'af-ns', 'af-oc', 'af-or', 'af-pa', 'af-pl', 'af-ps', 'af-pt', 'af-ro', 'af-ru', 'af-sd', 'af-si', 'af-sk', 'af-sl', 'af-so', 'af-sq', 'af-sr', 'af-ss', 'af-su', 'af-sv', 'af-sw', 'af-ta', 'af-th', 'af-tl', 'af-tn', 'af-tr', 'af-uk', 'af-ur', 'af-uz', 'af-vi', 'af-wo', 'af-xh', 'af-yi', 'af-yo', 'af-zh', 'af-zu', 'am-af', 'am-ar', 'am-ast', 'am-az', 'am-ba', 'am-be', 'am-bg', 'am-bn', 'am-br', 'am-bs', 'am-ca', 'am-ceb', 'am-cs', 'am-cy', 'am-da', 'am-de', 'am-el', 'am-en', 'am-es', 'am-et', 'am-fa', 'am-ff', 'am-fi', 'am-fr', 'am-fy', 'am-ga', 'am-gd', 'am-gl', 'am-gu', 'am-ha', 'am-he', 'am-hi', 'am-hr', 'am-ht', 'am-hu', 'am-hy', 'am-id', 'am-ig', 'am-ilo', 'am-is', 'am-it', 'am-ja', 'am-jv', 'am-ka', 'am-kk', 'am-km', 'am-kn', 'am-ko', 'am-lb', 'am-lg', 'am-ln', 'am-lo', 'am-lt', 'am-lv', 'am-mg', 'am-mk', 'am-ml', 'am-mn', 'am-mr', 'am-ms', 'am-my', 'am-ne', 'am-nl', 'am-no', 'am-ns', 'am-oc', 'am-or', 'am-pa', 'am-pl', 'am-ps', 'am-pt', 'am-ro', 'am-ru', 'am-sd', 'am-si', 'am-sk', 'am-sl', 'am-so', 'am-sq', 'am-sr', 'am-ss', 'am-su', 'am-sv', 'am-sw', 'am-ta', 'am-th', 'am-tl', 'am-tn', 'am-tr', 'am-uk', 'am-ur', 'am-uz', 'am-vi', 'am-wo', 'am-xh', 'am-yi', 'am-yo', 'am-zh', 'am-zu', 'ar-af', 'ar-am', 'ar-ast', 'ar-az', 'ar-ba', 'ar-be', 'ar-bg', 'ar-bn', 'ar-br', 'ar-bs', 'ar-ca', 'ar-ceb', 'ar-cs', 'ar-cy', 'ar-da', 'ar-de', 'ar-el', 'ar-en', 'ar-es', 'ar-et', 'ar-fa', 'ar-ff', 'ar-fi', 'ar-fr', 'ar-fy', 'ar-ga', 'ar-gd', 'ar-gl', 'ar-gu', 'ar-ha', 'ar-he', 'ar-hi', 'ar-hr', 'ar-ht', 'ar-hu', 'ar-hy', 'ar-id', 'ar-ig', 'ar-ilo', 'ar-is', 'ar-it', 'ar-ja', 'ar-jv', 'ar-ka', 'ar-kk', 'ar-km', 'ar-kn', 'ar-ko', 'ar-lb', 'ar-lg', 'ar-ln', 'ar-lo', 'ar-lt', 'ar-lv', 'ar-mg', 'ar-mk', 'ar-ml', 'ar-mn', 'ar-mr', 'ar-ms', 'ar-my', 'ar-ne', 'ar-nl', 'ar-no', 'ar-ns', 'ar-oc', 'ar-or', 'ar-pa', 'ar-pl', 'ar-ps', 'ar-pt', 'ar-ro', 'ar-ru', 'ar-sd', 'ar-si', 'ar-sk', 'ar-sl', 'ar-so', 'ar-sq', 'ar-sr', 'ar-ss', 'ar-su', 'ar-sv', 'ar-sw', 'ar-ta', 'ar-th', 'ar-tl', 'ar-tn', 'ar-tr', 'ar-uk', 'ar-ur', 'ar-uz', 'ar-vi', 'ar-wo', 'ar-xh', 'ar-yi', 'ar-yo', 'ar-zh', 'ar-zu', 'ast-af', 'ast-am', 'ast-ar', 'ast-az', 'ast-ba', 'ast-be', 'ast-bg', 'ast-bn', 'ast-br', 'ast-bs', 'ast-ca', 'ast-ceb', 'ast-cs', 'ast-cy', 'ast-da', 'ast-de', 'ast-el', 'ast-en', 'ast-es', 'ast-et', 'ast-fa', 'ast-ff', 'ast-fi', 'ast-fr', 'ast-fy', 'ast-ga', 'ast-gd', 'ast-gl', 'ast-gu', 'ast-ha', 'ast-he', 'ast-hi', 'ast-hr', 'ast-ht', 'ast-hu', 'ast-hy', 'ast-id', 'ast-ig', 'ast-ilo', 'ast-is', 'ast-it', 'ast-ja', 'ast-jv', 'ast-ka', 'ast-kk', 'ast-km', 'ast-kn', 'ast-ko', 'ast-lb', 'ast-lg', 'ast-ln', 'ast-lo', 'ast-lt', 'ast-lv', 'ast-mg', 'ast-mk', 'ast-ml', 'ast-mn', 'ast-mr', 'ast-ms', 'ast-my', 'ast-ne', 'ast-nl', 'ast-no', 'ast-ns', 'ast-oc', 'ast-or', 'ast-pa', 'ast-pl', 'ast-ps', 'ast-pt', 'ast-ro', 'ast-ru', 'ast-sd', 'ast-si', 'ast-sk', 'ast-sl', 'ast-so', 'ast-sq', 'ast-sr', 'ast-ss', 'ast-su', 'ast-sv', 'ast-sw', 'ast-ta', 'ast-th', 'ast-tl', 'ast-tn', 'ast-tr', 'ast-uk', 'ast-ur', 'ast-uz', 'ast-vi', 'ast-wo', 'ast-xh', 'ast-yi', 'ast-yo', 'ast-zh', 'ast-zu', 'az-af', 'az-am', 'az-ar', 'az-ast', 'az-ba', 'az-be', 'az-bg', 'az-bn', 'az-br', 'az-bs', 'az-ca', 'az-ceb', 'az-cs', 'az-cy', 'az-da', 'az-de', 'az-el', 'az-en', 'az-es', 'az-et', 'az-fa', 'az-ff', 'az-fi', 'az-fr', 'az-fy', 'az-ga', 'az-gd', 'az-gl', 'az-gu', 'az-ha', 'az-he', 'az-hi', 'az-hr', 'az-ht', 'az-hu', 'az-hy', 'az-id', 'az-ig', 'az-ilo', 'az-is', 'az-it', 'az-ja', 'az-jv', 'az-ka', 'az-kk', 'az-km', 'az-kn', 'az-ko', 'az-lb', 'az-lg', 'az-ln', 'az-lo', 'az-lt', 'az-lv', 'az-mg', 'az-mk', 'az-ml', 'az-mn', 'az-mr', 'az-ms', 'az-my', 'az-ne', 'az-nl', 'az-no', 'az-ns', 'az-oc', 'az-or', 'az-pa', 'az-pl', 'az-ps', 'az-pt', 'az-ro', 'az-ru', 'az-sd', 'az-si', 'az-sk', 'az-sl', 'az-so', 'az-sq', 'az-sr', 'az-ss', 'az-su', 'az-sv', 'az-sw', 'az-ta', 'az-th', 'az-tl', 'az-tn', 'az-tr', 'az-uk', 'az-ur', 'az-uz', 'az-vi', 'az-wo', 'az-xh', 'az-yi', 'az-yo', 'az-zh', 'az-zu', 'ba-af', 'ba-am', 'ba-ar', 'ba-ast', 'ba-az', 'ba-be', 'ba-bg', 'ba-bn', 'ba-br', 'ba-bs', 'ba-ca', 'ba-ceb', 'ba-cs', 'ba-cy', 'ba-da', 'ba-de', 'ba-el', 'ba-en', 'ba-es', 'ba-et', 'ba-fa', 'ba-ff', 'ba-fi', 'ba-fr', 'ba-fy', 'ba-ga', 'ba-gd', 'ba-gl', 'ba-gu', 'ba-ha', 'ba-he', 'ba-hi', 'ba-hr', 'ba-ht', 'ba-hu', 'ba-hy', 'ba-id', 'ba-ig', 'ba-ilo', 'ba-is', 'ba-it', 'ba-ja', 'ba-jv', 'ba-ka', 'ba-kk', 'ba-km', 'ba-kn', 'ba-ko', 'ba-lb', 'ba-lg', 'ba-ln', 'ba-lo', 'ba-lt', 'ba-lv', 'ba-mg', 'ba-mk', 'ba-ml', 'ba-mn', 'ba-mr', 'ba-ms', 'ba-my', 'ba-ne', 'ba-nl', 'ba-no', 'ba-ns', 'ba-oc', 'ba-or', 'ba-pa', 'ba-pl', 'ba-ps', 'ba-pt', 'ba-ro', 'ba-ru', 'ba-sd', 'ba-si', 'ba-sk', 'ba-sl', 'ba-so', 'ba-sq', 'ba-sr', 'ba-ss', 'ba-su', 'ba-sv', 'ba-sw', 'ba-ta', 'ba-th', 'ba-tl', 'ba-tn', 'ba-tr', 'ba-uk', 'ba-ur', 'ba-uz', 'ba-vi', 'ba-wo', 'ba-xh', 'ba-yi', 'ba-yo', 'ba-zh', 'ba-zu', 'be-af', 'be-am', 'be-ar', 'be-ast', 'be-az', 'be-ba', 'be-bg', 'be-bn', 'be-br', 'be-bs', 'be-ca', 'be-ceb', 'be-cs', 'be-cy', 'be-da', 'be-de', 'be-el', 'be-en', 'be-es', 'be-et', 'be-fa', 'be-ff', 'be-fi', 'be-fr', 'be-fy', 'be-ga', 'be-gd', 'be-gl', 'be-gu', 'be-ha', 'be-he', 'be-hi', 'be-hr', 'be-ht', 'be-hu', 'be-hy', 'be-id', 'be-ig', 'be-ilo', 'be-is', 'be-it', 'be-ja', 'be-jv', 'be-ka', 'be-kk', 'be-km', 'be-kn', 'be-ko', 'be-lb', 'be-lg', 'be-ln', 'be-lo', 'be-lt', 'be-lv', 'be-mg', 'be-mk', 'be-ml', 'be-mn', 'be-mr', 'be-ms', 'be-my', 'be-ne', 'be-nl', 'be-no', 'be-ns', 'be-oc', 'be-or', 'be-pa', 'be-pl', 'be-ps', 'be-pt', 'be-ro', 'be-ru', 'be-sd', 'be-si', 'be-sk', 'be-sl', 'be-so', 'be-sq', 'be-sr', 'be-ss', 'be-su', 'be-sv', 'be-sw', 'be-ta', 'be-th', 'be-tl', 'be-tn', 'be-tr', 'be-uk', 'be-ur', 'be-uz', 'be-vi', 'be-wo', 'be-xh', 'be-yi', 'be-yo', 'be-zh', 'be-zu', 'bg-af', 'bg-am', 'bg-ar', 'bg-ast', 'bg-az', 'bg-ba', 'bg-be', 'bg-bn', 'bg-br', 'bg-bs', 'bg-ca', 'bg-ceb', 'bg-cs', 'bg-cy', 'bg-da', 'bg-de', 'bg-el', 'bg-en', 'bg-es', 'bg-et', 'bg-fa', 'bg-ff', 'bg-fi', 'bg-fr', 'bg-fy', 'bg-ga', 'bg-gd', 'bg-gl', 'bg-gu', 'bg-ha', 'bg-he', 'bg-hi', 'bg-hr', 'bg-ht', 'bg-hu', 'bg-hy', 'bg-id', 'bg-ig', 'bg-ilo', 'bg-is', 'bg-it', 'bg-ja', 'bg-jv', 'bg-ka', 'bg-kk', 'bg-km', 'bg-kn', 'bg-ko', 'bg-lb', 'bg-lg', 'bg-ln', 'bg-lo', 'bg-lt', 'bg-lv', 'bg-mg', 'bg-mk', 'bg-ml', 'bg-mn', 'bg-mr', 'bg-ms', 'bg-my', 'bg-ne', 'bg-nl', 'bg-no', 'bg-ns', 'bg-oc', 'bg-or', 'bg-pa', 'bg-pl', 'bg-ps', 'bg-pt', 'bg-ro', 'bg-ru', 'bg-sd', 'bg-si', 'bg-sk', 'bg-sl', 'bg-so', 'bg-sq', 'bg-sr', 'bg-ss', 'bg-su', 'bg-sv', 'bg-sw', 'bg-ta', 'bg-th', 'bg-tl', 'bg-tn', 'bg-tr', 'bg-uk', 'bg-ur', 'bg-uz', 'bg-vi', 'bg-wo', 'bg-xh', 'bg-yi', 'bg-yo', 'bg-zh', 'bg-zu', 'bn-af', 'bn-am', 'bn-ar', 'bn-ast', 'bn-az', 'bn-ba', 'bn-be', 'bn-bg', 'bn-br', 'bn-bs', 'bn-ca', 'bn-ceb', 'bn-cs', 'bn-cy', 'bn-da', 'bn-de', 'bn-el', 'bn-en', 'bn-es', 'bn-et', 'bn-fa', 'bn-ff', 'bn-fi', 'bn-fr', 'bn-fy', 'bn-ga', 'bn-gd', 'bn-gl', 'bn-gu', 'bn-ha', 'bn-he', 'bn-hi', 'bn-hr', 'bn-ht', 'bn-hu', 'bn-hy', 'bn-id', 'bn-ig', 'bn-ilo', 'bn-is', 'bn-it', 'bn-ja', 'bn-jv', 'bn-ka', 'bn-kk', 'bn-km', 'bn-kn', 'bn-ko', 'bn-lb', 'bn-lg', 'bn-ln', 'bn-lo', 'bn-lt', 'bn-lv', 'bn-mg', 'bn-mk', 'bn-ml', 'bn-mn', 'bn-mr', 'bn-ms', 'bn-my', 'bn-ne', 'bn-nl', 'bn-no', 'bn-ns', 'bn-oc', 'bn-or', 'bn-pa', 'bn-pl', 'bn-ps', 'bn-pt', 'bn-ro', 'bn-ru', 'bn-sd', 'bn-si', 'bn-sk', 'bn-sl', 'bn-so', 'bn-sq', 'bn-sr', 'bn-ss', 'bn-su', 'bn-sv', 'bn-sw', 'bn-ta', 'bn-th', 'bn-tl', 'bn-tn', 'bn-tr', 'bn-uk', 'bn-ur', 'bn-uz', 'bn-vi', 'bn-wo', 'bn-xh', 'bn-yi', 'bn-yo', 'bn-zh', 'bn-zu', 'br-af', 'br-am', 'br-ar', 'br-ast', 'br-az', 'br-ba', 'br-be', 'br-bg', 'br-bn', 'br-bs', 'br-ca', 'br-ceb', 'br-cs', 'br-cy', 'br-da', 'br-de', 'br-el', 'br-en', 'br-es', 'br-et', 'br-fa', 'br-ff', 'br-fi', 'br-fr', 'br-fy', 'br-ga', 'br-gd', 'br-gl', 'br-gu', 'br-ha', 'br-he', 'br-hi', 'br-hr', 'br-ht', 'br-hu', 'br-hy', 'br-id', 'br-ig', 'br-ilo', 'br-is', 'br-it', 'br-ja', 'br-jv', 'br-ka', 'br-kk', 'br-km', 'br-kn', 'br-ko', 'br-lb', 'br-lg', 'br-ln', 'br-lo', 'br-lt', 'br-lv', 'br-mg', 'br-mk', 'br-ml', 'br-mn', 'br-mr', 'br-ms', 'br-my', 'br-ne', 'br-nl', 'br-no', 'br-ns', 'br-oc', 'br-or', 'br-pa', 'br-pl', 'br-ps', 'br-pt', 'br-ro', 'br-ru', 'br-sd', 'br-si', 'br-sk', 'br-sl', 'br-so', 'br-sq', 'br-sr', 'br-ss', 'br-su', 'br-sv', 'br-sw', 'br-ta', 'br-th', 'br-tl', 'br-tn', 'br-tr', 'br-uk', 'br-ur', 'br-uz', 'br-vi', 'br-wo', 'br-xh', 'br-yi', 'br-yo', 'br-zh', 'br-zu', 'bs-af', 'bs-am', 'bs-ar', 'bs-ast', 'bs-az', 'bs-ba', 'bs-be', 'bs-bg', 'bs-bn', 'bs-br', 'bs-ca', 'bs-ceb', 'bs-cs', 'bs-cy', 'bs-da', 'bs-de', 'bs-el', 'bs-en', 'bs-es', 'bs-et', 'bs-fa', 'bs-ff', 'bs-fi', 'bs-fr', 'bs-fy', 'bs-ga', 'bs-gd', 'bs-gl', 'bs-gu', 'bs-ha', 'bs-he', 'bs-hi', 'bs-hr', 'bs-ht', 'bs-hu', 'bs-hy', 'bs-id', 'bs-ig', 'bs-ilo', 'bs-is', 'bs-it', 'bs-ja', 'bs-jv', 'bs-ka', 'bs-kk', 'bs-km', 'bs-kn', 'bs-ko', 'bs-lb', 'bs-lg', 'bs-ln', 'bs-lo', 'bs-lt', 'bs-lv', 'bs-mg', 'bs-mk', 'bs-ml', 'bs-mn', 'bs-mr', 'bs-ms', 'bs-my', 'bs-ne', 'bs-nl', 'bs-no', 'bs-ns', 'bs-oc', 'bs-or', 'bs-pa', 'bs-pl', 'bs-ps', 'bs-pt', 'bs-ro', 'bs-ru', 'bs-sd', 'bs-si', 'bs-sk', 'bs-sl', 'bs-so', 'bs-sq', 'bs-sr', 'bs-ss', 'bs-su', 'bs-sv', 'bs-sw', 'bs-ta', 'bs-th', 'bs-tl', 'bs-tn', 'bs-tr', 'bs-uk', 'bs-ur', 'bs-uz', 'bs-vi', 'bs-wo', 'bs-xh', 'bs-yi', 'bs-yo', 'bs-zh', 'bs-zu', 'ca-af', 'ca-am', 'ca-ar', 'ca-ast', 'ca-az', 'ca-ba', 'ca-be', 'ca-bg', 'ca-bn', 'ca-br', 'ca-bs', 'ca-ceb', 'ca-cs', 'ca-cy', 'ca-da', 'ca-de', 'ca-el', 'ca-en', 'ca-es', 'ca-et', 'ca-fa', 'ca-ff', 'ca-fi', 'ca-fr', 'ca-fy', 'ca-ga', 'ca-gd', 'ca-gl', 'ca-gu', 'ca-ha', 'ca-he', 'ca-hi', 'ca-hr', 'ca-ht', 'ca-hu', 'ca-hy', 'ca-id', 'ca-ig', 'ca-ilo', 'ca-is', 'ca-it', 'ca-ja', 'ca-jv', 'ca-ka', 'ca-kk', 'ca-km', 'ca-kn', 'ca-ko', 'ca-lb', 'ca-lg', 'ca-ln', 'ca-lo', 'ca-lt', 'ca-lv', 'ca-mg', 'ca-mk', 'ca-ml', 'ca-mn', 'ca-mr', 'ca-ms', 'ca-my', 'ca-ne', 'ca-nl', 'ca-no', 'ca-ns', 'ca-oc', 'ca-or', 'ca-pa', 'ca-pl', 'ca-ps', 'ca-pt', 'ca-ro', 'ca-ru', 'ca-sd', 'ca-si', 'ca-sk', 'ca-sl', 'ca-so', 'ca-sq', 'ca-sr', 'ca-ss', 'ca-su', 'ca-sv', 'ca-sw', 'ca-ta', 'ca-th', 'ca-tl', 'ca-tn', 'ca-tr', 'ca-uk', 'ca-ur', 'ca-uz', 'ca-vi', 'ca-wo', 'ca-xh', 'ca-yi', 'ca-yo', 'ca-zh', 'ca-zu', 'ceb-af', 'ceb-am', 'ceb-ar', 'ceb-ast', 'ceb-az', 'ceb-ba', 'ceb-be', 'ceb-bg', 'ceb-bn', 'ceb-br', 'ceb-bs', 'ceb-ca', 'ceb-cs', 'ceb-cy', 'ceb-da', 'ceb-de', 'ceb-el', 'ceb-en', 'ceb-es', 'ceb-et', 'ceb-fa', 'ceb-ff', 'ceb-fi', 'ceb-fr', 'ceb-fy', 'ceb-ga', 'ceb-gd', 'ceb-gl', 'ceb-gu', 'ceb-ha', 'ceb-he', 'ceb-hi', 'ceb-hr', 'ceb-ht', 'ceb-hu', 'ceb-hy', 'ceb-id', 'ceb-ig', 'ceb-ilo', 'ceb-is', 'ceb-it', 'ceb-ja', 'ceb-jv', 'ceb-ka', 'ceb-kk', 'ceb-km', 'ceb-kn', 'ceb-ko', 'ceb-lb', 'ceb-lg', 'ceb-ln', 'ceb-lo', 'ceb-lt', 'ceb-lv', 'ceb-mg', 'ceb-mk', 'ceb-ml', 'ceb-mn', 'ceb-mr', 'ceb-ms', 'ceb-my', 'ceb-ne', 'ceb-nl', 'ceb-no', 'ceb-ns', 'ceb-oc', 'ceb-or', 'ceb-pa', 'ceb-pl', 'ceb-ps', 'ceb-pt', 'ceb-ro', 'ceb-ru', 'ceb-sd', 'ceb-si', 'ceb-sk', 'ceb-sl', 'ceb-so', 'ceb-sq', 'ceb-sr', 'ceb-ss', 'ceb-su', 'ceb-sv', 'ceb-sw', 'ceb-ta', 'ceb-th', 'ceb-tl', 'ceb-tn', 'ceb-tr', 'ceb-uk', 'ceb-ur', 'ceb-uz', 'ceb-vi', 'ceb-wo', 'ceb-xh', 'ceb-yi', 'ceb-yo', 'ceb-zh', 'ceb-zu', 'cs-af', 'cs-am', 'cs-ar', 'cs-ast', 'cs-az', 'cs-ba', 'cs-be', 'cs-bg', 'cs-bn', 'cs-br', 'cs-bs', 'cs-ca', 'cs-ceb', 'cs-cy', 'cs-da', 'cs-de', 'cs-el', 'cs-en', 'cs-es', 'cs-et', 'cs-fa', 'cs-ff', 'cs-fi', 'cs-fr', 'cs-fy', 'cs-ga', 'cs-gd', 'cs-gl', 'cs-gu', 'cs-ha', 'cs-he', 'cs-hi', 'cs-hr', 'cs-ht', 'cs-hu', 'cs-hy', 'cs-id', 'cs-ig', 'cs-ilo', 'cs-is', 'cs-it', 'cs-ja', 'cs-jv', 'cs-ka', 'cs-kk', 'cs-km', 'cs-kn', 'cs-ko', 'cs-lb', 'cs-lg', 'cs-ln', 'cs-lo', 'cs-lt', 'cs-lv', 'cs-mg', 'cs-mk', 'cs-ml', 'cs-mn', 'cs-mr', 'cs-ms', 'cs-my', 'cs-ne', 'cs-nl', 'cs-no', 'cs-ns', 'cs-oc', 'cs-or', 'cs-pa', 'cs-pl', 'cs-ps', 'cs-pt', 'cs-ro', 'cs-ru', 'cs-sd', 'cs-si', 'cs-sk', 'cs-sl', 'cs-so', 'cs-sq', 'cs-sr', 'cs-ss', 'cs-su', 'cs-sv', 'cs-sw', 'cs-ta', 'cs-th', 'cs-tl', 'cs-tn', 'cs-tr', 'cs-uk', 'cs-ur', 'cs-uz', 'cs-vi', 'cs-wo', 'cs-xh', 'cs-yi', 'cs-yo', 'cs-zh', 'cs-zu', 'cy-af', 'cy-am', 'cy-ar', 'cy-ast', 'cy-az', 'cy-ba', 'cy-be', 'cy-bg', 'cy-bn', 'cy-br', 'cy-bs', 'cy-ca', 'cy-ceb', 'cy-cs', 'cy-da', 'cy-de', 'cy-el', 'cy-en', 'cy-es', 'cy-et', 'cy-fa', 'cy-ff', 'cy-fi', 'cy-fr', 'cy-fy', 'cy-ga', 'cy-gd', 'cy-gl', 'cy-gu', 'cy-ha', 'cy-he', 'cy-hi', 'cy-hr', 'cy-ht', 'cy-hu', 'cy-hy', 'cy-id', 'cy-ig', 'cy-ilo', 'cy-is', 'cy-it', 'cy-ja', 'cy-jv', 'cy-ka', 'cy-kk', 'cy-km', 'cy-kn', 'cy-ko', 'cy-lb', 'cy-lg', 'cy-ln', 'cy-lo', 'cy-lt', 'cy-lv', 'cy-mg', 'cy-mk', 'cy-ml', 'cy-mn', 'cy-mr', 'cy-ms', 'cy-my', 'cy-ne', 'cy-nl', 'cy-no', 'cy-ns', 'cy-oc', 'cy-or', 'cy-pa', 'cy-pl', 'cy-ps', 'cy-pt', 'cy-ro', 'cy-ru', 'cy-sd', 'cy-si', 'cy-sk', 'cy-sl', 'cy-so', 'cy-sq', 'cy-sr', 'cy-ss', 'cy-su', 'cy-sv', 'cy-sw', 'cy-ta', 'cy-th', 'cy-tl', 'cy-tn', 'cy-tr', 'cy-uk', 'cy-ur', 'cy-uz', 'cy-vi', 'cy-wo', 'cy-xh', 'cy-yi', 'cy-yo', 'cy-zh', 'cy-zu', 'da-af', 'da-am', 'da-ar', 'da-ast', 'da-az', 'da-ba', 'da-be', 'da-bg', 'da-bn', 'da-br', 'da-bs', 'da-ca', 'da-ceb', 'da-cs', 'da-cy', 'da-de', 'da-el', 'da-en', 'da-es', 'da-et', 'da-fa', 'da-ff', 'da-fi', 'da-fr', 'da-fy', 'da-ga', 'da-gd', 'da-gl', 'da-gu', 'da-ha', 'da-he', 'da-hi', 'da-hr', 'da-ht', 'da-hu', 'da-hy', 'da-id', 'da-ig', 'da-ilo', 'da-is', 'da-it', 'da-ja', 'da-jv', 'da-ka', 'da-kk', 'da-km', 'da-kn', 'da-ko', 'da-lb', 'da-lg', 'da-ln', 'da-lo', 'da-lt', 'da-lv', 'da-mg', 'da-mk', 'da-ml', 'da-mn', 'da-mr', 'da-ms', 'da-my', 'da-ne', 'da-nl', 'da-no', 'da-ns', 'da-oc', 'da-or', 'da-pa', 'da-pl', 'da-ps', 'da-pt', 'da-ro', 'da-ru', 'da-sd', 'da-si', 'da-sk', 'da-sl', 'da-so', 'da-sq', 'da-sr', 'da-ss', 'da-su', 'da-sv', 'da-sw', 'da-ta', 'da-th', 'da-tl', 'da-tn', 'da-tr', 'da-uk', 'da-ur', 'da-uz', 'da-vi', 'da-wo', 'da-xh', 'da-yi', 'da-yo', 'da-zh', 'da-zu', 'de-af', 'de-am', 'de-ar', 'de-ast', 'de-az', 'de-ba', 'de-be', 'de-bg', 'de-bn', 'de-br', 'de-bs', 'de-ca', 'de-ceb', 'de-cs', 'de-cy', 'de-da', 'de-el', 'de-en', 'de-es', 'de-et', 'de-fa', 'de-ff', 'de-fi', 'de-fr', 'de-fy', 'de-ga', 'de-gd', 'de-gl', 'de-gu', 'de-ha', 'de-he', 'de-hi', 'de-hr', 'de-ht', 'de-hu', 'de-hy', 'de-id', 'de-ig', 'de-ilo', 'de-is', 'de-it', 'de-ja', 'de-jv', 'de-ka', 'de-kk', 'de-km', 'de-kn', 'de-ko', 'de-lb', 'de-lg', 'de-ln', 'de-lo', 'de-lt', 'de-lv', 'de-mg', 'de-mk', 'de-ml', 'de-mn', 'de-mr', 'de-ms', 'de-my', 'de-ne', 'de-nl', 'de-no', 'de-ns', 'de-oc', 'de-or', 'de-pa', 'de-pl', 'de-ps', 'de-pt', 'de-ro', 'de-ru', 'de-sd', 'de-si', 'de-sk', 'de-sl', 'de-so', 'de-sq', 'de-sr', 'de-ss', 'de-su', 'de-sv', 'de-sw', 'de-ta', 'de-th', 'de-tl', 'de-tn', 'de-tr', 'de-uk', 'de-ur', 'de-uz', 'de-vi', 'de-wo', 'de-xh', 'de-yi', 'de-yo', 'de-zh', 'de-zu', 'el-af', 'el-am', 'el-ar', 'el-ast', 'el-az', 'el-ba', 'el-be', 'el-bg', 'el-bn', 'el-br', 'el-bs', 'el-ca', 'el-ceb', 'el-cs', 'el-cy', 'el-da', 'el-de', 'el-en', 'el-es', 'el-et', 'el-fa', 'el-ff', 'el-fi', 'el-fr', 'el-fy', 'el-ga', 'el-gd', 'el-gl', 'el-gu', 'el-ha', 'el-he', 'el-hi', 'el-hr', 'el-ht', 'el-hu', 'el-hy', 'el-id', 'el-ig', 'el-ilo', 'el-is', 'el-it', 'el-ja', 'el-jv', 'el-ka', 'el-kk', 'el-km', 'el-kn', 'el-ko', 'el-lb', 'el-lg', 'el-ln', 'el-lo', 'el-lt', 'el-lv', 'el-mg', 'el-mk', 'el-ml', 'el-mn', 'el-mr', 'el-ms', 'el-my', 'el-ne', 'el-nl', 'el-no', 'el-ns', 'el-oc', 'el-or', 'el-pa', 'el-pl', 'el-ps', 'el-pt', 'el-ro', 'el-ru', 'el-sd', 'el-si', 'el-sk', 'el-sl', 'el-so', 'el-sq', 'el-sr', 'el-ss', 'el-su', 'el-sv', 'el-sw', 'el-ta', 'el-th', 'el-tl', 'el-tn', 'el-tr', 'el-uk', 'el-ur', 'el-uz', 'el-vi', 'el-wo', 'el-xh', 'el-yi', 'el-yo', 'el-zh', 'el-zu', 'en-af', 'en-am', 'en-ar', 'en-ast', 'en-az', 'en-ba', 'en-be', 'en-bg', 'en-bn', 'en-br', 'en-bs', 'en-ca', 'en-ceb', 'en-cs', 'en-cy', 'en-da', 'en-de', 'en-el', 'en-es', 'en-et', 'en-fa', 'en-ff', 'en-fi', 'en-fr', 'en-fy', 'en-ga', 'en-gd', 'en-gl', 'en-gu', 'en-ha', 'en-he', 'en-hi', 'en-hr', 'en-ht', 'en-hu', 'en-hy', 'en-id', 'en-ig', 'en-ilo', 'en-is', 'en-it', 'en-ja', 'en-jv', 'en-ka', 'en-kk', 'en-km', 'en-kn', 'en-ko', 'en-lb', 'en-lg', 'en-ln', 'en-lo', 'en-lt', 'en-lv', 'en-mg', 'en-mk', 'en-ml', 'en-mn', 'en-mr', 'en-ms', 'en-my', 'en-ne', 'en-nl', 'en-no', 'en-ns', 'en-oc', 'en-or', 'en-pa', 'en-pl', 'en-ps', 'en-pt', 'en-ro', 'en-ru', 'en-sd', 'en-si', 'en-sk', 'en-sl', 'en-so', 'en-sq', 'en-sr', 'en-ss', 'en-su', 'en-sv', 'en-sw', 'en-ta', 'en-th', 'en-tl', 'en-tn', 'en-tr', 'en-uk', 'en-ur', 'en-uz', 'en-vi', 'en-wo', 'en-xh', 'en-yi', 'en-yo', 'en-zh', 'en-zu', 'es-af', 'es-am', 'es-ar', 'es-ast', 'es-az', 'es-ba', 'es-be', 'es-bg', 'es-bn', 'es-br', 'es-bs', 'es-ca', 'es-ceb', 'es-cs', 'es-cy', 'es-da', 'es-de', 'es-el', 'es-en', 'es-et', 'es-fa', 'es-ff', 'es-fi', 'es-fr', 'es-fy', 'es-ga', 'es-gd', 'es-gl', 'es-gu', 'es-ha', 'es-he', 'es-hi', 'es-hr', 'es-ht', 'es-hu', 'es-hy', 'es-id', 'es-ig', 'es-ilo', 'es-is', 'es-it', 'es-ja', 'es-jv', 'es-ka', 'es-kk', 'es-km', 'es-kn', 'es-ko', 'es-lb', 'es-lg', 'es-ln', 'es-lo', 'es-lt', 'es-lv', 'es-mg', 'es-mk', 'es-ml', 'es-mn', 'es-mr', 'es-ms', 'es-my', 'es-ne', 'es-nl', 'es-no', 'es-ns', 'es-oc', 'es-or', 'es-pa', 'es-pl', 'es-ps', 'es-pt', 'es-ro', 'es-ru', 'es-sd', 'es-si', 'es-sk', 'es-sl', 'es-so', 'es-sq', 'es-sr', 'es-ss', 'es-su', 'es-sv', 'es-sw', 'es-ta', 'es-th', 'es-tl', 'es-tn', 'es-tr', 'es-uk', 'es-ur', 'es-uz', 'es-vi', 'es-wo', 'es-xh', 'es-yi', 'es-yo', 'es-zh', 'es-zu', 'et-af', 'et-am', 'et-ar', 'et-ast', 'et-az', 'et-ba', 'et-be', 'et-bg', 'et-bn', 'et-br', 'et-bs', 'et-ca', 'et-ceb', 'et-cs', 'et-cy', 'et-da', 'et-de', 'et-el', 'et-en', 'et-es', 'et-fa', 'et-ff', 'et-fi', 'et-fr', 'et-fy', 'et-ga', 'et-gd', 'et-gl', 'et-gu', 'et-ha', 'et-he', 'et-hi', 'et-hr', 'et-ht', 'et-hu', 'et-hy', 'et-id', 'et-ig', 'et-ilo', 'et-is', 'et-it', 'et-ja', 'et-jv', 'et-ka', 'et-kk', 'et-km', 'et-kn', 'et-ko', 'et-lb', 'et-lg', 'et-ln', 'et-lo', 'et-lt', 'et-lv', 'et-mg', 'et-mk', 'et-ml', 'et-mn', 'et-mr', 'et-ms', 'et-my', 'et-ne', 'et-nl', 'et-no', 'et-ns', 'et-oc', 'et-or', 'et-pa', 'et-pl', 'et-ps', 'et-pt', 'et-ro', 'et-ru', 'et-sd', 'et-si', 'et-sk', 'et-sl', 'et-so', 'et-sq', 'et-sr', 'et-ss', 'et-su', 'et-sv', 'et-sw', 'et-ta', 'et-th', 'et-tl', 'et-tn', 'et-tr', 'et-uk', 'et-ur', 'et-uz', 'et-vi', 'et-wo', 'et-xh', 'et-yi', 'et-yo', 'et-zh', 'et-zu', 'fa-af', 'fa-am', 'fa-ar', 'fa-ast', 'fa-az', 'fa-ba', 'fa-be', 'fa-bg', 'fa-bn', 'fa-br', 'fa-bs', 'fa-ca', 'fa-ceb', 'fa-cs', 'fa-cy', 'fa-da', 'fa-de', 'fa-el', 'fa-en', 'fa-es', 'fa-et', 'fa-ff', 'fa-fi', 'fa-fr', 'fa-fy', 'fa-ga', 'fa-gd', 'fa-gl', 'fa-gu', 'fa-ha', 'fa-he', 'fa-hi', 'fa-hr', 'fa-ht', 'fa-hu', 'fa-hy', 'fa-id', 'fa-ig', 'fa-ilo', 'fa-is', 'fa-it', 'fa-ja', 'fa-jv', 'fa-ka', 'fa-kk', 'fa-km', 'fa-kn', 'fa-ko', 'fa-lb', 'fa-lg', 'fa-ln', 'fa-lo', 'fa-lt', 'fa-lv', 'fa-mg', 'fa-mk', 'fa-ml', 'fa-mn', 'fa-mr', 'fa-ms', 'fa-my', 'fa-ne', 'fa-nl', 'fa-no', 'fa-ns', 'fa-oc', 'fa-or', 'fa-pa', 'fa-pl', 'fa-ps', 'fa-pt', 'fa-ro', 'fa-ru', 'fa-sd', 'fa-si', 'fa-sk', 'fa-sl', 'fa-so', 'fa-sq', 'fa-sr', 'fa-ss', 'fa-su', 'fa-sv', 'fa-sw', 'fa-ta', 'fa-th', 'fa-tl', 'fa-tn', 'fa-tr', 'fa-uk', 'fa-ur', 'fa-uz', 'fa-vi', 'fa-wo', 'fa-xh', 'fa-yi', 'fa-yo', 'fa-zh', 'fa-zu', 'ff-af', 'ff-am', 'ff-ar', 'ff-ast', 'ff-az', 'ff-ba', 'ff-be', 'ff-bg', 'ff-bn', 'ff-br', 'ff-bs', 'ff-ca', 'ff-ceb', 'ff-cs', 'ff-cy', 'ff-da', 'ff-de', 'ff-el', 'ff-en', 'ff-es', 'ff-et', 'ff-fa', 'ff-fi', 'ff-fr', 'ff-fy', 'ff-ga', 'ff-gd', 'ff-gl', 'ff-gu', 'ff-ha', 'ff-he', 'ff-hi', 'ff-hr', 'ff-ht', 'ff-hu', 'ff-hy', 'ff-id', 'ff-ig', 'ff-ilo', 'ff-is', 'ff-it', 'ff-ja', 'ff-jv', 'ff-ka', 'ff-kk', 'ff-km', 'ff-kn', 'ff-ko', 'ff-lb', 'ff-lg', 'ff-ln', 'ff-lo', 'ff-lt', 'ff-lv', 'ff-mg', 'ff-mk', 'ff-ml', 'ff-mn', 'ff-mr', 'ff-ms', 'ff-my', 'ff-ne', 'ff-nl', 'ff-no', 'ff-ns', 'ff-oc', 'ff-or', 'ff-pa', 'ff-pl', 'ff-ps', 'ff-pt', 'ff-ro', 'ff-ru', 'ff-sd', 'ff-si', 'ff-sk', 'ff-sl', 'ff-so', 'ff-sq', 'ff-sr', 'ff-ss', 'ff-su', 'ff-sv', 'ff-sw', 'ff-ta', 'ff-th', 'ff-tl', 'ff-tn', 'ff-tr', 'ff-uk', 'ff-ur', 'ff-uz', 'ff-vi', 'ff-wo', 'ff-xh', 'ff-yi', 'ff-yo', 'ff-zh', 'ff-zu', 'fi-af', 'fi-am', 'fi-ar', 'fi-ast', 'fi-az', 'fi-ba', 'fi-be', 'fi-bg', 'fi-bn', 'fi-br', 'fi-bs', 'fi-ca', 'fi-ceb', 'fi-cs', 'fi-cy', 'fi-da', 'fi-de', 'fi-el', 'fi-en', 'fi-es', 'fi-et', 'fi-fa', 'fi-ff', 'fi-fr', 'fi-fy', 'fi-ga', 'fi-gd', 'fi-gl', 'fi-gu', 'fi-ha', 'fi-he', 'fi-hi', 'fi-hr', 'fi-ht', 'fi-hu', 'fi-hy', 'fi-id', 'fi-ig', 'fi-ilo', 'fi-is', 'fi-it', 'fi-ja', 'fi-jv', 'fi-ka', 'fi-kk', 'fi-km', 'fi-kn', 'fi-ko', 'fi-lb', 'fi-lg', 'fi-ln', 'fi-lo', 'fi-lt', 'fi-lv', 'fi-mg', 'fi-mk', 'fi-ml', 'fi-mn', 'fi-mr', 'fi-ms', 'fi-my', 'fi-ne', 'fi-nl', 'fi-no', 'fi-ns', 'fi-oc', 'fi-or', 'fi-pa', 'fi-pl', 'fi-ps', 'fi-pt', 'fi-ro', 'fi-ru', 'fi-sd', 'fi-si', 'fi-sk', 'fi-sl', 'fi-so', 'fi-sq', 'fi-sr', 'fi-ss', 'fi-su', 'fi-sv', 'fi-sw', 'fi-ta', 'fi-th', 'fi-tl', 'fi-tn', 'fi-tr', 'fi-uk', 'fi-ur', 'fi-uz', 'fi-vi', 'fi-wo', 'fi-xh', 'fi-yi', 'fi-yo', 'fi-zh', 'fi-zu', 'fr-af', 'fr-am', 'fr-ar', 'fr-ast', 'fr-az', 'fr-ba', 'fr-be', 'fr-bg', 'fr-bn', 'fr-br', 'fr-bs', 'fr-ca', 'fr-ceb', 'fr-cs', 'fr-cy', 'fr-da', 'fr-de', 'fr-el', 'fr-en', 'fr-es', 'fr-et', 'fr-fa', 'fr-ff', 'fr-fi', 'fr-fy', 'fr-ga', 'fr-gd', 'fr-gl', 'fr-gu', 'fr-ha', 'fr-he', 'fr-hi', 'fr-hr', 'fr-ht', 'fr-hu', 'fr-hy', 'fr-id', 'fr-ig', 'fr-ilo', 'fr-is', 'fr-it', 'fr-ja', 'fr-jv', 'fr-ka', 'fr-kk', 'fr-km', 'fr-kn', 'fr-ko', 'fr-lb', 'fr-lg', 'fr-ln', 'fr-lo', 'fr-lt', 'fr-lv', 'fr-mg', 'fr-mk', 'fr-ml', 'fr-mn', 'fr-mr', 'fr-ms', 'fr-my', 'fr-ne', 'fr-nl', 'fr-no', 'fr-ns', 'fr-oc', 'fr-or', 'fr-pa', 'fr-pl', 'fr-ps', 'fr-pt', 'fr-ro', 'fr-ru', 'fr-sd', 'fr-si', 'fr-sk', 'fr-sl', 'fr-so', 'fr-sq', 'fr-sr', 'fr-ss', 'fr-su', 'fr-sv', 'fr-sw', 'fr-ta', 'fr-th', 'fr-tl', 'fr-tn', 'fr-tr', 'fr-uk', 'fr-ur', 'fr-uz', 'fr-vi', 'fr-wo', 'fr-xh', 'fr-yi', 'fr-yo', 'fr-zh', 'fr-zu', 'fy-af', 'fy-am', 'fy-ar', 'fy-ast', 'fy-az', 'fy-ba', 'fy-be', 'fy-bg', 'fy-bn', 'fy-br', 'fy-bs', 'fy-ca', 'fy-ceb', 'fy-cs', 'fy-cy', 'fy-da', 'fy-de', 'fy-el', 'fy-en', 'fy-es', 'fy-et', 'fy-fa', 'fy-ff', 'fy-fi', 'fy-fr', 'fy-ga', 'fy-gd', 'fy-gl', 'fy-gu', 'fy-ha', 'fy-he', 'fy-hi', 'fy-hr', 'fy-ht', 'fy-hu', 'fy-hy', 'fy-id', 'fy-ig', 'fy-ilo', 'fy-is', 'fy-it', 'fy-ja', 'fy-jv', 'fy-ka', 'fy-kk', 'fy-km', 'fy-kn', 'fy-ko', 'fy-lb', 'fy-lg', 'fy-ln', 'fy-lo', 'fy-lt', 'fy-lv', 'fy-mg', 'fy-mk', 'fy-ml', 'fy-mn', 'fy-mr', 'fy-ms', 'fy-my', 'fy-ne', 'fy-nl', 'fy-no', 'fy-ns', 'fy-oc', 'fy-or', 'fy-pa', 'fy-pl', 'fy-ps', 'fy-pt', 'fy-ro', 'fy-ru', 'fy-sd', 'fy-si', 'fy-sk', 'fy-sl', 'fy-so', 'fy-sq', 'fy-sr', 'fy-ss', 'fy-su', 'fy-sv', 'fy-sw', 'fy-ta', 'fy-th', 'fy-tl', 'fy-tn', 'fy-tr', 'fy-uk', 'fy-ur', 'fy-uz', 'fy-vi', 'fy-wo', 'fy-xh', 'fy-yi', 'fy-yo', 'fy-zh', 'fy-zu', 'ga-af', 'ga-am', 'ga-ar', 'ga-ast', 'ga-az', 'ga-ba', 'ga-be', 'ga-bg', 'ga-bn', 'ga-br', 'ga-bs', 'ga-ca', 'ga-ceb', 'ga-cs', 'ga-cy', 'ga-da', 'ga-de', 'ga-el', 'ga-en', 'ga-es', 'ga-et', 'ga-fa', 'ga-ff', 'ga-fi', 'ga-fr', 'ga-fy', 'ga-gd', 'ga-gl', 'ga-gu', 'ga-ha', 'ga-he', 'ga-hi', 'ga-hr', 'ga-ht', 'ga-hu', 'ga-hy', 'ga-id', 'ga-ig', 'ga-ilo', 'ga-is', 'ga-it', 'ga-ja', 'ga-jv', 'ga-ka', 'ga-kk', 'ga-km', 'ga-kn', 'ga-ko', 'ga-lb', 'ga-lg', 'ga-ln', 'ga-lo', 'ga-lt', 'ga-lv', 'ga-mg', 'ga-mk', 'ga-ml', 'ga-mn', 'ga-mr', 'ga-ms', 'ga-my', 'ga-ne', 'ga-nl', 'ga-no', 'ga-ns', 'ga-oc', 'ga-or', 'ga-pa', 'ga-pl', 'ga-ps', 'ga-pt', 'ga-ro', 'ga-ru', 'ga-sd', 'ga-si', 'ga-sk', 'ga-sl', 'ga-so', 'ga-sq', 'ga-sr', 'ga-ss', 'ga-su', 'ga-sv', 'ga-sw', 'ga-ta', 'ga-th', 'ga-tl', 'ga-tn', 'ga-tr', 'ga-uk', 'ga-ur', 'ga-uz', 'ga-vi', 'ga-wo', 'ga-xh', 'ga-yi', 'ga-yo', 'ga-zh', 'ga-zu', 'gd-af', 'gd-am', 'gd-ar', 'gd-ast', 'gd-az', 'gd-ba', 'gd-be', 'gd-bg', 'gd-bn', 'gd-br', 'gd-bs', 'gd-ca', 'gd-ceb', 'gd-cs', 'gd-cy', 'gd-da', 'gd-de', 'gd-el', 'gd-en', 'gd-es', 'gd-et', 'gd-fa', 'gd-ff', 'gd-fi', 'gd-fr', 'gd-fy', 'gd-ga', 'gd-gl', 'gd-gu', 'gd-ha', 'gd-he', 'gd-hi', 'gd-hr', 'gd-ht', 'gd-hu', 'gd-hy', 'gd-id', 'gd-ig', 'gd-ilo', 'gd-is', 'gd-it', 'gd-ja', 'gd-jv', 'gd-ka', 'gd-kk', 'gd-km', 'gd-kn', 'gd-ko', 'gd-lb', 'gd-lg', 'gd-ln', 'gd-lo', 'gd-lt', 'gd-lv', 'gd-mg', 'gd-mk', 'gd-ml', 'gd-mn', 'gd-mr', 'gd-ms', 'gd-my', 'gd-ne', 'gd-nl', 'gd-no', 'gd-ns', 'gd-oc', 'gd-or', 'gd-pa', 'gd-pl', 'gd-ps', 'gd-pt', 'gd-ro', 'gd-ru', 'gd-sd', 'gd-si', 'gd-sk', 'gd-sl', 'gd-so', 'gd-sq', 'gd-sr', 'gd-ss', 'gd-su', 'gd-sv', 'gd-sw', 'gd-ta', 'gd-th', 'gd-tl', 'gd-tn', 'gd-tr', 'gd-uk', 'gd-ur', 'gd-uz', 'gd-vi', 'gd-wo', 'gd-xh', 'gd-yi', 'gd-yo', 'gd-zh', 'gd-zu', 'gl-af', 'gl-am', 'gl-ar', 'gl-ast', 'gl-az', 'gl-ba', 'gl-be', 'gl-bg', 'gl-bn', 'gl-br', 'gl-bs', 'gl-ca', 'gl-ceb', 'gl-cs', 'gl-cy', 'gl-da', 'gl-de', 'gl-el', 'gl-en', 'gl-es', 'gl-et', 'gl-fa', 'gl-ff', 'gl-fi', 'gl-fr', 'gl-fy', 'gl-ga', 'gl-gd', 'gl-gu', 'gl-ha', 'gl-he', 'gl-hi', 'gl-hr', 'gl-ht', 'gl-hu', 'gl-hy', 'gl-id', 'gl-ig', 'gl-ilo', 'gl-is', 'gl-it', 'gl-ja', 'gl-jv', 'gl-ka', 'gl-kk', 'gl-km', 'gl-kn', 'gl-ko', 'gl-lb', 'gl-lg', 'gl-ln', 'gl-lo', 'gl-lt', 'gl-lv', 'gl-mg', 'gl-mk', 'gl-ml', 'gl-mn', 'gl-mr', 'gl-ms', 'gl-my', 'gl-ne', 'gl-nl', 'gl-no', 'gl-ns', 'gl-oc', 'gl-or', 'gl-pa', 'gl-pl', 'gl-ps', 'gl-pt', 'gl-ro', 'gl-ru', 'gl-sd', 'gl-si', 'gl-sk', 'gl-sl', 'gl-so', 'gl-sq', 'gl-sr', 'gl-ss', 'gl-su', 'gl-sv', 'gl-sw', 'gl-ta', 'gl-th', 'gl-tl', 'gl-tn', 'gl-tr', 'gl-uk', 'gl-ur', 'gl-uz', 'gl-vi', 'gl-wo', 'gl-xh', 'gl-yi', 'gl-yo', 'gl-zh', 'gl-zu', 'gu-af', 'gu-am', 'gu-ar', 'gu-ast', 'gu-az', 'gu-ba', 'gu-be', 'gu-bg', 'gu-bn', 'gu-br', 'gu-bs', 'gu-ca', 'gu-ceb', 'gu-cs', 'gu-cy', 'gu-da', 'gu-de', 'gu-el', 'gu-en', 'gu-es', 'gu-et', 'gu-fa', 'gu-ff', 'gu-fi', 'gu-fr', 'gu-fy', 'gu-ga', 'gu-gd', 'gu-gl', 'gu-ha', 'gu-he', 'gu-hi', 'gu-hr', 'gu-ht', 'gu-hu', 'gu-hy', 'gu-id', 'gu-ig', 'gu-ilo', 'gu-is', 'gu-it', 'gu-ja', 'gu-jv', 'gu-ka', 'gu-kk', 'gu-km', 'gu-kn', 'gu-ko', 'gu-lb', 'gu-lg', 'gu-ln', 'gu-lo', 'gu-lt', 'gu-lv', 'gu-mg', 'gu-mk', 'gu-ml', 'gu-mn', 'gu-mr', 'gu-ms', 'gu-my', 'gu-ne', 'gu-nl', 'gu-no', 'gu-ns', 'gu-oc', 'gu-or', 'gu-pa', 'gu-pl', 'gu-ps', 'gu-pt', 'gu-ro', 'gu-ru', 'gu-sd', 'gu-si', 'gu-sk', 'gu-sl', 'gu-so', 'gu-sq', 'gu-sr', 'gu-ss', 'gu-su', 'gu-sv', 'gu-sw', 'gu-ta', 'gu-th', 'gu-tl', 'gu-tn', 'gu-tr', 'gu-uk', 'gu-ur', 'gu-uz', 'gu-vi', 'gu-wo', 'gu-xh', 'gu-yi', 'gu-yo', 'gu-zh', 'gu-zu', 'ha-af', 'ha-am', 'ha-ar', 'ha-ast', 'ha-az', 'ha-ba', 'ha-be', 'ha-bg', 'ha-bn', 'ha-br', 'ha-bs', 'ha-ca', 'ha-ceb', 'ha-cs', 'ha-cy', 'ha-da', 'ha-de', 'ha-el', 'ha-en', 'ha-es', 'ha-et', 'ha-fa', 'ha-ff', 'ha-fi', 'ha-fr', 'ha-fy', 'ha-ga', 'ha-gd', 'ha-gl', 'ha-gu', 'ha-he', 'ha-hi', 'ha-hr', 'ha-ht', 'ha-hu', 'ha-hy', 'ha-id', 'ha-ig', 'ha-ilo', 'ha-is', 'ha-it', 'ha-ja', 'ha-jv', 'ha-ka', 'ha-kk', 'ha-km', 'ha-kn', 'ha-ko', 'ha-lb', 'ha-lg', 'ha-ln', 'ha-lo', 'ha-lt', 'ha-lv', 'ha-mg', 'ha-mk', 'ha-ml', 'ha-mn', 'ha-mr', 'ha-ms', 'ha-my', 'ha-ne', 'ha-nl', 'ha-no', 'ha-ns', 'ha-oc', 'ha-or', 'ha-pa', 'ha-pl', 'ha-ps', 'ha-pt', 'ha-ro', 'ha-ru', 'ha-sd', 'ha-si', 'ha-sk', 'ha-sl', 'ha-so', 'ha-sq', 'ha-sr', 'ha-ss', 'ha-su', 'ha-sv', 'ha-sw', 'ha-ta', 'ha-th', 'ha-tl', 'ha-tn', 'ha-tr', 'ha-uk', 'ha-ur', 'ha-uz', 'ha-vi', 'ha-wo', 'ha-xh', 'ha-yi', 'ha-yo', 'ha-zh', 'ha-zu', 'he-af', 'he-am', 'he-ar', 'he-ast', 'he-az', 'he-ba', 'he-be', 'he-bg', 'he-bn', 'he-br', 'he-bs', 'he-ca', 'he-ceb', 'he-cs', 'he-cy', 'he-da', 'he-de', 'he-el', 'he-en', 'he-es', 'he-et', 'he-fa', 'he-ff', 'he-fi', 'he-fr', 'he-fy', 'he-ga', 'he-gd', 'he-gl', 'he-gu', 'he-ha', 'he-hi', 'he-hr', 'he-ht', 'he-hu', 'he-hy', 'he-id', 'he-ig', 'he-ilo', 'he-is', 'he-it', 'he-ja', 'he-jv', 'he-ka', 'he-kk', 'he-km', 'he-kn', 'he-ko', 'he-lb', 'he-lg', 'he-ln', 'he-lo', 'he-lt', 'he-lv', 'he-mg', 'he-mk', 'he-ml', 'he-mn', 'he-mr', 'he-ms', 'he-my', 'he-ne', 'he-nl', 'he-no', 'he-ns', 'he-oc', 'he-or', 'he-pa', 'he-pl', 'he-ps', 'he-pt', 'he-ro', 'he-ru', 'he-sd', 'he-si', 'he-sk', 'he-sl', 'he-so', 'he-sq', 'he-sr', 'he-ss', 'he-su', 'he-sv', 'he-sw', 'he-ta', 'he-th', 'he-tl', 'he-tn', 'he-tr', 'he-uk', 'he-ur', 'he-uz', 'he-vi', 'he-wo', 'he-xh', 'he-yi', 'he-yo', 'he-zh', 'he-zu', 'hi-af', 'hi-am', 'hi-ar', 'hi-ast', 'hi-az', 'hi-ba', 'hi-be', 'hi-bg', 'hi-bn', 'hi-br', 'hi-bs', 'hi-ca', 'hi-ceb', 'hi-cs', 'hi-cy', 'hi-da', 'hi-de', 'hi-el', 'hi-en', 'hi-es', 'hi-et', 'hi-fa', 'hi-ff', 'hi-fi', 'hi-fr', 'hi-fy', 'hi-ga', 'hi-gd', 'hi-gl', 'hi-gu', 'hi-ha', 'hi-he', 'hi-hr', 'hi-ht', 'hi-hu', 'hi-hy', 'hi-id', 'hi-ig', 'hi-ilo', 'hi-is', 'hi-it', 'hi-ja', 'hi-jv', 'hi-ka', 'hi-kk', 'hi-km', 'hi-kn', 'hi-ko', 'hi-lb', 'hi-lg', 'hi-ln', 'hi-lo', 'hi-lt', 'hi-lv', 'hi-mg', 'hi-mk', 'hi-ml', 'hi-mn', 'hi-mr', 'hi-ms', 'hi-my', 'hi-ne', 'hi-nl', 'hi-no', 'hi-ns', 'hi-oc', 'hi-or', 'hi-pa', 'hi-pl', 'hi-ps', 'hi-pt', 'hi-ro', 'hi-ru', 'hi-sd', 'hi-si', 'hi-sk', 'hi-sl', 'hi-so', 'hi-sq', 'hi-sr', 'hi-ss', 'hi-su', 'hi-sv', 'hi-sw', 'hi-ta', 'hi-th', 'hi-tl', 'hi-tn', 'hi-tr', 'hi-uk', 'hi-ur', 'hi-uz', 'hi-vi', 'hi-wo', 'hi-xh', 'hi-yi', 'hi-yo', 'hi-zh', 'hi-zu', 'hr-af', 'hr-am', 'hr-ar', 'hr-ast', 'hr-az', 'hr-ba', 'hr-be', 'hr-bg', 'hr-bn', 'hr-br', 'hr-bs', 'hr-ca', 'hr-ceb', 'hr-cs', 'hr-cy', 'hr-da', 'hr-de', 'hr-el', 'hr-en', 'hr-es', 'hr-et', 'hr-fa', 'hr-ff', 'hr-fi', 'hr-fr', 'hr-fy', 'hr-ga', 'hr-gd', 'hr-gl', 'hr-gu', 'hr-ha', 'hr-he', 'hr-hi', 'hr-ht', 'hr-hu', 'hr-hy', 'hr-id', 'hr-ig', 'hr-ilo', 'hr-is', 'hr-it', 'hr-ja', 'hr-jv', 'hr-ka', 'hr-kk', 'hr-km', 'hr-kn', 'hr-ko', 'hr-lb', 'hr-lg', 'hr-ln', 'hr-lo', 'hr-lt', 'hr-lv', 'hr-mg', 'hr-mk', 'hr-ml', 'hr-mn', 'hr-mr', 'hr-ms', 'hr-my', 'hr-ne', 'hr-nl', 'hr-no', 'hr-ns', 'hr-oc', 'hr-or', 'hr-pa', 'hr-pl', 'hr-ps', 'hr-pt', 'hr-ro', 'hr-ru', 'hr-sd', 'hr-si', 'hr-sk', 'hr-sl', 'hr-so', 'hr-sq', 'hr-sr', 'hr-ss', 'hr-su', 'hr-sv', 'hr-sw', 'hr-ta', 'hr-th', 'hr-tl', 'hr-tn', 'hr-tr', 'hr-uk', 'hr-ur', 'hr-uz', 'hr-vi', 'hr-wo', 'hr-xh', 'hr-yi', 'hr-yo', 'hr-zh', 'hr-zu', 'ht-af', 'ht-am', 'ht-ar', 'ht-ast', 'ht-az', 'ht-ba', 'ht-be', 'ht-bg', 'ht-bn', 'ht-br', 'ht-bs', 'ht-ca', 'ht-ceb', 'ht-cs', 'ht-cy', 'ht-da', 'ht-de', 'ht-el', 'ht-en', 'ht-es', 'ht-et', 'ht-fa', 'ht-ff', 'ht-fi', 'ht-fr', 'ht-fy', 'ht-ga', 'ht-gd', 'ht-gl', 'ht-gu', 'ht-ha', 'ht-he', 'ht-hi', 'ht-hr', 'ht-hu', 'ht-hy', 'ht-id', 'ht-ig', 'ht-ilo', 'ht-is', 'ht-it', 'ht-ja', 'ht-jv', 'ht-ka', 'ht-kk', 'ht-km', 'ht-kn', 'ht-ko', 'ht-lb', 'ht-lg', 'ht-ln', 'ht-lo', 'ht-lt', 'ht-lv', 'ht-mg', 'ht-mk', 'ht-ml', 'ht-mn', 'ht-mr', 'ht-ms', 'ht-my', 'ht-ne', 'ht-nl', 'ht-no', 'ht-ns', 'ht-oc', 'ht-or', 'ht-pa', 'ht-pl', 'ht-ps', 'ht-pt', 'ht-ro', 'ht-ru', 'ht-sd', 'ht-si', 'ht-sk', 'ht-sl', 'ht-so', 'ht-sq', 'ht-sr', 'ht-ss', 'ht-su', 'ht-sv', 'ht-sw', 'ht-ta', 'ht-th', 'ht-tl', 'ht-tn', 'ht-tr', 'ht-uk', 'ht-ur', 'ht-uz', 'ht-vi', 'ht-wo', 'ht-xh', 'ht-yi', 'ht-yo', 'ht-zh', 'ht-zu', 'hu-af', 'hu-am', 'hu-ar', 'hu-ast', 'hu-az', 'hu-ba', 'hu-be', 'hu-bg', 'hu-bn', 'hu-br', 'hu-bs', 'hu-ca', 'hu-ceb', 'hu-cs', 'hu-cy', 'hu-da', 'hu-de', 'hu-el', 'hu-en', 'hu-es', 'hu-et', 'hu-fa', 'hu-ff', 'hu-fi', 'hu-fr', 'hu-fy', 'hu-ga', 'hu-gd', 'hu-gl', 'hu-gu', 'hu-ha', 'hu-he', 'hu-hi', 'hu-hr', 'hu-ht', 'hu-hy', 'hu-id', 'hu-ig', 'hu-ilo', 'hu-is', 'hu-it', 'hu-ja', 'hu-jv', 'hu-ka', 'hu-kk', 'hu-km', 'hu-kn', 'hu-ko', 'hu-lb', 'hu-lg', 'hu-ln', 'hu-lo', 'hu-lt', 'hu-lv', 'hu-mg', 'hu-mk', 'hu-ml', 'hu-mn', 'hu-mr', 'hu-ms', 'hu-my', 'hu-ne', 'hu-nl', 'hu-no', 'hu-ns', 'hu-oc', 'hu-or', 'hu-pa', 'hu-pl', 'hu-ps', 'hu-pt', 'hu-ro', 'hu-ru', 'hu-sd', 'hu-si', 'hu-sk', 'hu-sl', 'hu-so', 'hu-sq', 'hu-sr', 'hu-ss', 'hu-su', 'hu-sv', 'hu-sw', 'hu-ta', 'hu-th', 'hu-tl', 'hu-tn', 'hu-tr', 'hu-uk', 'hu-ur', 'hu-uz', 'hu-vi', 'hu-wo', 'hu-xh', 'hu-yi', 'hu-yo', 'hu-zh', 'hu-zu', 'hy-af', 'hy-am', 'hy-ar', 'hy-ast', 'hy-az', 'hy-ba', 'hy-be', 'hy-bg', 'hy-bn', 'hy-br', 'hy-bs', 'hy-ca', 'hy-ceb', 'hy-cs', 'hy-cy', 'hy-da', 'hy-de', 'hy-el', 'hy-en', 'hy-es', 'hy-et', 'hy-fa', 'hy-ff', 'hy-fi', 'hy-fr', 'hy-fy', 'hy-ga', 'hy-gd', 'hy-gl', 'hy-gu', 'hy-ha', 'hy-he', 'hy-hi', 'hy-hr', 'hy-ht', 'hy-hu', 'hy-id', 'hy-ig', 'hy-ilo', 'hy-is', 'hy-it', 'hy-ja', 'hy-jv', 'hy-ka', 'hy-kk', 'hy-km', 'hy-kn', 'hy-ko', 'hy-lb', 'hy-lg', 'hy-ln', 'hy-lo', 'hy-lt', 'hy-lv', 'hy-mg', 'hy-mk', 'hy-ml', 'hy-mn', 'hy-mr', 'hy-ms', 'hy-my', 'hy-ne', 'hy-nl', 'hy-no', 'hy-ns', 'hy-oc', 'hy-or', 'hy-pa', 'hy-pl', 'hy-ps', 'hy-pt', 'hy-ro', 'hy-ru', 'hy-sd', 'hy-si', 'hy-sk', 'hy-sl', 'hy-so', 'hy-sq', 'hy-sr', 'hy-ss', 'hy-su', 'hy-sv', 'hy-sw', 'hy-ta', 'hy-th', 'hy-tl', 'hy-tn', 'hy-tr', 'hy-uk', 'hy-ur', 'hy-uz', 'hy-vi', 'hy-wo', 'hy-xh', 'hy-yi', 'hy-yo', 'hy-zh', 'hy-zu', 'id-af', 'id-am', 'id-ar', 'id-ast', 'id-az', 'id-ba', 'id-be', 'id-bg', 'id-bn', 'id-br', 'id-bs', 'id-ca', 'id-ceb', 'id-cs', 'id-cy', 'id-da', 'id-de', 'id-el', 'id-en', 'id-es', 'id-et', 'id-fa', 'id-ff', 'id-fi', 'id-fr', 'id-fy', 'id-ga', 'id-gd', 'id-gl', 'id-gu', 'id-ha', 'id-he', 'id-hi', 'id-hr', 'id-ht', 'id-hu', 'id-hy', 'id-ig', 'id-ilo', 'id-is', 'id-it', 'id-ja', 'id-jv', 'id-ka', 'id-kk', 'id-km', 'id-kn', 'id-ko', 'id-lb', 'id-lg', 'id-ln', 'id-lo', 'id-lt', 'id-lv', 'id-mg', 'id-mk', 'id-ml', 'id-mn', 'id-mr', 'id-ms', 'id-my', 'id-ne', 'id-nl', 'id-no', 'id-ns', 'id-oc', 'id-or', 'id-pa', 'id-pl', 'id-ps', 'id-pt', 'id-ro', 'id-ru', 'id-sd', 'id-si', 'id-sk', 'id-sl', 'id-so', 'id-sq', 'id-sr', 'id-ss', 'id-su', 'id-sv', 'id-sw', 'id-ta', 'id-th', 'id-tl', 'id-tn', 'id-tr', 'id-uk', 'id-ur', 'id-uz', 'id-vi', 'id-wo', 'id-xh', 'id-yi', 'id-yo', 'id-zh', 'id-zu', 'ig-af', 'ig-am', 'ig-ar', 'ig-ast', 'ig-az', 'ig-ba', 'ig-be', 'ig-bg', 'ig-bn', 'ig-br', 'ig-bs', 'ig-ca', 'ig-ceb', 'ig-cs', 'ig-cy', 'ig-da', 'ig-de', 'ig-el', 'ig-en', 'ig-es', 'ig-et', 'ig-fa', 'ig-ff', 'ig-fi', 'ig-fr', 'ig-fy', 'ig-ga', 'ig-gd', 'ig-gl', 'ig-gu', 'ig-ha', 'ig-he', 'ig-hi', 'ig-hr', 'ig-ht', 'ig-hu', 'ig-hy', 'ig-id', 'ig-ilo', 'ig-is', 'ig-it', 'ig-ja', 'ig-jv', 'ig-ka', 'ig-kk', 'ig-km', 'ig-kn', 'ig-ko', 'ig-lb', 'ig-lg', 'ig-ln', 'ig-lo', 'ig-lt', 'ig-lv', 'ig-mg', 'ig-mk', 'ig-ml', 'ig-mn', 'ig-mr', 'ig-ms', 'ig-my', 'ig-ne', 'ig-nl', 'ig-no', 'ig-ns', 'ig-oc', 'ig-or', 'ig-pa', 'ig-pl', 'ig-ps', 'ig-pt', 'ig-ro', 'ig-ru', 'ig-sd', 'ig-si', 'ig-sk', 'ig-sl', 'ig-so', 'ig-sq', 'ig-sr', 'ig-ss', 'ig-su', 'ig-sv', 'ig-sw', 'ig-ta', 'ig-th', 'ig-tl', 'ig-tn', 'ig-tr', 'ig-uk', 'ig-ur', 'ig-uz', 'ig-vi', 'ig-wo', 'ig-xh', 'ig-yi', 'ig-yo', 'ig-zh', 'ig-zu', 'ilo-af', 'ilo-am', 'ilo-ar', 'ilo-ast', 'ilo-az', 'ilo-ba', 'ilo-be', 'ilo-bg', 'ilo-bn', 'ilo-br', 'ilo-bs', 'ilo-ca', 'ilo-ceb', 'ilo-cs', 'ilo-cy', 'ilo-da', 'ilo-de', 'ilo-el', 'ilo-en', 'ilo-es', 'ilo-et', 'ilo-fa', 'ilo-ff', 'ilo-fi', 'ilo-fr', 'ilo-fy', 'ilo-ga', 'ilo-gd', 'ilo-gl', 'ilo-gu', 'ilo-ha', 'ilo-he', 'ilo-hi', 'ilo-hr', 'ilo-ht', 'ilo-hu', 'ilo-hy', 'ilo-id', 'ilo-ig', 'ilo-is', 'ilo-it', 'ilo-ja', 'ilo-jv', 'ilo-ka', 'ilo-kk', 'ilo-km', 'ilo-kn', 'ilo-ko', 'ilo-lb', 'ilo-lg', 'ilo-ln', 'ilo-lo', 'ilo-lt', 'ilo-lv', 'ilo-mg', 'ilo-mk', 'ilo-ml', 'ilo-mn', 'ilo-mr', 'ilo-ms', 'ilo-my', 'ilo-ne', 'ilo-nl', 'ilo-no', 'ilo-ns', 'ilo-oc', 'ilo-or', 'ilo-pa', 'ilo-pl', 'ilo-ps', 'ilo-pt', 'ilo-ro', 'ilo-ru', 'ilo-sd', 'ilo-si', 'ilo-sk', 'ilo-sl', 'ilo-so', 'ilo-sq', 'ilo-sr', 'ilo-ss', 'ilo-su', 'ilo-sv', 'ilo-sw', 'ilo-ta', 'ilo-th', 'ilo-tl', 'ilo-tn', 'ilo-tr', 'ilo-uk', 'ilo-ur', 'ilo-uz', 'ilo-vi', 'ilo-wo', 'ilo-xh', 'ilo-yi', 'ilo-yo', 'ilo-zh', 'ilo-zu', 'is-af', 'is-am', 'is-ar', 'is-ast', 'is-az', 'is-ba', 'is-be', 'is-bg', 'is-bn', 'is-br', 'is-bs', 'is-ca', 'is-ceb', 'is-cs', 'is-cy', 'is-da', 'is-de', 'is-el', 'is-en', 'is-es', 'is-et', 'is-fa', 'is-ff', 'is-fi', 'is-fr', 'is-fy', 'is-ga', 'is-gd', 'is-gl', 'is-gu', 'is-ha', 'is-he', 'is-hi', 'is-hr', 'is-ht', 'is-hu', 'is-hy', 'is-id', 'is-ig', 'is-ilo', 'is-it', 'is-ja', 'is-jv', 'is-ka', 'is-kk', 'is-km', 'is-kn', 'is-ko', 'is-lb', 'is-lg', 'is-ln', 'is-lo', 'is-lt', 'is-lv', 'is-mg', 'is-mk', 'is-ml', 'is-mn', 'is-mr', 'is-ms', 'is-my', 'is-ne', 'is-nl', 'is-no', 'is-ns', 'is-oc', 'is-or', 'is-pa', 'is-pl', 'is-ps', 'is-pt', 'is-ro', 'is-ru', 'is-sd', 'is-si', 'is-sk', 'is-sl', 'is-so', 'is-sq', 'is-sr', 'is-ss', 'is-su', 'is-sv', 'is-sw', 'is-ta', 'is-th', 'is-tl', 'is-tn', 'is-tr', 'is-uk', 'is-ur', 'is-uz', 'is-vi', 'is-wo', 'is-xh', 'is-yi', 'is-yo', 'is-zh', 'is-zu', 'it-af', 'it-am', 'it-ar', 'it-ast', 'it-az', 'it-ba', 'it-be', 'it-bg', 'it-bn', 'it-br', 'it-bs', 'it-ca', 'it-ceb', 'it-cs', 'it-cy', 'it-da', 'it-de', 'it-el', 'it-en', 'it-es', 'it-et', 'it-fa', 'it-ff', 'it-fi', 'it-fr', 'it-fy', 'it-ga', 'it-gd', 'it-gl', 'it-gu', 'it-ha', 'it-he', 'it-hi', 'it-hr', 'it-ht', 'it-hu', 'it-hy', 'it-id', 'it-ig', 'it-ilo', 'it-is', 'it-ja', 'it-jv', 'it-ka', 'it-kk', 'it-km', 'it-kn', 'it-ko', 'it-lb', 'it-lg', 'it-ln', 'it-lo', 'it-lt', 'it-lv', 'it-mg', 'it-mk', 'it-ml', 'it-mn', 'it-mr', 'it-ms', 'it-my', 'it-ne', 'it-nl', 'it-no', 'it-ns', 'it-oc', 'it-or', 'it-pa', 'it-pl', 'it-ps', 'it-pt', 'it-ro', 'it-ru', 'it-sd', 'it-si', 'it-sk', 'it-sl', 'it-so', 'it-sq', 'it-sr', 'it-ss', 'it-su', 'it-sv', 'it-sw', 'it-ta', 'it-th', 'it-tl', 'it-tn', 'it-tr', 'it-uk', 'it-ur', 'it-uz', 'it-vi', 'it-wo', 'it-xh', 'it-yi', 'it-yo', 'it-zh', 'it-zu', 'ja-af', 'ja-am', 'ja-ar', 'ja-ast', 'ja-az', 'ja-ba', 'ja-be', 'ja-bg', 'ja-bn', 'ja-br', 'ja-bs', 'ja-ca', 'ja-ceb', 'ja-cs', 'ja-cy', 'ja-da', 'ja-de', 'ja-el', 'ja-en', 'ja-es', 'ja-et', 'ja-fa', 'ja-ff', 'ja-fi', 'ja-fr', 'ja-fy', 'ja-ga', 'ja-gd', 'ja-gl', 'ja-gu', 'ja-ha', 'ja-he', 'ja-hi', 'ja-hr', 'ja-ht', 'ja-hu', 'ja-hy', 'ja-id', 'ja-ig', 'ja-ilo', 'ja-is', 'ja-it', 'ja-jv', 'ja-ka', 'ja-kk', 'ja-km', 'ja-kn', 'ja-ko', 'ja-lb', 'ja-lg', 'ja-ln', 'ja-lo', 'ja-lt', 'ja-lv', 'ja-mg', 'ja-mk', 'ja-ml', 'ja-mn', 'ja-mr', 'ja-ms', 'ja-my', 'ja-ne', 'ja-nl', 'ja-no', 'ja-ns', 'ja-oc', 'ja-or', 'ja-pa', 'ja-pl', 'ja-ps', 'ja-pt', 'ja-ro', 'ja-ru', 'ja-sd', 'ja-si', 'ja-sk', 'ja-sl', 'ja-so', 'ja-sq', 'ja-sr', 'ja-ss', 'ja-su', 'ja-sv', 'ja-sw', 'ja-ta', 'ja-th', 'ja-tl', 'ja-tn', 'ja-tr', 'ja-uk', 'ja-ur', 'ja-uz', 'ja-vi', 'ja-wo', 'ja-xh', 'ja-yi', 'ja-yo', 'ja-zh', 'ja-zu', 'jv-af', 'jv-am', 'jv-ar', 'jv-ast', 'jv-az', 'jv-ba', 'jv-be', 'jv-bg', 'jv-bn', 'jv-br', 'jv-bs', 'jv-ca', 'jv-ceb', 'jv-cs', 'jv-cy', 'jv-da', 'jv-de', 'jv-el', 'jv-en', 'jv-es', 'jv-et', 'jv-fa', 'jv-ff', 'jv-fi', 'jv-fr', 'jv-fy', 'jv-ga', 'jv-gd', 'jv-gl', 'jv-gu', 'jv-ha', 'jv-he', 'jv-hi', 'jv-hr', 'jv-ht', 'jv-hu', 'jv-hy', 'jv-id', 'jv-ig', 'jv-ilo', 'jv-is', 'jv-it', 'jv-ja', 'jv-ka', 'jv-kk', 'jv-km', 'jv-kn', 'jv-ko', 'jv-lb', 'jv-lg', 'jv-ln', 'jv-lo', 'jv-lt', 'jv-lv', 'jv-mg', 'jv-mk', 'jv-ml', 'jv-mn', 'jv-mr', 'jv-ms', 'jv-my', 'jv-ne', 'jv-nl', 'jv-no', 'jv-ns', 'jv-oc', 'jv-or', 'jv-pa', 'jv-pl', 'jv-ps', 'jv-pt', 'jv-ro', 'jv-ru', 'jv-sd', 'jv-si', 'jv-sk', 'jv-sl', 'jv-so', 'jv-sq', 'jv-sr', 'jv-ss', 'jv-su', 'jv-sv', 'jv-sw', 'jv-ta', 'jv-th', 'jv-tl', 'jv-tn', 'jv-tr', 'jv-uk', 'jv-ur', 'jv-uz', 'jv-vi', 'jv-wo', 'jv-xh', 'jv-yi', 'jv-yo', 'jv-zh', 'jv-zu', 'ka-af', 'ka-am', 'ka-ar', 'ka-ast', 'ka-az', 'ka-ba', 'ka-be', 'ka-bg', 'ka-bn', 'ka-br', 'ka-bs', 'ka-ca', 'ka-ceb', 'ka-cs', 'ka-cy', 'ka-da', 'ka-de', 'ka-el', 'ka-en', 'ka-es', 'ka-et', 'ka-fa', 'ka-ff', 'ka-fi', 'ka-fr', 'ka-fy', 'ka-ga', 'ka-gd', 'ka-gl', 'ka-gu', 'ka-ha', 'ka-he', 'ka-hi', 'ka-hr', 'ka-ht', 'ka-hu', 'ka-hy', 'ka-id', 'ka-ig', 'ka-ilo', 'ka-is', 'ka-it', 'ka-ja', 'ka-jv', 'ka-kk', 'ka-km', 'ka-kn', 'ka-ko', 'ka-lb', 'ka-lg', 'ka-ln', 'ka-lo', 'ka-lt', 'ka-lv', 'ka-mg', 'ka-mk', 'ka-ml', 'ka-mn', 'ka-mr', 'ka-ms', 'ka-my', 'ka-ne', 'ka-nl', 'ka-no', 'ka-ns', 'ka-oc', 'ka-or', 'ka-pa', 'ka-pl', 'ka-ps', 'ka-pt', 'ka-ro', 'ka-ru', 'ka-sd', 'ka-si', 'ka-sk', 'ka-sl', 'ka-so', 'ka-sq', 'ka-sr', 'ka-ss', 'ka-su', 'ka-sv', 'ka-sw', 'ka-ta', 'ka-th', 'ka-tl', 'ka-tn', 'ka-tr', 'ka-uk', 'ka-ur', 'ka-uz', 'ka-vi', 'ka-wo', 'ka-xh', 'ka-yi', 'ka-yo', 'ka-zh', 'ka-zu', 'kk-af', 'kk-am', 'kk-ar', 'kk-ast', 'kk-az', 'kk-ba', 'kk-be', 'kk-bg', 'kk-bn', 'kk-br', 'kk-bs', 'kk-ca', 'kk-ceb', 'kk-cs', 'kk-cy', 'kk-da', 'kk-de', 'kk-el', 'kk-en', 'kk-es', 'kk-et', 'kk-fa', 'kk-ff', 'kk-fi', 'kk-fr', 'kk-fy', 'kk-ga', 'kk-gd', 'kk-gl', 'kk-gu', 'kk-ha', 'kk-he', 'kk-hi', 'kk-hr', 'kk-ht', 'kk-hu', 'kk-hy', 'kk-id', 'kk-ig', 'kk-ilo', 'kk-is', 'kk-it', 'kk-ja', 'kk-jv', 'kk-ka', 'kk-km', 'kk-kn', 'kk-ko', 'kk-lb', 'kk-lg', 'kk-ln', 'kk-lo', 'kk-lt', 'kk-lv', 'kk-mg', 'kk-mk', 'kk-ml', 'kk-mn', 'kk-mr', 'kk-ms', 'kk-my', 'kk-ne', 'kk-nl', 'kk-no', 'kk-ns', 'kk-oc', 'kk-or', 'kk-pa', 'kk-pl', 'kk-ps', 'kk-pt', 'kk-ro', 'kk-ru', 'kk-sd', 'kk-si', 'kk-sk', 'kk-sl', 'kk-so', 'kk-sq', 'kk-sr', 'kk-ss', 'kk-su', 'kk-sv', 'kk-sw', 'kk-ta', 'kk-th', 'kk-tl', 'kk-tn', 'kk-tr', 'kk-uk', 'kk-ur', 'kk-uz', 'kk-vi', 'kk-wo', 'kk-xh', 'kk-yi', 'kk-yo', 'kk-zh', 'kk-zu', 'km-af', 'km-am', 'km-ar', 'km-ast', 'km-az', 'km-ba', 'km-be', 'km-bg', 'km-bn', 'km-br', 'km-bs', 'km-ca', 'km-ceb', 'km-cs', 'km-cy', 'km-da', 'km-de', 'km-el', 'km-en', 'km-es', 'km-et', 'km-fa', 'km-ff', 'km-fi', 'km-fr', 'km-fy', 'km-ga', 'km-gd', 'km-gl', 'km-gu', 'km-ha', 'km-he', 'km-hi', 'km-hr', 'km-ht', 'km-hu', 'km-hy', 'km-id', 'km-ig', 'km-ilo', 'km-is', 'km-it', 'km-ja', 'km-jv', 'km-ka', 'km-kk', 'km-kn', 'km-ko', 'km-lb', 'km-lg', 'km-ln', 'km-lo', 'km-lt', 'km-lv', 'km-mg', 'km-mk', 'km-ml', 'km-mn', 'km-mr', 'km-ms', 'km-my', 'km-ne', 'km-nl', 'km-no', 'km-ns', 'km-oc', 'km-or', 'km-pa', 'km-pl', 'km-ps', 'km-pt', 'km-ro', 'km-ru', 'km-sd', 'km-si', 'km-sk', 'km-sl', 'km-so', 'km-sq', 'km-sr', 'km-ss', 'km-su', 'km-sv', 'km-sw', 'km-ta', 'km-th', 'km-tl', 'km-tn', 'km-tr', 'km-uk', 'km-ur', 'km-uz', 'km-vi', 'km-wo', 'km-xh', 'km-yi', 'km-yo', 'km-zh', 'km-zu', 'kn-af', 'kn-am', 'kn-ar', 'kn-ast', 'kn-az', 'kn-ba', 'kn-be', 'kn-bg', 'kn-bn', 'kn-br', 'kn-bs', 'kn-ca', 'kn-ceb', 'kn-cs', 'kn-cy', 'kn-da', 'kn-de', 'kn-el', 'kn-en', 'kn-es', 'kn-et', 'kn-fa', 'kn-ff', 'kn-fi', 'kn-fr', 'kn-fy', 'kn-ga', 'kn-gd', 'kn-gl', 'kn-gu', 'kn-ha', 'kn-he', 'kn-hi', 'kn-hr', 'kn-ht', 'kn-hu', 'kn-hy', 'kn-id', 'kn-ig', 'kn-ilo', 'kn-is', 'kn-it', 'kn-ja', 'kn-jv', 'kn-ka', 'kn-kk', 'kn-km', 'kn-ko', 'kn-lb', 'kn-lg', 'kn-ln', 'kn-lo', 'kn-lt', 'kn-lv', 'kn-mg', 'kn-mk', 'kn-ml', 'kn-mn', 'kn-mr', 'kn-ms', 'kn-my', 'kn-ne', 'kn-nl', 'kn-no', 'kn-ns', 'kn-oc', 'kn-or', 'kn-pa', 'kn-pl', 'kn-ps', 'kn-pt', 'kn-ro', 'kn-ru', 'kn-sd', 'kn-si', 'kn-sk', 'kn-sl', 'kn-so', 'kn-sq', 'kn-sr', 'kn-ss', 'kn-su', 'kn-sv', 'kn-sw', 'kn-ta', 'kn-th', 'kn-tl', 'kn-tn', 'kn-tr', 'kn-uk', 'kn-ur', 'kn-uz', 'kn-vi', 'kn-wo', 'kn-xh', 'kn-yi', 'kn-yo', 'kn-zh', 'kn-zu', 'ko-af', 'ko-am', 'ko-ar', 'ko-ast', 'ko-az', 'ko-ba', 'ko-be', 'ko-bg', 'ko-bn', 'ko-br', 'ko-bs', 'ko-ca', 'ko-ceb', 'ko-cs', 'ko-cy', 'ko-da', 'ko-de', 'ko-el', 'ko-en', 'ko-es', 'ko-et', 'ko-fa', 'ko-ff', 'ko-fi', 'ko-fr', 'ko-fy', 'ko-ga', 'ko-gd', 'ko-gl', 'ko-gu', 'ko-ha', 'ko-he', 'ko-hi', 'ko-hr', 'ko-ht', 'ko-hu', 'ko-hy', 'ko-id', 'ko-ig', 'ko-ilo', 'ko-is', 'ko-it', 'ko-ja', 'ko-jv', 'ko-ka', 'ko-kk', 'ko-km', 'ko-kn', 'ko-lb', 'ko-lg', 'ko-ln', 'ko-lo', 'ko-lt', 'ko-lv', 'ko-mg', 'ko-mk', 'ko-ml', 'ko-mn', 'ko-mr', 'ko-ms', 'ko-my', 'ko-ne', 'ko-nl', 'ko-no', 'ko-ns', 'ko-oc', 'ko-or', 'ko-pa', 'ko-pl', 'ko-ps', 'ko-pt', 'ko-ro', 'ko-ru', 'ko-sd', 'ko-si', 'ko-sk', 'ko-sl', 'ko-so', 'ko-sq', 'ko-sr', 'ko-ss', 'ko-su', 'ko-sv', 'ko-sw', 'ko-ta', 'ko-th', 'ko-tl', 'ko-tn', 'ko-tr', 'ko-uk', 'ko-ur', 'ko-uz', 'ko-vi', 'ko-wo', 'ko-xh', 'ko-yi', 'ko-yo', 'ko-zh', 'ko-zu', 'lb-af', 'lb-am', 'lb-ar', 'lb-ast', 'lb-az', 'lb-ba', 'lb-be', 'lb-bg', 'lb-bn', 'lb-br', 'lb-bs', 'lb-ca', 'lb-ceb', 'lb-cs', 'lb-cy', 'lb-da', 'lb-de', 'lb-el', 'lb-en', 'lb-es', 'lb-et', 'lb-fa', 'lb-ff', 'lb-fi', 'lb-fr', 'lb-fy', 'lb-ga', 'lb-gd', 'lb-gl', 'lb-gu', 'lb-ha', 'lb-he', 'lb-hi', 'lb-hr', 'lb-ht', 'lb-hu', 'lb-hy', 'lb-id', 'lb-ig', 'lb-ilo', 'lb-is', 'lb-it', 'lb-ja', 'lb-jv', 'lb-ka', 'lb-kk', 'lb-km', 'lb-kn', 'lb-ko', 'lb-lg', 'lb-ln', 'lb-lo', 'lb-lt', 'lb-lv', 'lb-mg', 'lb-mk', 'lb-ml', 'lb-mn', 'lb-mr', 'lb-ms', 'lb-my', 'lb-ne', 'lb-nl', 'lb-no', 'lb-ns', 'lb-oc', 'lb-or', 'lb-pa', 'lb-pl', 'lb-ps', 'lb-pt', 'lb-ro', 'lb-ru', 'lb-sd', 'lb-si', 'lb-sk', 'lb-sl', 'lb-so', 'lb-sq', 'lb-sr', 'lb-ss', 'lb-su', 'lb-sv', 'lb-sw', 'lb-ta', 'lb-th', 'lb-tl', 'lb-tn', 'lb-tr', 'lb-uk', 'lb-ur', 'lb-uz', 'lb-vi', 'lb-wo', 'lb-xh', 'lb-yi', 'lb-yo', 'lb-zh', 'lb-zu', 'lg-af', 'lg-am', 'lg-ar', 'lg-ast', 'lg-az', 'lg-ba', 'lg-be', 'lg-bg', 'lg-bn', 'lg-br', 'lg-bs', 'lg-ca', 'lg-ceb', 'lg-cs', 'lg-cy', 'lg-da', 'lg-de', 'lg-el', 'lg-en', 'lg-es', 'lg-et', 'lg-fa', 'lg-ff', 'lg-fi', 'lg-fr', 'lg-fy', 'lg-ga', 'lg-gd', 'lg-gl', 'lg-gu', 'lg-ha', 'lg-he', 'lg-hi', 'lg-hr', 'lg-ht', 'lg-hu', 'lg-hy', 'lg-id', 'lg-ig', 'lg-ilo', 'lg-is', 'lg-it', 'lg-ja', 'lg-jv', 'lg-ka', 'lg-kk', 'lg-km', 'lg-kn', 'lg-ko', 'lg-lb', 'lg-ln', 'lg-lo', 'lg-lt', 'lg-lv', 'lg-mg', 'lg-mk', 'lg-ml', 'lg-mn', 'lg-mr', 'lg-ms', 'lg-my', 'lg-ne', 'lg-nl', 'lg-no', 'lg-ns', 'lg-oc', 'lg-or', 'lg-pa', 'lg-pl', 'lg-ps', 'lg-pt', 'lg-ro', 'lg-ru', 'lg-sd', 'lg-si', 'lg-sk', 'lg-sl', 'lg-so', 'lg-sq', 'lg-sr', 'lg-ss', 'lg-su', 'lg-sv', 'lg-sw', 'lg-ta', 'lg-th', 'lg-tl', 'lg-tn', 'lg-tr', 'lg-uk', 'lg-ur', 'lg-uz', 'lg-vi', 'lg-wo', 'lg-xh', 'lg-yi', 'lg-yo', 'lg-zh', 'lg-zu', 'ln-af', 'ln-am', 'ln-ar', 'ln-ast', 'ln-az', 'ln-ba', 'ln-be', 'ln-bg', 'ln-bn', 'ln-br', 'ln-bs', 'ln-ca', 'ln-ceb', 'ln-cs', 'ln-cy', 'ln-da', 'ln-de', 'ln-el', 'ln-en', 'ln-es', 'ln-et', 'ln-fa', 'ln-ff', 'ln-fi', 'ln-fr', 'ln-fy', 'ln-ga', 'ln-gd', 'ln-gl', 'ln-gu', 'ln-ha', 'ln-he', 'ln-hi', 'ln-hr', 'ln-ht', 'ln-hu', 'ln-hy', 'ln-id', 'ln-ig', 'ln-ilo', 'ln-is', 'ln-it', 'ln-ja', 'ln-jv', 'ln-ka', 'ln-kk', 'ln-km', 'ln-kn', 'ln-ko', 'ln-lb', 'ln-lg', 'ln-lo', 'ln-lt', 'ln-lv', 'ln-mg', 'ln-mk', 'ln-ml', 'ln-mn', 'ln-mr', 'ln-ms', 'ln-my', 'ln-ne', 'ln-nl', 'ln-no', 'ln-ns', 'ln-oc', 'ln-or', 'ln-pa', 'ln-pl', 'ln-ps', 'ln-pt', 'ln-ro', 'ln-ru', 'ln-sd', 'ln-si', 'ln-sk', 'ln-sl', 'ln-so', 'ln-sq', 'ln-sr', 'ln-ss', 'ln-su', 'ln-sv', 'ln-sw', 'ln-ta', 'ln-th', 'ln-tl', 'ln-tn', 'ln-tr', 'ln-uk', 'ln-ur', 'ln-uz', 'ln-vi', 'ln-wo', 'ln-xh', 'ln-yi', 'ln-yo', 'ln-zh', 'ln-zu', 'lo-af', 'lo-am', 'lo-ar', 'lo-ast', 'lo-az', 'lo-ba', 'lo-be', 'lo-bg', 'lo-bn', 'lo-br', 'lo-bs', 'lo-ca', 'lo-ceb', 'lo-cs', 'lo-cy', 'lo-da', 'lo-de', 'lo-el', 'lo-en', 'lo-es', 'lo-et', 'lo-fa', 'lo-ff', 'lo-fi', 'lo-fr', 'lo-fy', 'lo-ga', 'lo-gd', 'lo-gl', 'lo-gu', 'lo-ha', 'lo-he', 'lo-hi', 'lo-hr', 'lo-ht', 'lo-hu', 'lo-hy', 'lo-id', 'lo-ig', 'lo-ilo', 'lo-is', 'lo-it', 'lo-ja', 'lo-jv', 'lo-ka', 'lo-kk', 'lo-km', 'lo-kn', 'lo-ko', 'lo-lb', 'lo-lg', 'lo-ln', 'lo-lt', 'lo-lv', 'lo-mg', 'lo-mk', 'lo-ml', 'lo-mn', 'lo-mr', 'lo-ms', 'lo-my', 'lo-ne', 'lo-nl', 'lo-no', 'lo-ns', 'lo-oc', 'lo-or', 'lo-pa', 'lo-pl', 'lo-ps', 'lo-pt', 'lo-ro', 'lo-ru', 'lo-sd', 'lo-si', 'lo-sk', 'lo-sl', 'lo-so', 'lo-sq', 'lo-sr', 'lo-ss', 'lo-su', 'lo-sv', 'lo-sw', 'lo-ta', 'lo-th', 'lo-tl', 'lo-tn', 'lo-tr', 'lo-uk', 'lo-ur', 'lo-uz', 'lo-vi', 'lo-wo', 'lo-xh', 'lo-yi', 'lo-yo', 'lo-zh', 'lo-zu', 'lt-af', 'lt-am', 'lt-ar', 'lt-ast', 'lt-az', 'lt-ba', 'lt-be', 'lt-bg', 'lt-bn', 'lt-br', 'lt-bs', 'lt-ca', 'lt-ceb', 'lt-cs', 'lt-cy', 'lt-da', 'lt-de', 'lt-el', 'lt-en', 'lt-es', 'lt-et', 'lt-fa', 'lt-ff', 'lt-fi', 'lt-fr', 'lt-fy', 'lt-ga', 'lt-gd', 'lt-gl', 'lt-gu', 'lt-ha', 'lt-he', 'lt-hi', 'lt-hr', 'lt-ht', 'lt-hu', 'lt-hy', 'lt-id', 'lt-ig', 'lt-ilo', 'lt-is', 'lt-it', 'lt-ja', 'lt-jv', 'lt-ka', 'lt-kk', 'lt-km', 'lt-kn', 'lt-ko', 'lt-lb', 'lt-lg', 'lt-ln', 'lt-lo', 'lt-lv', 'lt-mg', 'lt-mk', 'lt-ml', 'lt-mn', 'lt-mr', 'lt-ms', 'lt-my', 'lt-ne', 'lt-nl', 'lt-no', 'lt-ns', 'lt-oc', 'lt-or', 'lt-pa', 'lt-pl', 'lt-ps', 'lt-pt', 'lt-ro', 'lt-ru', 'lt-sd', 'lt-si', 'lt-sk', 'lt-sl', 'lt-so', 'lt-sq', 'lt-sr', 'lt-ss', 'lt-su', 'lt-sv', 'lt-sw', 'lt-ta', 'lt-th', 'lt-tl', 'lt-tn', 'lt-tr', 'lt-uk', 'lt-ur', 'lt-uz', 'lt-vi', 'lt-wo', 'lt-xh', 'lt-yi', 'lt-yo', 'lt-zh', 'lt-zu', 'lv-af', 'lv-am', 'lv-ar', 'lv-ast', 'lv-az', 'lv-ba', 'lv-be', 'lv-bg', 'lv-bn', 'lv-br', 'lv-bs', 'lv-ca', 'lv-ceb', 'lv-cs', 'lv-cy', 'lv-da', 'lv-de', 'lv-el', 'lv-en', 'lv-es', 'lv-et', 'lv-fa', 'lv-ff', 'lv-fi', 'lv-fr', 'lv-fy', 'lv-ga', 'lv-gd', 'lv-gl', 'lv-gu', 'lv-ha', 'lv-he', 'lv-hi', 'lv-hr', 'lv-ht', 'lv-hu', 'lv-hy', 'lv-id', 'lv-ig', 'lv-ilo', 'lv-is', 'lv-it', 'lv-ja', 'lv-jv', 'lv-ka', 'lv-kk', 'lv-km', 'lv-kn', 'lv-ko', 'lv-lb', 'lv-lg', 'lv-ln', 'lv-lo', 'lv-lt', 'lv-mg', 'lv-mk', 'lv-ml', 'lv-mn', 'lv-mr', 'lv-ms', 'lv-my', 'lv-ne', 'lv-nl', 'lv-no', 'lv-ns', 'lv-oc', 'lv-or', 'lv-pa', 'lv-pl', 'lv-ps', 'lv-pt', 'lv-ro', 'lv-ru', 'lv-sd', 'lv-si', 'lv-sk', 'lv-sl', 'lv-so', 'lv-sq', 'lv-sr', 'lv-ss', 'lv-su', 'lv-sv', 'lv-sw', 'lv-ta', 'lv-th', 'lv-tl', 'lv-tn', 'lv-tr', 'lv-uk', 'lv-ur', 'lv-uz', 'lv-vi', 'lv-wo', 'lv-xh', 'lv-yi', 'lv-yo', 'lv-zh', 'lv-zu', 'mg-af', 'mg-am', 'mg-ar', 'mg-ast', 'mg-az', 'mg-ba', 'mg-be', 'mg-bg', 'mg-bn', 'mg-br', 'mg-bs', 'mg-ca', 'mg-ceb', 'mg-cs', 'mg-cy', 'mg-da', 'mg-de', 'mg-el', 'mg-en', 'mg-es', 'mg-et', 'mg-fa', 'mg-ff', 'mg-fi', 'mg-fr', 'mg-fy', 'mg-ga', 'mg-gd', 'mg-gl', 'mg-gu', 'mg-ha', 'mg-he', 'mg-hi', 'mg-hr', 'mg-ht', 'mg-hu', 'mg-hy', 'mg-id', 'mg-ig', 'mg-ilo', 'mg-is', 'mg-it', 'mg-ja', 'mg-jv', 'mg-ka', 'mg-kk', 'mg-km', 'mg-kn', 'mg-ko', 'mg-lb', 'mg-lg', 'mg-ln', 'mg-lo', 'mg-lt', 'mg-lv', 'mg-mk', 'mg-ml', 'mg-mn', 'mg-mr', 'mg-ms', 'mg-my', 'mg-ne', 'mg-nl', 'mg-no', 'mg-ns', 'mg-oc', 'mg-or', 'mg-pa', 'mg-pl', 'mg-ps', 'mg-pt', 'mg-ro', 'mg-ru', 'mg-sd', 'mg-si', 'mg-sk', 'mg-sl', 'mg-so', 'mg-sq', 'mg-sr', 'mg-ss', 'mg-su', 'mg-sv', 'mg-sw', 'mg-ta', 'mg-th', 'mg-tl', 'mg-tn', 'mg-tr', 'mg-uk', 'mg-ur', 'mg-uz', 'mg-vi', 'mg-wo', 'mg-xh', 'mg-yi', 'mg-yo', 'mg-zh', 'mg-zu', 'mk-af', 'mk-am', 'mk-ar', 'mk-ast', 'mk-az', 'mk-ba', 'mk-be', 'mk-bg', 'mk-bn', 'mk-br', 'mk-bs', 'mk-ca', 'mk-ceb', 'mk-cs', 'mk-cy', 'mk-da', 'mk-de', 'mk-el', 'mk-en', 'mk-es', 'mk-et', 'mk-fa', 'mk-ff', 'mk-fi', 'mk-fr', 'mk-fy', 'mk-ga', 'mk-gd', 'mk-gl', 'mk-gu', 'mk-ha', 'mk-he', 'mk-hi', 'mk-hr', 'mk-ht', 'mk-hu', 'mk-hy', 'mk-id', 'mk-ig', 'mk-ilo', 'mk-is', 'mk-it', 'mk-ja', 'mk-jv', 'mk-ka', 'mk-kk', 'mk-km', 'mk-kn', 'mk-ko', 'mk-lb', 'mk-lg', 'mk-ln', 'mk-lo', 'mk-lt', 'mk-lv', 'mk-mg', 'mk-ml', 'mk-mn', 'mk-mr', 'mk-ms', 'mk-my', 'mk-ne', 'mk-nl', 'mk-no', 'mk-ns', 'mk-oc', 'mk-or', 'mk-pa', 'mk-pl', 'mk-ps', 'mk-pt', 'mk-ro', 'mk-ru', 'mk-sd', 'mk-si', 'mk-sk', 'mk-sl', 'mk-so', 'mk-sq', 'mk-sr', 'mk-ss', 'mk-su', 'mk-sv', 'mk-sw', 'mk-ta', 'mk-th', 'mk-tl', 'mk-tn', 'mk-tr', 'mk-uk', 'mk-ur', 'mk-uz', 'mk-vi', 'mk-wo', 'mk-xh', 'mk-yi', 'mk-yo', 'mk-zh', 'mk-zu', 'ml-af', 'ml-am', 'ml-ar', 'ml-ast', 'ml-az', 'ml-ba', 'ml-be', 'ml-bg', 'ml-bn', 'ml-br', 'ml-bs', 'ml-ca', 'ml-ceb', 'ml-cs', 'ml-cy', 'ml-da', 'ml-de', 'ml-el', 'ml-en', 'ml-es', 'ml-et', 'ml-fa', 'ml-ff', 'ml-fi', 'ml-fr', 'ml-fy', 'ml-ga', 'ml-gd', 'ml-gl', 'ml-gu', 'ml-ha', 'ml-he', 'ml-hi', 'ml-hr', 'ml-ht', 'ml-hu', 'ml-hy', 'ml-id', 'ml-ig', 'ml-ilo', 'ml-is', 'ml-it', 'ml-ja', 'ml-jv', 'ml-ka', 'ml-kk', 'ml-km', 'ml-kn', 'ml-ko', 'ml-lb', 'ml-lg', 'ml-ln', 'ml-lo', 'ml-lt', 'ml-lv', 'ml-mg', 'ml-mk', 'ml-mn', 'ml-mr', 'ml-ms', 'ml-my', 'ml-ne', 'ml-nl', 'ml-no', 'ml-ns', 'ml-oc', 'ml-or', 'ml-pa', 'ml-pl', 'ml-ps', 'ml-pt', 'ml-ro', 'ml-ru', 'ml-sd', 'ml-si', 'ml-sk', 'ml-sl', 'ml-so', 'ml-sq', 'ml-sr', 'ml-ss', 'ml-su', 'ml-sv', 'ml-sw', 'ml-ta', 'ml-th', 'ml-tl', 'ml-tn', 'ml-tr', 'ml-uk', 'ml-ur', 'ml-uz', 'ml-vi', 'ml-wo', 'ml-xh', 'ml-yi', 'ml-yo', 'ml-zh', 'ml-zu', 'mn-af', 'mn-am', 'mn-ar', 'mn-ast', 'mn-az', 'mn-ba', 'mn-be', 'mn-bg', 'mn-bn', 'mn-br', 'mn-bs', 'mn-ca', 'mn-ceb', 'mn-cs', 'mn-cy', 'mn-da', 'mn-de', 'mn-el', 'mn-en', 'mn-es', 'mn-et', 'mn-fa', 'mn-ff', 'mn-fi', 'mn-fr', 'mn-fy', 'mn-ga', 'mn-gd', 'mn-gl', 'mn-gu', 'mn-ha', 'mn-he', 'mn-hi', 'mn-hr', 'mn-ht', 'mn-hu', 'mn-hy', 'mn-id', 'mn-ig', 'mn-ilo', 'mn-is', 'mn-it', 'mn-ja', 'mn-jv', 'mn-ka', 'mn-kk', 'mn-km', 'mn-kn', 'mn-ko', 'mn-lb', 'mn-lg', 'mn-ln', 'mn-lo', 'mn-lt', 'mn-lv', 'mn-mg', 'mn-mk', 'mn-ml', 'mn-mr', 'mn-ms', 'mn-my', 'mn-ne', 'mn-nl', 'mn-no', 'mn-ns', 'mn-oc', 'mn-or', 'mn-pa', 'mn-pl', 'mn-ps', 'mn-pt', 'mn-ro', 'mn-ru', 'mn-sd', 'mn-si', 'mn-sk', 'mn-sl', 'mn-so', 'mn-sq', 'mn-sr', 'mn-ss', 'mn-su', 'mn-sv', 'mn-sw', 'mn-ta', 'mn-th', 'mn-tl', 'mn-tn', 'mn-tr', 'mn-uk', 'mn-ur', 'mn-uz', 'mn-vi', 'mn-wo', 'mn-xh', 'mn-yi', 'mn-yo', 'mn-zh', 'mn-zu', 'mr-af', 'mr-am', 'mr-ar', 'mr-ast', 'mr-az', 'mr-ba', 'mr-be', 'mr-bg', 'mr-bn', 'mr-br', 'mr-bs', 'mr-ca', 'mr-ceb', 'mr-cs', 'mr-cy', 'mr-da', 'mr-de', 'mr-el', 'mr-en', 'mr-es', 'mr-et', 'mr-fa', 'mr-ff', 'mr-fi', 'mr-fr', 'mr-fy', 'mr-ga', 'mr-gd', 'mr-gl', 'mr-gu', 'mr-ha', 'mr-he', 'mr-hi', 'mr-hr', 'mr-ht', 'mr-hu', 'mr-hy', 'mr-id', 'mr-ig', 'mr-ilo', 'mr-is', 'mr-it', 'mr-ja', 'mr-jv', 'mr-ka', 'mr-kk', 'mr-km', 'mr-kn', 'mr-ko', 'mr-lb', 'mr-lg', 'mr-ln', 'mr-lo', 'mr-lt', 'mr-lv', 'mr-mg', 'mr-mk', 'mr-ml', 'mr-mn', 'mr-ms', 'mr-my', 'mr-ne', 'mr-nl', 'mr-no', 'mr-ns', 'mr-oc', 'mr-or', 'mr-pa', 'mr-pl', 'mr-ps', 'mr-pt', 'mr-ro', 'mr-ru', 'mr-sd', 'mr-si', 'mr-sk', 'mr-sl', 'mr-so', 'mr-sq', 'mr-sr', 'mr-ss', 'mr-su', 'mr-sv', 'mr-sw', 'mr-ta', 'mr-th', 'mr-tl', 'mr-tn', 'mr-tr', 'mr-uk', 'mr-ur', 'mr-uz', 'mr-vi', 'mr-wo', 'mr-xh', 'mr-yi', 'mr-yo', 'mr-zh', 'mr-zu', 'ms-af', 'ms-am', 'ms-ar', 'ms-ast', 'ms-az', 'ms-ba', 'ms-be', 'ms-bg', 'ms-bn', 'ms-br', 'ms-bs', 'ms-ca', 'ms-ceb', 'ms-cs', 'ms-cy', 'ms-da', 'ms-de', 'ms-el', 'ms-en', 'ms-es', 'ms-et', 'ms-fa', 'ms-ff', 'ms-fi', 'ms-fr', 'ms-fy', 'ms-ga', 'ms-gd', 'ms-gl', 'ms-gu', 'ms-ha', 'ms-he', 'ms-hi', 'ms-hr', 'ms-ht', 'ms-hu', 'ms-hy', 'ms-id', 'ms-ig', 'ms-ilo', 'ms-is', 'ms-it', 'ms-ja', 'ms-jv', 'ms-ka', 'ms-kk', 'ms-km', 'ms-kn', 'ms-ko', 'ms-lb', 'ms-lg', 'ms-ln', 'ms-lo', 'ms-lt', 'ms-lv', 'ms-mg', 'ms-mk', 'ms-ml', 'ms-mn', 'ms-mr', 'ms-my', 'ms-ne', 'ms-nl', 'ms-no', 'ms-ns', 'ms-oc', 'ms-or', 'ms-pa', 'ms-pl', 'ms-ps', 'ms-pt', 'ms-ro', 'ms-ru', 'ms-sd', 'ms-si', 'ms-sk', 'ms-sl', 'ms-so', 'ms-sq', 'ms-sr', 'ms-ss', 'ms-su', 'ms-sv', 'ms-sw', 'ms-ta', 'ms-th', 'ms-tl', 'ms-tn', 'ms-tr', 'ms-uk', 'ms-ur', 'ms-uz', 'ms-vi', 'ms-wo', 'ms-xh', 'ms-yi', 'ms-yo', 'ms-zh', 'ms-zu', 'my-af', 'my-am', 'my-ar', 'my-ast', 'my-az', 'my-ba', 'my-be', 'my-bg', 'my-bn', 'my-br', 'my-bs', 'my-ca', 'my-ceb', 'my-cs', 'my-cy', 'my-da', 'my-de', 'my-el', 'my-en', 'my-es', 'my-et', 'my-fa', 'my-ff', 'my-fi', 'my-fr', 'my-fy', 'my-ga', 'my-gd', 'my-gl', 'my-gu', 'my-ha', 'my-he', 'my-hi', 'my-hr', 'my-ht', 'my-hu', 'my-hy', 'my-id', 'my-ig', 'my-ilo', 'my-is', 'my-it', 'my-ja', 'my-jv', 'my-ka', 'my-kk', 'my-km', 'my-kn', 'my-ko', 'my-lb', 'my-lg', 'my-ln', 'my-lo', 'my-lt', 'my-lv', 'my-mg', 'my-mk', 'my-ml', 'my-mn', 'my-mr', 'my-ms', 'my-ne', 'my-nl', 'my-no', 'my-ns', 'my-oc', 'my-or', 'my-pa', 'my-pl', 'my-ps', 'my-pt', 'my-ro', 'my-ru', 'my-sd', 'my-si', 'my-sk', 'my-sl', 'my-so', 'my-sq', 'my-sr', 'my-ss', 'my-su', 'my-sv', 'my-sw', 'my-ta', 'my-th', 'my-tl', 'my-tn', 'my-tr', 'my-uk', 'my-ur', 'my-uz', 'my-vi', 'my-wo', 'my-xh', 'my-yi', 'my-yo', 'my-zh', 'my-zu', 'ne-af', 'ne-am', 'ne-ar', 'ne-ast', 'ne-az', 'ne-ba', 'ne-be', 'ne-bg', 'ne-bn', 'ne-br', 'ne-bs', 'ne-ca', 'ne-ceb', 'ne-cs', 'ne-cy', 'ne-da', 'ne-de', 'ne-el', 'ne-en', 'ne-es', 'ne-et', 'ne-fa', 'ne-ff', 'ne-fi', 'ne-fr', 'ne-fy', 'ne-ga', 'ne-gd', 'ne-gl', 'ne-gu', 'ne-ha', 'ne-he', 'ne-hi', 'ne-hr', 'ne-ht', 'ne-hu', 'ne-hy', 'ne-id', 'ne-ig', 'ne-ilo', 'ne-is', 'ne-it', 'ne-ja', 'ne-jv', 'ne-ka', 'ne-kk', 'ne-km', 'ne-kn', 'ne-ko', 'ne-lb', 'ne-lg', 'ne-ln', 'ne-lo', 'ne-lt', 'ne-lv', 'ne-mg', 'ne-mk', 'ne-ml', 'ne-mn', 'ne-mr', 'ne-ms', 'ne-my', 'ne-nl', 'ne-no', 'ne-ns', 'ne-oc', 'ne-or', 'ne-pa', 'ne-pl', 'ne-ps', 'ne-pt', 'ne-ro', 'ne-ru', 'ne-sd', 'ne-si', 'ne-sk', 'ne-sl', 'ne-so', 'ne-sq', 'ne-sr', 'ne-ss', 'ne-su', 'ne-sv', 'ne-sw', 'ne-ta', 'ne-th', 'ne-tl', 'ne-tn', 'ne-tr', 'ne-uk', 'ne-ur', 'ne-uz', 'ne-vi', 'ne-wo', 'ne-xh', 'ne-yi', 'ne-yo', 'ne-zh', 'ne-zu', 'nl-af', 'nl-am', 'nl-ar', 'nl-ast', 'nl-az', 'nl-ba', 'nl-be', 'nl-bg', 'nl-bn', 'nl-br', 'nl-bs', 'nl-ca', 'nl-ceb', 'nl-cs', 'nl-cy', 'nl-da', 'nl-de', 'nl-el', 'nl-en', 'nl-es', 'nl-et', 'nl-fa', 'nl-ff', 'nl-fi', 'nl-fr', 'nl-fy', 'nl-ga', 'nl-gd', 'nl-gl', 'nl-gu', 'nl-ha', 'nl-he', 'nl-hi', 'nl-hr', 'nl-ht', 'nl-hu', 'nl-hy', 'nl-id', 'nl-ig', 'nl-ilo', 'nl-is', 'nl-it', 'nl-ja', 'nl-jv', 'nl-ka', 'nl-kk', 'nl-km', 'nl-kn', 'nl-ko', 'nl-lb', 'nl-lg', 'nl-ln', 'nl-lo', 'nl-lt', 'nl-lv', 'nl-mg', 'nl-mk', 'nl-ml', 'nl-mn', 'nl-mr', 'nl-ms', 'nl-my', 'nl-ne', 'nl-no', 'nl-ns', 'nl-oc', 'nl-or', 'nl-pa', 'nl-pl', 'nl-ps', 'nl-pt', 'nl-ro', 'nl-ru', 'nl-sd', 'nl-si', 'nl-sk', 'nl-sl', 'nl-so', 'nl-sq', 'nl-sr', 'nl-ss', 'nl-su', 'nl-sv', 'nl-sw', 'nl-ta', 'nl-th', 'nl-tl', 'nl-tn', 'nl-tr', 'nl-uk', 'nl-ur', 'nl-uz', 'nl-vi', 'nl-wo', 'nl-xh', 'nl-yi', 'nl-yo', 'nl-zh', 'nl-zu', 'no-af', 'no-am', 'no-ar', 'no-ast', 'no-az', 'no-ba', 'no-be', 'no-bg', 'no-bn', 'no-br', 'no-bs', 'no-ca', 'no-ceb', 'no-cs', 'no-cy', 'no-da', 'no-de', 'no-el', 'no-en', 'no-es', 'no-et', 'no-fa', 'no-ff', 'no-fi', 'no-fr', 'no-fy', 'no-ga', 'no-gd', 'no-gl', 'no-gu', 'no-ha', 'no-he', 'no-hi', 'no-hr', 'no-ht', 'no-hu', 'no-hy', 'no-id', 'no-ig', 'no-ilo', 'no-is', 'no-it', 'no-ja', 'no-jv', 'no-ka', 'no-kk', 'no-km', 'no-kn', 'no-ko', 'no-lb', 'no-lg', 'no-ln', 'no-lo', 'no-lt', 'no-lv', 'no-mg', 'no-mk', 'no-ml', 'no-mn', 'no-mr', 'no-ms', 'no-my', 'no-ne', 'no-nl', 'no-ns', 'no-oc', 'no-or', 'no-pa', 'no-pl', 'no-ps', 'no-pt', 'no-ro', 'no-ru', 'no-sd', 'no-si', 'no-sk', 'no-sl', 'no-so', 'no-sq', 'no-sr', 'no-ss', 'no-su', 'no-sv', 'no-sw', 'no-ta', 'no-th', 'no-tl', 'no-tn', 'no-tr', 'no-uk', 'no-ur', 'no-uz', 'no-vi', 'no-wo', 'no-xh', 'no-yi', 'no-yo', 'no-zh', 'no-zu', 'ns-af', 'ns-am', 'ns-ar', 'ns-ast', 'ns-az', 'ns-ba', 'ns-be', 'ns-bg', 'ns-bn', 'ns-br', 'ns-bs', 'ns-ca', 'ns-ceb', 'ns-cs', 'ns-cy', 'ns-da', 'ns-de', 'ns-el', 'ns-en', 'ns-es', 'ns-et', 'ns-fa', 'ns-ff', 'ns-fi', 'ns-fr', 'ns-fy', 'ns-ga', 'ns-gd', 'ns-gl', 'ns-gu', 'ns-ha', 'ns-he', 'ns-hi', 'ns-hr', 'ns-ht', 'ns-hu', 'ns-hy', 'ns-id', 'ns-ig', 'ns-ilo', 'ns-is', 'ns-it', 'ns-ja', 'ns-jv', 'ns-ka', 'ns-kk', 'ns-km', 'ns-kn', 'ns-ko', 'ns-lb', 'ns-lg', 'ns-ln', 'ns-lo', 'ns-lt', 'ns-lv', 'ns-mg', 'ns-mk', 'ns-ml', 'ns-mn', 'ns-mr', 'ns-ms', 'ns-my', 'ns-ne', 'ns-nl', 'ns-no', 'ns-oc', 'ns-or', 'ns-pa', 'ns-pl', 'ns-ps', 'ns-pt', 'ns-ro', 'ns-ru', 'ns-sd', 'ns-si', 'ns-sk', 'ns-sl', 'ns-so', 'ns-sq', 'ns-sr', 'ns-ss', 'ns-su', 'ns-sv', 'ns-sw', 'ns-ta', 'ns-th', 'ns-tl', 'ns-tn', 'ns-tr', 'ns-uk', 'ns-ur', 'ns-uz', 'ns-vi', 'ns-wo', 'ns-xh', 'ns-yi', 'ns-yo', 'ns-zh', 'ns-zu', 'oc-af', 'oc-am', 'oc-ar', 'oc-ast', 'oc-az', 'oc-ba', 'oc-be', 'oc-bg', 'oc-bn', 'oc-br', 'oc-bs', 'oc-ca', 'oc-ceb', 'oc-cs', 'oc-cy', 'oc-da', 'oc-de', 'oc-el', 'oc-en', 'oc-es', 'oc-et', 'oc-fa', 'oc-ff', 'oc-fi', 'oc-fr', 'oc-fy', 'oc-ga', 'oc-gd', 'oc-gl', 'oc-gu', 'oc-ha', 'oc-he', 'oc-hi', 'oc-hr', 'oc-ht', 'oc-hu', 'oc-hy', 'oc-id', 'oc-ig', 'oc-ilo', 'oc-is', 'oc-it', 'oc-ja', 'oc-jv', 'oc-ka', 'oc-kk', 'oc-km', 'oc-kn', 'oc-ko', 'oc-lb', 'oc-lg', 'oc-ln', 'oc-lo', 'oc-lt', 'oc-lv', 'oc-mg', 'oc-mk', 'oc-ml', 'oc-mn', 'oc-mr', 'oc-ms', 'oc-my', 'oc-ne', 'oc-nl', 'oc-no', 'oc-ns', 'oc-or', 'oc-pa', 'oc-pl', 'oc-ps', 'oc-pt', 'oc-ro', 'oc-ru', 'oc-sd', 'oc-si', 'oc-sk', 'oc-sl', 'oc-so', 'oc-sq', 'oc-sr', 'oc-ss', 'oc-su', 'oc-sv', 'oc-sw', 'oc-ta', 'oc-th', 'oc-tl', 'oc-tn', 'oc-tr', 'oc-uk', 'oc-ur', 'oc-uz', 'oc-vi', 'oc-wo', 'oc-xh', 'oc-yi', 'oc-yo', 'oc-zh', 'oc-zu', 'or-af', 'or-am', 'or-ar', 'or-ast', 'or-az', 'or-ba', 'or-be', 'or-bg', 'or-bn', 'or-br', 'or-bs', 'or-ca', 'or-ceb', 'or-cs', 'or-cy', 'or-da', 'or-de', 'or-el', 'or-en', 'or-es', 'or-et', 'or-fa', 'or-ff', 'or-fi', 'or-fr', 'or-fy', 'or-ga', 'or-gd', 'or-gl', 'or-gu', 'or-ha', 'or-he', 'or-hi', 'or-hr', 'or-ht', 'or-hu', 'or-hy', 'or-id', 'or-ig', 'or-ilo', 'or-is', 'or-it', 'or-ja', 'or-jv', 'or-ka', 'or-kk', 'or-km', 'or-kn', 'or-ko', 'or-lb', 'or-lg', 'or-ln', 'or-lo', 'or-lt', 'or-lv', 'or-mg', 'or-mk', 'or-ml', 'or-mn', 'or-mr', 'or-ms', 'or-my', 'or-ne', 'or-nl', 'or-no', 'or-ns', 'or-oc', 'or-pa', 'or-pl', 'or-ps', 'or-pt', 'or-ro', 'or-ru', 'or-sd', 'or-si', 'or-sk', 'or-sl', 'or-so', 'or-sq', 'or-sr', 'or-ss', 'or-su', 'or-sv', 'or-sw', 'or-ta', 'or-th', 'or-tl', 'or-tn', 'or-tr', 'or-uk', 'or-ur', 'or-uz', 'or-vi', 'or-wo', 'or-xh', 'or-yi', 'or-yo', 'or-zh', 'or-zu', 'pa-af', 'pa-am', 'pa-ar', 'pa-ast', 'pa-az', 'pa-ba', 'pa-be', 'pa-bg', 'pa-bn', 'pa-br', 'pa-bs', 'pa-ca', 'pa-ceb', 'pa-cs', 'pa-cy', 'pa-da', 'pa-de', 'pa-el', 'pa-en', 'pa-es', 'pa-et', 'pa-fa', 'pa-ff', 'pa-fi', 'pa-fr', 'pa-fy', 'pa-ga', 'pa-gd', 'pa-gl', 'pa-gu', 'pa-ha', 'pa-he', 'pa-hi', 'pa-hr', 'pa-ht', 'pa-hu', 'pa-hy', 'pa-id', 'pa-ig', 'pa-ilo', 'pa-is', 'pa-it', 'pa-ja', 'pa-jv', 'pa-ka', 'pa-kk', 'pa-km', 'pa-kn', 'pa-ko', 'pa-lb', 'pa-lg', 'pa-ln', 'pa-lo', 'pa-lt', 'pa-lv', 'pa-mg', 'pa-mk', 'pa-ml', 'pa-mn', 'pa-mr', 'pa-ms', 'pa-my', 'pa-ne', 'pa-nl', 'pa-no', 'pa-ns', 'pa-oc', 'pa-or', 'pa-pl', 'pa-ps', 'pa-pt', 'pa-ro', 'pa-ru', 'pa-sd', 'pa-si', 'pa-sk', 'pa-sl', 'pa-so', 'pa-sq', 'pa-sr', 'pa-ss', 'pa-su', 'pa-sv', 'pa-sw', 'pa-ta', 'pa-th', 'pa-tl', 'pa-tn', 'pa-tr', 'pa-uk', 'pa-ur', 'pa-uz', 'pa-vi', 'pa-wo', 'pa-xh', 'pa-yi', 'pa-yo', 'pa-zh', 'pa-zu', 'pl-af', 'pl-am', 'pl-ar', 'pl-ast', 'pl-az', 'pl-ba', 'pl-be', 'pl-bg', 'pl-bn', 'pl-br', 'pl-bs', 'pl-ca', 'pl-ceb', 'pl-cs', 'pl-cy', 'pl-da', 'pl-de', 'pl-el', 'pl-en', 'pl-es', 'pl-et', 'pl-fa', 'pl-ff', 'pl-fi', 'pl-fr', 'pl-fy', 'pl-ga', 'pl-gd', 'pl-gl', 'pl-gu', 'pl-ha', 'pl-he', 'pl-hi', 'pl-hr', 'pl-ht', 'pl-hu', 'pl-hy', 'pl-id', 'pl-ig', 'pl-ilo', 'pl-is', 'pl-it', 'pl-ja', 'pl-jv', 'pl-ka', 'pl-kk', 'pl-km', 'pl-kn', 'pl-ko', 'pl-lb', 'pl-lg', 'pl-ln', 'pl-lo', 'pl-lt', 'pl-lv', 'pl-mg', 'pl-mk', 'pl-ml', 'pl-mn', 'pl-mr', 'pl-ms', 'pl-my', 'pl-ne', 'pl-nl', 'pl-no', 'pl-ns', 'pl-oc', 'pl-or', 'pl-pa', 'pl-ps', 'pl-pt', 'pl-ro', 'pl-ru', 'pl-sd', 'pl-si', 'pl-sk', 'pl-sl', 'pl-so', 'pl-sq', 'pl-sr', 'pl-ss', 'pl-su', 'pl-sv', 'pl-sw', 'pl-ta', 'pl-th', 'pl-tl', 'pl-tn', 'pl-tr', 'pl-uk', 'pl-ur', 'pl-uz', 'pl-vi', 'pl-wo', 'pl-xh', 'pl-yi', 'pl-yo', 'pl-zh', 'pl-zu', 'ps-af', 'ps-am', 'ps-ar', 'ps-ast', 'ps-az', 'ps-ba', 'ps-be', 'ps-bg', 'ps-bn', 'ps-br', 'ps-bs', 'ps-ca', 'ps-ceb', 'ps-cs', 'ps-cy', 'ps-da', 'ps-de', 'ps-el', 'ps-en', 'ps-es', 'ps-et', 'ps-fa', 'ps-ff', 'ps-fi', 'ps-fr', 'ps-fy', 'ps-ga', 'ps-gd', 'ps-gl', 'ps-gu', 'ps-ha', 'ps-he', 'ps-hi', 'ps-hr', 'ps-ht', 'ps-hu', 'ps-hy', 'ps-id', 'ps-ig', 'ps-ilo', 'ps-is', 'ps-it', 'ps-ja', 'ps-jv', 'ps-ka', 'ps-kk', 'ps-km', 'ps-kn', 'ps-ko', 'ps-lb', 'ps-lg', 'ps-ln', 'ps-lo', 'ps-lt', 'ps-lv', 'ps-mg', 'ps-mk', 'ps-ml', 'ps-mn', 'ps-mr', 'ps-ms', 'ps-my', 'ps-ne', 'ps-nl', 'ps-no', 'ps-ns', 'ps-oc', 'ps-or', 'ps-pa', 'ps-pl', 'ps-pt', 'ps-ro', 'ps-ru', 'ps-sd', 'ps-si', 'ps-sk', 'ps-sl', 'ps-so', 'ps-sq', 'ps-sr', 'ps-ss', 'ps-su', 'ps-sv', 'ps-sw', 'ps-ta', 'ps-th', 'ps-tl', 'ps-tn', 'ps-tr', 'ps-uk', 'ps-ur', 'ps-uz', 'ps-vi', 'ps-wo', 'ps-xh', 'ps-yi', 'ps-yo', 'ps-zh', 'ps-zu', 'pt-af', 'pt-am', 'pt-ar', 'pt-ast', 'pt-az', 'pt-ba', 'pt-be', 'pt-bg', 'pt-bn', 'pt-br', 'pt-bs', 'pt-ca', 'pt-ceb', 'pt-cs', 'pt-cy', 'pt-da', 'pt-de', 'pt-el', 'pt-en', 'pt-es', 'pt-et', 'pt-fa', 'pt-ff', 'pt-fi', 'pt-fr', 'pt-fy', 'pt-ga', 'pt-gd', 'pt-gl', 'pt-gu', 'pt-ha', 'pt-he', 'pt-hi', 'pt-hr', 'pt-ht', 'pt-hu', 'pt-hy', 'pt-id', 'pt-ig', 'pt-ilo', 'pt-is', 'pt-it', 'pt-ja', 'pt-jv', 'pt-ka', 'pt-kk', 'pt-km', 'pt-kn', 'pt-ko', 'pt-lb', 'pt-lg', 'pt-ln', 'pt-lo', 'pt-lt', 'pt-lv', 'pt-mg', 'pt-mk', 'pt-ml', 'pt-mn', 'pt-mr', 'pt-ms', 'pt-my', 'pt-ne', 'pt-nl', 'pt-no', 'pt-ns', 'pt-oc', 'pt-or', 'pt-pa', 'pt-pl', 'pt-ps', 'pt-ro', 'pt-ru', 'pt-sd', 'pt-si', 'pt-sk', 'pt-sl', 'pt-so', 'pt-sq', 'pt-sr', 'pt-ss', 'pt-su', 'pt-sv', 'pt-sw', 'pt-ta', 'pt-th', 'pt-tl', 'pt-tn', 'pt-tr', 'pt-uk', 'pt-ur', 'pt-uz', 'pt-vi', 'pt-wo', 'pt-xh', 'pt-yi', 'pt-yo', 'pt-zh', 'pt-zu', 'ro-af', 'ro-am', 'ro-ar', 'ro-ast', 'ro-az', 'ro-ba', 'ro-be', 'ro-bg', 'ro-bn', 'ro-br', 'ro-bs', 'ro-ca', 'ro-ceb', 'ro-cs', 'ro-cy', 'ro-da', 'ro-de', 'ro-el', 'ro-en', 'ro-es', 'ro-et', 'ro-fa', 'ro-ff', 'ro-fi', 'ro-fr', 'ro-fy', 'ro-ga', 'ro-gd', 'ro-gl', 'ro-gu', 'ro-ha', 'ro-he', 'ro-hi', 'ro-hr', 'ro-ht', 'ro-hu', 'ro-hy', 'ro-id', 'ro-ig', 'ro-ilo', 'ro-is', 'ro-it', 'ro-ja', 'ro-jv', 'ro-ka', 'ro-kk', 'ro-km', 'ro-kn', 'ro-ko', 'ro-lb', 'ro-lg', 'ro-ln', 'ro-lo', 'ro-lt', 'ro-lv', 'ro-mg', 'ro-mk', 'ro-ml', 'ro-mn', 'ro-mr', 'ro-ms', 'ro-my', 'ro-ne', 'ro-nl', 'ro-no', 'ro-ns', 'ro-oc', 'ro-or', 'ro-pa', 'ro-pl', 'ro-ps', 'ro-pt', 'ro-ru', 'ro-sd', 'ro-si', 'ro-sk', 'ro-sl', 'ro-so', 'ro-sq', 'ro-sr', 'ro-ss', 'ro-su', 'ro-sv', 'ro-sw', 'ro-ta', 'ro-th', 'ro-tl', 'ro-tn', 'ro-tr', 'ro-uk', 'ro-ur', 'ro-uz', 'ro-vi', 'ro-wo', 'ro-xh', 'ro-yi', 'ro-yo', 'ro-zh', 'ro-zu', 'ru-af', 'ru-am', 'ru-ar', 'ru-ast', 'ru-az', 'ru-ba', 'ru-be', 'ru-bg', 'ru-bn', 'ru-br', 'ru-bs', 'ru-ca', 'ru-ceb', 'ru-cs', 'ru-cy', 'ru-da', 'ru-de', 'ru-el', 'ru-en', 'ru-es', 'ru-et', 'ru-fa', 'ru-ff', 'ru-fi', 'ru-fr', 'ru-fy', 'ru-ga', 'ru-gd', 'ru-gl', 'ru-gu', 'ru-ha', 'ru-he', 'ru-hi', 'ru-hr', 'ru-ht', 'ru-hu', 'ru-hy', 'ru-id', 'ru-ig', 'ru-ilo', 'ru-is', 'ru-it', 'ru-ja', 'ru-jv', 'ru-ka', 'ru-kk', 'ru-km', 'ru-kn', 'ru-ko', 'ru-lb', 'ru-lg', 'ru-ln', 'ru-lo', 'ru-lt', 'ru-lv', 'ru-mg', 'ru-mk', 'ru-ml', 'ru-mn', 'ru-mr', 'ru-ms', 'ru-my', 'ru-ne', 'ru-nl', 'ru-no', 'ru-ns', 'ru-oc', 'ru-or', 'ru-pa', 'ru-pl', 'ru-ps', 'ru-pt', 'ru-ro', 'ru-sd', 'ru-si', 'ru-sk', 'ru-sl', 'ru-so', 'ru-sq', 'ru-sr', 'ru-ss', 'ru-su', 'ru-sv', 'ru-sw', 'ru-ta', 'ru-th', 'ru-tl', 'ru-tn', 'ru-tr', 'ru-uk', 'ru-ur', 'ru-uz', 'ru-vi', 'ru-wo', 'ru-xh', 'ru-yi', 'ru-yo', 'ru-zh', 'ru-zu', 'sd-af', 'sd-am', 'sd-ar', 'sd-ast', 'sd-az', 'sd-ba', 'sd-be', 'sd-bg', 'sd-bn', 'sd-br', 'sd-bs', 'sd-ca', 'sd-ceb', 'sd-cs', 'sd-cy', 'sd-da', 'sd-de', 'sd-el', 'sd-en', 'sd-es', 'sd-et', 'sd-fa', 'sd-ff', 'sd-fi', 'sd-fr', 'sd-fy', 'sd-ga', 'sd-gd', 'sd-gl', 'sd-gu', 'sd-ha', 'sd-he', 'sd-hi', 'sd-hr', 'sd-ht', 'sd-hu', 'sd-hy', 'sd-id', 'sd-ig', 'sd-ilo', 'sd-is', 'sd-it', 'sd-ja', 'sd-jv', 'sd-ka', 'sd-kk', 'sd-km', 'sd-kn', 'sd-ko', 'sd-lb', 'sd-lg', 'sd-ln', 'sd-lo', 'sd-lt', 'sd-lv', 'sd-mg', 'sd-mk', 'sd-ml', 'sd-mn', 'sd-mr', 'sd-ms', 'sd-my', 'sd-ne', 'sd-nl', 'sd-no', 'sd-ns', 'sd-oc', 'sd-or', 'sd-pa', 'sd-pl', 'sd-ps', 'sd-pt', 'sd-ro', 'sd-ru', 'sd-si', 'sd-sk', 'sd-sl', 'sd-so', 'sd-sq', 'sd-sr', 'sd-ss', 'sd-su', 'sd-sv', 'sd-sw', 'sd-ta', 'sd-th', 'sd-tl', 'sd-tn', 'sd-tr', 'sd-uk', 'sd-ur', 'sd-uz', 'sd-vi', 'sd-wo', 'sd-xh', 'sd-yi', 'sd-yo', 'sd-zh', 'sd-zu', 'si-af', 'si-am', 'si-ar', 'si-ast', 'si-az', 'si-ba', 'si-be', 'si-bg', 'si-bn', 'si-br', 'si-bs', 'si-ca', 'si-ceb', 'si-cs', 'si-cy', 'si-da', 'si-de', 'si-el', 'si-en', 'si-es', 'si-et', 'si-fa', 'si-ff', 'si-fi', 'si-fr', 'si-fy', 'si-ga', 'si-gd', 'si-gl', 'si-gu', 'si-ha', 'si-he', 'si-hi', 'si-hr', 'si-ht', 'si-hu', 'si-hy', 'si-id', 'si-ig', 'si-ilo', 'si-is', 'si-it', 'si-ja', 'si-jv', 'si-ka', 'si-kk', 'si-km', 'si-kn', 'si-ko', 'si-lb', 'si-lg', 'si-ln', 'si-lo', 'si-lt', 'si-lv', 'si-mg', 'si-mk', 'si-ml', 'si-mn', 'si-mr', 'si-ms', 'si-my', 'si-ne', 'si-nl', 'si-no', 'si-ns', 'si-oc', 'si-or', 'si-pa', 'si-pl', 'si-ps', 'si-pt', 'si-ro', 'si-ru', 'si-sd', 'si-sk', 'si-sl', 'si-so', 'si-sq', 'si-sr', 'si-ss', 'si-su', 'si-sv', 'si-sw', 'si-ta', 'si-th', 'si-tl', 'si-tn', 'si-tr', 'si-uk', 'si-ur', 'si-uz', 'si-vi', 'si-wo', 'si-xh', 'si-yi', 'si-yo', 'si-zh', 'si-zu', 'sk-af', 'sk-am', 'sk-ar', 'sk-ast', 'sk-az', 'sk-ba', 'sk-be', 'sk-bg', 'sk-bn', 'sk-br', 'sk-bs', 'sk-ca', 'sk-ceb', 'sk-cs', 'sk-cy', 'sk-da', 'sk-de', 'sk-el', 'sk-en', 'sk-es', 'sk-et', 'sk-fa', 'sk-ff', 'sk-fi', 'sk-fr', 'sk-fy', 'sk-ga', 'sk-gd', 'sk-gl', 'sk-gu', 'sk-ha', 'sk-he', 'sk-hi', 'sk-hr', 'sk-ht', 'sk-hu', 'sk-hy', 'sk-id', 'sk-ig', 'sk-ilo', 'sk-is', 'sk-it', 'sk-ja', 'sk-jv', 'sk-ka', 'sk-kk', 'sk-km', 'sk-kn', 'sk-ko', 'sk-lb', 'sk-lg', 'sk-ln', 'sk-lo', 'sk-lt', 'sk-lv', 'sk-mg', 'sk-mk', 'sk-ml', 'sk-mn', 'sk-mr', 'sk-ms', 'sk-my', 'sk-ne', 'sk-nl', 'sk-no', 'sk-ns', 'sk-oc', 'sk-or', 'sk-pa', 'sk-pl', 'sk-ps', 'sk-pt', 'sk-ro', 'sk-ru', 'sk-sd', 'sk-si', 'sk-sl', 'sk-so', 'sk-sq', 'sk-sr', 'sk-ss', 'sk-su', 'sk-sv', 'sk-sw', 'sk-ta', 'sk-th', 'sk-tl', 'sk-tn', 'sk-tr', 'sk-uk', 'sk-ur', 'sk-uz', 'sk-vi', 'sk-wo', 'sk-xh', 'sk-yi', 'sk-yo', 'sk-zh', 'sk-zu', 'sl-af', 'sl-am', 'sl-ar', 'sl-ast', 'sl-az', 'sl-ba', 'sl-be', 'sl-bg', 'sl-bn', 'sl-br', 'sl-bs', 'sl-ca', 'sl-ceb', 'sl-cs', 'sl-cy', 'sl-da', 'sl-de', 'sl-el', 'sl-en', 'sl-es', 'sl-et', 'sl-fa', 'sl-ff', 'sl-fi', 'sl-fr', 'sl-fy', 'sl-ga', 'sl-gd', 'sl-gl', 'sl-gu', 'sl-ha', 'sl-he', 'sl-hi', 'sl-hr', 'sl-ht', 'sl-hu', 'sl-hy', 'sl-id', 'sl-ig', 'sl-ilo', 'sl-is', 'sl-it', 'sl-ja', 'sl-jv', 'sl-ka', 'sl-kk', 'sl-km', 'sl-kn', 'sl-ko', 'sl-lb', 'sl-lg', 'sl-ln', 'sl-lo', 'sl-lt', 'sl-lv', 'sl-mg', 'sl-mk', 'sl-ml', 'sl-mn', 'sl-mr', 'sl-ms', 'sl-my', 'sl-ne', 'sl-nl', 'sl-no', 'sl-ns', 'sl-oc', 'sl-or', 'sl-pa', 'sl-pl', 'sl-ps', 'sl-pt', 'sl-ro', 'sl-ru', 'sl-sd', 'sl-si', 'sl-sk', 'sl-so', 'sl-sq', 'sl-sr', 'sl-ss', 'sl-su', 'sl-sv', 'sl-sw', 'sl-ta', 'sl-th', 'sl-tl', 'sl-tn', 'sl-tr', 'sl-uk', 'sl-ur', 'sl-uz', 'sl-vi', 'sl-wo', 'sl-xh', 'sl-yi', 'sl-yo', 'sl-zh', 'sl-zu', 'so-af', 'so-am', 'so-ar', 'so-ast', 'so-az', 'so-ba', 'so-be', 'so-bg', 'so-bn', 'so-br', 'so-bs', 'so-ca', 'so-ceb', 'so-cs', 'so-cy', 'so-da', 'so-de', 'so-el', 'so-en', 'so-es', 'so-et', 'so-fa', 'so-ff', 'so-fi', 'so-fr', 'so-fy', 'so-ga', 'so-gd', 'so-gl', 'so-gu', 'so-ha', 'so-he', 'so-hi', 'so-hr', 'so-ht', 'so-hu', 'so-hy', 'so-id', 'so-ig', 'so-ilo', 'so-is', 'so-it', 'so-ja', 'so-jv', 'so-ka', 'so-kk', 'so-km', 'so-kn', 'so-ko', 'so-lb', 'so-lg', 'so-ln', 'so-lo', 'so-lt', 'so-lv', 'so-mg', 'so-mk', 'so-ml', 'so-mn', 'so-mr', 'so-ms', 'so-my', 'so-ne', 'so-nl', 'so-no', 'so-ns', 'so-oc', 'so-or', 'so-pa', 'so-pl', 'so-ps', 'so-pt', 'so-ro', 'so-ru', 'so-sd', 'so-si', 'so-sk', 'so-sl', 'so-sq', 'so-sr', 'so-ss', 'so-su', 'so-sv', 'so-sw', 'so-ta', 'so-th', 'so-tl', 'so-tn', 'so-tr', 'so-uk', 'so-ur', 'so-uz', 'so-vi', 'so-wo', 'so-xh', 'so-yi', 'so-yo', 'so-zh', 'so-zu', 'sq-af', 'sq-am', 'sq-ar', 'sq-ast', 'sq-az', 'sq-ba', 'sq-be', 'sq-bg', 'sq-bn', 'sq-br', 'sq-bs', 'sq-ca', 'sq-ceb', 'sq-cs', 'sq-cy', 'sq-da', 'sq-de', 'sq-el', 'sq-en', 'sq-es', 'sq-et', 'sq-fa', 'sq-ff', 'sq-fi', 'sq-fr', 'sq-fy', 'sq-ga', 'sq-gd', 'sq-gl', 'sq-gu', 'sq-ha', 'sq-he', 'sq-hi', 'sq-hr', 'sq-ht', 'sq-hu', 'sq-hy', 'sq-id', 'sq-ig', 'sq-ilo', 'sq-is', 'sq-it', 'sq-ja', 'sq-jv', 'sq-ka', 'sq-kk', 'sq-km', 'sq-kn', 'sq-ko', 'sq-lb', 'sq-lg', 'sq-ln', 'sq-lo', 'sq-lt', 'sq-lv', 'sq-mg', 'sq-mk', 'sq-ml', 'sq-mn', 'sq-mr', 'sq-ms', 'sq-my', 'sq-ne', 'sq-nl', 'sq-no', 'sq-ns', 'sq-oc', 'sq-or', 'sq-pa', 'sq-pl', 'sq-ps', 'sq-pt', 'sq-ro', 'sq-ru', 'sq-sd', 'sq-si', 'sq-sk', 'sq-sl', 'sq-so', 'sq-sr', 'sq-ss', 'sq-su', 'sq-sv', 'sq-sw', 'sq-ta', 'sq-th', 'sq-tl', 'sq-tn', 'sq-tr', 'sq-uk', 'sq-ur', 'sq-uz', 'sq-vi', 'sq-wo', 'sq-xh', 'sq-yi', 'sq-yo', 'sq-zh', 'sq-zu', 'sr-af', 'sr-am', 'sr-ar', 'sr-ast', 'sr-az', 'sr-ba', 'sr-be', 'sr-bg', 'sr-bn', 'sr-br', 'sr-bs', 'sr-ca', 'sr-ceb', 'sr-cs', 'sr-cy', 'sr-da', 'sr-de', 'sr-el', 'sr-en', 'sr-es', 'sr-et', 'sr-fa', 'sr-ff', 'sr-fi', 'sr-fr', 'sr-fy', 'sr-ga', 'sr-gd', 'sr-gl', 'sr-gu', 'sr-ha', 'sr-he', 'sr-hi', 'sr-hr', 'sr-ht', 'sr-hu', 'sr-hy', 'sr-id', 'sr-ig', 'sr-ilo', 'sr-is', 'sr-it', 'sr-ja', 'sr-jv', 'sr-ka', 'sr-kk', 'sr-km', 'sr-kn', 'sr-ko', 'sr-lb', 'sr-lg', 'sr-ln', 'sr-lo', 'sr-lt', 'sr-lv', 'sr-mg', 'sr-mk', 'sr-ml', 'sr-mn', 'sr-mr', 'sr-ms', 'sr-my', 'sr-ne', 'sr-nl', 'sr-no', 'sr-ns', 'sr-oc', 'sr-or', 'sr-pa', 'sr-pl', 'sr-ps', 'sr-pt', 'sr-ro', 'sr-ru', 'sr-sd', 'sr-si', 'sr-sk', 'sr-sl', 'sr-so', 'sr-sq', 'sr-ss', 'sr-su', 'sr-sv', 'sr-sw', 'sr-ta', 'sr-th', 'sr-tl', 'sr-tn', 'sr-tr', 'sr-uk', 'sr-ur', 'sr-uz', 'sr-vi', 'sr-wo', 'sr-xh', 'sr-yi', 'sr-yo', 'sr-zh', 'sr-zu', 'ss-af', 'ss-am', 'ss-ar', 'ss-ast', 'ss-az', 'ss-ba', 'ss-be', 'ss-bg', 'ss-bn', 'ss-br', 'ss-bs', 'ss-ca', 'ss-ceb', 'ss-cs', 'ss-cy', 'ss-da', 'ss-de', 'ss-el', 'ss-en', 'ss-es', 'ss-et', 'ss-fa', 'ss-ff', 'ss-fi', 'ss-fr', 'ss-fy', 'ss-ga', 'ss-gd', 'ss-gl', 'ss-gu', 'ss-ha', 'ss-he', 'ss-hi', 'ss-hr', 'ss-ht', 'ss-hu', 'ss-hy', 'ss-id', 'ss-ig', 'ss-ilo', 'ss-is', 'ss-it', 'ss-ja', 'ss-jv', 'ss-ka', 'ss-kk', 'ss-km', 'ss-kn', 'ss-ko', 'ss-lb', 'ss-lg', 'ss-ln', 'ss-lo', 'ss-lt', 'ss-lv', 'ss-mg', 'ss-mk', 'ss-ml', 'ss-mn', 'ss-mr', 'ss-ms', 'ss-my', 'ss-ne', 'ss-nl', 'ss-no', 'ss-ns', 'ss-oc', 'ss-or', 'ss-pa', 'ss-pl', 'ss-ps', 'ss-pt', 'ss-ro', 'ss-ru', 'ss-sd', 'ss-si', 'ss-sk', 'ss-sl', 'ss-so', 'ss-sq', 'ss-sr', 'ss-su', 'ss-sv', 'ss-sw', 'ss-ta', 'ss-th', 'ss-tl', 'ss-tn', 'ss-tr', 'ss-uk', 'ss-ur', 'ss-uz', 'ss-vi', 'ss-wo', 'ss-xh', 'ss-yi', 'ss-yo', 'ss-zh', 'ss-zu', 'su-af', 'su-am', 'su-ar', 'su-ast', 'su-az', 'su-ba', 'su-be', 'su-bg', 'su-bn', 'su-br', 'su-bs', 'su-ca', 'su-ceb', 'su-cs', 'su-cy', 'su-da', 'su-de', 'su-el', 'su-en', 'su-es', 'su-et', 'su-fa', 'su-ff', 'su-fi', 'su-fr', 'su-fy', 'su-ga', 'su-gd', 'su-gl', 'su-gu', 'su-ha', 'su-he', 'su-hi', 'su-hr', 'su-ht', 'su-hu', 'su-hy', 'su-id', 'su-ig', 'su-ilo', 'su-is', 'su-it', 'su-ja', 'su-jv', 'su-ka', 'su-kk', 'su-km', 'su-kn', 'su-ko', 'su-lb', 'su-lg', 'su-ln', 'su-lo', 'su-lt', 'su-lv', 'su-mg', 'su-mk', 'su-ml', 'su-mn', 'su-mr', 'su-ms', 'su-my', 'su-ne', 'su-nl', 'su-no', 'su-ns', 'su-oc', 'su-or', 'su-pa', 'su-pl', 'su-ps', 'su-pt', 'su-ro', 'su-ru', 'su-sd', 'su-si', 'su-sk', 'su-sl', 'su-so', 'su-sq', 'su-sr', 'su-ss', 'su-sv', 'su-sw', 'su-ta', 'su-th', 'su-tl', 'su-tn', 'su-tr', 'su-uk', 'su-ur', 'su-uz', 'su-vi', 'su-wo', 'su-xh', 'su-yi', 'su-yo', 'su-zh', 'su-zu', 'sv-af', 'sv-am', 'sv-ar', 'sv-ast', 'sv-az', 'sv-ba', 'sv-be', 'sv-bg', 'sv-bn', 'sv-br', 'sv-bs', 'sv-ca', 'sv-ceb', 'sv-cs', 'sv-cy', 'sv-da', 'sv-de', 'sv-el', 'sv-en', 'sv-es', 'sv-et', 'sv-fa', 'sv-ff', 'sv-fi', 'sv-fr', 'sv-fy', 'sv-ga', 'sv-gd', 'sv-gl', 'sv-gu', 'sv-ha', 'sv-he', 'sv-hi', 'sv-hr', 'sv-ht', 'sv-hu', 'sv-hy', 'sv-id', 'sv-ig', 'sv-ilo', 'sv-is', 'sv-it', 'sv-ja', 'sv-jv', 'sv-ka', 'sv-kk', 'sv-km', 'sv-kn', 'sv-ko', 'sv-lb', 'sv-lg', 'sv-ln', 'sv-lo', 'sv-lt', 'sv-lv', 'sv-mg', 'sv-mk', 'sv-ml', 'sv-mn', 'sv-mr', 'sv-ms', 'sv-my', 'sv-ne', 'sv-nl', 'sv-no', 'sv-ns', 'sv-oc', 'sv-or', 'sv-pa', 'sv-pl', 'sv-ps', 'sv-pt', 'sv-ro', 'sv-ru', 'sv-sd', 'sv-si', 'sv-sk', 'sv-sl', 'sv-so', 'sv-sq', 'sv-sr', 'sv-ss', 'sv-su', 'sv-sw', 'sv-ta', 'sv-th', 'sv-tl', 'sv-tn', 'sv-tr', 'sv-uk', 'sv-ur', 'sv-uz', 'sv-vi', 'sv-wo', 'sv-xh', 'sv-yi', 'sv-yo', 'sv-zh', 'sv-zu', 'sw-af', 'sw-am', 'sw-ar', 'sw-ast', 'sw-az', 'sw-ba', 'sw-be', 'sw-bg', 'sw-bn', 'sw-br', 'sw-bs', 'sw-ca', 'sw-ceb', 'sw-cs', 'sw-cy', 'sw-da', 'sw-de', 'sw-el', 'sw-en', 'sw-es', 'sw-et', 'sw-fa', 'sw-ff', 'sw-fi', 'sw-fr', 'sw-fy', 'sw-ga', 'sw-gd', 'sw-gl', 'sw-gu', 'sw-ha', 'sw-he', 'sw-hi', 'sw-hr', 'sw-ht', 'sw-hu', 'sw-hy', 'sw-id', 'sw-ig', 'sw-ilo', 'sw-is', 'sw-it', 'sw-ja', 'sw-jv', 'sw-ka', 'sw-kk', 'sw-km', 'sw-kn', 'sw-ko', 'sw-lb', 'sw-lg', 'sw-ln', 'sw-lo', 'sw-lt', 'sw-lv', 'sw-mg', 'sw-mk', 'sw-ml', 'sw-mn', 'sw-mr', 'sw-ms', 'sw-my', 'sw-ne', 'sw-nl', 'sw-no', 'sw-ns', 'sw-oc', 'sw-or', 'sw-pa', 'sw-pl', 'sw-ps', 'sw-pt', 'sw-ro', 'sw-ru', 'sw-sd', 'sw-si', 'sw-sk', 'sw-sl', 'sw-so', 'sw-sq', 'sw-sr', 'sw-ss', 'sw-su', 'sw-sv', 'sw-ta', 'sw-th', 'sw-tl', 'sw-tn', 'sw-tr', 'sw-uk', 'sw-ur', 'sw-uz', 'sw-vi', 'sw-wo', 'sw-xh', 'sw-yi', 'sw-yo', 'sw-zh', 'sw-zu', 'ta-af', 'ta-am', 'ta-ar', 'ta-ast', 'ta-az', 'ta-ba', 'ta-be', 'ta-bg', 'ta-bn', 'ta-br', 'ta-bs', 'ta-ca', 'ta-ceb', 'ta-cs', 'ta-cy', 'ta-da', 'ta-de', 'ta-el', 'ta-en', 'ta-es', 'ta-et', 'ta-fa', 'ta-ff', 'ta-fi', 'ta-fr', 'ta-fy', 'ta-ga', 'ta-gd', 'ta-gl', 'ta-gu', 'ta-ha', 'ta-he', 'ta-hi', 'ta-hr', 'ta-ht', 'ta-hu', 'ta-hy', 'ta-id', 'ta-ig', 'ta-ilo', 'ta-is', 'ta-it', 'ta-ja', 'ta-jv', 'ta-ka', 'ta-kk', 'ta-km', 'ta-kn', 'ta-ko', 'ta-lb', 'ta-lg', 'ta-ln', 'ta-lo', 'ta-lt', 'ta-lv', 'ta-mg', 'ta-mk', 'ta-ml', 'ta-mn', 'ta-mr', 'ta-ms', 'ta-my', 'ta-ne', 'ta-nl', 'ta-no', 'ta-ns', 'ta-oc', 'ta-or', 'ta-pa', 'ta-pl', 'ta-ps', 'ta-pt', 'ta-ro', 'ta-ru', 'ta-sd', 'ta-si', 'ta-sk', 'ta-sl', 'ta-so', 'ta-sq', 'ta-sr', 'ta-ss', 'ta-su', 'ta-sv', 'ta-sw', 'ta-th', 'ta-tl', 'ta-tn', 'ta-tr', 'ta-uk', 'ta-ur', 'ta-uz', 'ta-vi', 'ta-wo', 'ta-xh', 'ta-yi', 'ta-yo', 'ta-zh', 'ta-zu', 'th-af', 'th-am', 'th-ar', 'th-ast', 'th-az', 'th-ba', 'th-be', 'th-bg', 'th-bn', 'th-br', 'th-bs', 'th-ca', 'th-ceb', 'th-cs', 'th-cy', 'th-da', 'th-de', 'th-el', 'th-en', 'th-es', 'th-et', 'th-fa', 'th-ff', 'th-fi', 'th-fr', 'th-fy', 'th-ga', 'th-gd', 'th-gl', 'th-gu', 'th-ha', 'th-he', 'th-hi', 'th-hr', 'th-ht', 'th-hu', 'th-hy', 'th-id', 'th-ig', 'th-ilo', 'th-is', 'th-it', 'th-ja', 'th-jv', 'th-ka', 'th-kk', 'th-km', 'th-kn', 'th-ko', 'th-lb', 'th-lg', 'th-ln', 'th-lo', 'th-lt', 'th-lv', 'th-mg', 'th-mk', 'th-ml', 'th-mn', 'th-mr', 'th-ms', 'th-my', 'th-ne', 'th-nl', 'th-no', 'th-ns', 'th-oc', 'th-or', 'th-pa', 'th-pl', 'th-ps', 'th-pt', 'th-ro', 'th-ru', 'th-sd', 'th-si', 'th-sk', 'th-sl', 'th-so', 'th-sq', 'th-sr', 'th-ss', 'th-su', 'th-sv', 'th-sw', 'th-ta', 'th-tl', 'th-tn', 'th-tr', 'th-uk', 'th-ur', 'th-uz', 'th-vi', 'th-wo', 'th-xh', 'th-yi', 'th-yo', 'th-zh', 'th-zu', 'tl-af', 'tl-am', 'tl-ar', 'tl-ast', 'tl-az', 'tl-ba', 'tl-be', 'tl-bg', 'tl-bn', 'tl-br', 'tl-bs', 'tl-ca', 'tl-ceb', 'tl-cs', 'tl-cy', 'tl-da', 'tl-de', 'tl-el', 'tl-en', 'tl-es', 'tl-et', 'tl-fa', 'tl-ff', 'tl-fi', 'tl-fr', 'tl-fy', 'tl-ga', 'tl-gd', 'tl-gl', 'tl-gu', 'tl-ha', 'tl-he', 'tl-hi', 'tl-hr', 'tl-ht', 'tl-hu', 'tl-hy', 'tl-id', 'tl-ig', 'tl-ilo', 'tl-is', 'tl-it', 'tl-ja', 'tl-jv', 'tl-ka', 'tl-kk', 'tl-km', 'tl-kn', 'tl-ko', 'tl-lb', 'tl-lg', 'tl-ln', 'tl-lo', 'tl-lt', 'tl-lv', 'tl-mg', 'tl-mk', 'tl-ml', 'tl-mn', 'tl-mr', 'tl-ms', 'tl-my', 'tl-ne', 'tl-nl', 'tl-no', 'tl-ns', 'tl-oc', 'tl-or', 'tl-pa', 'tl-pl', 'tl-ps', 'tl-pt', 'tl-ro', 'tl-ru', 'tl-sd', 'tl-si', 'tl-sk', 'tl-sl', 'tl-so', 'tl-sq', 'tl-sr', 'tl-ss', 'tl-su', 'tl-sv', 'tl-sw', 'tl-ta', 'tl-th', 'tl-tn', 'tl-tr', 'tl-uk', 'tl-ur', 'tl-uz', 'tl-vi', 'tl-wo', 'tl-xh', 'tl-yi', 'tl-yo', 'tl-zh', 'tl-zu', 'tn-af', 'tn-am', 'tn-ar', 'tn-ast', 'tn-az', 'tn-ba', 'tn-be', 'tn-bg', 'tn-bn', 'tn-br', 'tn-bs', 'tn-ca', 'tn-ceb', 'tn-cs', 'tn-cy', 'tn-da', 'tn-de', 'tn-el', 'tn-en', 'tn-es', 'tn-et', 'tn-fa', 'tn-ff', 'tn-fi', 'tn-fr', 'tn-fy', 'tn-ga', 'tn-gd', 'tn-gl', 'tn-gu', 'tn-ha', 'tn-he', 'tn-hi', 'tn-hr', 'tn-ht', 'tn-hu', 'tn-hy', 'tn-id', 'tn-ig', 'tn-ilo', 'tn-is', 'tn-it', 'tn-ja', 'tn-jv', 'tn-ka', 'tn-kk', 'tn-km', 'tn-kn', 'tn-ko', 'tn-lb', 'tn-lg', 'tn-ln', 'tn-lo', 'tn-lt', 'tn-lv', 'tn-mg', 'tn-mk', 'tn-ml', 'tn-mn', 'tn-mr', 'tn-ms', 'tn-my', 'tn-ne', 'tn-nl', 'tn-no', 'tn-ns', 'tn-oc', 'tn-or', 'tn-pa', 'tn-pl', 'tn-ps', 'tn-pt', 'tn-ro', 'tn-ru', 'tn-sd', 'tn-si', 'tn-sk', 'tn-sl', 'tn-so', 'tn-sq', 'tn-sr', 'tn-ss', 'tn-su', 'tn-sv', 'tn-sw', 'tn-ta', 'tn-th', 'tn-tl', 'tn-tr', 'tn-uk', 'tn-ur', 'tn-uz', 'tn-vi', 'tn-wo', 'tn-xh', 'tn-yi', 'tn-yo', 'tn-zh', 'tn-zu', 'tr-af', 'tr-am', 'tr-ar', 'tr-ast', 'tr-az', 'tr-ba', 'tr-be', 'tr-bg', 'tr-bn', 'tr-br', 'tr-bs', 'tr-ca', 'tr-ceb', 'tr-cs', 'tr-cy', 'tr-da', 'tr-de', 'tr-el', 'tr-en', 'tr-es', 'tr-et', 'tr-fa', 'tr-ff', 'tr-fi', 'tr-fr', 'tr-fy', 'tr-ga', 'tr-gd', 'tr-gl', 'tr-gu', 'tr-ha', 'tr-he', 'tr-hi', 'tr-hr', 'tr-ht', 'tr-hu', 'tr-hy', 'tr-id', 'tr-ig', 'tr-ilo', 'tr-is', 'tr-it', 'tr-ja', 'tr-jv', 'tr-ka', 'tr-kk', 'tr-km', 'tr-kn', 'tr-ko', 'tr-lb', 'tr-lg', 'tr-ln', 'tr-lo', 'tr-lt', 'tr-lv', 'tr-mg', 'tr-mk', 'tr-ml', 'tr-mn', 'tr-mr', 'tr-ms', 'tr-my', 'tr-ne', 'tr-nl', 'tr-no', 'tr-ns', 'tr-oc', 'tr-or', 'tr-pa', 'tr-pl', 'tr-ps', 'tr-pt', 'tr-ro', 'tr-ru', 'tr-sd', 'tr-si', 'tr-sk', 'tr-sl', 'tr-so', 'tr-sq', 'tr-sr', 'tr-ss', 'tr-su', 'tr-sv', 'tr-sw', 'tr-ta', 'tr-th', 'tr-tl', 'tr-tn', 'tr-uk', 'tr-ur', 'tr-uz', 'tr-vi', 'tr-wo', 'tr-xh', 'tr-yi', 'tr-yo', 'tr-zh', 'tr-zu', 'uk-af', 'uk-am', 'uk-ar', 'uk-ast', 'uk-az', 'uk-ba', 'uk-be', 'uk-bg', 'uk-bn', 'uk-br', 'uk-bs', 'uk-ca', 'uk-ceb', 'uk-cs', 'uk-cy', 'uk-da', 'uk-de', 'uk-el', 'uk-en', 'uk-es', 'uk-et', 'uk-fa', 'uk-ff', 'uk-fi', 'uk-fr', 'uk-fy', 'uk-ga', 'uk-gd', 'uk-gl', 'uk-gu', 'uk-ha', 'uk-he', 'uk-hi', 'uk-hr', 'uk-ht', 'uk-hu', 'uk-hy', 'uk-id', 'uk-ig', 'uk-ilo', 'uk-is', 'uk-it', 'uk-ja', 'uk-jv', 'uk-ka', 'uk-kk', 'uk-km', 'uk-kn', 'uk-ko', 'uk-lb', 'uk-lg', 'uk-ln', 'uk-lo', 'uk-lt', 'uk-lv', 'uk-mg', 'uk-mk', 'uk-ml', 'uk-mn', 'uk-mr', 'uk-ms', 'uk-my', 'uk-ne', 'uk-nl', 'uk-no', 'uk-ns', 'uk-oc', 'uk-or', 'uk-pa', 'uk-pl', 'uk-ps', 'uk-pt', 'uk-ro', 'uk-ru', 'uk-sd', 'uk-si', 'uk-sk', 'uk-sl', 'uk-so', 'uk-sq', 'uk-sr', 'uk-ss', 'uk-su', 'uk-sv', 'uk-sw', 'uk-ta', 'uk-th', 'uk-tl', 'uk-tn', 'uk-tr', 'uk-ur', 'uk-uz', 'uk-vi', 'uk-wo', 'uk-xh', 'uk-yi', 'uk-yo', 'uk-zh', 'uk-zu', 'ur-af', 'ur-am', 'ur-ar', 'ur-ast', 'ur-az', 'ur-ba', 'ur-be', 'ur-bg', 'ur-bn', 'ur-br', 'ur-bs', 'ur-ca', 'ur-ceb', 'ur-cs', 'ur-cy', 'ur-da', 'ur-de', 'ur-el', 'ur-en', 'ur-es', 'ur-et', 'ur-fa', 'ur-ff', 'ur-fi', 'ur-fr', 'ur-fy', 'ur-ga', 'ur-gd', 'ur-gl', 'ur-gu', 'ur-ha', 'ur-he', 'ur-hi', 'ur-hr', 'ur-ht', 'ur-hu', 'ur-hy', 'ur-id', 'ur-ig', 'ur-ilo', 'ur-is', 'ur-it', 'ur-ja', 'ur-jv', 'ur-ka', 'ur-kk', 'ur-km', 'ur-kn', 'ur-ko', 'ur-lb', 'ur-lg', 'ur-ln', 'ur-lo', 'ur-lt', 'ur-lv', 'ur-mg', 'ur-mk', 'ur-ml', 'ur-mn', 'ur-mr', 'ur-ms', 'ur-my', 'ur-ne', 'ur-nl', 'ur-no', 'ur-ns', 'ur-oc', 'ur-or', 'ur-pa', 'ur-pl', 'ur-ps', 'ur-pt', 'ur-ro', 'ur-ru', 'ur-sd', 'ur-si', 'ur-sk', 'ur-sl', 'ur-so', 'ur-sq', 'ur-sr', 'ur-ss', 'ur-su', 'ur-sv', 'ur-sw', 'ur-ta', 'ur-th', 'ur-tl', 'ur-tn', 'ur-tr', 'ur-uk', 'ur-uz', 'ur-vi', 'ur-wo', 'ur-xh', 'ur-yi', 'ur-yo', 'ur-zh', 'ur-zu', 'uz-af', 'uz-am', 'uz-ar', 'uz-ast', 'uz-az', 'uz-ba', 'uz-be', 'uz-bg', 'uz-bn', 'uz-br', 'uz-bs', 'uz-ca', 'uz-ceb', 'uz-cs', 'uz-cy', 'uz-da', 'uz-de', 'uz-el', 'uz-en', 'uz-es', 'uz-et', 'uz-fa', 'uz-ff', 'uz-fi', 'uz-fr', 'uz-fy', 'uz-ga', 'uz-gd', 'uz-gl', 'uz-gu', 'uz-ha', 'uz-he', 'uz-hi', 'uz-hr', 'uz-ht', 'uz-hu', 'uz-hy', 'uz-id', 'uz-ig', 'uz-ilo', 'uz-is', 'uz-it', 'uz-ja', 'uz-jv', 'uz-ka', 'uz-kk', 'uz-km', 'uz-kn', 'uz-ko', 'uz-lb', 'uz-lg', 'uz-ln', 'uz-lo', 'uz-lt', 'uz-lv', 'uz-mg', 'uz-mk', 'uz-ml', 'uz-mn', 'uz-mr', 'uz-ms', 'uz-my', 'uz-ne', 'uz-nl', 'uz-no', 'uz-ns', 'uz-oc', 'uz-or', 'uz-pa', 'uz-pl', 'uz-ps', 'uz-pt', 'uz-ro', 'uz-ru', 'uz-sd', 'uz-si', 'uz-sk', 'uz-sl', 'uz-so', 'uz-sq', 'uz-sr', 'uz-ss', 'uz-su', 'uz-sv', 'uz-sw', 'uz-ta', 'uz-th', 'uz-tl', 'uz-tn', 'uz-tr', 'uz-uk', 'uz-ur', 'uz-vi', 'uz-wo', 'uz-xh', 'uz-yi', 'uz-yo', 'uz-zh', 'uz-zu', 'vi-af', 'vi-am', 'vi-ar', 'vi-ast', 'vi-az', 'vi-ba', 'vi-be', 'vi-bg', 'vi-bn', 'vi-br', 'vi-bs', 'vi-ca', 'vi-ceb', 'vi-cs', 'vi-cy', 'vi-da', 'vi-de', 'vi-el', 'vi-en', 'vi-es', 'vi-et', 'vi-fa', 'vi-ff', 'vi-fi', 'vi-fr', 'vi-fy', 'vi-ga', 'vi-gd', 'vi-gl', 'vi-gu', 'vi-ha', 'vi-he', 'vi-hi', 'vi-hr', 'vi-ht', 'vi-hu', 'vi-hy', 'vi-id', 'vi-ig', 'vi-ilo', 'vi-is', 'vi-it', 'vi-ja', 'vi-jv', 'vi-ka', 'vi-kk', 'vi-km', 'vi-kn', 'vi-ko', 'vi-lb', 'vi-lg', 'vi-ln', 'vi-lo', 'vi-lt', 'vi-lv', 'vi-mg', 'vi-mk', 'vi-ml', 'vi-mn', 'vi-mr', 'vi-ms', 'vi-my', 'vi-ne', 'vi-nl', 'vi-no', 'vi-ns', 'vi-oc', 'vi-or', 'vi-pa', 'vi-pl', 'vi-ps', 'vi-pt', 'vi-ro', 'vi-ru', 'vi-sd', 'vi-si', 'vi-sk', 'vi-sl', 'vi-so', 'vi-sq', 'vi-sr', 'vi-ss', 'vi-su', 'vi-sv', 'vi-sw', 'vi-ta', 'vi-th', 'vi-tl', 'vi-tn', 'vi-tr', 'vi-uk', 'vi-ur', 'vi-uz', 'vi-wo', 'vi-xh', 'vi-yi', 'vi-yo', 'vi-zh', 'vi-zu', 'wo-af', 'wo-am', 'wo-ar', 'wo-ast', 'wo-az', 'wo-ba', 'wo-be', 'wo-bg', 'wo-bn', 'wo-br', 'wo-bs', 'wo-ca', 'wo-ceb', 'wo-cs', 'wo-cy', 'wo-da', 'wo-de', 'wo-el', 'wo-en', 'wo-es', 'wo-et', 'wo-fa', 'wo-ff', 'wo-fi', 'wo-fr', 'wo-fy', 'wo-ga', 'wo-gd', 'wo-gl', 'wo-gu', 'wo-ha', 'wo-he', 'wo-hi', 'wo-hr', 'wo-ht', 'wo-hu', 'wo-hy', 'wo-id', 'wo-ig', 'wo-ilo', 'wo-is', 'wo-it', 'wo-ja', 'wo-jv', 'wo-ka', 'wo-kk', 'wo-km', 'wo-kn', 'wo-ko', 'wo-lb', 'wo-lg', 'wo-ln', 'wo-lo', 'wo-lt', 'wo-lv', 'wo-mg', 'wo-mk', 'wo-ml', 'wo-mn', 'wo-mr', 'wo-ms', 'wo-my', 'wo-ne', 'wo-nl', 'wo-no', 'wo-ns', 'wo-oc', 'wo-or', 'wo-pa', 'wo-pl', 'wo-ps', 'wo-pt', 'wo-ro', 'wo-ru', 'wo-sd', 'wo-si', 'wo-sk', 'wo-sl', 'wo-so', 'wo-sq', 'wo-sr', 'wo-ss', 'wo-su', 'wo-sv', 'wo-sw', 'wo-ta', 'wo-th', 'wo-tl', 'wo-tn', 'wo-tr', 'wo-uk', 'wo-ur', 'wo-uz', 'wo-vi', 'wo-xh', 'wo-yi', 'wo-yo', 'wo-zh', 'wo-zu', 'xh-af', 'xh-am', 'xh-ar', 'xh-ast', 'xh-az', 'xh-ba', 'xh-be', 'xh-bg', 'xh-bn', 'xh-br', 'xh-bs', 'xh-ca', 'xh-ceb', 'xh-cs', 'xh-cy', 'xh-da', 'xh-de', 'xh-el', 'xh-en', 'xh-es', 'xh-et', 'xh-fa', 'xh-ff', 'xh-fi', 'xh-fr', 'xh-fy', 'xh-ga', 'xh-gd', 'xh-gl', 'xh-gu', 'xh-ha', 'xh-he', 'xh-hi', 'xh-hr', 'xh-ht', 'xh-hu', 'xh-hy', 'xh-id', 'xh-ig', 'xh-ilo', 'xh-is', 'xh-it', 'xh-ja', 'xh-jv', 'xh-ka', 'xh-kk', 'xh-km', 'xh-kn', 'xh-ko', 'xh-lb', 'xh-lg', 'xh-ln', 'xh-lo', 'xh-lt', 'xh-lv', 'xh-mg', 'xh-mk', 'xh-ml', 'xh-mn', 'xh-mr', 'xh-ms', 'xh-my', 'xh-ne', 'xh-nl', 'xh-no', 'xh-ns', 'xh-oc', 'xh-or', 'xh-pa', 'xh-pl', 'xh-ps', 'xh-pt', 'xh-ro', 'xh-ru', 'xh-sd', 'xh-si', 'xh-sk', 'xh-sl', 'xh-so', 'xh-sq', 'xh-sr', 'xh-ss', 'xh-su', 'xh-sv', 'xh-sw', 'xh-ta', 'xh-th', 'xh-tl', 'xh-tn', 'xh-tr', 'xh-uk', 'xh-ur', 'xh-uz', 'xh-vi', 'xh-wo', 'xh-yi', 'xh-yo', 'xh-zh', 'xh-zu', 'yi-af', 'yi-am', 'yi-ar', 'yi-ast', 'yi-az', 'yi-ba', 'yi-be', 'yi-bg', 'yi-bn', 'yi-br', 'yi-bs', 'yi-ca', 'yi-ceb', 'yi-cs', 'yi-cy', 'yi-da', 'yi-de', 'yi-el', 'yi-en', 'yi-es', 'yi-et', 'yi-fa', 'yi-ff', 'yi-fi', 'yi-fr', 'yi-fy', 'yi-ga', 'yi-gd', 'yi-gl', 'yi-gu', 'yi-ha', 'yi-he', 'yi-hi', 'yi-hr', 'yi-ht', 'yi-hu', 'yi-hy', 'yi-id', 'yi-ig', 'yi-ilo', 'yi-is', 'yi-it', 'yi-ja', 'yi-jv', 'yi-ka', 'yi-kk', 'yi-km', 'yi-kn', 'yi-ko', 'yi-lb', 'yi-lg', 'yi-ln', 'yi-lo', 'yi-lt', 'yi-lv', 'yi-mg', 'yi-mk', 'yi-ml', 'yi-mn', 'yi-mr', 'yi-ms', 'yi-my', 'yi-ne', 'yi-nl', 'yi-no', 'yi-ns', 'yi-oc', 'yi-or', 'yi-pa', 'yi-pl', 'yi-ps', 'yi-pt', 'yi-ro', 'yi-ru', 'yi-sd', 'yi-si', 'yi-sk', 'yi-sl', 'yi-so', 'yi-sq', 'yi-sr', 'yi-ss', 'yi-su', 'yi-sv', 'yi-sw', 'yi-ta', 'yi-th', 'yi-tl', 'yi-tn', 'yi-tr', 'yi-uk', 'yi-ur', 'yi-uz', 'yi-vi', 'yi-wo', 'yi-xh', 'yi-yo', 'yi-zh', 'yi-zu', 'yo-af', 'yo-am', 'yo-ar', 'yo-ast', 'yo-az', 'yo-ba', 'yo-be', 'yo-bg', 'yo-bn', 'yo-br', 'yo-bs', 'yo-ca', 'yo-ceb', 'yo-cs', 'yo-cy', 'yo-da', 'yo-de', 'yo-el', 'yo-en', 'yo-es', 'yo-et', 'yo-fa', 'yo-ff', 'yo-fi', 'yo-fr', 'yo-fy', 'yo-ga', 'yo-gd', 'yo-gl', 'yo-gu', 'yo-ha', 'yo-he', 'yo-hi', 'yo-hr', 'yo-ht', 'yo-hu', 'yo-hy', 'yo-id', 'yo-ig', 'yo-ilo', 'yo-is', 'yo-it', 'yo-ja', 'yo-jv', 'yo-ka', 'yo-kk', 'yo-km', 'yo-kn', 'yo-ko', 'yo-lb', 'yo-lg', 'yo-ln', 'yo-lo', 'yo-lt', 'yo-lv', 'yo-mg', 'yo-mk', 'yo-ml', 'yo-mn', 'yo-mr', 'yo-ms', 'yo-my', 'yo-ne', 'yo-nl', 'yo-no', 'yo-ns', 'yo-oc', 'yo-or', 'yo-pa', 'yo-pl', 'yo-ps', 'yo-pt', 'yo-ro', 'yo-ru', 'yo-sd', 'yo-si', 'yo-sk', 'yo-sl', 'yo-so', 'yo-sq', 'yo-sr', 'yo-ss', 'yo-su', 'yo-sv', 'yo-sw', 'yo-ta', 'yo-th', 'yo-tl', 'yo-tn', 'yo-tr', 'yo-uk', 'yo-ur', 'yo-uz', 'yo-vi', 'yo-wo', 'yo-xh', 'yo-yi', 'yo-zh', 'yo-zu', 'zh-af', 'zh-am', 'zh-ar', 'zh-ast', 'zh-az', 'zh-ba', 'zh-be', 'zh-bg', 'zh-bn', 'zh-br', 'zh-bs', 'zh-ca', 'zh-ceb', 'zh-cs', 'zh-cy', 'zh-da', 'zh-de', 'zh-el', 'zh-en', 'zh-es', 'zh-et', 'zh-fa', 'zh-ff', 'zh-fi', 'zh-fr', 'zh-fy', 'zh-ga', 'zh-gd', 'zh-gl', 'zh-gu', 'zh-ha', 'zh-he', 'zh-hi', 'zh-hr', 'zh-ht', 'zh-hu', 'zh-hy', 'zh-id', 'zh-ig', 'zh-ilo', 'zh-is', 'zh-it', 'zh-ja', 'zh-jv', 'zh-ka', 'zh-kk', 'zh-km', 'zh-kn', 'zh-ko', 'zh-lb', 'zh-lg', 'zh-ln', 'zh-lo', 'zh-lt', 'zh-lv', 'zh-mg', 'zh-mk', 'zh-ml', 'zh-mn', 'zh-mr', 'zh-ms', 'zh-my', 'zh-ne', 'zh-nl', 'zh-no', 'zh-ns', 'zh-oc', 'zh-or', 'zh-pa', 'zh-pl', 'zh-ps', 'zh-pt', 'zh-ro', 'zh-ru', 'zh-sd', 'zh-si', 'zh-sk', 'zh-sl', 'zh-so', 'zh-sq', 'zh-sr', 'zh-ss', 'zh-su', 'zh-sv', 'zh-sw', 'zh-ta', 'zh-th', 'zh-tl', 'zh-tn', 'zh-tr', 'zh-uk', 'zh-ur', 'zh-uz', 'zh-vi', 'zh-wo', 'zh-xh', 'zh-yi', 'zh-yo', 'zh-zu', 'zu-af', 'zu-am', 'zu-ar', 'zu-ast', 'zu-az', 'zu-ba', 'zu-be', 'zu-bg', 'zu-bn', 'zu-br', 'zu-bs', 'zu-ca', 'zu-ceb', 'zu-cs', 'zu-cy', 'zu-da', 'zu-de', 'zu-el', 'zu-en', 'zu-es', 'zu-et', 'zu-fa', 'zu-ff', 'zu-fi', 'zu-fr', 'zu-fy', 'zu-ga', 'zu-gd', 'zu-gl', 'zu-gu', 'zu-ha', 'zu-he', 'zu-hi', 'zu-hr', 'zu-ht', 'zu-hu', 'zu-hy', 'zu-id', 'zu-ig', 'zu-ilo', 'zu-is', 'zu-it', 'zu-ja', 'zu-jv', 'zu-ka', 'zu-kk', 'zu-km', 'zu-kn', 'zu-ko', 'zu-lb', 'zu-lg', 'zu-ln', 'zu-lo', 'zu-lt', 'zu-lv', 'zu-mg', 'zu-mk', 'zu-ml', 'zu-mn', 'zu-mr', 'zu-ms', 'zu-my', 'zu-ne', 'zu-nl', 'zu-no', 'zu-ns', 'zu-oc', 'zu-or', 'zu-pa', 'zu-pl', 'zu-ps', 'zu-pt', 'zu-ro', 'zu-ru', 'zu-sd', 'zu-si', 'zu-sk', 'zu-sl', 'zu-so', 'zu-sq', 'zu-sr', 'zu-ss', 'zu-su', 'zu-sv', 'zu-sw', 'zu-ta', 'zu-th', 'zu-tl', 'zu-tn', 'zu-tr', 'zu-uk', 'zu-ur', 'zu-uz', 'zu-vi', 'zu-wo', 'zu-xh', 'zu-yi', 'zu-yo', 'zu-zh']\n"
          ]
        }
      ]
    },
    {
      "cell_type": "markdown",
      "source": [
        "## Translation from English"
      ],
      "metadata": {
        "id": "S4th60whqXkg"
      }
    },
    {
      "cell_type": "code",
      "source": [
        "ori = [] # Original English sentences\n",
        "for line in df.iloc[1:,1]:\n",
        "  line = line.strip()\n",
        "  ori.append(line)\n",
        "\n",
        "print(\"1st original sentence:\", ori[0])"
      ],
      "metadata": {
        "colab": {
          "base_uri": "https://localhost:8080/"
        },
        "outputId": "8c9cb830-f3af-4c68-9d28-13da2f35de87",
        "id": "MPScmQnRqXkg"
      },
      "execution_count": 160,
      "outputs": [
        {
          "output_type": "stream",
          "name": "stdout",
          "text": [
            "1st original sentence: Activated charcoal contributes to reducing excessive flatulence after eating\n"
          ]
        }
      ]
    },
    {
      "cell_type": "markdown",
      "metadata": {
        "id": "Ekw1ir1XqXkh"
      },
      "source": [
        "### French\n"
      ]
    },
    {
      "cell_type": "code",
      "source": [
        "fr_preds = m2m100_model.translate(ori, target_lang='fr') # Translation"
      ],
      "metadata": {
        "colab": {
          "base_uri": "https://localhost:8080/"
        },
        "outputId": "4c93affa-28f0-45cc-f950-10ad7cdc028d",
        "id": "yPbj7rfTqXkh"
      },
      "execution_count": 109,
      "outputs": [
        {
          "output_type": "stream",
          "name": "stderr",
          "text": [
            "/usr/local/lib/python3.7/dist-packages/transformers/generation_utils.py:1207: UserWarning: Neither `max_length` nor `max_new_tokens` have been set, `max_length` will default to 200 (`self.config.max_length`). Controlling `max_length` via the config is deprecated and `max_length` will be removed from the config in v5 of Transformers -- we recommend using `max_new_tokens` to control the maximum length of the generation.\n",
            "  UserWarning,\n"
          ]
        }
      ]
    },
    {
      "cell_type": "code",
      "source": [
        "print(\"1st predicted sentence:\", fr_preds[0])"
      ],
      "metadata": {
        "colab": {
          "base_uri": "https://localhost:8080/"
        },
        "outputId": "f443e4aa-d724-4312-f089-1014e1cbf1d0",
        "id": "MQW8k19EqXkh"
      },
      "execution_count": 110,
      "outputs": [
        {
          "output_type": "stream",
          "name": "stdout",
          "text": [
            "1st predicted sentence: Le charbon actif contribue à réduire la flatulence excessive après avoir mangé\n"
          ]
        }
      ]
    },
    {
      "cell_type": "code",
      "source": [
        "fr_refs = [] # Original French sentences\n",
        "for line in df.iloc[1:,3]:\n",
        "  line = line.strip()\n",
        "  fr_refs.append(line)\n",
        "\n",
        "print(\"1st sentence:\", fr_refs[0])"
      ],
      "metadata": {
        "colab": {
          "base_uri": "https://localhost:8080/"
        },
        "outputId": "3fee1068-d6b4-4020-91db-9421698689b6",
        "id": "01pLIDI8qXkh"
      },
      "execution_count": 111,
      "outputs": [
        {
          "output_type": "stream",
          "name": "stdout",
          "text": [
            "1st sentence: Le charbon actif contribue à réduire l’excès de flatulence après le repas\n"
          ]
        }
      ]
    },
    {
      "cell_type": "code",
      "source": [
        "evaluate_model(fr_preds,fr_refs)# Evaluation"
      ],
      "metadata": {
        "colab": {
          "base_uri": "https://localhost:8080/"
        },
        "outputId": "23d0150b-07b1-4b47-8ff3-6ece396bce86",
        "id": "01K5X0W0qXkh"
      },
      "execution_count": 112,
      "outputs": [
        {
          "output_type": "stream",
          "name": "stdout",
          "text": [
            "BLEU SCORE:\n",
            "BLEU: 41.232536\n"
          ]
        }
      ]
    },
    {
      "cell_type": "markdown",
      "source": [
        "### German"
      ],
      "metadata": {
        "id": "bPZMyeohqXkh"
      }
    },
    {
      "cell_type": "code",
      "source": [
        "de_preds = m2m100_model.translate(ori, target_lang='de') # Translation"
      ],
      "metadata": {
        "id": "L_39lfj3qXki"
      },
      "execution_count": 113,
      "outputs": []
    },
    {
      "cell_type": "code",
      "source": [
        "print(\"1st predicted sentence:\", de_preds[0])"
      ],
      "metadata": {
        "colab": {
          "base_uri": "https://localhost:8080/"
        },
        "outputId": "6bcfcabe-7465-4476-d0ad-c1483510e13a",
        "id": "ZddhGTdYqXki"
      },
      "execution_count": 114,
      "outputs": [
        {
          "output_type": "stream",
          "name": "stdout",
          "text": [
            "1st predicted sentence: Aktiviertes Kohlenstoff trägt zur Verringerung der übermäßigen Flatulenz nach dem Essen bei\n"
          ]
        }
      ]
    },
    {
      "cell_type": "code",
      "source": [
        "de_refs = [] # Original German sentences\n",
        "for line in df.iloc[1:,5]:\n",
        "  line = line.strip()\n",
        "  de_refs.append(line)\n",
        "\n",
        "print(\"1st sentence:\", de_refs[0])"
      ],
      "metadata": {
        "colab": {
          "base_uri": "https://localhost:8080/"
        },
        "outputId": "95b4e663-8abf-4e15-c635-49d3c9c77909",
        "id": "3PLx4bGOqXki"
      },
      "execution_count": 115,
      "outputs": [
        {
          "output_type": "stream",
          "name": "stdout",
          "text": [
            "1st sentence: Aktivkohle trägt zur Verringerung übermäßiger Blähungen nach dem Essen bei\n"
          ]
        }
      ]
    },
    {
      "cell_type": "code",
      "source": [
        "evaluate_model(de_preds,de_refs) # Evaluation"
      ],
      "metadata": {
        "colab": {
          "base_uri": "https://localhost:8080/"
        },
        "outputId": "b9cffe2a-5a4e-433a-beb3-5f11b2885a4a",
        "id": "pvSt5e0LqXki"
      },
      "execution_count": 116,
      "outputs": [
        {
          "output_type": "stream",
          "name": "stdout",
          "text": [
            "BLEU SCORE:\n",
            "BLEU: 29.455375\n"
          ]
        }
      ]
    },
    {
      "cell_type": "markdown",
      "source": [
        "### Polish"
      ],
      "metadata": {
        "id": "qVHcQ13SqXki"
      }
    },
    {
      "cell_type": "code",
      "source": [
        "pl_preds = m2m100_model.translate(ori, target_lang='pl') # Translation"
      ],
      "metadata": {
        "id": "TzQTQy0wqXki"
      },
      "execution_count": 117,
      "outputs": []
    },
    {
      "cell_type": "code",
      "source": [
        "print(\"1st predicted sentence:\", pl_preds[0])"
      ],
      "metadata": {
        "colab": {
          "base_uri": "https://localhost:8080/"
        },
        "outputId": "292eff74-f16d-4e70-8087-049ddc7b7cfc",
        "id": "74pAkKvnqXki"
      },
      "execution_count": 118,
      "outputs": [
        {
          "output_type": "stream",
          "name": "stdout",
          "text": [
            "1st predicted sentence: Aktywny węgiel przyczynia się do zmniejszenia nadmiernej flatulencji po jedzeniu\n"
          ]
        }
      ]
    },
    {
      "cell_type": "code",
      "source": [
        "pl_refs = [] # Original Polish sentences\n",
        "for line in df.iloc[1:,7]:\n",
        "  line = line.strip()\n",
        "  pl_refs.append(line)\n",
        "\n",
        "print(\"1st sentence:\", pl_refs[0])"
      ],
      "metadata": {
        "colab": {
          "base_uri": "https://localhost:8080/"
        },
        "outputId": "4a480f7d-1df4-489c-ba6d-3f6ddb624c16",
        "id": "r_VuJXDAqXkj"
      },
      "execution_count": 119,
      "outputs": [
        {
          "output_type": "stream",
          "name": "stdout",
          "text": [
            "1st sentence: Węgiel aktywowany pomaga zmniejszyć występujące po jedzeniu nadmierne wzdęcia\n"
          ]
        }
      ]
    },
    {
      "cell_type": "code",
      "source": [
        "evaluate_model(pl_preds,pl_refs) # Evaluation"
      ],
      "metadata": {
        "colab": {
          "base_uri": "https://localhost:8080/"
        },
        "outputId": "8dae3a46-7f25-446e-c085-54597df09356",
        "id": "RPcoWp5MqXkj"
      },
      "execution_count": 120,
      "outputs": [
        {
          "output_type": "stream",
          "name": "stdout",
          "text": [
            "BLEU SCORE:\n",
            "BLEU: 25.769917\n"
          ]
        }
      ]
    },
    {
      "cell_type": "markdown",
      "source": [
        "### Romanian"
      ],
      "metadata": {
        "id": "UpMhBReNqXkj"
      }
    },
    {
      "cell_type": "code",
      "source": [
        "ro_preds = m2m100_model.translate(ori, target_lang='ro') # Translation"
      ],
      "metadata": {
        "id": "TpVKLGHGqXkj"
      },
      "execution_count": 121,
      "outputs": []
    },
    {
      "cell_type": "code",
      "source": [
        "print(\"1st predicted sentence:\", ro_preds[0])"
      ],
      "metadata": {
        "colab": {
          "base_uri": "https://localhost:8080/"
        },
        "outputId": "2e90480e-f4ed-4260-e064-e6fb45581f56",
        "id": "2FfQtLvVqXkj"
      },
      "execution_count": 122,
      "outputs": [
        {
          "output_type": "stream",
          "name": "stdout",
          "text": [
            "1st predicted sentence: Carbohidrați activi contribuie la reducerea flatulenței excesive după masă\n"
          ]
        }
      ]
    },
    {
      "cell_type": "code",
      "source": [
        "ro_refs = [] # Original Romanian sentences\n",
        "for line in df.iloc[1:,9]:\n",
        "  line = line.strip()\n",
        "  ro_refs.append(line)\n",
        "\n",
        "print(\"1st sentence:\", ro_refs[0])"
      ],
      "metadata": {
        "colab": {
          "base_uri": "https://localhost:8080/"
        },
        "outputId": "b4809372-65c0-42e3-e580-80baa3a9abf3",
        "id": "cSTCiQbMqXkj"
      },
      "execution_count": 123,
      "outputs": [
        {
          "output_type": "stream",
          "name": "stdout",
          "text": [
            "1st sentence: Cărbunele activ contribuie la reducerea flatulenței după consumul de alimente\n"
          ]
        }
      ]
    },
    {
      "cell_type": "code",
      "source": [
        "evaluate_model(ro_preds,ro_refs) # Evaluation"
      ],
      "metadata": {
        "colab": {
          "base_uri": "https://localhost:8080/"
        },
        "outputId": "6304ad73-6c9f-4d35-a682-db074e5c1f09",
        "id": "3DKYTOpPqXkj"
      },
      "execution_count": 124,
      "outputs": [
        {
          "output_type": "stream",
          "name": "stdout",
          "text": [
            "BLEU SCORE:\n",
            "BLEU: 47.556719\n"
          ]
        }
      ]
    },
    {
      "cell_type": "markdown",
      "source": [
        "### Hungarian"
      ],
      "metadata": {
        "id": "sUulA5CQqtdO"
      }
    },
    {
      "cell_type": "code",
      "source": [
        "hu_preds = m2m100_model.translate(ori, target_lang='hu') # Translation"
      ],
      "metadata": {
        "id": "YmceHOq8q14_"
      },
      "execution_count": 161,
      "outputs": []
    },
    {
      "cell_type": "code",
      "source": [
        "print(\"1st predicted sentence:\", hu_preds[0])"
      ],
      "metadata": {
        "colab": {
          "base_uri": "https://localhost:8080/"
        },
        "outputId": "0eb155e2-1e98-449c-e55b-f83c4b9eb73a",
        "id": "NvQNj7Vgq14_"
      },
      "execution_count": 162,
      "outputs": [
        {
          "output_type": "stream",
          "name": "stdout",
          "text": [
            "1st predicted sentence: Az aktivált szén hozzájárul az étkezés után a túlzott flatulencia csökkentéséhez\n"
          ]
        }
      ]
    },
    {
      "cell_type": "code",
      "source": [
        "hu_refs = [] \n",
        "for line in df.iloc[1:,11]:\n",
        "  line = line.strip()\n",
        "  hu_refs.append(line)\n",
        "\n",
        "print(\"1st sentence:\", hu_refs[0])"
      ],
      "metadata": {
        "colab": {
          "base_uri": "https://localhost:8080/"
        },
        "outputId": "8e4645e0-2da1-40ff-cdd2-ab2d630fc11f",
        "id": "zmnQx9Gxq14_"
      },
      "execution_count": 163,
      "outputs": [
        {
          "output_type": "stream",
          "name": "stdout",
          "text": [
            "1st sentence: Az aktív szén részt vesz az étkezést követő túlzott bélgázképződés csökkentésében.\n"
          ]
        }
      ]
    },
    {
      "cell_type": "code",
      "source": [
        "evaluate_model(hu_preds,hu_refs) # Evaluation"
      ],
      "metadata": {
        "colab": {
          "base_uri": "https://localhost:8080/"
        },
        "outputId": "4679bb59-56ad-46d1-8cfe-8e6e0eafa602",
        "id": "fjJYG4H_q15A"
      },
      "execution_count": 164,
      "outputs": [
        {
          "output_type": "stream",
          "name": "stdout",
          "text": [
            "BLEU SCORE:\n",
            "BLEU: 25.157857\n"
          ]
        }
      ]
    },
    {
      "cell_type": "markdown",
      "source": [
        "### 1 to Many\n"
      ],
      "metadata": {
        "id": "958PJGrVqXkk"
      }
    },
    {
      "cell_type": "code",
      "source": [
        "predslist = fr_preds+ de_preds+ pl_preds +ro_preds+ hu_preds\n",
        "\n",
        "refslist = fr_refs+ de_refs+ pl_refs +ro_refs+ hu_refs"
      ],
      "metadata": {
        "id": "SErHcNf2qXkk"
      },
      "execution_count": 129,
      "outputs": []
    },
    {
      "cell_type": "code",
      "source": [
        "evaluate_model(predslist,refslist) # Evaluation"
      ],
      "metadata": {
        "colab": {
          "base_uri": "https://localhost:8080/"
        },
        "outputId": "fdb75d9e-aa24-4207-87e2-ce7a6891c22d",
        "id": "RbcxZc2AqXkk"
      },
      "execution_count": 130,
      "outputs": [
        {
          "output_type": "stream",
          "name": "stdout",
          "text": [
            "BLEU SCORE:\n",
            "BLEU: 36.785290\n"
          ]
        }
      ]
    },
    {
      "cell_type": "markdown",
      "source": [
        "## Translation to English"
      ],
      "metadata": {
        "id": "RyBtkhMBqXkk"
      }
    },
    {
      "cell_type": "code",
      "source": [
        "en_refs = [] # Reference English sentences\n",
        "for line in df.iloc[1:,1]:\n",
        "  line = line.strip()\n",
        "  en_refs.append(line)\n",
        "\n",
        "print(\"1st sentence:\", en_refs[0])"
      ],
      "metadata": {
        "colab": {
          "base_uri": "https://localhost:8080/"
        },
        "outputId": "d2c9fd43-3749-4921-d418-9dd0e69d6944",
        "id": "gIpdw7lnqXkk"
      },
      "execution_count": 131,
      "outputs": [
        {
          "output_type": "stream",
          "name": "stdout",
          "text": [
            "1st sentence: Activated charcoal contributes to reducing excessive flatulence after eating\n"
          ]
        }
      ]
    },
    {
      "cell_type": "markdown",
      "source": [
        "### French"
      ],
      "metadata": {
        "id": "Z4DeoqKOqXkk"
      }
    },
    {
      "cell_type": "code",
      "source": [
        "fr_ori = [] # Original French sentences\n",
        "for line in df.iloc[1:,3]:\n",
        "  line = line.strip()\n",
        "  fr_ori.append(line)\n",
        "\n",
        "print(\"1st sentence:\", fr_ori[0])"
      ],
      "metadata": {
        "colab": {
          "base_uri": "https://localhost:8080/"
        },
        "outputId": "82ca87ec-5042-49ec-9d03-1e716c5a1b33",
        "id": "aNFN-DnMqXkk"
      },
      "execution_count": 132,
      "outputs": [
        {
          "output_type": "stream",
          "name": "stdout",
          "text": [
            "1st sentence: Le charbon actif contribue à réduire l’excès de flatulence après le repas\n"
          ]
        }
      ]
    },
    {
      "cell_type": "code",
      "source": [
        "fr_preds = m2m100_model.translate(fr_ori, target_lang='en') # Translation"
      ],
      "metadata": {
        "id": "XY4ik1EIqXkl"
      },
      "execution_count": 133,
      "outputs": []
    },
    {
      "cell_type": "code",
      "source": [
        "print(\"1st predicted sentence:\", fr_preds[0])"
      ],
      "metadata": {
        "colab": {
          "base_uri": "https://localhost:8080/"
        },
        "outputId": "d0abd922-fc2c-4374-bdf6-bdaf7eaef52f",
        "id": "B36dKJqZqXkl"
      },
      "execution_count": 134,
      "outputs": [
        {
          "output_type": "stream",
          "name": "stdout",
          "text": [
            "1st predicted sentence: Active coal helps to reduce excess flatulence after meals\n"
          ]
        }
      ]
    },
    {
      "cell_type": "code",
      "source": [
        "evaluate_model(fr_preds,en_refs)# Evaluation"
      ],
      "metadata": {
        "colab": {
          "base_uri": "https://localhost:8080/"
        },
        "outputId": "2d13bbc5-84ab-40e5-99d2-3417d84da452",
        "id": "ySMOci6NqXkl"
      },
      "execution_count": 135,
      "outputs": [
        {
          "output_type": "stream",
          "name": "stdout",
          "text": [
            "BLEU SCORE:\n",
            "BLEU: 36.551156\n"
          ]
        }
      ]
    },
    {
      "cell_type": "markdown",
      "source": [
        "### German"
      ],
      "metadata": {
        "id": "5y7SlWlcqXkl"
      }
    },
    {
      "cell_type": "code",
      "source": [
        "de_ori = [] # Original German sentences\n",
        "for line in df.iloc[1:,5]:\n",
        "  line = line.strip()\n",
        "  de_ori.append(line)\n",
        "\n",
        "print(\"1st sentence:\", de_ori[0])"
      ],
      "metadata": {
        "colab": {
          "base_uri": "https://localhost:8080/"
        },
        "outputId": "0b7ee2fd-7bc0-441f-834e-9d8d5008e918",
        "id": "1pqXjEcDqXkl"
      },
      "execution_count": 136,
      "outputs": [
        {
          "output_type": "stream",
          "name": "stdout",
          "text": [
            "1st sentence: Aktivkohle trägt zur Verringerung übermäßiger Blähungen nach dem Essen bei\n"
          ]
        }
      ]
    },
    {
      "cell_type": "code",
      "source": [
        "de_preds = m2m100_model.translate(de_ori, target_lang='en') # Translation"
      ],
      "metadata": {
        "id": "ARkDkmTtqXkl"
      },
      "execution_count": 137,
      "outputs": []
    },
    {
      "cell_type": "code",
      "source": [
        "print(\"1st predicted sentence:\", de_preds[0])"
      ],
      "metadata": {
        "colab": {
          "base_uri": "https://localhost:8080/"
        },
        "outputId": "620e5d50-a25e-4054-95f0-7ca522e890bf",
        "id": "P2j7Yy5oqXkl"
      },
      "execution_count": 138,
      "outputs": [
        {
          "output_type": "stream",
          "name": "stdout",
          "text": [
            "1st predicted sentence: Active coal helps to reduce excessive bleeding after eating\n"
          ]
        }
      ]
    },
    {
      "cell_type": "code",
      "source": [
        "evaluate_model(de_preds,en_refs)# Evaluation"
      ],
      "metadata": {
        "colab": {
          "base_uri": "https://localhost:8080/"
        },
        "outputId": "ef42f8bf-eab4-4f2c-b10c-9957ecdd0ac2",
        "id": "tMVzbnPQqXkm"
      },
      "execution_count": 139,
      "outputs": [
        {
          "output_type": "stream",
          "name": "stdout",
          "text": [
            "BLEU SCORE:\n",
            "BLEU: 36.872157\n"
          ]
        }
      ]
    },
    {
      "cell_type": "markdown",
      "source": [
        "### Polish"
      ],
      "metadata": {
        "id": "8LVpboryqXkm"
      }
    },
    {
      "cell_type": "code",
      "source": [
        "pl_ori = [] # Original Polish sentences\n",
        "for line in df.iloc[1:,7]:\n",
        "  line = line.strip()\n",
        "  pl_ori.append(line)\n",
        "\n",
        "print(\"1st sentence:\", pl_ori[0])"
      ],
      "metadata": {
        "colab": {
          "base_uri": "https://localhost:8080/"
        },
        "outputId": "0e493f72-444a-4109-dd82-15db2f9a185d",
        "id": "cWNgzP4cqXkm"
      },
      "execution_count": 140,
      "outputs": [
        {
          "output_type": "stream",
          "name": "stdout",
          "text": [
            "1st sentence: Węgiel aktywowany pomaga zmniejszyć występujące po jedzeniu nadmierne wzdęcia\n"
          ]
        }
      ]
    },
    {
      "cell_type": "code",
      "source": [
        "pl_preds = m2m100_model.translate(pl_ori, target_lang='en') # Translation"
      ],
      "metadata": {
        "id": "2S0RLriyqXkm"
      },
      "execution_count": 141,
      "outputs": []
    },
    {
      "cell_type": "code",
      "source": [
        "print(\"1st predicted sentence:\", pl_preds[0])"
      ],
      "metadata": {
        "colab": {
          "base_uri": "https://localhost:8080/"
        },
        "outputId": "62e8a598-aa6b-406b-f98f-7ef061f2948e",
        "id": "0UqBaVNcqXkm"
      },
      "execution_count": 142,
      "outputs": [
        {
          "output_type": "stream",
          "name": "stdout",
          "text": [
            "1st predicted sentence: Activated Coal helps to reduce excess fatigue after eating\n"
          ]
        }
      ]
    },
    {
      "cell_type": "code",
      "source": [
        "evaluate_model(pl_preds,en_refs)# Evaluation"
      ],
      "metadata": {
        "colab": {
          "base_uri": "https://localhost:8080/"
        },
        "outputId": "11821f2a-d8f9-469f-e6b9-8f4085c3443f",
        "id": "AdSb3IxyqXkm"
      },
      "execution_count": 143,
      "outputs": [
        {
          "output_type": "stream",
          "name": "stdout",
          "text": [
            "BLEU SCORE:\n",
            "BLEU: 19.355512\n"
          ]
        }
      ]
    },
    {
      "cell_type": "markdown",
      "source": [
        "### Romanian"
      ],
      "metadata": {
        "id": "ETJgvFWjqXkm"
      }
    },
    {
      "cell_type": "code",
      "source": [
        "ro_ori = [] # Original Romanian sentences\n",
        "for line in df.iloc[1:,9]:\n",
        "  line = line.strip()\n",
        "  ro_ori.append(line)\n",
        "\n",
        "print(\"1st sentence:\", ro_ori[0])"
      ],
      "metadata": {
        "colab": {
          "base_uri": "https://localhost:8080/"
        },
        "outputId": "cf57bec9-f7c2-43c8-cf89-53566bf21509",
        "id": "8L4BvUYqqXkn"
      },
      "execution_count": 144,
      "outputs": [
        {
          "output_type": "stream",
          "name": "stdout",
          "text": [
            "1st sentence: Cărbunele activ contribuie la reducerea flatulenței după consumul de alimente\n"
          ]
        }
      ]
    },
    {
      "cell_type": "code",
      "source": [
        "ro_preds = m2m100_model.translate(ro_ori, target_lang='en') # Translation"
      ],
      "metadata": {
        "id": "v9sqVbPSqXkn"
      },
      "execution_count": 145,
      "outputs": []
    },
    {
      "cell_type": "code",
      "source": [
        "print(\"1st predicted sentence:\", ro_preds[0])"
      ],
      "metadata": {
        "colab": {
          "base_uri": "https://localhost:8080/"
        },
        "outputId": "d50c9084-a556-427d-f79e-048c6da34e60",
        "id": "IJPzMkkMqXkn"
      },
      "execution_count": 146,
      "outputs": [
        {
          "output_type": "stream",
          "name": "stdout",
          "text": [
            "1st predicted sentence: Active carbon contributes to reducing flatulence after eating food\n"
          ]
        }
      ]
    },
    {
      "cell_type": "code",
      "source": [
        "evaluate_model(ro_preds,en_refs)# Evaluation"
      ],
      "metadata": {
        "colab": {
          "base_uri": "https://localhost:8080/"
        },
        "outputId": "ff300b05-0020-4e52-abee-4d59132876c2",
        "id": "TQayQjfCqXkn"
      },
      "execution_count": 147,
      "outputs": [
        {
          "output_type": "stream",
          "name": "stdout",
          "text": [
            "BLEU SCORE:\n",
            "BLEU: 33.465182\n"
          ]
        }
      ]
    },
    {
      "cell_type": "markdown",
      "source": [
        "### Hungarian"
      ],
      "metadata": {
        "id": "uxliTVS8rFXl"
      }
    },
    {
      "cell_type": "code",
      "source": [
        "hu_ori = [] # Original Romanian sentences\n",
        "for line in df.iloc[1:,11]:\n",
        "  line = line.strip()\n",
        "  hu_ori.append(line)\n",
        "\n",
        "print(\"1st sentence:\", hu_ori[0])"
      ],
      "metadata": {
        "colab": {
          "base_uri": "https://localhost:8080/"
        },
        "outputId": "3d53cc37-359f-4e06-9dad-258fa4dd71c3",
        "id": "z0S5t06lrHbl"
      },
      "execution_count": 148,
      "outputs": [
        {
          "output_type": "stream",
          "name": "stdout",
          "text": [
            "1st sentence: Az aktív szén részt vesz az étkezést követő túlzott bélgázképződés csökkentésében.\n"
          ]
        }
      ]
    },
    {
      "cell_type": "code",
      "source": [
        "hu_preds = m2m100_model.translate(hu_ori, target_lang='en') # Translation"
      ],
      "metadata": {
        "id": "NMxHWOtPrHbm"
      },
      "execution_count": 153,
      "outputs": []
    },
    {
      "cell_type": "code",
      "source": [
        "print(\"1st predicted sentence:\", hu_preds[0])"
      ],
      "metadata": {
        "colab": {
          "base_uri": "https://localhost:8080/"
        },
        "outputId": "b912e3d5-219c-4964-9b3e-971f1fea36ea",
        "id": "23QbFPJQrHbm"
      },
      "execution_count": 154,
      "outputs": [
        {
          "output_type": "stream",
          "name": "stdout",
          "text": [
            "1st predicted sentence: Active carbon contributes to the reduction of excessive intestinal gas formation after a meal.\n"
          ]
        }
      ]
    },
    {
      "cell_type": "code",
      "source": [
        "evaluate_model(hu_preds,en_refs)# Evaluation"
      ],
      "metadata": {
        "colab": {
          "base_uri": "https://localhost:8080/"
        },
        "outputId": "098a39e9-535e-4a1f-880c-4ad71035f446",
        "id": "PB4OeyHwrHbn"
      },
      "execution_count": 155,
      "outputs": [
        {
          "output_type": "stream",
          "name": "stdout",
          "text": [
            "BLEU SCORE:\n",
            "BLEU: 26.076781\n"
          ]
        }
      ]
    },
    {
      "cell_type": "markdown",
      "source": [
        "### Many to 1"
      ],
      "metadata": {
        "id": "j7QfND9SqXkn"
      }
    },
    {
      "cell_type": "code",
      "source": [
        "predslist = fr_preds+ de_preds+ pl_preds +ro_preds+ hu_preds\n",
        "\n",
        "refslist = en_refs+ en_refs+ en_refs + en_refs + en_refs"
      ],
      "metadata": {
        "id": "dwpL4FxAqXkn"
      },
      "execution_count": 156,
      "outputs": []
    },
    {
      "cell_type": "code",
      "source": [
        "evaluate_model(predslist,refslist) # Evaluation"
      ],
      "metadata": {
        "colab": {
          "base_uri": "https://localhost:8080/"
        },
        "outputId": "d4bdd6e3-1a9e-4468-e2db-2b0b40ad3218",
        "id": "2CnwP2D1qXkn"
      },
      "execution_count": 157,
      "outputs": [
        {
          "output_type": "stream",
          "name": "stdout",
          "text": [
            "BLEU SCORE:\n",
            "BLEU: 28.988182\n"
          ]
        }
      ]
    }
  ]
}